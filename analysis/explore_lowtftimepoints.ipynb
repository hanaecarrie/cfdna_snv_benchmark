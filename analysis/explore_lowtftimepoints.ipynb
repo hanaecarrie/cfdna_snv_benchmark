{
 "cells": [
  {
   "cell_type": "code",
   "execution_count": null,
   "metadata": {},
   "outputs": [],
   "source": [
    "import os\n",
    "import numpy as np\n",
    "import pandas as pd\n",
    "import matplotlib.pyplot as plt\n",
    "import seaborn as sns\n",
    "import pysam\n",
    "from collections import Counter\n",
    "from matplotlib import cm\n",
    "from matplotlib.colors import ListedColormap\n",
    "\n",
    "import io\n",
    "from pysam import VariantFile\n",
    "from matplotlib_venn import venn3\n",
    "import venn"
   ]
  },
  {
   "cell_type": "markdown",
   "metadata": {},
   "source": [
    "# Tumor burden"
   ]
  },
  {
   "cell_type": "code",
   "execution_count": null,
   "metadata": {},
   "outputs": [],
   "source": [
    "# tumor burden\n",
    "tf_file_1 = pd.read_csv('../data/tumor_burden/tumor_burden_ichorcna_CCG.txt', header=None)\n",
    "tf_file_1['patient'] = tf_file_1[0].str.split('.').str[0].str.split('_').str[-1]\n",
    "tf_file_1['date'] = tf_file_1[0].str.split('.').str[1]\n",
    "tf_file_1['patient_date'] = tf_file_1['patient']  + '_' + tf_file_1['date'] \n",
    "tf_file_1.set_index('patient_date', inplace=True)\n",
    "tf_file_1.drop(0, axis=1, inplace=True)\n",
    "tf_file_1.rename(columns={1: 'tumor_burden'}, inplace=True)\n",
    "\n",
    "tf_file_2 = pd.read_csv('../data/tumor_burden/tumor_burden_ichorcna_CRC.txt', header=None)\n",
    "tf_file_2['patient'] = tf_file_2[0].str.split('-').str[1].str.split('_').str[0]\n",
    "tf_file_2['date'] = tf_file_2[0].str.split('_').str[1]\n",
    "tf_file_2['patient_date'] = tf_file_2['patient'] + '_' + tf_file_2['date'] \n",
    "tf_file_2.set_index('patient_date', inplace=True)\n",
    "tf_file_2.drop(0, axis=1, inplace=True)\n",
    "tf_file_2.rename(columns={1: 'tumor_burden'}, inplace=True)\n",
    "\n",
    "print(tf_file_1.shape, tf_file_2.shape)\n",
    "\n",
    "tf_file = pd.concat([tf_file_1, tf_file_2])\n",
    "tf_file['patient'] = tf_file['patient'].astype(int)\n",
    "tf_file['date'] = pd.to_datetime(tf_file['date'], format='%d%m%y')\n",
    "tf_file.reset_index(inplace=True)\n",
    "tf_file.drop('patient_date', axis=1, inplace=True)\n",
    "tf_file"
   ]
  },
  {
   "cell_type": "markdown",
   "metadata": {},
   "source": [
    "# Treatment"
   ]
  },
  {
   "cell_type": "code",
   "execution_count": null,
   "metadata": {},
   "outputs": [],
   "source": [
    "treatment_file = pd.read_csv('../data/treatment/patient_treatment_total_std_201109.txt', sep='\\t')\n",
    "treatment_file['patient'] = treatment_file['patient'].astype(int)\n",
    "treatment_file['date'] = pd.to_datetime(treatment_file['date'], format='%Y-%m-%d')\n",
    "treatment_file.rename(columns={'value':'treatment'}, inplace=True)\n",
    "treatment_file = treatment_file[['patient', 'date', 'treatment']]\n",
    "treatment_file"
   ]
  },
  {
   "cell_type": "markdown",
   "metadata": {},
   "source": [
    "## Patient 986"
   ]
  },
  {
   "cell_type": "code",
   "execution_count": null,
   "metadata": {},
   "outputs": [],
   "source": [
    "date_deepwgs_1 = '100215'\n",
    "date_deepwgs_2 = '261016'\n",
    "\n",
    "patient = 986\n",
    "treatment_patient = treatment_file[treatment_file['patient'] == patient].sort_values('date')\n",
    "treatment_patient['date'] = treatment_patient['date'].astype(str)\n",
    "tf_patient = tf_file[tf_file['patient'] == patient].sort_values('date')\n",
    "tf_patient['date'] = tf_patient['date'].astype(str)\n",
    "df_patient = pd.concat([treatment_patient, tf_patient])\n",
    "df_patient = df_patient.sort_values('date')\n",
    "df_patient['date'] = df_patient['date'].astype(str)\n",
    "df_patient['tumor_burden'] = df_patient['tumor_burden'].fillna(method='ffill')"
   ]
  },
  {
   "cell_type": "code",
   "execution_count": null,
   "metadata": {},
   "outputs": [],
   "source": [
    "plt.figure()\n",
    "sns.set(font_scale=2)\n",
    "fig, ax = plt.subplots(figsize=(50,10))\n",
    "ax.plot(df_patient['date'], df_patient['tumor_burden'], 'k-', linewidth=4)\n",
    "ax.plot(tf_patient['date'], tf_patient['tumor_burden'], 'k.', marker='s', markersize=20)\n",
    "ax.set_ylabel('tumor burden', fontsize = 25.0)\n",
    "labels = ax.axes.get_xticklabels()\n",
    "ax.axes.set_xticklabels(labels, rotation=45, size = 20.0)\n",
    "# twin object for two different y-axis on the sample plot\n",
    "ax2=ax.twinx()\n",
    "# make a plot with different y-axis using second axis object\n",
    "sns.stripplot(y='treatment', x='date', hue='treatment', data=df_patient, s=20, ax=ax2) \n",
    "plt.legend((), ())\n",
    "if not os.path.exists('../figures/oncosg_timeline_patient'+str(patient)+'.png'):\n",
    "    plt.savefig('../figures/oncosg_timeline_patient'+str(patient)+'.png')"
   ]
  },
  {
   "cell_type": "code",
   "execution_count": null,
   "metadata": {},
   "outputs": [],
   "source": [
    "# check tf dates\n",
    "tf_patient[['date', 'tumor_burden']]"
   ]
  },
  {
   "cell_type": "markdown",
   "metadata": {},
   "source": [
    "## Patient 809"
   ]
  },
  {
   "cell_type": "code",
   "execution_count": null,
   "metadata": {},
   "outputs": [],
   "source": [
    "date_deepwgs_1 = '110914'\n",
    "date_deepwgs_2 = '030915'\n",
    "\n",
    "patient = 809\n",
    "treatment_patient = treatment_file[treatment_file['patient'] == patient].sort_values('date')\n",
    "treatment_patient['date'] = treatment_patient['date'].astype(str)\n",
    "tf_patient = tf_file[tf_file['patient'] == patient].sort_values('date')\n",
    "\n",
    "# data from oncosg added manually\n",
    "tf_patient = tf_patient.append({'date': '2014-09-11', 'patient': 809, 'tumor_burden': 0.3577}, ignore_index=True)\n",
    "tf_patient = tf_patient.append({'date': '2015-09-03', 'patient': 809, 'tumor_burden': 0.4626}, ignore_index=True)\n",
    "\n",
    "tf_patient['date'] = tf_patient['date'].astype(str)\n",
    "df_patient = pd.concat([treatment_patient, tf_patient])\n",
    "df_patient = df_patient.sort_values('date')\n",
    "df_patient['date'] = df_patient['date'].astype(str)\n",
    "df_patient['tumor_burden'] = df_patient['tumor_burden'].fillna(method='ffill')"
   ]
  },
  {
   "cell_type": "code",
   "execution_count": null,
   "metadata": {},
   "outputs": [],
   "source": [
    "plt.figure()\n",
    "sns.set(font_scale=2)\n",
    "fig, ax = plt.subplots(figsize=(50,10))\n",
    "ax.plot(df_patient['date'], df_patient['tumor_burden'], 'k-', linewidth=4)\n",
    "ax.plot(tf_patient['date'], tf_patient['tumor_burden'], 'k.', marker='s', markersize=20)\n",
    "ax.set_ylabel('tumor burden', fontsize = 25.0)\n",
    "ax.set_ylim([0, 0.6])\n",
    "labels = ax.axes.get_xticklabels()\n",
    "ax.axes.set_xticklabels(labels, rotation=45, size = 20.0)\n",
    "# twin object for two different y-axis on the sample plot\n",
    "ax2=ax.twinx()\n",
    "# make a plot with different y-axis using second axis object\n",
    "sns.stripplot(y='treatment', x='date', hue='treatment', data=df_patient, s=20, ax=ax2) \n",
    "plt.legend((), ())\n",
    "if not os.path.exists('../figures/oncosg_timeline_patient'+str(patient)+'.png'):\n",
    "    plt.savefig('../figures/oncosg_timeline_patient'+str(patient)+'.png')"
   ]
  },
  {
   "cell_type": "code",
   "execution_count": null,
   "metadata": {},
   "outputs": [],
   "source": [
    "# check tf dates\n",
    "tf_patient[['date', 'tumor_burden']]"
   ]
  },
  {
   "cell_type": "markdown",
   "metadata": {},
   "source": [
    "Conclusion: We can only find samples with very estimated low tumor burden in patient 986. \n",
    "\n",
    "Let's manually check those samples do not contain any mutation."
   ]
  },
  {
   "cell_type": "markdown",
   "metadata": {},
   "source": [
    "# Mutation calls for patient 986\n",
    "# Recent file"
   ]
  },
  {
   "cell_type": "code",
   "execution_count": null,
   "metadata": {},
   "outputs": [],
   "source": [
    "def read_vcf(path):\n",
    "    with open(path, 'r') as f:\n",
    "        lines = [l for l in f if not l.startswith('##')]\n",
    "    res = pd.read_csv(\n",
    "        io.StringIO(''.join(lines)),\n",
    "        dtype={'#CHROM': str, 'POS': int, 'ID': str, 'REF': str, 'ALT': str,\n",
    "               'QUAL': str, 'FILTER': str, 'INFO': str},\n",
    "        sep='\\t'\n",
    "    ).rename(columns={'#CHROM': 'CHROM'})\n",
    "    return res"
   ]
  },
  {
   "cell_type": "code",
   "execution_count": null,
   "metadata": {},
   "outputs": [],
   "source": [
    "patient = 986\n",
    "mutation_df = read_vcf('../data/variant_calls/986_reGeno.VEP.vcf')\n",
    "#print(mutation_file['GENE'].nunique())\n",
    "#mutation_file = mutation_file[mutation_file['pid'] == patient]\n",
    "#mutation_file.groupby('GENE').count()\n",
    "mutation_df = mutation_df[mutation_df['FILTER'] == 'PASS']\n",
    "print(mutation_df.columns)"
   ]
  },
  {
   "cell_type": "code",
   "execution_count": null,
   "metadata": {},
   "outputs": [],
   "source": [
    "col = ['CHROM', 'POS', 'ID', 'REF', 'ALT', 'QUAL', 'FILTER', 'INFO', 'FORMAT']\n",
    "for it in list(date_lowtftimepoints):\n",
    "    aux = '986_'+ it.split('-')[-1]+it.split('-')[1]+it.split('-')[0][-2:]\n",
    "    if aux in mutation_df.columns:\n",
    "        col.append(aux)\n",
    "    else:\n",
    "        print(aux)\n",
    "print(col)\n",
    "mutation_lowtftimepoints = mutation_df[col]\n",
    "mutation_lowtftimepoints"
   ]
  },
  {
   "cell_type": "code",
   "execution_count": null,
   "metadata": {},
   "outputs": [],
   "source": [
    "for i in range(mutation_lowtftimepoints.shape[0]):\n",
    "    print(float(mutation_lowtftimepoints['986_011015'].iloc[i].split(':')[-1])/float(mutation_lowtftimepoints['986_011015'].iloc[i].split(':')[-2]))"
   ]
  },
  {
   "cell_type": "code",
   "execution_count": null,
   "metadata": {},
   "outputs": [],
   "source": [
    "#foo = lambda x: pd.Series(x.split('|')[3])\n",
    "foo2 = lambda x: pd.Series(float(x.split(':')[-1])/float(x.split(':')[-2]))\n",
    "\n",
    "#mutation_lowtftimepoints['INFO'] = mutation_lowtftimepoints['INFO'].apply(foo)\n",
    "mutation_lowtftimepoints['986_011015'] = mutation_lowtftimepoints['986_011015'].apply(foo2)\n",
    "mutation_lowtftimepoints['986_110615'] = mutation_lowtftimepoints['986_110615'].apply(foo2)\n",
    "mutation_lowtftimepoints"
   ]
  },
  {
   "cell_type": "markdown",
   "metadata": {},
   "source": [
    "# Mutation calls for patient 986\n",
    "# Older file"
   ]
  },
  {
   "cell_type": "code",
   "execution_count": null,
   "metadata": {},
   "outputs": [],
   "source": [
    "patient = 986\n",
    "mutation_file = pd.read_csv('../data/variant_calls/total_variants_mmpm_puradj.txt', sep='\\t')\n",
    "print(mutation_file['GENE'].nunique())\n",
    "mutation_file = mutation_file[mutation_file['pid'] == patient]\n",
    "mutation_file.groupby('GENE').count()"
   ]
  },
  {
   "cell_type": "code",
   "execution_count": null,
   "metadata": {},
   "outputs": [],
   "source": [
    "mutation_lowtftimepoints = mutation_file[(mutation_file['ichor_tf'] == 0)][['date', 'GENE', 'REF', 'ALT', 'VAF', 'TIERS']]\n",
    "mutation_lowtftimepoints = mutation_lowtftimepoints[(mutation_lowtftimepoints['TIERS'] != 'Germline') & (mutation_lowtftimepoints['TIERS'] != 'Artifact')]\n",
    "# mutation_lowtftimepoints = mutation_lowtftimepoints[(mutation_lowtftimepoints['TIERS'] == 'Trusted') ]\n",
    "mutation_lowtftimepoints"
   ]
  },
  {
   "cell_type": "code",
   "execution_count": null,
   "metadata": {},
   "outputs": [],
   "source": [
    "date_lowtftimepoints = mutation_lowtftimepoints['date'].unique()\n",
    "date_lowtftimepoint"
   ]
  },
  {
   "cell_type": "code",
   "execution_count": null,
   "metadata": {},
   "outputs": [],
   "source": [
    "lowtftimepoints_dict = {'date': mutation_lowtftimepoints['date'].unique(),\n",
    "                        'median VAF': [],\n",
    "                        '# mutated genes' : [],\n",
    "                        'median VAF within mutated genes': [],\n",
    "                        '# mutated genes TRUSTED': [],\n",
    "                        'median VAF within mutated genes TRUSTED': []\n",
    "                       }\n",
    "\n",
    "for date in mutation_lowtftimepoints['date'].unique():\n",
    "    nmut = mutation_lowtftimepoints[(mutation_lowtftimepoints['date'] == date) & (mutation_lowtftimepoints['VAF'] != 0)].shape[0]\n",
    "    nmuttrust = mutation_lowtftimepoints[(mutation_lowtftimepoints['date'] == date)  & (mutation_lowtftimepoints['VAF'] != 0)  & (mutation_lowtftimepoints['TIERS'] == 'Trusted')].shape[0]\n",
    "    medianvaf = np.median(mutation_lowtftimepoints[(mutation_lowtftimepoints['date'] == date)]['VAF'].values)\n",
    "    medianvafn = np.median(mutation_lowtftimepoints[(mutation_lowtftimepoints['date'] == date) & (mutation_lowtftimepoints['VAF'] != 0)]['VAF'].values)\n",
    "    medianvafntrust = np.median(mutation_lowtftimepoints[(mutation_lowtftimepoints['date'] == date) & (mutation_lowtftimepoints['VAF'] != 0) & (mutation_lowtftimepoints['TIERS'] == 'Trusted')]['VAF'].values)\n",
    "    lowtftimepoints_dict['# mutated genes'].append(nmut)\n",
    "    lowtftimepoints_dict['# mutated genes TRUSTED'].append(nmuttrust)\n",
    "    lowtftimepoints_dict['median VAF'].append(medianvaf)\n",
    "    lowtftimepoints_dict['median VAF within mutated genes'].append(medianvafn)\n",
    "    lowtftimepoints_dict['median VAF within mutated genes TRUSTED'].append(medianvafntrust)\n",
    "    \n",
    "\n",
    "lowtftimepoints_pd = pd.DataFrame.from_dict(lowtftimepoints_dict)\n",
    "lowtftimepoints_pd.set_index('date', inplace=True)\n",
    "lowtftimepoints_pd"
   ]
  },
  {
   "cell_type": "code",
   "execution_count": null,
   "metadata": {},
   "outputs": [],
   "source": [
    "genes2checkmanually = []\n",
    "results_df = None\n",
    "for date in mutation_lowtftimepoints['date'].unique():\n",
    "    print(date)\n",
    "    if results_df is None:\n",
    "        results_df = mutation_lowtftimepoints[(mutation_lowtftimepoints['date'] == date) & (mutation_lowtftimepoints['VAF'] != 0)  & (mutation_lowtftimepoints['TIERS'] == 'Trusted')]\n",
    "    else:\n",
    "        results_df = pd.concat([results_df, mutation_lowtftimepoints[(mutation_lowtftimepoints['date'] == date) & (mutation_lowtftimepoints['VAF'] != 0)  & (mutation_lowtftimepoints['TIERS'] == 'Trusted')]])\n",
    "    ll = list(mutation_lowtftimepoints[(mutation_lowtftimepoints['date'] == date) & (mutation_lowtftimepoints['VAF'] != 0)  & (mutation_lowtftimepoints['TIERS'] == 'Trusted')]['GENE'].values)\n",
    "    for g in ll:\n",
    "        genes2checkmanually.append(g)\n",
    "genes2checkmanually = list(np.unique(genes2checkmanually))\n",
    "results_df"
   ]
  },
  {
   "cell_type": "code",
   "execution_count": null,
   "metadata": {},
   "outputs": [],
   "source": [
    "# print genes to check munually\n",
    "genes2checkmanually"
   ]
  },
  {
   "cell_type": "code",
   "execution_count": null,
   "metadata": {},
   "outputs": [],
   "source": [
    "# need to get gene location in hg19\n",
    "print(mutation_lowtftimepoints['date'].unique())\n",
    "gene_df = None\n",
    "for date in  mutation_lowtftimepoints['date'].unique():\n",
    "    for i, r in mutation_lowtftimepoints[(mutation_lowtftimepoints['date'] == date) & (mutation_lowtftimepoints['VAF'] != 0)  & (mutation_lowtftimepoints['TIERS'] == 'Trusted')].iterrows():\n",
    "        if gene_df is None:\n",
    "            gene_df = mutation_file[['date', '#CHROM', 'POS', 'REF', 'ALT', 'GENE']][(mutation_file['date'] == r['date']) & (mutation_file['GENE'] == r['GENE'])]\n",
    "        else:\n",
    "            gene_df = pd.concat([gene_df, mutation_file[['date', '#CHROM', 'POS', 'REF', 'ALT', 'GENE']][(mutation_file['date'] == r['date']) & (mutation_file['GENE'] == r['GENE'])]])\n",
    "gene_df.drop('date', axis=1, inplace=True)\n",
    "gene_df.drop_duplicates(inplace=True)\n",
    "gene_df"
   ]
  },
  {
   "cell_type": "code",
   "execution_count": null,
   "metadata": {},
   "outputs": [],
   "source": [
    "gene_df[['#CHROM', 'POS', 'GENE', 'REF', 'ALT']].to_csv('../data/variant_calls/positionfile.txt', header=False, index=False)"
   ]
  },
  {
   "cell_type": "code",
   "execution_count": null,
   "metadata": {},
   "outputs": [],
   "source": [
    "# location\n",
    "# /mnt/projects/zwpoh/cfDNA/bulk/ccg/ccg_batch2/lpwgs/hg19_bam/patient/986*.bam"
   ]
  },
  {
   "cell_type": "markdown",
   "metadata": {},
   "source": [
    "# 4 mutations across time"
   ]
  },
  {
   "cell_type": "code",
   "execution_count": null,
   "metadata": {},
   "outputs": [],
   "source": [
    "mutations_acrosstime = mutation_file[(mutation_file['GENE'] == 'EPHB2') | (mutation_file['GENE'] == 'APC') | (mutation_file['GENE'] == 'SOX9') | (mutation_file['GENE'] == 'PIK3CA') | (mutation_file['GENE'] == 'TP53')][['date', 'GENE', 'REF', 'ALT', 'VAF', 'TIERS']]\n",
    "mutations_acrosstime = mutations_acrosstime[(mutations_acrosstime['TIERS'] == 'Trusted')]\n",
    "mutations_acrosstime"
   ]
  },
  {
   "cell_type": "code",
   "execution_count": null,
   "metadata": {},
   "outputs": [],
   "source": [
    "# mutations_acrosstime = mutations_acrosstime.pivot_table(values='VAF', index='GENE', columns='date', aggfunc='first')\n",
    "mutations_acrosstime = mutations_acrosstime.T\n",
    "mutations_acrosstime"
   ]
  },
  {
   "cell_type": "code",
   "execution_count": null,
   "metadata": {},
   "outputs": [],
   "source": [
    "date_deepwgs_1 = '100215'\n",
    "date_deepwgs_2 = '261016'\n",
    "\n",
    "patient = 986\n",
    "treatment_patient = treatment_file[treatment_file['patient'] == patient].sort_values('date')\n",
    "treatment_patient['date'] = treatment_patient['date'].astype(str)\n",
    "tf_patient = tf_file[tf_file['patient'] == patient].sort_values('date')\n",
    "tf_patient['date'] = tf_patient['date'].astype(str)\n",
    "df_patient = pd.concat([treatment_patient, tf_patient])\n",
    "df_patient = df_patient.sort_values('date')\n",
    "df_patient['date'] = df_patient['date'].astype(str)\n",
    "df_patient = df_patient.sort_values(by='date')\n",
    "#df_patient['tumor_burden'] = df_patient['tumor_burden'].fillna(method='ffill')"
   ]
  },
  {
   "cell_type": "code",
   "execution_count": null,
   "metadata": {},
   "outputs": [],
   "source": [
    "def interpolate_gaps(values, limit=None):\n",
    "    \"\"\"\n",
    "    Fill gaps using linear interpolation, optionally only fill gaps up to a\n",
    "    size of `limit`.\n",
    "    \"\"\"\n",
    "    values = np.asarray(values)\n",
    "    i = np.arange(values.size)\n",
    "    valid = np.isfinite(values)\n",
    "    filled = np.interp(i, i[valid], values[valid])\n",
    "\n",
    "    if limit is not None:\n",
    "        invalid = ~valid\n",
    "        for n in range(1, limit+1):\n",
    "            invalid[:-n] &= invalid[n:]\n",
    "        filled[invalid] = np.nan\n",
    "\n",
    "    return filled\n",
    "\n",
    "btf = interpolate_gaps(np.copy(df_patient['tumor_burden'].values), limit=None)\n",
    "#btf = np.copy(df_patient['tumor_burden'].values)\n",
    "#nans, xbtf = nan_helper(btf)\n",
    "#btf[nans] = np.interp(xbtf(nans), xbtf(~nans), btf[~nans])"
   ]
  },
  {
   "cell_type": "code",
   "execution_count": null,
   "metadata": {},
   "outputs": [],
   "source": [
    "# to solve x-axis issue\n"
   ]
  },
  {
   "cell_type": "code",
   "execution_count": null,
   "metadata": {},
   "outputs": [],
   "source": [
    "plt.figure()\n",
    "sns.set(style=\"ticks\", context=\"talk\")\n",
    "sns.set(font_scale=2)\n",
    "fig, ax2 = plt.subplots(figsize=(40,10))\n",
    "\n",
    "# make a plot with different y-axis using second axis object\n",
    "sns.stripplot(y='treatment', x='date', hue='treatment', data=df_patient, s=10, ax=ax2)\n",
    "plt.legend((), ())\n",
    "labels = ax2.axes.get_xticklabels()\n",
    "# twin object for two different y-axis on the sample plot\n",
    "ax=ax2.twinx()\n",
    "ax.plot(df_patient['date'], df_patient['tumor_burden'], 'k.', marker='s', markersize=10)\n",
    "ax2.set_xticklabels([])\n",
    "ax2.set_xticks(posnewlabels)\n",
    "ax2.set_xticklabels(newlabels, rotation=90)\n",
    "\n",
    "\n",
    "ax.plot(df_patient['date'][~df_patient['tumor_burden'].isna()], df_patient['tumor_burden'][~df_patient['tumor_burden'].isna()], 'k-', linewidth=4)\n",
    "ax.plot(df_patient['date'][~df_patient['tumor_burden'].isna()], df_patient['tumor_burden'][~df_patient['tumor_burden'].isna()], 'k.', marker='s', markersize=10)\n",
    "ax.set_ylabel('ichorCNA tumor burden', fontsize = 25.0)\n",
    "ax.set_ylim(-0.01, 1)\n",
    "\n",
    "ax.set_xticklabels([])\n",
    "ax.set_xticks(posnewlabels)\n",
    "ax.set_xticklabels(newlabels)\n",
    "\n",
    "xacrosstime = [i for i in mutations_acrosstime.index if i in df_patient['date'].values]\n",
    "\n",
    "yacrosstime = [m for i,m in enumerate(mutations_acrosstime['APC'].values) if mutations_acrosstime.index[i] in df_patient['date'].values]\n",
    "ele1 = ax.plot(xacrosstime, yacrosstime, 'r-', linewidth=2, label='APC')\n",
    "ax.plot(xacrosstime, yacrosstime, 'r.', marker='D', markersize=10)\n",
    "\n",
    "yacrosstime = [m for i,m in enumerate(mutations_acrosstime['PIK3CA'].values) if mutations_acrosstime.index[i] in df_patient['date'].values]\n",
    "ele2 = ax.plot(xacrosstime, yacrosstime, 'b-', linewidth=2, label='PIK3CA')\n",
    "ax.plot(xacrosstime, yacrosstime, 'b.', marker='D', markersize=10)\n",
    "\n",
    "yacrosstime = [m for i,m in enumerate(mutations_acrosstime['EPHB2'].values) if mutations_acrosstime.index[i] in df_patient['date'].values]\n",
    "ele3 = ax.plot(xacrosstime, yacrosstime, 'g-', linewidth=2, label='EPHB2')\n",
    "ax.plot(xacrosstime, yacrosstime, 'g.', marker='D', markersize=10)\n",
    "\n",
    "yacrosstime = [m for i,m in enumerate(mutations_acrosstime['SOX9'].values) if mutations_acrosstime.index[i] in df_patient['date'].values]\n",
    "ele4 = ax.plot(xacrosstime, yacrosstime, 'c-', linewidth=2, label='SOX9')\n",
    "ax.plot(xacrosstime, yacrosstime, 'c.', marker='D', markersize=10)\n",
    "\n",
    "yacrosstime = [m for i,m in enumerate(mutations_acrosstime['TP53'].values) if mutations_acrosstime.index[i] in df_patient['date'].values]\n",
    "ele5 = ax.plot(xacrosstime, yacrosstime, 'm-', linewidth=2, label='TP53')\n",
    "ax.plot(xacrosstime, yacrosstime, 'm.', marker='D', markersize=10)\n",
    "\n",
    "fig.legend([ele1, ele2, ele3, ele4, ele5], ['APC', 'PIK3CA', 'EPHB2', 'SOX9', 'TP53'], loc='upper left')\n",
    "ax.legend(loc='upper left')\n",
    "\n",
    "plt.title('Patient 986: VAF evolution across timepoints')\n",
    "plt.show()"
   ]
  },
  {
   "cell_type": "code",
   "execution_count": null,
   "metadata": {},
   "outputs": [],
   "source": [
    "plt.figure()\n",
    "plt.style.use(\"dark_background\")\n",
    "sns.set(style=\"darkgrid\", context=\"talk\")\n",
    "plt.rcParams.update({\"grid.linewidth\":0.5, \"grid.alpha\":0.5})\n",
    "sns.set(font_scale=2)\n",
    "fig, ax2 = plt.subplots(figsize=(40,10))\n",
    "\n",
    "# make a plot with different y-axis using second axis object\n",
    "sns.stripplot(y='treatment', x='date', hue='treatment', data=df_patient, s=10, ax=ax2)\n",
    "plt.legend((), ())\n",
    "labels = ax2.axes.get_xticklabels()\n",
    "# twin object for two different y-axis on the sample plot\n",
    "ax=ax2.twinx()\n",
    "ax.plot(df_patient['date'], df_patient['tumor_burden'], 'k.', marker='s', markersize=10)\n",
    "ax2.set_xticklabels([])\n",
    "ax2.set_xticks(posnewlabels)\n",
    "ax2.set_xticklabels(newlabels, rotation=90)\n",
    "\n",
    "ax.plot(df_patient['date'][~df_patient['tumor_burden'].isna()], df_patient['tumor_burden'][~df_patient['tumor_burden'].isna()], 'k-', linewidth=4)\n",
    "ax.plot(df_patient['date'][~df_patient['tumor_burden'].isna()], df_patient['tumor_burden'][~df_patient['tumor_burden'].isna()], 'k.', marker='s', markersize=10)\n",
    "ax.set_ylabel('ichorCNA tumor burden', fontsize = 25.0)\n",
    "ax.set_ylim(-0.01, 1)\n",
    "\n",
    "ax.set_xticklabels([])\n",
    "ax.set_xticks(posnewlabels)\n",
    "ax.set_xticklabels(newlabels)\n",
    "\n",
    "xacrosstime = [i for i in mutations_acrosstime.index if i in df_patient['date'].values]\n",
    "\n",
    "yacrosstime = [m for i,m in enumerate(mutations_acrosstime['APC'].values) if mutations_acrosstime.index[i] in df_patient['date'].values]\n",
    "ele1 = ax.plot(xacrosstime, yacrosstime, 'r-', linewidth=2, label='APC')\n",
    "ax.plot(xacrosstime, yacrosstime, 'r.', marker='D', markersize=10)\n",
    "\n",
    "yacrosstime = [m for i,m in enumerate(mutations_acrosstime['PIK3CA'].values) if mutations_acrosstime.index[i] in df_patient['date'].values]\n",
    "ele2 = ax.plot(xacrosstime, yacrosstime, 'b-', linewidth=2, label='PIK3CA')\n",
    "ax.plot(xacrosstime, yacrosstime, 'b.', marker='D', markersize=10)\n",
    "\n",
    "yacrosstime = [m for i,m in enumerate(mutations_acrosstime['EPHB2'].values) if mutations_acrosstime.index[i] in df_patient['date'].values]\n",
    "ele3 = ax.plot(xacrosstime, yacrosstime, 'g-', linewidth=2, label='EPHB2')\n",
    "ax.plot(xacrosstime, yacrosstime, 'g.', marker='D', markersize=10)\n",
    "\n",
    "yacrosstime = [m for i,m in enumerate(mutations_acrosstime['SOX9'].values) if mutations_acrosstime.index[i] in df_patient['date'].values]\n",
    "ele4 = ax.plot(xacrosstime, yacrosstime, 'c-', linewidth=2, label='SOX9')\n",
    "ax.plot(xacrosstime, yacrosstime, 'c.', marker='D', markersize=10)\n",
    "\n",
    "yacrosstime = [m for i,m in enumerate(mutations_acrosstime['TP53'].values) if mutations_acrosstime.index[i] in df_patient['date'].values]\n",
    "ele5 = ax.plot(xacrosstime, yacrosstime, 'm-', linewidth=2, label='TP53')\n",
    "ax.plot(xacrosstime, yacrosstime, 'm.', marker='D', markersize=10)\n",
    "\n",
    "fig.legend([ele1, ele2, ele3, ele4, ele5], ['APC', 'PIK3CA', 'EPHB2', 'SOX9', 'TP53'], loc='upper left')\n",
    "ax.legend(loc='upper left')\n",
    "\n",
    "plt.title('Patient 986: VAF evolution across timepoints')\n",
    "plt.show()"
   ]
  },
  {
   "cell_type": "code",
   "execution_count": null,
   "metadata": {},
   "outputs": [],
   "source": [
    "newlabels = []\n",
    "posnewlabels = []\n",
    "c = 0\n",
    "for l in labels:\n",
    "    print(l)\n",
    "    x = str(l).split(',')[0].split('(')[-1]\n",
    "    y = str(l).split(',')[1][1:]\n",
    "    d = str(l).split(',')[2][2:-2]\n",
    "    if d in list(tf_patient['date'].values):\n",
    "        print(c)\n",
    "        c += 1\n",
    "        posnewlabels.append(int(x))\n",
    "        newlabels.append(plt.text(x, y, d))\n",
    "for ln in newlabels:\n",
    "    print(ln)"
   ]
  },
  {
   "cell_type": "code",
   "execution_count": null,
   "metadata": {},
   "outputs": [],
   "source": []
  },
  {
   "cell_type": "code",
   "execution_count": null,
   "metadata": {},
   "outputs": [],
   "source": [
    "for l in newlabels:\n",
    "    d = str(l).split(',')[2][2:-2]\n",
    "    print(d)\n",
    "    if d not in list(mutations_acrosstime.index):\n",
    "        print(d)"
   ]
  },
  {
   "cell_type": "code",
   "execution_count": null,
   "metadata": {},
   "outputs": [],
   "source": [
    "list(mutations_acrosstime.index)"
   ]
  },
  {
   "cell_type": "code",
   "execution_count": null,
   "metadata": {},
   "outputs": [],
   "source": [
    "print(list(mutations_acrosstime.index))\n",
    "len(list(mutations_acrosstime.index))"
   ]
  },
  {
   "cell_type": "code",
   "execution_count": null,
   "metadata": {},
   "outputs": [],
   "source": [
    "len(newlabels)"
   ]
  },
  {
   "cell_type": "code",
   "execution_count": null,
   "metadata": {},
   "outputs": [],
   "source": [
    "plt.plot(mutations_acrosstime.index, mutations_acrosstime['TP53'], 'm-', linewidth=4, label='TP53')\n",
    "plt.xticks(rotation = 90)"
   ]
  },
  {
   "cell_type": "code",
   "execution_count": null,
   "metadata": {},
   "outputs": [],
   "source": [
    "mutation_file[mutation_file['#CHROM'] == 'chr22']['GENE'].unique()"
   ]
  },
  {
   "cell_type": "code",
   "execution_count": null,
   "metadata": {},
   "outputs": [],
   "source": [
    "mutation_file[mutation_file['#CHROM'] == 'chr22'][['#CHROM', 'POS', 'REF', 'ALT']].drop_duplicates()"
   ]
  },
  {
   "cell_type": "code",
   "execution_count": null,
   "metadata": {},
   "outputs": [],
   "source": []
  }
 ],
 "metadata": {
  "kernelspec": {
   "display_name": "Python 3",
   "language": "python",
   "name": "python3"
  },
  "language_info": {
   "codemirror_mode": {
    "name": "ipython",
    "version": 3
   },
   "file_extension": ".py",
   "mimetype": "text/x-python",
   "name": "python",
   "nbconvert_exporter": "python",
   "pygments_lexer": "ipython3",
   "version": "3.7.7"
  }
 },
 "nbformat": 4,
 "nbformat_minor": 2
}
