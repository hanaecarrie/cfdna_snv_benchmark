{
 "cells": [
  {
   "cell_type": "code",
   "execution_count": null,
   "metadata": {},
   "outputs": [],
   "source": [
    "import os\n",
    "import numpy as np\n",
    "import pandas as pd\n",
    "import matplotlib.pyplot as plt\n",
    "import seaborn as sns\n",
    "import pysam\n",
    "from collections import Counter\n",
    "from matplotlib import cm\n",
    "from matplotlib.colors import ListedColormap\n",
    "\n",
    "import io\n",
    "from pysam import VariantFile\n",
    "from matplotlib_venn import venn3\n",
    "import venn"
   ]
  },
  {
   "cell_type": "markdown",
   "metadata": {},
   "source": [
    "# Tumor burden"
   ]
  },
  {
   "cell_type": "code",
   "execution_count": null,
   "metadata": {},
   "outputs": [],
   "source": [
    "# tumor burden\n",
    "tf_file_1 = pd.read_csv('../data/tumor_burden/tumor_burden_ichorcna_CCG.txt', header=None)\n",
    "tf_file_1['patient'] = tf_file_1[0].str.split('.').str[0].str.split('_').str[-1]\n",
    "tf_file_1['date'] = tf_file_1[0].str.split('.').str[1]\n",
    "tf_file_1['patient_date'] = tf_file_1['patient']  + '_' + tf_file_1['date'] \n",
    "tf_file_1.set_index('patient_date', inplace=True)\n",
    "tf_file_1.drop(0, axis=1, inplace=True)\n",
    "tf_file_1.rename(columns={1: 'tumor_burden'}, inplace=True)\n",
    "\n",
    "tf_file_2 = pd.read_csv('../data/tumor_burden/tumor_burden_ichorcna_CRC.txt', header=None)\n",
    "tf_file_2['patient'] = tf_file_2[0].str.split('-').str[1].str.split('_').str[0]\n",
    "tf_file_2['date'] = tf_file_2[0].str.split('_').str[1]\n",
    "tf_file_2['patient_date'] = tf_file_2['patient'] + '_' + tf_file_2['date'] \n",
    "tf_file_2.set_index('patient_date', inplace=True)\n",
    "tf_file_2.drop(0, axis=1, inplace=True)\n",
    "tf_file_2.rename(columns={1: 'tumor_burden'}, inplace=True)\n",
    "\n",
    "print(tf_file_1.shape, tf_file_2.shape)\n",
    "\n",
    "tf_file = pd.concat([tf_file_1, tf_file_2])\n",
    "tf_file['patient'] = tf_file['patient'].astype(int)\n",
    "tf_file['date'] = pd.to_datetime(tf_file['date'], format='%d%m%y')\n",
    "tf_file.reset_index(inplace=True)\n",
    "tf_file.drop('patient_date', axis=1, inplace=True)\n",
    "tf_file"
   ]
  },
  {
   "cell_type": "markdown",
   "metadata": {},
   "source": [
    "# Treatment"
   ]
  },
  {
   "cell_type": "code",
   "execution_count": null,
   "metadata": {},
   "outputs": [],
   "source": [
    "treatment_file = pd.read_csv('../data/treatment/patient_treatment_total_std_201109.txt', sep='\\t')\n",
    "treatment_file['patient'] = treatment_file['patient'].astype(int)\n",
    "treatment_file['date'] = pd.to_datetime(treatment_file['date'], format='%Y-%m-%d')\n",
    "treatment_file.rename(columns={'value':'treatment'}, inplace=True)\n",
    "treatment_file = treatment_file[['patient', 'date', 'treatment']]\n",
    "treatment_file"
   ]
  },
  {
   "cell_type": "markdown",
   "metadata": {},
   "source": [
    "## Patient 986"
   ]
  },
  {
   "cell_type": "code",
   "execution_count": null,
   "metadata": {},
   "outputs": [],
   "source": [
    "date_deepwgs_1 = '100215'\n",
    "date_deepwgs_2 = '261016'\n",
    "\n",
    "patient = 986\n",
    "treatment_patient = treatment_file[treatment_file['patient'] == patient].sort_values('date')\n",
    "treatment_patient['date'] = treatment_patient['date'].astype(str)\n",
    "tf_patient = tf_file[tf_file['patient'] == patient].sort_values('date')\n",
    "tf_patient['date'] = tf_patient['date'].astype(str)\n",
    "df_patient = pd.concat([treatment_patient, tf_patient])\n",
    "df_patient = df_patient.sort_values('date')\n",
    "df_patient['date'] = df_patient['date'].astype(str)\n",
    "df_patient['tumor_burden'] = df_patient['tumor_burden'].fillna(method='ffill')"
   ]
  },
  {
   "cell_type": "code",
   "execution_count": null,
   "metadata": {},
   "outputs": [],
   "source": [
    "plt.figure()\n",
    "sns.set(font_scale=2)\n",
    "fig, ax = plt.subplots(figsize=(50,10))\n",
    "ax.plot(df_patient['date'], df_patient['tumor_burden'], 'k-', linewidth=4)\n",
    "ax.plot(tf_patient['date'], tf_patient['tumor_burden'], 'k.', marker='s', markersize=20)\n",
    "ax.set_ylabel('tumor burden', fontsize = 25.0)\n",
    "labels = ax.axes.get_xticklabels()\n",
    "ax.axes.set_xticklabels(labels, rotation=45, size = 20.0)\n",
    "# twin object for two different y-axis on the sample plot\n",
    "ax2=ax.twinx()\n",
    "# make a plot with different y-axis using second axis object\n",
    "sns.stripplot(y='treatment', x='date', hue='treatment', data=df_patient, s=20, ax=ax2) \n",
    "plt.legend((), ())\n",
    "plt.savefig('../figures/oncosg_timeline_patient'+str(patient)+'.png')"
   ]
  },
  {
   "cell_type": "code",
   "execution_count": null,
   "metadata": {},
   "outputs": [],
   "source": [
    "# check tf dates\n",
    "tf_patient[['date', 'tumor_burden']]"
   ]
  },
  {
   "cell_type": "markdown",
   "metadata": {},
   "source": [
    "## Patient 809"
   ]
  },
  {
   "cell_type": "code",
   "execution_count": null,
   "metadata": {},
   "outputs": [],
   "source": [
    "date_deepwgs_1 = '110914'\n",
    "date_deepwgs_2 = '030915'\n",
    "\n",
    "patient = 809\n",
    "treatment_patient = treatment_file[treatment_file['patient'] == patient].sort_values('date')\n",
    "treatment_patient['date'] = treatment_patient['date'].astype(str)\n",
    "tf_patient = tf_file[tf_file['patient'] == patient].sort_values('date')\n",
    "\n",
    "# data from oncosg added manually\n",
    "tf_patient = tf_patient.append({'date': '2014-09-11', 'patient': 809, 'tumor_burden': 0.3577}, ignore_index=True)\n",
    "tf_patient = tf_patient.append({'date': '2015-09-03', 'patient': 809, 'tumor_burden': 0.4626}, ignore_index=True)\n",
    "\n",
    "tf_patient['date'] = tf_patient['date'].astype(str)\n",
    "df_patient = pd.concat([treatment_patient, tf_patient])\n",
    "df_patient = df_patient.sort_values('date')\n",
    "df_patient['date'] = df_patient['date'].astype(str)\n",
    "df_patient['tumor_burden'] = df_patient['tumor_burden'].fillna(method='ffill')"
   ]
  },
  {
   "cell_type": "code",
   "execution_count": null,
   "metadata": {},
   "outputs": [],
   "source": [
    "plt.figure()\n",
    "sns.set(font_scale=2)\n",
    "fig, ax = plt.subplots(figsize=(50,10))\n",
    "ax.plot(df_patient['date'], df_patient['tumor_burden'], 'k-', linewidth=4)\n",
    "ax.plot(tf_patient['date'], tf_patient['tumor_burden'], 'k.', marker='s', markersize=20)\n",
    "ax.set_ylabel('tumor burden', fontsize = 25.0)\n",
    "ax.set_ylim([0, 0.6])\n",
    "labels = ax.axes.get_xticklabels()\n",
    "ax.axes.set_xticklabels(labels, rotation=45, size = 20.0)\n",
    "# twin object for two different y-axis on the sample plot\n",
    "ax2=ax.twinx()\n",
    "# make a plot with different y-axis using second axis object\n",
    "sns.stripplot(y='treatment', x='date', hue='treatment', data=df_patient, s=20, ax=ax2) \n",
    "plt.legend((), ())\n",
    "plt.savefig('../figures/oncosg_timeline_patient'+str(patient)+'.png')"
   ]
  },
  {
   "cell_type": "code",
   "execution_count": null,
   "metadata": {},
   "outputs": [],
   "source": [
    "tf_patient"
   ]
  },
  {
   "cell_type": "code",
   "execution_count": null,
   "metadata": {},
   "outputs": [],
   "source": [
    "tf_file['patient'].unique()"
   ]
  },
  {
   "cell_type": "code",
   "execution_count": null,
   "metadata": {},
   "outputs": [],
   "source": []
  }
 ],
 "metadata": {
  "kernelspec": {
   "display_name": "Python 3",
   "language": "python",
   "name": "python3"
  },
  "language_info": {
   "codemirror_mode": {
    "name": "ipython",
    "version": 3
   },
   "file_extension": ".py",
   "mimetype": "text/x-python",
   "name": "python",
   "nbconvert_exporter": "python",
   "pygments_lexer": "ipython3",
   "version": "3.7.7"
  }
 },
 "nbformat": 4,
 "nbformat_minor": 2
}
