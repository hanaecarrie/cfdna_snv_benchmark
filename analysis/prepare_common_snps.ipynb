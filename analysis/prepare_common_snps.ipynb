{
 "cells": [
  {
   "cell_type": "code",
   "execution_count": null,
   "metadata": {},
   "outputs": [],
   "source": [
    "import os\n",
    "import io\n",
    "import re\n",
    "import numpy as np\n",
    "import pandas as pd\n",
    "import pysam\n",
    "from tqdm.notebook import tqdm \n",
    "from IPython.core.debugger import set_trace"
   ]
  },
  {
   "cell_type": "code",
   "execution_count": null,
   "metadata": {},
   "outputs": [],
   "source": [
    "def read_vcf(path):\n",
    "        with open(path, 'r') as f:\n",
    "            lines = [l for l in f if not l.startswith('##')]\n",
    "        res = None\n",
    "        for bi in tqdm(range(int(np.ceil(len(lines)/1000)))):\n",
    "            res_batch = pd.read_csv(io.StringIO(''.join([lines[0]] + lines[bi*1000 + 1:(bi+1)*1000])),\n",
    "                dtype={'#CHROM': str, 'POS': int, 'ID': str, 'REF': str, 'ALT': str,\n",
    "                       'QUAL': str, 'FILTER': str, 'INFO': str}, sep='\\t')\n",
    "            if res is None:\n",
    "                if not res_batch[res_batch['#CHROM'] == '22'].empty:\n",
    "                    res = res_batch[res_batch['#CHROM'] == '22']\n",
    "            else:\n",
    "                if not res_batch[res_batch['#CHROM'] == '22'].empty:\n",
    "                    res = pd.concat([res, res_batch[res_batch['#CHROM'] == '22']])\n",
    "        return res\n",
    "\n",
    "foo_type = lambda x: pd.Series(x.split(';VC=')[1].split(';')[0])"
   ]
  },
  {
   "cell_type": "markdown",
   "metadata": {},
   "source": [
    "# Read SNP databases\n",
    "\n",
    "## dbSNP\n",
    "\n",
    "whole genome avaiable at http://hgdownload.soe.ucsc.edu/goldenPath/hg19/database/snp151Common.txt.gz\n",
    "\n",
    "here chr22 only: https://ftp.ncbi.nlm.nih.gov/snp/organisms/human_9606_b151_GRCh37p13/chr_rpts/\n",
    "\n",
    "00-common_all.vcf\n",
    "\n",
    "nb_lines = 37302979"
   ]
  },
  {
   "cell_type": "code",
   "execution_count": null,
   "metadata": {},
   "outputs": [],
   "source": [
    "#dbsnp_df = read_vcf('../data/common_SNPs/00-common_all.vcf')\n",
    "#print(dbsnp_df.shape)\n",
    "#dbsnp_df.to_csv('../data/common_SNPs/dbsnp_df.csv', index=False)\n",
    "#dbsnp_df.head()"
   ]
  },
  {
   "cell_type": "code",
   "execution_count": null,
   "metadata": {},
   "outputs": [],
   "source": [
    "dbsnp_df = pd.read_csv('../data/common_SNPs/dbsnp_df.csv')\n",
    "print(dbsnp_df.shape)\n",
    "dbsnp_df.head()"
   ]
  },
  {
   "cell_type": "code",
   "execution_count": null,
   "metadata": {},
   "outputs": [],
   "source": [
    "# type of SNP\n",
    "dbsnp_df['type'] = dbsnp_df['INFO'].apply(foo_type)\n",
    "dbsnp_df['type'].value_counts()"
   ]
  },
  {
   "cell_type": "markdown",
   "metadata": {},
   "source": [
    "## genomAD database"
   ]
  },
  {
   "cell_type": "code",
   "execution_count": null,
   "metadata": {},
   "outputs": [],
   "source": [
    "#genomad_df = read_vcf('../data/common_SNPs/gnomad.genomes.r2.1.1.sites.22.vcf')\n",
    "#print(genomad_df.shape)\n",
    "#genomad_df.head()"
   ]
  },
  {
   "cell_type": "code",
   "execution_count": null,
   "metadata": {},
   "outputs": [],
   "source": [
    "#genomad_df.to_csv('../data/common_SNPs/genomad_df.csv')"
   ]
  },
  {
   "cell_type": "code",
   "execution_count": null,
   "metadata": {},
   "outputs": [],
   "source": [
    "#genomad_df_new = pd.read_csv('../data/common_SNPs/genomad_df.csv', memory_map=True)\n",
    "#genomad_df_new.head()"
   ]
  },
  {
   "cell_type": "markdown",
   "metadata": {},
   "source": [
    "# Find reads supporting known SNPs in merged healthy bam"
   ]
  },
  {
   "cell_type": "markdown",
   "metadata": {},
   "source": [
    "Important notes:\n",
    "1. Indexing\n",
    "    - SAM is a 1-index based file\n",
    "    - VCF is a 1-index based file\n",
    "    - pysam is a 0-index based tool\n",
    "\n",
    "2. Paired-End sequencing\n",
    "    - BAM/SAM are storing the resverse complementary of reversed reads as sequence\n",
    "\n",
    "3. Mapping issues\n",
    "    - some reads are not mapped -> no CIGAR string + no read.reference_end"
   ]
  },
  {
   "cell_type": "code",
   "execution_count": null,
   "metadata": {},
   "outputs": [],
   "source": [
    "samfile = pysam.AlignmentFile(\"../data/healthy_chr22_merged-ready.bam\", \"rb\")\n",
    "\n",
    "# ititiate list of reads to remove\n",
    "reads2remove = []\n",
    "log_dict = {\"position\":[],\"type\":[],\n",
    "            \"total_reads\":[], 'supporting_reads':[],\n",
    "            \"problematic_reads\":[]}\n",
    "\n",
    "# iterate over positions\n",
    "for ci, mutation in tqdm(dbsnp_df.iloc[130000:135000].iterrows(), total=dbsnp_df.iloc[130000:135000].shape[0]):\n",
    "    # set_trace()\n",
    "    genotype = {'A': 0, 'C': 0, 'G': 0, 'T': 0, 'N': 0}\n",
    "    c = 0 # number of reads supporting the considered mutation\n",
    "    t = 0 # total number of reads at that position\n",
    "    p = 0 # number pf reads with issues\n",
    "    # iterate over reads that fall into the mutation position\n",
    "    for read in samfile.fetch(str(mutation['#CHROM']), mutation['POS']-1, mutation['POS']): \n",
    "        t += 1\n",
    "        seq = read.query_alignment_sequence\n",
    "        pos = (mutation['POS']-1) - read.reference_start \n",
    "        # print(pos)\n",
    "        ######## SNV ##########\n",
    "        if (mutation['type'] == 'SNV'):\n",
    "            if t == 5:\n",
    "                print(mutation['REF'], mutation['ALT'], seq[pos], seq[max(pos-2, 0):min(pos+3, len(seq))])\n",
    "            cigar = read.cigarstring\n",
    "            if cigar is None:\n",
    "                p += 1\n",
    "                print('PROBLEM no cigar')\n",
    "            else:\n",
    "                cigar_pos = re.split('M|I|D|N|S|H|P|=|X',cigar)[:-1]\n",
    "                cigar_states = re.split('[0-9]+',cigar)[1:]\n",
    "                cumul = 0\n",
    "                old_pos = pos\n",
    "                for i, cp in enumerate(cigar_pos):\n",
    "                    if (cigar_states[i] != 'S') and (cumul <= pos):\n",
    "                        cumul += -int(cp) if cigar_states[i] == 'D' else min(int(cp), pos-cumul)\n",
    "                        #print(cumul)\n",
    "                pos = cumul\n",
    "                if old_pos != pos:\n",
    "                    print(old_pos, pos, cigar)\n",
    "                    print(mutation['REF'], mutation['ALT'], seq[pos], seq[max(pos-2, 0):min(pos+3, len(seq))])\n",
    "\n",
    "                '''\n",
    "                if 'D' in cigar_states or 'I' in cigar_states: # if one or more indel(s) in the read\n",
    "                    if 'S' in cigar_states: # remove soft clipped bases\n",
    "                        Spos = [i for i, x in enumerate(cigar_states) if x == \"S\"] \n",
    "                        cigar_pos = [i for j, i in enumerate(cigar_pos) if j not in Spos]\n",
    "                        cigar_states = [i for j, i in enumerate(cigar_states) if j not in Spos]\n",
    "                    Dpos = [i for i, x in enumerate(cigar_states) if x == \"D\"] # deletions' positions\n",
    "                    for dpos in Dpos:\n",
    "                        if sum(list(map(int, cigar_pos[:dpos]))) < pos: # if deletion is located before (on the right side of) the SNV\n",
    "                            pos = pos - int(cigar_pos[dpos])\n",
    "                    Ipos = [i for i, x in enumerate(cigar_states) if x == \"I\"] # insertions' positions\n",
    "                    for ipos in Ipos:\n",
    "                        if sum(list(map(int, cigar_pos[:ipos]))) < pos: # if deletion is located before (on the right side of) the SNV\n",
    "                            pos = pos - int(cigar_pos[dpos])\n",
    "                '''\n",
    "            #print(len(seq), pos)\n",
    "            #print(cigar)\n",
    "            genotype[seq[pos]] = genotype[seq[pos]]+1\n",
    "            if ',' in mutation['ALT']:\n",
    "                for muts in mutation['ALT'].split(','):\n",
    "                    if (seq[pos] == muts):\n",
    "                        c += 1\n",
    "                        reads2remove.append(read.query_name)\n",
    "            else: \n",
    "                if (seq[pos] == mutation['ALT']):\n",
    "                    c += 1\n",
    "                    reads2remove.append(read.query_name)\n",
    "        elif (mutation['type'] == 'DIV'): # deletion or insertion\n",
    "            ######## INSERTION ##########\n",
    "            if len(mutation['ALT']) - len(mutation['REF']) > 0: # insertion\n",
    "                # cond1 = nucleotide sequence comparison\n",
    "                cond1 = False\n",
    "                if ',' in mutation['ALT']:\n",
    "                    for muts in mutation['ALT'].split(','):\n",
    "                        if (seq[pos-1:pos-1+len(muts)] != muts):\n",
    "                            cond1 = True\n",
    "                else:\n",
    "                    cond1 = (seq[pos-1:  pos-1+len(mutation['ALT'])] == mutation['ALT'])\n",
    "                if cond1: \n",
    "                    # cond2 = cigar string indicates an insertion at this position\n",
    "                    cigar = read.cigarstring\n",
    "                    if cigar is None:\n",
    "                        p += 1\n",
    "                    else:\n",
    "                        cigar_pos = re.split('M|I|D|N|S|H|P|=|X',cigar)[:-1]\n",
    "                        cigar_states = re.split('[0-9]+',cigar)[1:]\n",
    "                        cond2 = False\n",
    "                        if 'I' in cigar_states:\n",
    "                            cumul = 0\n",
    "                            indel_pos = None\n",
    "                            for i, cp in enumerate(cigar_pos):\n",
    "                                if (cigar_states[i] != 'S') and (cumul <= pos):\n",
    "                                    cumul += -int(cp) if cigar_states[i] == 'D' else int(cp)\n",
    "                                    indel_pos = i\n",
    "                            if cigar_states[indel_pos] == 'I':\n",
    "                                cond2 = True\n",
    "                        if cond1 and cond2:\n",
    "                            c += 1\n",
    "                            reads2remove.append(read.query_name)\n",
    "            ######## DELETION ##########\n",
    "            elif len(mutation['ALT']) - len(mutation['REF']) < 0: # deletion\n",
    "                # cond1 = nucleotide sequence comparison\n",
    "                cond1 = False\n",
    "                if ',' in mutation['ALT']:\n",
    "                    for muts in mutation['ALT'].split(','):\n",
    "                        if (seq[pos-1:pos-1+len(muts)] != muts):\n",
    "                            cond1 = True\n",
    "                else:\n",
    "                    cond1 = (seq[pos-1:  pos-1+len(mutation['REF'])] != mutation['REF'])\n",
    "                if cond1:\n",
    "                    cigar = read.cigarstring\n",
    "                    if cigar is None:\n",
    "                        p += 1\n",
    "                    else:\n",
    "                        # cond2 = cigar string indicates a deletion at this position\n",
    "                        cigar_pos = re.split('M|I|D|N|S|H|P|=|X',cigar)[:-1]\n",
    "                        cigar_states = re.split('[0-9]+',cigar)[1:]\n",
    "                        cond2 = False\n",
    "                        if 'D' in cigar_states:\n",
    "                            cumul = 0\n",
    "                            indel_pos = None\n",
    "                            for i, cp in enumerate(cigar_pos):\n",
    "                                if (cigar_pos[i] != 'S') and (cumul <= pos):\n",
    "                                    cumul += -int(cp) if cigar_states[i] == 'D' else int(cp)\n",
    "                                    indel_pos = i\n",
    "                            if cigar_states[indel_pos] == 'D':\n",
    "                                cond2 = True\n",
    "                        if cond1 and cond2:\n",
    "                            c += 1\n",
    "                            reads2remove.append(read.query_name)\n",
    "    if mutation['type'] == 'SNV':\n",
    "            print(mutation['type'], 'ref=', mutation['REF'], 'alt=', mutation['ALT'])\n",
    "            print(genotype)\n",
    "    #print(t, c, p, mutation['type'], mutation['ALT'], mutation['REF'])\n",
    "    log_dict[\"position\"].append(mutation['POS'])\n",
    "    log_dict[\"type\"].append(mutation['type'])\n",
    "    log_dict[\"total_reads\"].append(t)\n",
    "    log_dict[\"supporting_reads\"].append(c)\n",
    "    log_dict[\"problematic_reads\"].append(p)\n",
    "\n",
    "samfile.close()"
   ]
  },
  {
   "cell_type": "code",
   "execution_count": null,
   "metadata": {},
   "outputs": [],
   "source": [
    "def read_vcf(path):\n",
    "        with open(path, 'r') as f:\n",
    "            lines = [l for l in f if not l.startswith('##')]\n",
    "        res = pd.read_csv(io.StringIO(''.join(lines[:])),\n",
    "            dtype={'#CHROM': str, 'POS': int, 'ID': str, 'REF': str, 'ALT': str,\n",
    "                   'QUAL': str, 'FILTER': str, 'INFO': str}, sep='\\t')\n",
    "        return res\n",
    "\n",
    "foo_vaf = lambda x: pd.Series(x.split(';AF=')[1].split(';')[0])\n",
    "\n",
    "# Read SNPs detected in cancer patient\n",
    "\n",
    "patient_snps = read_vcf('../data/2015-07-31_NCC_CRC-809_110914-CW/NCC_CRC-809_110914-CW-gatk-haplotype-annotated.vcf')\n",
    "print(patient_snps.shape)\n",
    "patient_snps = patient_snps[patient_snps['#CHROM'] == '22']\n",
    "print(patient_snps.shape)\n",
    "patient_snps.head()\n",
    "\n",
    "patient_snps['VAF'] = patient_snps['INFO'].apply(foo_vaf)\n",
    "patient_snps = patient_snps[['#CHROM', 'POS', 'ID', 'REF', 'ALT', 'VAF']]\n",
    "patient_snps\n",
    "\n",
    "# print types of VAF\n",
    "# heterozygote (=0.5), homozygote (1), double hetoerozygotes (0.5,0.5)\n",
    "patient_snps['VAF'].value_counts()"
   ]
  },
  {
   "cell_type": "code",
   "execution_count": null,
   "metadata": {},
   "outputs": [],
   "source": [
    " "
   ]
  },
  {
   "cell_type": "code",
   "execution_count": null,
   "metadata": {},
   "outputs": [],
   "source": [
    "log_pd = pd.DataFrame.from_dict(log_dict)\n",
    "log_pd"
   ]
  },
  {
   "cell_type": "code",
   "execution_count": null,
   "metadata": {},
   "outputs": [],
   "source": [
    "log_pd[log_pd['total_reads'] > 0].shape[0]/log_pd.shape[0]"
   ]
  },
  {
   "cell_type": "code",
   "execution_count": null,
   "metadata": {},
   "outputs": [],
   "source": [
    "100*log_pd[(log_pd['supporting_reads'] == 0) & (log_pd['total_reads'] > 0)].shape[0]/log_pd[log_pd['total_reads'] > 0].shape[0]"
   ]
  },
  {
   "cell_type": "code",
   "execution_count": null,
   "metadata": {},
   "outputs": [],
   "source": [
    "print(vcf_pd.shape)"
   ]
  },
  {
   "cell_type": "code",
   "execution_count": null,
   "metadata": {},
   "outputs": [],
   "source": [
    "a = 'GCAGCCACTCAGGATGTTGGAACCTGGCCATCCCTGCTTCTTTCAGTGGGTGAGGTTGGTGGCTGCTCCACCTGTTCCAGGCACACCCTTAACAGAGGTGGCTGCTTGCTCTTTAAGCCAGCTTGGCCTTGCCTGGCATGCACAGGCCCCG'\n",
    "b = 'GCAGCCACTCAGGATGTTGGAACCTGGCCATCCCTGCTTCTTTCAGTGGGTGAGGTTGGTGGCTGCTCCACCTGTTCCAGGCACACCCTTAACAGAGGTGGCTGCTTGCTCTTTAAGCCAGCTTGGCCTTGCCTGGCATGCACAGGCCCCG'\n",
    "\n",
    "a == b"
   ]
  }
 ],
 "metadata": {
  "kernelspec": {
   "display_name": "Python 3",
   "language": "python",
   "name": "python3"
  },
  "language_info": {
   "codemirror_mode": {
    "name": "ipython",
    "version": 3
   },
   "file_extension": ".py",
   "mimetype": "text/x-python",
   "name": "python",
   "nbconvert_exporter": "python",
   "pygments_lexer": "ipython3",
   "version": "3.7.7"
  }
 },
 "nbformat": 4,
 "nbformat_minor": 2
}
