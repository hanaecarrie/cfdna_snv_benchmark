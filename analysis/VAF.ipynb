{
 "cells": [
  {
   "cell_type": "code",
   "execution_count": null,
   "metadata": {},
   "outputs": [],
   "source": [
    "import os\n",
    "import numpy as np\n",
    "import pandas as pd\n",
    "import matplotlib.pyplot as plt\n",
    "import seaborn as sns\n",
    "import pysam\n",
    "from collections import Counter\n",
    "from matplotlib import cm\n",
    "from matplotlib.colors import ListedColormap\n",
    "\n",
    "import io\n",
    "from pysam import VariantFile\n",
    "\n",
    "from sklearn.metrics import precision_score, recall_score, average_precision_score, precision_recall_curve"
   ]
  },
  {
   "cell_type": "code",
   "execution_count": null,
   "metadata": {},
   "outputs": [],
   "source": [
    "tab20 = cm.get_cmap('tab10', 8)\n",
    "newcmap_list = []\n",
    "for i in range(4):\n",
    "    newcmap_list.append(tab20.colors[i])\n",
    "for i in range(4):\n",
    "    newcmap_list.append(np.array(list(tab20.colors[i][:-1]) +[0.3]))\n",
    "\n",
    "newcmap = ListedColormap(newcmap_list, name='newcmap')\n",
    "color_list = ['tab:blue', 'tab:orange', 'tab:green', 'tab:red', 'tab:purple']"
   ]
  },
  {
   "cell_type": "markdown",
   "metadata": {},
   "source": [
    "# Dilution effect on 809_110914 VAF distribution\n",
    "\n",
    "## Load data"
   ]
  },
  {
   "cell_type": "code",
   "execution_count": null,
   "metadata": {},
   "outputs": [],
   "source": [
    "# vcf vaf files\n",
    "vcf_pd_0 = pd.read_csv(\"../data/2015-07-31_CRC-809_110914-filter-1-0/CRC-809_110914-filter-1-0-ensemble-annotated_outputvaf.vcf.frq\", sep='\\t')\n",
    "vcf_pd_0 = vcf_pd_0.reset_index()\n",
    "vcf_pd_0.columns = ['CHROM', 'POS', 'N_ALLELES', 'N_CHR', 'ALLELE1_FREQ', 'ALLELE2_FREQ']\n",
    "vcf_pd_0[['main allele','freq main allele']] =  pd.DataFrame(vcf_pd_0.ALLELE1_FREQ.str.split(':',1).tolist(), columns = ['main allele','freq main allele'])\n",
    "vcf_pd_0['freq main allele'] = vcf_pd_0['freq main allele'].astype(float)\n",
    "\n",
    "vcf_pd_1 = pd.read_csv(\"../data/2015-07-31_CRC-809_110914-filter-05-05/CRC-809_110914-filter-05-05-ensemble-annotated_outputvaf.vcf.frq\", sep='\\t')\n",
    "vcf_pd_1 = vcf_pd_1.reset_index()\n",
    "vcf_pd_1.columns = ['CHROM', 'POS', 'N_ALLELES', 'N_CHR', 'ALLELE1_FREQ', 'ALLELE2_FREQ']\n",
    "vcf_pd_1[['main allele','freq main allele']] =  pd.DataFrame(vcf_pd_1.ALLELE1_FREQ.str.split(':',1).tolist(), columns = ['main allele','freq main allele'])\n",
    "vcf_pd_1['freq main allele'] = vcf_pd_1['freq main allele'].astype(float)\n",
    "\n",
    "vcf_pd_2 = pd.read_csv(\"../data/2015-07-31_CRC-809_110914-filter-005-095/CRC-809_110914-filter-005-095-ensemble-annotated_outputvaf.vcf.frq\", sep='\\t')\n",
    "vcf_pd_2 = vcf_pd_2.reset_index()\n",
    "vcf_pd_2.columns = ['CHROM', 'POS', 'N_ALLELES', 'N_CHR', 'ALLELE1_FREQ', 'ALLELE2_FREQ']\n",
    "vcf_pd_2[['main allele','freq main allele']] =  pd.DataFrame(vcf_pd_2.ALLELE1_FREQ.str.split(':',1).tolist(), columns = ['main allele','freq main allele'])\n",
    "vcf_pd_2['freq main allele'] = vcf_pd_2['freq main allele'].astype(float)\n",
    "\n",
    "vcf_pd_3 = pd.read_csv(\"../data/2015-07-31_CRC-809_110914-filter-001-099/CRC-809_110914-filter-001-099-ensemble-annotated_outputvaf.vcf.frq\", sep='\\t')\n",
    "vcf_pd_3 = vcf_pd_3.reset_index()\n",
    "vcf_pd_3.columns = ['CHROM', 'POS', 'N_ALLELES', 'N_CHR', 'ALLELE1_FREQ', 'ALLELE2_FREQ']\n",
    "vcf_pd_3[['main allele','freq main allele']] =  pd.DataFrame(vcf_pd_3.ALLELE1_FREQ.str.split(':',1).tolist(), columns = ['main allele','freq main allele'])\n",
    "vcf_pd_3['freq main allele'] = vcf_pd_3['freq main allele'].astype(float)\n",
    "\n",
    "# tumor fraction estimation\n",
    "samples_tf = {\n",
    "    'sample_0': 0.47,\n",
    "    'sample_1': float(list(pd.read_csv(\"../data/2015-07-31_CRC-809_110914-filter-05-05/estimated_tf.txt\").columns)[0]),\n",
    "    'sample_2': float(list(pd.read_csv(\"../data/2015-07-31_CRC-809_110914-filter-005-095/estimated_tf.txt\").columns)[0]),\n",
    "    'sample_3': float(list(pd.read_csv(\"../data/2015-07-31_CRC-809_110914-filter-001-099/estimated_tf.txt\").columns)[0]),\n",
    "}\n",
    "\n",
    "print(samples_tf)"
   ]
  },
  {
   "cell_type": "markdown",
   "metadata": {},
   "source": [
    "## Plot VAF"
   ]
  },
  {
   "cell_type": "code",
   "execution_count": null,
   "metadata": {},
   "outputs": [],
   "source": [
    "for i, vcf_pd in enumerate([vcf_pd_0, vcf_pd_1, vcf_pd_2, vcf_pd_3]):\n",
    "    plt.figure()\n",
    "    plt.hist(vcf_pd['freq main allele'])\n",
    "    plt.title('sample_'+str(i)+', tf={0:.3f}%'.format(100*samples_tf['sample_'+str(i)]))"
   ]
  },
  {
   "cell_type": "markdown",
   "metadata": {},
   "source": [
    "- Benchmarking results for germline SNVs\n",
    "- Benchmarking results for somatic SNVs on exome data.\n",
    "- averaged over the four replicates"
   ]
  },
  {
   "cell_type": "markdown",
   "metadata": {},
   "source": [
    "- add fake mutations on healthy mixtures"
   ]
  }
 ],
 "metadata": {
  "kernelspec": {
   "display_name": "Python 3",
   "language": "python",
   "name": "python3"
  },
  "language_info": {
   "codemirror_mode": {
    "name": "ipython",
    "version": 3
   },
   "file_extension": ".py",
   "mimetype": "text/x-python",
   "name": "python",
   "nbconvert_exporter": "python",
   "pygments_lexer": "ipython3",
   "version": "3.7.7"
  }
 },
 "nbformat": 4,
 "nbformat_minor": 2
}
