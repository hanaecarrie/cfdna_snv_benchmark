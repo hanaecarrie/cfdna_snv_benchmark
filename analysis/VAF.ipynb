{
 "cells": [
  {
   "cell_type": "code",
   "execution_count": null,
   "metadata": {},
   "outputs": [],
   "source": [
    "import os\n",
    "import numpy as np\n",
    "import pandas as pd\n",
    "import matplotlib.pyplot as plt\n",
    "import seaborn as sns\n",
    "import pysam\n",
    "from collections import Counter\n",
    "from matplotlib import cm\n",
    "from matplotlib.colors import ListedColormap\n",
    "\n",
    "import io\n",
    "from pysam import VariantFile\n",
    "\n",
    "from sklearn.metrics import precision_score, recall_score, average_precision_score, precision_recall_curve"
   ]
  },
  {
   "cell_type": "code",
   "execution_count": null,
   "metadata": {},
   "outputs": [],
   "source": [
    "tab20 = cm.get_cmap('tab10', 8)\n",
    "newcmap_list = []\n",
    "for i in range(4):\n",
    "    newcmap_list.append(tab20.colors[i])\n",
    "for i in range(4):\n",
    "    newcmap_list.append(np.array(list(tab20.colors[i][:-1]) +[0.3]))\n",
    "\n",
    "newcmap = ListedColormap(newcmap_list, name='newcmap')\n",
    "color_list = ['tab:blue', 'tab:orange', 'tab:green', 'tab:red', 'tab:purple']"
   ]
  },
  {
   "cell_type": "markdown",
   "metadata": {},
   "source": [
    "# Select plasma sample"
   ]
  },
  {
   "cell_type": "code",
   "execution_count": null,
   "metadata": {},
   "outputs": [],
   "source": [
    "sample = '809'\n",
    "#sample = '986'\n",
    "\n",
    "if sample == '809':\n",
    "    plasmasample1 = '809_110914'\n",
    "    plasmasample2 = '809_030915'\n",
    "    tumorsample1 = '809_290714-T1W'\n",
    "elif sample == '986':\n",
    "    plasmasample1 = '986_100215'\n",
    "    plasmasample2 = '986_261016'\n",
    "    tumorsample1 = '986_100215-T1W'"
   ]
  },
  {
   "cell_type": "markdown",
   "metadata": {},
   "source": [
    "# Load SNV calls for plasma sample and matching mixed samples"
   ]
  },
  {
   "cell_type": "code",
   "execution_count": null,
   "metadata": {},
   "outputs": [],
   "source": [
    "vcf_pd_0 = pd.read_csv(\"../data/2015-07-31_CRC-\"+plasmasample1+\"-filter-1-0/CRC-\"+plasmasample1+\"-filter-1-0-ensemble-annotated_outputvaf.vcf.frq\", sep='\\t')\n",
    "vcf_pd_1 = pd.read_csv(\"../data/2015-07-31_CRC-\"+plasmasample1+\"-filter-1-05/CRC-\"+plasmasample1+\"-filter-1-05-ensemble-annotated_outputvaf.vcf.frq\", sep='\\t')\n",
    "#vcf_pd_2 = pd.read_csv(\"../data/2015-07-31_CRC-\"+plasmasample1+\"-filter-1-1/CRC-\"+plasmasample1+\"-filter-1-1-ensemble-annotated_outputvaf.vcf.frq\", sep='\\t')\n",
    "\n",
    "vcf_pd_0 = vcf_pd_0.reset_index()\n",
    "vcf_pd_0.columns = ['CHROM', 'POS', 'N_ALLELES', 'N_CHR', 'ALLELE1_FREQ', 'ALLELE2_FREQ']\n",
    "vcf_pd_0['CHROM_POS'] = vcf_pd_0['CHROM'].astype('str').str.cat(vcf_pd_0['POS'].astype('str'),sep=\"_\")\n",
    "vcf_pd_0[['main allele','freq main allele']] =  pd.DataFrame(vcf_pd_0.ALLELE1_FREQ.str.split(':',1).tolist(), columns = ['main allele','freq main allele'])\n",
    "vcf_pd_0['freq main allele'] = vcf_pd_0['freq main allele'].astype(float)\n",
    "vcf_pd_0['freq second allele'] = 1- vcf_pd_0['freq main allele'].astype(float)\n",
    "\n",
    "\n",
    "vcf_pd_1 = vcf_pd_1.reset_index()\n",
    "vcf_pd_1.columns = ['CHROM', 'POS', 'N_ALLELES', 'N_CHR', 'ALLELE1_FREQ', 'ALLELE2_FREQ']\n",
    "vcf_pd_1['CHROM_POS'] = vcf_pd_1['CHROM'].astype('str').str.cat(vcf_pd_1['POS'].astype('str'),sep=\"_\")\n",
    "vcf_pd_1[['main allele','freq main allele']] =  pd.DataFrame(vcf_pd_1.ALLELE1_FREQ.str.split(':',1).tolist(), columns = ['main allele','freq main allele'])\n",
    "vcf_pd_1['freq main allele'] = vcf_pd_1['freq main allele'].astype(float)\n",
    "vcf_pd_1['freq second allele'] = 1- vcf_pd_1['freq main allele'].astype(float)\n",
    "\n",
    "\n",
    "#vcf_pd_2 = vcf_pd_2.reset_index()\n",
    "#vcf_pd_2.columns = ['CHROM', 'POS', 'N_ALLELES', 'N_CHR', 'ALLELE1_FREQ', 'ALLELE2_FREQ']\n",
    "#vcf_pd_2[['main allele','freq main allele']] =  pd.DataFrame(vcf_pd_2.ALLELE1_FREQ.str.split(':',1).tolist(), columns = ['main allele','freq main allele'])\n",
    "#vcf_pd_2['freq main allele'] = vcf_pd_2['freq main allele'].astype(float)\n",
    "\n",
    "#vcf_pd_3 = vcf_pd_3.reset_index()\n",
    "#vcf_pd_3.columns = ['CHROM', 'POS', 'N_ALLELES', 'N_CHR', 'ALLELE1_FREQ', 'ALLELE2_FREQ']\n",
    "#vcf_pd_3[['main allele','freq main allele']] =  pd.DataFrame(vcf_pd_3.ALLELE1_FREQ.str.split(':',1).tolist(), columns = ['main allele','freq main allele'])\n",
    "#vcf_pd_3['freq main allele'] = vcf_pd_3['freq main allele'].astype(float)"
   ]
  },
  {
   "cell_type": "code",
   "execution_count": null,
   "metadata": {},
   "outputs": [],
   "source": [
    "vcf_pd_0"
   ]
  },
  {
   "cell_type": "code",
   "execution_count": null,
   "metadata": {},
   "outputs": [],
   "source": [
    "# tumor fraction estimation\n",
    "samples_tf = {\n",
    "    'sample_0': 0.47,\n",
    "    'sample_1': float(list(pd.read_csv(\"../data/2015-07-31_CRC-809_110914-filter-05-05/estimated_tf.txt\").columns)[0]),\n",
    "    #'sample_2': float(list(pd.read_csv(\"../data/2015-07-31_CRC-809_110914-filter-005-095/estimated_tf.txt\").columns)[0]),\n",
    "    #'sample_3': float(list(pd.read_csv(\"../data/2015-07-31_CRC-809_110914-filter-001-099/estimated_tf.txt\").columns)[0]),\n",
    "}\n",
    "\n",
    "print(samples_tf)"
   ]
  },
  {
   "cell_type": "markdown",
   "metadata": {},
   "source": [
    "# Plot VAF distribution"
   ]
  },
  {
   "cell_type": "code",
   "execution_count": null,
   "metadata": {},
   "outputs": [],
   "source": [
    "for i, vcf_pd in enumerate([vcf_pd_0, vcf_pd_1]): #, vcf_pd_2, vcf_pd_3]):\n",
    "    plt.figure()\n",
    "    plt.hist(vcf_pd['freq main allele'])\n",
    "    plt.title('sample_'+str(i)+', tf={0:.3f}%'.format(100*samples_tf['sample_'+str(i)]))"
   ]
  },
  {
   "cell_type": "code",
   "execution_count": null,
   "metadata": {},
   "outputs": [],
   "source": [
    "plt.figure(figsize=(15,5))\n",
    "plt.plot(vcf_pd_0['POS'], 1- vcf_pd_0['freq main allele'], '.')\n",
    "plt.plot(vcf_pd_1['POS'], 1- vcf_pd_1['freq main allele'], '.')"
   ]
  },
  {
   "cell_type": "code",
   "execution_count": null,
   "metadata": {},
   "outputs": [],
   "source": [
    "vcf_sharedpos_df = pd.concat([vcf_pd_0, vcf_pd_1], axis=1, join=\"inner\")\n",
    "print(vcf_sharedpos_df.shape)\n",
    "vcf_sharedpos_df = vcf_sharedpos_df[['CHROM_POS', 'freq second allele']]\n",
    "vcf_sharedpos_df.columns = ['CHROM_POS', 'CHROM_POS_bis', 'sample0 freq second allele', 'sample1 freq second allele']\n",
    "vcf_sharedpos_df.drop('CHROM_POS_bis', axis=1, inplace=True)\n",
    "vcf_sharedpos_df.set_index('CHROM_POS', inplace=True)\n",
    "vcf_sharedpos_df.columns = list(samples_tf.values())\n",
    "a = vcf_sharedpos_df.shape[0]\n",
    "b = vcf_sharedpos_df[vcf_sharedpos_df[list(samples_tf.values())[0]] != vcf_sharedpos_df[list(samples_tf.values())[1]]].shape[0]\n",
    "print(a, b, 100*b/a)\n",
    "vcf_sharedpos_diff_df = vcf_sharedpos_df[vcf_sharedpos_df[list(samples_tf.values())[0]] != vcf_sharedpos_df[list(samples_tf.values())[1]]].T\n",
    "vcf_sharedpos_diff_df.index.name='tumor burden'\n",
    "vcf_sharedpos_diff_df.reset_index(inplace=True)\n",
    "#print(vcf_sharedpos_diff_df.head())\n",
    "vcf_sharedpos_diff_df = pd.melt(vcf_sharedpos_diff_df, id_vars =['tumor burden'], value_vars =vcf_sharedpos_diff_df.columns[1:],\n",
    "                    var_name='CHROM_POS', value_name='VAF')\n",
    "print(vcf_sharedpos_diff_df.head())\n",
    "sns.catplot(x=\"tumor burden\", y=\"VAF\", hue=\"CHROM_POS\",\n",
    "            data=vcf_sharedpos_diff_df, order=sorted(list(samples_tf.values()), reverse=True), kind=\"point\")\n",
    "\n",
    "vcf_sharedpos_diff_df.head(10)"
   ]
  },
  {
   "cell_type": "markdown",
   "metadata": {},
   "source": [
    "- Benchmarking results for germline SNVs\n",
    "- Benchmarking results for somatic SNVs on exome data.\n",
    "- averaged over the four replicates"
   ]
  },
  {
   "cell_type": "markdown",
   "metadata": {},
   "source": [
    "- add fake mutations on healthy mixtures"
   ]
  }
 ],
 "metadata": {
  "kernelspec": {
   "display_name": "Python 3",
   "language": "python",
   "name": "python3"
  },
  "language_info": {
   "codemirror_mode": {
    "name": "ipython",
    "version": 3
   },
   "file_extension": ".py",
   "mimetype": "text/x-python",
   "name": "python",
   "nbconvert_exporter": "python",
   "pygments_lexer": "ipython3",
   "version": "3.7.7"
  }
 },
 "nbformat": 4,
 "nbformat_minor": 2
}
