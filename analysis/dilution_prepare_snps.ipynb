{
 "cells": [
  {
   "cell_type": "code",
   "execution_count": null,
   "metadata": {},
   "outputs": [],
   "source": [
    "import os\n",
    "import io\n",
    "import re\n",
    "import numpy as np\n",
    "import pandas as pd\n",
    "import pysam\n",
    "import matplotlib.pyplot as plt\n",
    "import seaborn as sns\n",
    "from pysam import FastaFile\n",
    "from tqdm.notebook import tqdm \n",
    "from IPython.core.debugger import set_trace\n",
    "\n",
    "from supporting_reads import list_reads_to_remove, prepare_bamsurgeon_inputs"
   ]
  },
  {
   "cell_type": "code",
   "execution_count": null,
   "metadata": {},
   "outputs": [],
   "source": [
    "def read_vcf(path):\n",
    "        with open(path, 'r') as f:\n",
    "            lines = [l for l in f if not l.startswith('##')]\n",
    "        res = None\n",
    "        for bi in tqdm(range(int(np.ceil(len(lines)/1000)))):\n",
    "            res_batch = pd.read_csv(io.StringIO(''.join([lines[0]] + lines[bi*1000 + 1:(bi+1)*1000 + 1])),\n",
    "                dtype={'#CHROM': str, 'POS': int, 'ID': str, 'REF': str, 'ALT': str,\n",
    "                       'QUAL': str, 'FILTER': str, 'INFO': str}, sep='\\t')\n",
    "            if res is None:\n",
    "                if not res_batch[res_batch['#CHROM'] == '22'].empty:\n",
    "                    res = res_batch[res_batch['#CHROM'] == '22']\n",
    "            else:\n",
    "                if not res_batch[res_batch['#CHROM'] == '22'].empty:\n",
    "                    res = pd.concat([res, res_batch[res_batch['#CHROM'] == '22']])\n",
    "        return res\n",
    "\n",
    "foo_type = lambda x: pd.Series(x.split(';VC=')[1].split(';')[0])"
   ]
  },
  {
   "cell_type": "markdown",
   "metadata": {},
   "source": [
    "# Read SNP databases\n",
    "\n",
    "## dbSNP\n",
    "\n",
    "common variants : ftp://ftp.ncbi.nih.gov/snp/organisms/human_9606_b151_GRCh37p13/VCF/00-common_all.vcf\n",
    "\n",
    "nb_lines = 500718"
   ]
  },
  {
   "cell_type": "code",
   "execution_count": null,
   "metadata": {},
   "outputs": [],
   "source": [
    "# dbsnp_df = read_vcf('../data/common_SNPs/00-common_all.vcf')\n",
    "# print(dbsnp_df.shape)\n",
    "# dbsnp_df.to_csv('../data/common_SNPs/dbsnp_df.csv', index=False)\n",
    "# dbsnp_df.head()"
   ]
  },
  {
   "cell_type": "code",
   "execution_count": null,
   "metadata": {},
   "outputs": [],
   "source": [
    "dbsnp_df = pd.read_csv('../data/common_SNPs/dbsnp_df.csv')\n",
    "print(dbsnp_df.shape)\n",
    "dbsnp_df.head()"
   ]
  },
  {
   "cell_type": "markdown",
   "metadata": {},
   "source": [
    "## genomAD database"
   ]
  },
  {
   "cell_type": "code",
   "execution_count": null,
   "metadata": {},
   "outputs": [],
   "source": [
    "#genomad_df = read_vcf('../data/common_SNPs/gnomad.genomes.r2.1.1.sites.22.vcf')\n",
    "#print(genomad_df.shape)\n",
    "#genomad_df.head()"
   ]
  },
  {
   "cell_type": "code",
   "execution_count": null,
   "metadata": {},
   "outputs": [],
   "source": [
    "#genomad_df.to_csv('../data/common_SNPs/genomad_df.csv')"
   ]
  },
  {
   "cell_type": "code",
   "execution_count": null,
   "metadata": {},
   "outputs": [],
   "source": [
    "#genomad_df_new = pd.read_csv('../data/common_SNPs/genomad_df.csv', memory_map=True)\n",
    "#genomad_df_new.head()"
   ]
  },
  {
   "cell_type": "markdown",
   "metadata": {},
   "source": [
    "# Read patient SNPs"
   ]
  },
  {
   "cell_type": "code",
   "execution_count": null,
   "metadata": {},
   "outputs": [],
   "source": [
    "def read_vcf(path):\n",
    "        with open(path, 'r') as f:\n",
    "            lines = [l for l in f if not l.startswith('##')]\n",
    "        res = pd.read_csv(io.StringIO(''.join(lines[:])),\n",
    "            dtype={'#CHROM': str, 'POS': int, 'ID': str, 'REF': str, 'ALT': str,\n",
    "                   'QUAL': str, 'FILTER': str, 'INFO': str}, sep='\\t')\n",
    "        return res\n",
    "\n",
    "foo_vaf = lambda x: pd.Series(x.split(';AF=')[1].split(';')[0])\n",
    "\n",
    "# Read SNPs detected in cancer patient\n",
    "\n",
    "patient_snps = read_vcf('../data/2015-07-31_NCC_CRC-809_110914-CW/NCC_CRC-809_110914-CW-gatk-haplotype-annotated.vcf')\n",
    "print(patient_snps.shape)\n",
    "patient_snps = patient_snps[patient_snps['#CHROM'] == '22']\n",
    "print(patient_snps.shape)\n",
    "patient_snps.head()\n",
    "\n",
    "patient_snps['VAF'] = patient_snps['INFO'].apply(foo_vaf)\n",
    "patient_snps = patient_snps[['#CHROM', 'POS', 'ID', 'REF', 'ALT', 'VAF']]\n",
    "\n",
    "patient_snps.to_csv('../data/patient_SNPs/patient_809_snps.csv', index=False)\n",
    "# print types of VAF\n",
    "# heterozygote (=0.5), homozygote (1), double hetoerozygotes (0.5,0.5)\n",
    "patient_snps['VAF'].value_counts()"
   ]
  },
  {
   "cell_type": "code",
   "execution_count": null,
   "metadata": {},
   "outputs": [],
   "source": [
    "patient_snps = pd.read_csv('../data/patient_SNPs/patient_809_snps.csv')"
   ]
  },
  {
   "cell_type": "markdown",
   "metadata": {},
   "source": [
    "# Find reads to remove in pooled healthy sample\n",
    "\n",
    "removing rare reads supporting known SNPs that are not found in the cancer patients"
   ]
  },
  {
   "cell_type": "markdown",
   "metadata": {},
   "source": [
    "Important notes:\n",
    "1. Indexing\n",
    "    - SAM is a 1-index based file\n",
    "    - VCF is a 1-index based file\n",
    "    - pysam is a 0-index based tool\n",
    "\n",
    "2. Paired-End sequencing\n",
    "    - BAM/SAM are storing the resverse complementary of reversed reads as sequence\n",
    "\n",
    "3. Mapping issues\n",
    "    - some reads are not mapped -> no CIGAR string + no read.reference_end"
   ]
  },
  {
   "cell_type": "code",
   "execution_count": null,
   "metadata": {},
   "outputs": [],
   "source": [
    "reads2remove, log_pd = list_reads_to_remove(\n",
    "    \"../data/healthy_chr22_merged-ready.bam\", dbsnp_df.iloc[3000:4000],\n",
    "    patient_snps, verbose = -1)"
   ]
  },
  {
   "cell_type": "code",
   "execution_count": null,
   "metadata": {},
   "outputs": [],
   "source": [
    "100*log_pd[log_pd['vaf'] > 0.1].size/log_pd.size"
   ]
  },
  {
   "cell_type": "code",
   "execution_count": null,
   "metadata": {},
   "outputs": [],
   "source": [
    "plt.figure(figsize=(10,5))\n",
    "plt.title('SNV')\n",
    "sns.histplot(data=log_pd[log_pd['type'] == 'SNV'][['vaf', 'normal af', 'noisy af']],\n",
    "             bins=100,  stat=\"probability\")\n",
    "plt.figure(figsize=(10,5))\n",
    "plt.title('DEL')\n",
    "sns.histplot(data=log_pd[log_pd['type'] == 'DEL'][['vaf', 'normal af', 'noisy af']],\n",
    "             bins=100,  stat=\"probability\")\n",
    "plt.figure(figsize=(10,5))\n",
    "plt.title('INS')\n",
    "sns.histplot(data=log_pd[log_pd['type'] == 'INS'][['vaf', 'normal af', 'noisy af']],\n",
    "             bins=100,  stat=\"probability\")\n",
    "log_pd.head()"
   ]
  },
  {
   "cell_type": "markdown",
   "metadata": {},
   "source": [
    "# Patient's SNPs detected with GATK Haplotype"
   ]
  },
  {
   "cell_type": "code",
   "execution_count": null,
   "metadata": {},
   "outputs": [],
   "source": [
    "common_set = set(list(patient_snps.ID)) & set(list(dbsnp_df.ID))\n",
    "print(100*len(common_set)/dbsnp_df.size, 100*len(common_set)/patient_snps.size, dbsnp_df.size)"
   ]
  },
  {
   "cell_type": "code",
   "execution_count": null,
   "metadata": {},
   "outputs": [],
   "source": [
    "# how many mutations are not known SNPs?\n",
    "print('% of unknown SNPs: {:2f}%'.format(100*patient_snps[patient_snps['ID'] == '.'].shape[0]/patient_snps.shape[0]))"
   ]
  },
  {
   "cell_type": "code",
   "execution_count": null,
   "metadata": {},
   "outputs": [],
   "source": [
    "bamsurgeon_snv_pd, bamsurgeon_indel_pd = prepare_bamsurgeon_inputs(patient_snps, log_pd, max_vaf=0.1)"
   ]
  },
  {
   "cell_type": "code",
   "execution_count": null,
   "metadata": {},
   "outputs": [],
   "source": [
    "bamsurgeon_snv_pd.head(20)"
   ]
  },
  {
   "cell_type": "code",
   "execution_count": null,
   "metadata": {},
   "outputs": [],
   "source": [
    "bamsurgeon_indel_pd.head(20)"
   ]
  },
  {
   "cell_type": "code",
   "execution_count": null,
   "metadata": {},
   "outputs": [],
   "source": []
  }
 ],
 "metadata": {
  "kernelspec": {
   "display_name": "Python 3",
   "language": "python",
   "name": "python3"
  },
  "language_info": {
   "codemirror_mode": {
    "name": "ipython",
    "version": 3
   },
   "file_extension": ".py",
   "mimetype": "text/x-python",
   "name": "python",
   "nbconvert_exporter": "python",
   "pygments_lexer": "ipython3",
   "version": "3.7.7"
  }
 },
 "nbformat": 4,
 "nbformat_minor": 2
}
