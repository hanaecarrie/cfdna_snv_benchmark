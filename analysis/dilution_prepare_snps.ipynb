{
 "cells": [
  {
   "cell_type": "code",
   "execution_count": null,
   "metadata": {},
   "outputs": [],
   "source": [
    "import os\n",
    "import io\n",
    "import re\n",
    "import numpy as np\n",
    "import pandas as pd\n",
    "import pysam\n",
    "import matplotlib.pyplot as plt\n",
    "import seaborn as sns\n",
    "from pysam import FastaFile\n",
    "from tqdm.notebook import tqdm \n",
    "from IPython.core.debugger import set_trace\n",
    "\n",
    "from supporting_reads import list_supporting_reads"
   ]
  },
  {
   "cell_type": "code",
   "execution_count": null,
   "metadata": {},
   "outputs": [],
   "source": [
    "def read_vcf(path):\n",
    "        with open(path, 'r') as f:\n",
    "            lines = [l for l in f if not l.startswith('##')]\n",
    "        res = None\n",
    "        for bi in tqdm(range(int(np.ceil(len(lines)/1000)))):\n",
    "            res_batch = pd.read_csv(io.StringIO(''.join([lines[0]] + lines[bi*1000 + 1:(bi+1)*1000 + 1])),\n",
    "                dtype={'#CHROM': str, 'POS': int, 'ID': str, 'REF': str, 'ALT': str,\n",
    "                       'QUAL': str, 'FILTER': str, 'INFO': str}, sep='\\t')\n",
    "            if res is None:\n",
    "                if not res_batch[res_batch['#CHROM'] == '22'].empty:\n",
    "                    res = res_batch[res_batch['#CHROM'] == '22']\n",
    "            else:\n",
    "                if not res_batch[res_batch['#CHROM'] == '22'].empty:\n",
    "                    res = pd.concat([res, res_batch[res_batch['#CHROM'] == '22']])\n",
    "        return res\n",
    "\n",
    "foo_type = lambda x: pd.Series(x.split(';VC=')[1].split(';')[0])"
   ]
  },
  {
   "cell_type": "markdown",
   "metadata": {},
   "source": [
    "# Read SNP databases\n",
    "\n",
    "## dbSNP\n",
    "\n",
    "common variants : ftp://ftp.ncbi.nih.gov/snp/organisms/human_9606_b151_GRCh37p13/VCF/00-common_all.vcf\n",
    "\n",
    "nb_lines = 500718"
   ]
  },
  {
   "cell_type": "code",
   "execution_count": null,
   "metadata": {},
   "outputs": [],
   "source": [
    "# dbsnp_df = read_vcf('../data/common_SNPs/00-common_all.vcf')\n",
    "# print(dbsnp_df.shape)\n",
    "# dbsnp_df.to_csv('../data/common_SNPs/dbsnp_df.csv', index=False)\n",
    "# dbsnp_df.head()"
   ]
  },
  {
   "cell_type": "code",
   "execution_count": null,
   "metadata": {},
   "outputs": [],
   "source": [
    "dbsnp_df = pd.read_csv('../data/common_SNPs/dbsnp_df.csv')\n",
    "print(dbsnp_df.shape)\n",
    "dbsnp_df.head()"
   ]
  },
  {
   "cell_type": "code",
   "execution_count": null,
   "metadata": {},
   "outputs": [],
   "source": [
    "# type of SNP\n",
    "dbsnp_df['type'] = dbsnp_df['INFO'].apply(foo_type)\n",
    "dbsnp_df['type'].value_counts()"
   ]
  },
  {
   "cell_type": "markdown",
   "metadata": {},
   "source": [
    "## genomAD database"
   ]
  },
  {
   "cell_type": "code",
   "execution_count": null,
   "metadata": {},
   "outputs": [],
   "source": [
    "#genomad_df = read_vcf('../data/common_SNPs/gnomad.genomes.r2.1.1.sites.22.vcf')\n",
    "#print(genomad_df.shape)\n",
    "#genomad_df.head()"
   ]
  },
  {
   "cell_type": "code",
   "execution_count": null,
   "metadata": {},
   "outputs": [],
   "source": [
    "#genomad_df.to_csv('../data/common_SNPs/genomad_df.csv')"
   ]
  },
  {
   "cell_type": "code",
   "execution_count": null,
   "metadata": {},
   "outputs": [],
   "source": [
    "#genomad_df_new = pd.read_csv('../data/common_SNPs/genomad_df.csv', memory_map=True)\n",
    "#genomad_df_new.head()"
   ]
  },
  {
   "cell_type": "markdown",
   "metadata": {},
   "source": [
    "# Import reference genome hg19.fa chr22"
   ]
  },
  {
   "cell_type": "code",
   "execution_count": null,
   "metadata": {},
   "outputs": [],
   "source": [
    "reference_genome = FastaFile('../data/reference_genome/chr22.fa')"
   ]
  },
  {
   "cell_type": "markdown",
   "metadata": {},
   "source": [
    "# Find reads supporting known SNPs in merged healthy bam"
   ]
  },
  {
   "cell_type": "markdown",
   "metadata": {},
   "source": [
    "Important notes:\n",
    "1. Indexing\n",
    "    - SAM is a 1-index based file\n",
    "    - VCF is a 1-index based file\n",
    "    - pysam is a 0-index based tool\n",
    "\n",
    "2. Paired-End sequencing\n",
    "    - BAM/SAM are storing the resverse complementary of reversed reads as sequence\n",
    "\n",
    "3. Mapping issues\n",
    "    - some reads are not mapped -> no CIGAR string + no read.reference_end"
   ]
  },
  {
   "cell_type": "code",
   "execution_count": null,
   "metadata": {},
   "outputs": [],
   "source": [
    "reads2remove, log_pd = list_supporting_reads(\n",
    "    \"../data/healthy_chr22_merged-ready.bam\", dbsnp_df.iloc[3000:3500],\n",
    "    verbose = 0)\n"
   ]
  },
  {
   "cell_type": "code",
   "execution_count": null,
   "metadata": {},
   "outputs": [],
   "source": [
    "log_pd[log_pd['vaf'] > 0.1].size\n",
    "log_pd[log_pd['vaf'] > 0.1].size"
   ]
  },
  {
   "cell_type": "code",
   "execution_count": null,
   "metadata": {},
   "outputs": [],
   "source": [
    "plt.figure(figsize=(10,5))\n",
    "plt.title('SNV')\n",
    "sns.histplot(data=log_pd[log_pd['type'] == 'SNV'][['vaf', 'normal af', 'noisy af']],\n",
    "             bins=100,  stat=\"probability\")\n",
    "plt.figure(figsize=(10,5))\n",
    "plt.title('DEL')\n",
    "sns.histplot(data=log_pd[log_pd['type'] == 'DEL'][['vaf', 'normal af', 'noisy af']],\n",
    "             bins=100,  stat=\"probability\")\n",
    "plt.figure(figsize=(10,5))\n",
    "plt.title('INS')\n",
    "sns.histplot(data=log_pd[log_pd['type'] == 'INS'][['vaf', 'normal af', 'noisy af']],\n",
    "             bins=100,  stat=\"probability\")\n",
    "log_pd.head()"
   ]
  },
  {
   "cell_type": "markdown",
   "metadata": {},
   "source": [
    "# Patient's SNPs detected with GATK Haplotype"
   ]
  },
  {
   "cell_type": "code",
   "execution_count": null,
   "metadata": {},
   "outputs": [],
   "source": [
    "def read_vcf(path):\n",
    "        with open(path, 'r') as f:\n",
    "            lines = [l for l in f if not l.startswith('##')]\n",
    "        res = pd.read_csv(io.StringIO(''.join(lines[:])),\n",
    "            dtype={'#CHROM': str, 'POS': int, 'ID': str, 'REF': str, 'ALT': str,\n",
    "                   'QUAL': str, 'FILTER': str, 'INFO': str}, sep='\\t')\n",
    "        return res\n",
    "\n",
    "foo_vaf = lambda x: pd.Series(x.split(';AF=')[1].split(';')[0])\n",
    "\n",
    "# Read SNPs detected in cancer patient\n",
    "\n",
    "patient_snps = read_vcf('../data/2015-07-31_NCC_CRC-809_110914-CW/NCC_CRC-809_110914-CW-gatk-haplotype-annotated.vcf')\n",
    "print(patient_snps.shape)\n",
    "patient_snps = patient_snps[patient_snps['#CHROM'] == '22']\n",
    "print(patient_snps.shape)\n",
    "patient_snps.head()\n",
    "\n",
    "patient_snps['VAF'] = patient_snps['INFO'].apply(foo_vaf)\n",
    "patient_snps = patient_snps[['#CHROM', 'POS', 'ID', 'REF', 'ALT', 'VAF']]\n",
    "patient_snps\n",
    "\n",
    "# print types of VAF\n",
    "# heterozygote (=0.5), homozygote (1), double hetoerozygotes (0.5,0.5)\n",
    "patient_snps['VAF'].value_counts()"
   ]
  },
  {
   "cell_type": "code",
   "execution_count": null,
   "metadata": {},
   "outputs": [],
   "source": [
    "patient_snps.head()"
   ]
  },
  {
   "cell_type": "code",
   "execution_count": null,
   "metadata": {},
   "outputs": [],
   "source": [
    "# how many mutations are not known SNPs?\n",
    "print('% of unknown SNPs: {:2f}%'.format(100*patient_snps[patient_snps['ID'] == '.'].shape[0]/patient_snps.shape[0]))"
   ]
  },
  {
   "cell_type": "code",
   "execution_count": null,
   "metadata": {},
   "outputs": [],
   "source": [
    "samfile = pysam.AlignmentFile(\"../data/healthy_chr22_merged-ready.bam\", \"rb\")\n",
    "\n",
    "# ititiate list of reads to remove\n",
    "reads2remove = []\n",
    "log_dict = {\"position\":[],\"type\":[],\n",
    "            \"total_reads\":[], 'supporting_reads':[],\n",
    "            'normal_reads':[], 'alternative_reads':[],\n",
    "            \"problematic_reads\":[]}\n",
    "\n",
    "# iterate over positions\n",
    "for ci, mutation in tqdm(patient_snps.iterrows(), total=patient_snps.shape[0]):\n",
    "    \n",
    "    genotype = {'A': 0, 'C': 0, 'G': 0, 'T': 0, 'N': 0}\n",
    "    c = 0 # number of reads supporting the considered mutation\n",
    "    t = 0 # total number of reads at that position\n",
    "    p = 0 # number pf reads with issues\n",
    "    n = 0 # number of reads supporting the reference genome\n",
    "    a = 0 # number of reads with alternative nucleotide (not ref, not alt snp)\n",
    "    mutation_type = None\n",
    "    \n",
    "    # iterate over reads that fall into the mutation position\n",
    "    for read in samfile.fetch(str(mutation['#CHROM']), mutation['POS']-1, mutation['POS']): \n",
    "        t += 1\n",
    "        seq = read.query_alignment_sequence\n",
    "        pos = (mutation['POS']-1) - read.reference_start \n",
    "        cond, cond1, cond2 = False, False, False\n",
    "\n",
    "        ######## SNV ##########\n",
    "        if len(mutation ['ALT']) - len(mutation['REF']) == 0:\n",
    "            mutation_type = 'SNV'\n",
    "            cigar = read.cigarstring\n",
    "            if cigar is None:\n",
    "                p += 1\n",
    "            else:\n",
    "                cigar_pos = re.split('M|I|D|N|S|H|P|=|X',cigar)[:-1]\n",
    "                cigar_states = re.split('[0-9]+',cigar)[1:]\n",
    "                cumul = 0\n",
    "                old_pos = pos\n",
    "                for i, cp in enumerate(cigar_pos):\n",
    "                    if (cigar_states[i] != 'S') and (cumul <= pos):\n",
    "                        cumul += -int(cp) if cigar_states[i] == 'D' else int(cp)\n",
    "                        if cigar_states[i] == 'D':\n",
    "                            pos += -int(cp)  \n",
    "                        elif cigar_states[i] == 'I':\n",
    "                            pos += int(cp)\n",
    "            genotype[seq[pos]] = genotype[seq[pos]]+1\n",
    "            if ',' in mutation['ALT']:\n",
    "                for muts in mutation['ALT'].split(','):\n",
    "                    if (seq[pos] == muts):\n",
    "                        cond = True\n",
    "            else: \n",
    "                if (seq[pos] == mutation['ALT']):\n",
    "                    cond = True\n",
    "            if cond:\n",
    "                c += 1\n",
    "                reads2remove.append(read.query_name)\n",
    "            elif seq[pos] == mutation['REF']:\n",
    "                n += 1\n",
    "            elif cigar is not None:\n",
    "                a += 1\n",
    "\n",
    "            ######## INSERTION ##########\n",
    "            if len(mutation ['ALT']) - len(mutation['REF']) > 0:\n",
    "                mutation_type = 'INS'  # insertion\n",
    "                # cond1 = cigar string indicates a deletion at this position\n",
    "                cigar = read.cigarstring\n",
    "                if cigar is None:\n",
    "                    p += 1\n",
    "                else:\n",
    "                    cigar_pos = re.split('M|I|D|N|S|H|P|=|X',cigar)[:-1]\n",
    "                    cigar_states = re.split('[0-9]+',cigar)[1:]\n",
    "                    if 'I' in cigar_states:\n",
    "                        cigar_pos = [0 if (cigar_states[i] == 'S') else int(ci) for i, ci in enumerate(cigar_pos)]\n",
    "                        cigar_pos = [-int(ci) if (cigar_states[i] == 'D') else int(ci) for i, ci in enumerate(cigar_pos)]\n",
    "                        indexI = cigar_states.index('I')\n",
    "                        if type(indexI) == list:\n",
    "                            for idxI in indexI:\n",
    "                                print(cigar_pos[:idxI], pos)\n",
    "                                if sum(cigar_pos[:idxI]) == pos + 1:\n",
    "                                    cond1 = True\n",
    "                        else:\n",
    "                            if sum(cigar_pos[:indexI]) == pos + 1:\n",
    "                                    cond1 = True\n",
    "                if cond1:\n",
    "                    # cond2 = nucleotide sequence comparison\n",
    "                    if ',' in mutation['ALT']:\n",
    "                        for muts in mutation['ALT'].split(','):\n",
    "                            if (seq[new_pos:new_pos+len(muts)] == muts):\n",
    "                                cond2 = True\n",
    "                    cond2 = (seq[pos:pos+len(mutation['ALT'])] == mutation['ALT'])\n",
    "\n",
    "            ######## DELETION ##########\n",
    "            elif len(mutation['ALT']) - len(mutation['REF']) < 0:\n",
    "                mutation_type = 'DEL' # deletion\n",
    "                # cond1 = cigar string indicates a deletion at this position\n",
    "                cigar = read.cigarstring\n",
    "                if cigar is None:\n",
    "                    p += 1\n",
    "                else:\n",
    "                    cigar_pos = re.split('M|I|D|N|S|H|P|=|X',cigar)[:-1]\n",
    "                    cigar_states = re.split('[0-9]+',cigar)[1:]\n",
    "                    if 'D' in cigar_states:\n",
    "                        cigar_pos = [0 if (cigar_states[i] == 'S') else int(ci) for i, ci in enumerate(cigar_pos)]\n",
    "                        cigar_pos = [-int(ci) if (cigar_states[i] == 'D') else int(ci) for i, ci in enumerate(cigar_pos)]\n",
    "                        indexD = cigar_states.index('D')\n",
    "                        if type(indexD) == list:\n",
    "                            for idxD in indexD:\n",
    "                                if sum(cigar_pos[:idxD]) == pos + 1:\n",
    "                                    cond1 = True\n",
    "                        else:\n",
    "                            if sum(cigar_pos[:indexD]) == pos + 1:\n",
    "                                    cond1 = True\n",
    "                if cond1:\n",
    "                    # cond2 = nucleotide sequence comparison\n",
    "                    if ',' in mutation['ALT']:\n",
    "                        print('multiple positions in ALT')\n",
    "                    cond2 = (seq[pos:pos+len(mutation['ALT'])] == mutation['ALT'])\n",
    "            if cond1 and cond2:\n",
    "                c += 1\n",
    "                reads2remove.append(read.query_name)\n",
    "            else:\n",
    "                if not cond1 and (seq[pos:pos+len(mutation['REF'])] == mutation['REF']):\n",
    "                    n += 1\n",
    "                elif cigar is not None:\n",
    "                    a += 1\n",
    "    print(mutation_type, c, t, p, n, 'VAF:', round(c/t, 2))\n",
    "    if mutation_type == 'SNV':\n",
    "        print('REF:', mutation['REF'], 'ALT:', mutation['ALT'], mutation['VAF'], genotype)\n",
    "    log_dict[\"position\"].append(mutation['POS'])\n",
    "    log_dict[\"type\"].append(mutation_type)\n",
    "    log_dict[\"total_reads\"].append(t)\n",
    "    log_dict[\"supporting_reads\"].append(c)\n",
    "    log_dict[\"normal_reads\"].append(n)\n",
    "    log_dict[\"alternative_reads\"].append(a)\n",
    "    log_dict[\"problematic_reads\"].append(p)\n",
    "\n",
    "samfile.close()"
   ]
  },
  {
   "cell_type": "code",
   "execution_count": null,
   "metadata": {},
   "outputs": [],
   "source": []
  }
 ],
 "metadata": {
  "kernelspec": {
   "display_name": "Python 3",
   "language": "python",
   "name": "python3"
  },
  "language_info": {
   "codemirror_mode": {
    "name": "ipython",
    "version": 3
   },
   "file_extension": ".py",
   "mimetype": "text/x-python",
   "name": "python",
   "nbconvert_exporter": "python",
   "pygments_lexer": "ipython3",
   "version": "3.7.7"
  }
 },
 "nbformat": 4,
 "nbformat_minor": 2
}
