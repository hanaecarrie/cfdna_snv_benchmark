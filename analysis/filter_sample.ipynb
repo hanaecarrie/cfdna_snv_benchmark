{
 "cells": [
  {
   "cell_type": "code",
   "execution_count": null,
   "metadata": {},
   "outputs": [],
   "source": [
    "import os\n",
    "import io\n",
    "import re\n",
    "import numpy as np\n",
    "import pandas as pd\n",
    "import pysam\n",
    "from tqdm.notebook import tqdm "
   ]
  },
  {
   "cell_type": "code",
   "execution_count": null,
   "metadata": {},
   "outputs": [],
   "source": [
    "def read_vcf(path):\n",
    "    with open(path, 'r') as f:\n",
    "        lines = [l for l in f if not l.startswith('##')]\n",
    "    res = pd.read_csv(\n",
    "        io.StringIO(''.join(lines[:])),\n",
    "        dtype={'#CHROM': str, 'POS': int, 'ID': str, 'REF': str, 'ALT': str,\n",
    "               'QUAL': str, 'FILTER': str, 'INFO': str},\n",
    "        sep='\\t'\n",
    "    ).rename(columns={'#CHROM': 'CHROM'})\n",
    "    return res\n",
    "\n",
    "foo = lambda x: pd.Series(x.split('CALLERS=')[1].split(';')[0])"
   ]
  },
  {
   "cell_type": "markdown",
   "metadata": {},
   "source": [
    "# VCF file"
   ]
  },
  {
   "cell_type": "code",
   "execution_count": null,
   "metadata": {},
   "outputs": [],
   "source": [
    "def read_vcf(path):\n",
    "    with open(path, 'r') as f:\n",
    "        lines = [l for l in f if not l.startswith('##')]\n",
    "    res = pd.read_csv(\n",
    "        io.StringIO(''.join(lines[1:])),\n",
    "        dtype={'#CHROM': str, 'POS': int, 'ID': str, 'REF': str, 'ALT': str,\n",
    "               'QUAL': str, 'FILTER': str, 'INFO': str},\n",
    "        sep='\\t'\n",
    "    ).rename(columns={'#CHROM': 'CHROM'})\n",
    "    return res\n",
    "\n",
    "foo = lambda x: pd.Series(x.split('CALLERS=')[1].split(';')[0])\n",
    "\n",
    "\n",
    "vcf_pd = read_vcf(\"../data/2015-07-31_PATIENTID/PATIENTID-ensemble-annotated.vcf\")\n",
    "\n",
    "\n",
    "vcf_pd['callers'] = vcf_pd['INFO'].apply(foo)\n",
    "vcf_pd['type'] = np.nan\n",
    "vcf_pd['type'][vcf_pd['ALT'].str.len() - vcf_pd['REF'].str.len() == 0] = 'SNV'\n",
    "vcf_pd['type'][vcf_pd['ALT'].str.len() - vcf_pd['REF'].str.len() > 0] = 'INS'\n",
    "vcf_pd['type'][vcf_pd['ALT'].str.len() - vcf_pd['REF'].str.len() < 0] = 'DEL'\n",
    "vcf_pd['type'][vcf_pd['ID'].str.contains('rs')] = 'SNP'\n",
    "vcf_pd['freebayes'] = vcf_pd['INFO'].str.contains('freebayes')\n",
    "vcf_pd['vardict'] = vcf_pd['INFO'].str.contains('vardict')\n",
    "vcf_pd['varscan'] = vcf_pd['INFO'].str.contains('varscan')\n",
    "\n",
    "vcf_pd[vcf_pd['type'] == 'INS']"
   ]
  },
  {
   "cell_type": "code",
   "execution_count": null,
   "metadata": {},
   "outputs": [],
   "source": [
    "def read_vcf(path):\n",
    "    with open(path, 'r') as f:\n",
    "        lines = [l for l in f if not l.startswith('##')]\n",
    "    res = pd.read_csv(\n",
    "        io.StringIO(''.join(lines[:])),\n",
    "        dtype={'#CHROM': str, 'POS': int, 'ID': str, 'REF': str, 'ALT': str,\n",
    "               'QUAL': str, 'FILTER': str, 'INFO': str},\n",
    "        sep='\\t'\n",
    "    ).rename(columns={'#CHROM': 'CHROM'})\n",
    "    return res\n",
    "\n",
    "foo = lambda x: pd.Series(x.split('CALLERS=')[1].split(';')[0])\n",
    "\n",
    "vcf_pd = read_vcf(\"../data/2015-07-31_healthy_CUHKCD_healthy-AB010/healthy_CUHKCD_healthy-AB010-ensemble-annotated.vcf\")\n",
    "\n",
    "vcf_pd['callers'] = vcf_pd['INFO'].apply(foo)\n",
    "vcf_pd['type'] = np.nan\n",
    "vcf_pd['type'][vcf_pd['ALT'].str.len() - vcf_pd['REF'].str.len() == 0] = 'SNV'\n",
    "vcf_pd['type'][vcf_pd['ALT'].str.len() - vcf_pd['REF'].str.len() > 0] = 'INS'\n",
    "vcf_pd['type'][vcf_pd['ALT'].str.len() - vcf_pd['REF'].str.len() < 0] = 'DEL'\n",
    "vcf_pd['type'][vcf_pd['ID'].str.contains('rs')] = 'SNP'\n",
    "vcf_pd['freebayes'] = vcf_pd['INFO'].str.contains('freebayes')\n",
    "vcf_pd['vardict'] = vcf_pd['INFO'].str.contains('vardict')\n",
    "vcf_pd['varscan'] = vcf_pd['INFO'].str.contains('varscan')\n",
    "\n",
    "vcf_pd[vcf_pd['type'] == 'INS']"
   ]
  },
  {
   "cell_type": "code",
   "execution_count": null,
   "metadata": {},
   "outputs": [],
   "source": [
    "vcf_pd.groupby('CHROM').size()"
   ]
  },
  {
   "cell_type": "markdown",
   "metadata": {},
   "source": [
    "# Filter Bam w.r.t. VCF file"
   ]
  },
  {
   "cell_type": "markdown",
   "metadata": {},
   "source": [
    "Important notes:\n",
    "1. Indexing\n",
    "    - SAM is a 1-index based file\n",
    "    - VCF is a 1-index based file\n",
    "    - pysam is a 0-index based tool\n",
    "\n",
    "2. Paired-End sequencing\n",
    "    - BAM/SAM are storing the resverse complementary of reversed reads as sequence\n",
    "\n",
    "3. Mapping issues\n",
    "    - some reads are not mapped -> no CIGAR string + no read.reference_end"
   ]
  },
  {
   "cell_type": "code",
   "execution_count": null,
   "metadata": {},
   "outputs": [],
   "source": [
    "samfile = pysam.AlignmentFile(\"../data/healthy_chr22_merged-ready.bam\", \"rb\")\n",
    "\n",
    "# ititiate list of reads to remove\n",
    "reads2remove = []\n",
    "log_dict = {\"position\":[],\"type\":[],\n",
    "            \"total_reads\":[], 'supporting_reads':[],\n",
    "            \"problematic_reads\":[]}\n",
    "\n",
    "# iterate over positions\n",
    "for ci, mutation in tqdm(vcf_pd.iterrows(), total=vcf_pd.shape[0]):\n",
    "    c = 0 # number of reads supporting the considered mutation\n",
    "    t = 0 # total number of reads at that position\n",
    "    p = 0 # number pf reads with issues\n",
    "    for read in samfile.fetch(mutation['CHROM'], mutation['POS']-1, mutation['POS']): \n",
    "        t += 1\n",
    "        seq = read.query_alignment_sequence\n",
    "        pos = (mutation['POS'] -1) - read.reference_start + 1 \n",
    "    if mutation['type'] == 'INS':\n",
    "        cond1 = (seq[pos-1:  pos-1+len(mutation['ALT'])] == mutation['ALT'])\n",
    "        if cond1: \n",
    "            cigar = read.cigarstring\n",
    "            if cigar is None:\n",
    "                p += 1\n",
    "            else:\n",
    "                cigar_pos = re.split('M|I|D|N|S|H|P|=|X',cigar)[:-1]\n",
    "                cigar_states = re.split('[0-9]+',cigar)[1:]\n",
    "                cond2 = False\n",
    "                if 'I' in cigar_states:\n",
    "                    cumul = 0\n",
    "                    indel_pos = None\n",
    "                    for i, cp in enumerate(cigar_pos):\n",
    "                        if (cigar_states[i] != 'S') and (cumul <= pos):\n",
    "                            cumul += -int(cp) if cp == 'D' else int(cp)\n",
    "                            indel_pos = i\n",
    "                    if cigar_states[indel_pos] == 'I':\n",
    "                        cond2 = True\n",
    "                if cond1 and cond2:\n",
    "                    c += 1\n",
    "                    reads2remove.append(read.query_name)\n",
    "\n",
    "    elif (mutation['type'] == 'SNV') or (mutation['type'] == 'SNP'):\n",
    "        cigar = read.cigarstring\n",
    "        #print(pos, seq[pos-2:  pos+2], seq[pos-1], mutation['ALT'],  mutation['REF'])\n",
    "        if cigar is None:\n",
    "            p += 1\n",
    "        else:\n",
    "            cigar_pos = re.split('M|I|D|N|S|H|P|=|X',cigar)[:-1]\n",
    "            cigar_states = re.split('[0-9]+',cigar)[1:]\n",
    "            if 'D' in cigar_states:\n",
    "                if 'S' in cigar_states:\n",
    "                    Spos = [i for i, x in enumerate(cigar_states) if x == \"S\"] \n",
    "                    cigar_pos = [i for j, i in enumerate(cigar_pos) if j not in Spos]\n",
    "                    cigar_states = [i for j, i in enumerate(cigar_states) if j not in Spos]\n",
    "                Dpos = [i for i, x in enumerate(cigar_states) if x == \"D\"] \n",
    "                for dpos in Dpos:\n",
    "                    if sum(list(map(int, cigar_pos[:dpos]))) < pos:\n",
    "                        #print(sum(list(map(int, cigar_pos[:dpos]))), cigar)\n",
    "                        pos = pos - int(cigar_pos[dpos])\n",
    "                #print(len(seq), pos-1)\n",
    "        if (seq[pos-1:pos-1+len(mutation['ALT'])] == mutation['ALT']):\n",
    "            c += 1\n",
    "            reads2remove.append(read.query_name)\n",
    "    elif mutation['type'] == 'DEL':\n",
    "        cond1 = (seq[pos-1:  pos-1+len(mutation['REF'])] != mutation['REF'])\n",
    "        if cond1:\n",
    "            cigar = read.cigarstring\n",
    "            if cigar is None:\n",
    "                p += 1\n",
    "            else:\n",
    "                cigar_pos = re.split('M|I|D|N|S|H|P|=|X',cigar)[:-1]\n",
    "                cigar_states = re.split('[0-9]+',cigar)[1:]\n",
    "                cond2 = False\n",
    "                if 'D' in cigar_states:\n",
    "                    cumul = 0\n",
    "                    indel_pos = None\n",
    "                    for i, cp in enumerate(cigar_pos):\n",
    "                        if (cigar_pos[i] != 'S') and (cumul <= pos):\n",
    "                            cumul += -int(cp) if cp == 'D' else int(cp)\n",
    "                            indel_pos = i\n",
    "                    if cigar_states[indel_pos] == 'D':\n",
    "                        cond2 = True\n",
    "                if cond1 and cond2:\n",
    "                    c += 1\n",
    "                    reads2remove.append(read.query_name)\n",
    "    log_dict[\"position\"].append(mutation['POS'])\n",
    "    log_dict[\"type\"].append(mutation['type'])\n",
    "    log_dict[\"total_reads\"].append(t)\n",
    "    log_dict[\"supporting_reads\"].append(c)\n",
    "    log_dict[\"problematic_reads\"].append(p)\n",
    "\n",
    "samfile.close()"
   ]
  },
  {
   "cell_type": "code",
   "execution_count": null,
   "metadata": {},
   "outputs": [],
   "source": [
    "log_pd = pd.DataFrame.from_dict(log_dict)\n",
    "log_pd"
   ]
  },
  {
   "cell_type": "code",
   "execution_count": null,
   "metadata": {},
   "outputs": [],
   "source": [
    "log_pd.shape[0]"
   ]
  },
  {
   "cell_type": "code",
   "execution_count": null,
   "metadata": {},
   "outputs": [],
   "source": [
    "100*log_pd[(log_pd['supporting_reads'] == 0) & (log_pd['total_reads'] > 5)].shape[0]/log_pd[log_pd['total_reads'] > 5].shape[0]"
   ]
  },
  {
   "cell_type": "code",
   "execution_count": null,
   "metadata": {},
   "outputs": [],
   "source": [
    "print(vcf_pd.shape)"
   ]
  },
  {
   "cell_type": "code",
   "execution_count": null,
   "metadata": {},
   "outputs": [],
   "source": [
    "a = 'GCAGCCACTCAGGATGTTGGAACCTGGCCATCCCTGCTTCTTTCAGTGGGTGAGGTTGGTGGCTGCTCCACCTGTTCCAGGCACACCCTTAACAGAGGTGGCTGCTTGCTCTTTAAGCCAGCTTGGCCTTGCCTGGCATGCACAGGCCCCG'\n",
    "b = 'GCAGCCACTCAGGATGTTGGAACCTGGCCATCCCTGCTTCTTTCAGTGGGTGAGGTTGGTGGCTGCTCCACCTGTTCCAGGCACACCCTTAACAGAGGTGGCTGCTTGCTCTTTAAGCCAGCTTGGCCTTGCCTGGCATGCACAGGCCCCG'\n",
    "\n",
    "a == b"
   ]
  }
 ],
 "metadata": {
  "kernelspec": {
   "display_name": "Python 3",
   "language": "python",
   "name": "python3"
  },
  "language_info": {
   "codemirror_mode": {
    "name": "ipython",
    "version": 3
   },
   "file_extension": ".py",
   "mimetype": "text/x-python",
   "name": "python",
   "nbconvert_exporter": "python",
   "pygments_lexer": "ipython3",
   "version": "3.7.7"
  }
 },
 "nbformat": 4,
 "nbformat_minor": 2
}
