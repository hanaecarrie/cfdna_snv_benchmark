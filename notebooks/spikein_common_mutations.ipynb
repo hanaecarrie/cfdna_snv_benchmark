{
 "cells": [
  {
   "cell_type": "code",
   "execution_count": null,
   "metadata": {},
   "outputs": [],
   "source": [
    "import os\n",
    "import io\n",
    "import re\n",
    "import numpy as np\n",
    "import pandas as pd\n",
    "import pysam\n",
    "from tqdm.notebook import tqdm "
   ]
  },
  {
   "cell_type": "markdown",
   "metadata": {},
   "source": [
    "# Read SNV file"
   ]
  },
  {
   "cell_type": "code",
   "execution_count": null,
   "metadata": {},
   "outputs": [],
   "source": [
    "subtype = 'msi'"
   ]
  },
  {
   "cell_type": "code",
   "execution_count": null,
   "metadata": {},
   "outputs": [],
   "source": [
    "vcf_pd = pd.read_csv(\"../data/common_cancer_mutations/nant2_SNV_prefiltered_\"+subtype+\"_newModel_v2.MAF\", sep='\\t', header=None)\n",
    "\n",
    "vcf_pd.columns = ['chr', 'pos_start', 'pos_end', 'ref', 'alt', 'patient_id', 'cohort']\n",
    "\n",
    "print('analysis limited to chr22 only')\n",
    "vcf_pd = vcf_pd[vcf_pd['chr'] == 'chr22']\n",
    "\n",
    "print('number of rows in mutation file', vcf_pd.shape[0])\n",
    "\n",
    "listpatient_ref = np.sort(vcf_pd['patient_id'].unique())\n",
    "print(len(listpatient_ref))\n",
    "\n",
    "print('number of patients', vcf_pd['patient_id'].nunique())\n",
    "\n",
    "print('average number of mutations per patient', vcf_pd.groupby('patient_id').size().mean())"
   ]
  },
  {
   "cell_type": "code",
   "execution_count": null,
   "metadata": {},
   "outputs": [],
   "source": [
    "# mutations appearing in two patients or more\n",
    "# check that the variant is the same\n",
    "\n",
    "a = vcf_pd.groupby(['chr', 'pos_start', 'pos_end', 'ref', 'alt']).size()\n",
    "a = a[a > 2]\n",
    "print(a.shape[0])\n",
    "\n",
    "b = vcf_pd.groupby(['chr', 'pos_start', 'pos_end']).size()\n",
    "b = b[b > 2]\n",
    "print(b.shape[0])\n",
    "\n",
    "print([ai[1] for ai in a.index] == [bi[1] for bi in b.index])\n",
    "print(a.values == b.values)"
   ]
  },
  {
   "cell_type": "code",
   "execution_count": null,
   "metadata": {},
   "outputs": [],
   "source": [
    "varfile = a.reset_index()\n",
    "varfile.columns = ['chr', 'pos_start', 'pos_end', 'ref', 'alt', 'number of occurences']\n",
    "varfile.drop('ref', axis=1, inplace=True)\n",
    "varfile['vaf'] = np.nan\n",
    "varfile"
   ]
  },
  {
   "cell_type": "code",
   "execution_count": null,
   "metadata": {},
   "outputs": [],
   "source": [
    "listfiles_annot = os.listdir('../data/common_cancer_mutations/annotations/')\n",
    "listpatients_annot = [f.split('_')[0].split('-')[2] for f in listfiles_annot if f.endswith('snv_annotated.txt')]\n",
    "listpatients_annot = np.unique(listpatients_annot)\n",
    "\n",
    "for i, variant in tqdm(varfile.iterrows(), total=varfile.shape[0]):\n",
    "    #print(variant)\n",
    "    vaf_list = []\n",
    "    print(variant['chr'], variant['pos_start'])\n",
    "    for file in listfiles_annot:\n",
    "        patient = file.split('_')[0].split('-')[2]\n",
    "        if int(patient) in listpatient_ref:\n",
    "            annot_pd = pd.read_csv(\"../data/common_cancer_mutations/annotations/\"+file, sep='\\t', low_memory=False)\n",
    "            annot_pd = annot_pd[['Chr', 'START_POS_REF', 'REF', 'ALT', 'T_refDepth', 'T_altDepth']]\n",
    "            annot_pd['Chr'] = annot_pd['Chr'].astype(str)\n",
    "            aux = annot_pd[(annot_pd['Chr'] == str(variant['chr'][3:])) & (annot_pd['START_POS_REF'] == variant['pos_start'])]\n",
    "            if not aux.empty:\n",
    "                vaf = aux['T_altDepth']/ (aux['T_refDepth'] + aux['T_altDepth'])\n",
    "                vaf = vaf.values[0]\n",
    "                vaf_list.append(vaf)\n",
    "    vaf_mean = np.mean(vaf_list)\n",
    "    print(len(vaf_list) == variant['number of occurences'])\n",
    "    varfile.iloc[i, varfile.columns.get_loc('vaf')] = np.round(vaf_mean,3)"
   ]
  },
  {
   "cell_type": "code",
   "execution_count": null,
   "metadata": {},
   "outputs": [],
   "source": [
    "varfile = varfile[['chr', 'pos_start', 'pos_end', 'vaf', 'alt']]\n",
    "varfile['chr'] = varfile['chr'].str.lstrip('chr')\n",
    "varfile"
   ]
  },
  {
   "cell_type": "code",
   "execution_count": null,
   "metadata": {},
   "outputs": [],
   "source": [
    "# save file\n",
    "varfile.to_csv('../data/common_cancer_mutations/chr22_CRC_'+subtype.upper()+'_SNV_tf1.bed', sep='\\t', header=False, index=False)"
   ]
  },
  {
   "cell_type": "markdown",
   "metadata": {},
   "source": [
    "# Get different tumor fractions"
   ]
  },
  {
   "cell_type": "code",
   "execution_count": null,
   "metadata": {},
   "outputs": [],
   "source": [
    "tf = 0.1  # tumor fraction\n",
    "varfile_bis = pd.read_csv('../data/common_cancer_mutations/chr22_CRC_'+subtype.upper()+'_SNV_tf1.bed', header=None)\n",
    "varfile_bis['vaf'] = varfile_bis['vaf'] * tf\n",
    "varfile_bis.to_csv('../data/common_cancer_mutations/chr22_CRC_'+subtype.upper()+'_SNV_tf'+str(tf)+'.bed', sep='\\t', header=False, index=False)"
   ]
  },
  {
   "cell_type": "markdown",
   "metadata": {},
   "source": [
    "# Read INDEL mutation file"
   ]
  },
  {
   "cell_type": "code",
   "execution_count": null,
   "metadata": {},
   "outputs": [],
   "source": [
    "subtype = 'msi'"
   ]
  },
  {
   "cell_type": "code",
   "execution_count": null,
   "metadata": {},
   "outputs": [],
   "source": [
    "vcf_pd = pd.read_csv(\"../data/common_cancer_mutations/nant2_indel_prefiltered_\"+subtype+\"_newModel.MAF\", sep='\\t', header=None)\n",
    "\n",
    "vcf_pd.columns = ['chr', 'pos_start', 'pos_end', 'ref', 'alt', 'patient_id', 'cohort']\n",
    "\n",
    "print('analysis limited to chr22 only')\n",
    "vcf_pd = vcf_pd[vcf_pd['chr'] == 'chr22']\n",
    "\n",
    "print('number of rows in mutation file', vcf_pd.shape[0])\n",
    "\n",
    "listpatient_ref = np.sort(vcf_pd['patient_id'].unique())\n",
    "print(len(listpatient_ref))\n",
    "\n",
    "print('number of patients', vcf_pd['patient_id'].nunique())\n",
    "\n",
    "print('average number of mutations per patient', vcf_pd.groupby('patient_id').size().mean())"
   ]
  },
  {
   "cell_type": "code",
   "execution_count": null,
   "metadata": {},
   "outputs": [],
   "source": [
    "# mutations appearing in two patients or more\n",
    "# check that the variant is the same\n",
    "\n",
    "a = vcf_pd.groupby(['chr', 'pos_start', 'pos_end', 'ref', 'alt']).size()\n",
    "a = a[a > 2]\n",
    "print(a.shape[0])\n",
    "\n",
    "b = vcf_pd.groupby(['chr', 'pos_start', 'pos_end']).size()\n",
    "b = b[b > 2]\n",
    "print(b.shape[0])\n",
    "\n",
    "print([ai[1] for ai in a.index] == [bi[1] for bi in b.index])\n",
    "print(a.values == b.values)"
   ]
  },
  {
   "cell_type": "code",
   "execution_count": null,
   "metadata": {},
   "outputs": [],
   "source": [
    "varfile = a.reset_index()\n",
    "varfile.columns = ['chr', 'pos_start', 'pos_end', 'ref', 'alt', 'number of occurences']\n",
    "#varfile.drop('ref', axis=1, inplace=True)\n",
    "varfile['vaf'] = np.nan\n",
    "varfile"
   ]
  },
  {
   "cell_type": "code",
   "execution_count": null,
   "metadata": {},
   "outputs": [],
   "source": [
    "listfiles_annot = os.listdir('../data/common_cancer_mutations/annotations/')\n",
    "listpatients_annot = [f.split('_')[0].split('-')[2] for f in listfiles_annot if f.endswith('indel_annotated.txt')]\n",
    "listpatients_annot = np.unique(listpatients_annot)\n",
    "\n",
    "for i, variant in tqdm(varfile.iterrows(), total=varfile.shape[0]):\n",
    "    #print(variant)\n",
    "    vaf_list = []\n",
    "    print(variant['chr'], variant['pos_start'])\n",
    "    for file in listfiles_annot:\n",
    "        patient = file.split('_')[0].split('-')[2]\n",
    "        if int(patient) in listpatient_ref:\n",
    "            annot_pd = pd.read_csv(\"../data/common_cancer_mutations/annotations/\"+file, sep='\\t', low_memory=False)\n",
    "            annot_pd = annot_pd[['Chr', 'START_POS_REF', 'REF', 'ALT', 'T_refDepth', 'T_altDepth']]\n",
    "            annot_pd['Chr'] = annot_pd['Chr'].astype(str)\n",
    "            aux = annot_pd[(annot_pd['Chr'] == str(variant['chr'][3:])) & (annot_pd['START_POS_REF'] == variant['pos_start'])  & (annot_pd['ALT'] == variant['alt'])]\n",
    "            if not aux.empty:\n",
    "                vaf = aux['T_altDepth']/ (aux['T_refDepth'] + aux['T_altDepth'])\n",
    "                vaf = vaf.values[0]\n",
    "                vaf_list.append(vaf)\n",
    "    vaf_mean = np.mean(vaf_list)\n",
    "    print(len(vaf_list) == variant['number of occurences'])\n",
    "    varfile.iloc[i, varfile.columns.get_loc('vaf')] = np.round(vaf_mean,3)"
   ]
  },
  {
   "cell_type": "code",
   "execution_count": null,
   "metadata": {},
   "outputs": [],
   "source": [
    "# /!\\ 0-based index in bamsurgeon for indels\n",
    "# but VCF del: ATC -> A, input BED del: - 2 nucleotides\n",
    "# but VCF ins: A -> ATC, input BED ins: + TC\n",
    "\n",
    "varfile = varfile[['chr', 'pos_start', 'pos_end', 'vaf', 'ref', 'alt']]\n",
    "varfile['chr'] = varfile['chr'].str.lstrip('chr')\n",
    "varfile['len'] = varfile['alt'].str.len() - varfile['ref'].str.len()\n",
    "varfile['type'] = np.nan\n",
    "varfile['type'][varfile['len'].astype(int) > 0] = 'INS'\n",
    "varfile['type'][varfile['len'].astype(int) < 0] = 'DEL'\n",
    "varfile['alt'][varfile['type'] == 'INS'] = varfile['alt'].str[1:]\n",
    "varfile['pos_end'][varfile['type'] == 'INS'] = varfile['pos_end']+varfile['len']\n",
    "varfile['alt'][varfile['type'] == 'DEL'] = ''\n",
    "varfile['pos_end'][varfile['type'] == 'DEL'] = varfile['pos_end']-varfile['len']+1 # negative length\n",
    "varfile = varfile[['chr', 'pos_start', 'pos_end', 'vaf', 'type', 'alt']]\n",
    "varfile"
   ]
  },
  {
   "cell_type": "code",
   "execution_count": null,
   "metadata": {},
   "outputs": [],
   "source": [
    "subtype"
   ]
  },
  {
   "cell_type": "code",
   "execution_count": null,
   "metadata": {},
   "outputs": [],
   "source": [
    "# save file\n",
    "varfile.to_csv('../data/common_cancer_mutations/chr22_CRC_'+subtype.upper()+'_INDEL_tf1.bed', sep='\\t', header=False, index=False)\n"
   ]
  },
  {
   "cell_type": "markdown",
   "metadata": {},
   "source": [
    "# Get different tumor fractions"
   ]
  },
  {
   "cell_type": "code",
   "execution_count": null,
   "metadata": {},
   "outputs": [],
   "source": [
    "tf = 0.1  # tumor fraction\n",
    "varfile_bis = pd.read_csv('../data/common_cancer_mutations/chr22_CRC_'+subtype.upper()+'_INDEL_tf1.bed', sep='\\t', header=None)\n",
    "varfile_bis.columns = ['chr', 'pos_start', 'pos_end', 'vaf', 'type', 'alt']\n",
    "varfile_bis['vaf'] = varfile_bis['vaf'] * tf\n",
    "varfile_bis.to_csv('../data/common_cancer_mutations/chr22_CRC_'+subtype.upper()+'_INDEL_tf'+str(tf)+'.bed', sep='\\t', header=False, index=False)"
   ]
  },
  {
   "cell_type": "code",
   "execution_count": null,
   "metadata": {},
   "outputs": [],
   "source": []
  }
 ],
 "metadata": {
  "kernelspec": {
   "display_name": "Python 3",
   "language": "python",
   "name": "python3"
  },
  "language_info": {
   "codemirror_mode": {
    "name": "ipython",
    "version": 3
   },
   "file_extension": ".py",
   "mimetype": "text/x-python",
   "name": "python",
   "nbconvert_exporter": "python",
   "pygments_lexer": "ipython3",
   "version": "3.7.7"
  }
 },
 "nbformat": 4,
 "nbformat_minor": 4
}
