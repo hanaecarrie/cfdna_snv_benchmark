{
 "cells": [
  {
   "cell_type": "markdown",
   "metadata": {},
   "source": [
    "# cfDNA spikein series on single chrom"
   ]
  },
  {
   "cell_type": "code",
   "execution_count": null,
   "metadata": {},
   "outputs": [],
   "source": [
    "# Imports\n",
    "\n",
    "%load_ext autoreload\n",
    "%autoreload 2\n",
    "\n",
    "import io\n",
    "import os\n",
    "import numpy as np\n",
    "import pandas as pd\n",
    "import matplotlib.pyplot as plt\n",
    "import seaborn as sns\n",
    "import pysam\n",
    "import warnings\n",
    "from sklearn.metrics import precision_recall_curve, f1_score, average_precision_score\n",
    "warnings.filterwarnings('ignore')\n",
    "from sklearn.metrics import confusion_matrix\n",
    "\n",
    "# set working directory\n",
    "if not os.getcwd().endswith('cfdna_snv_benchmark'):\n",
    "    os.chdir('../')\n",
    "print('Current working directory: {}'.format(os.getcwd()))\n",
    "\n",
    "from utils.config import Config\n",
    "from utils.viz import *\n",
    "from utils.table import *\n",
    "from utils.metrics import *\n",
    "from utils.calltable import *\n",
    "from utils.venn import venn6, get_labels"
   ]
  },
  {
   "cell_type": "code",
   "execution_count": null,
   "metadata": {},
   "outputs": [],
   "source": [
    "# Config and Display paramaters\n",
    "\n",
    "config = Config(\"config/\", \"config_viz.yaml\")\n",
    "set_display_params(config)\n",
    "print(config.methods)"
   ]
  },
  {
   "cell_type": "code",
   "execution_count": null,
   "metadata": {},
   "outputs": [],
   "source": [
    "# Chomosome\n",
    "\n",
    "chrom = '3'\n",
    "muttype = 'snv'\n",
    "#spikeinid =  'CRC-COSMIC-5p_CRC-123_121115-CW-T'\n",
    "#spikeinid = 'CRC-COSMIC-5p_CRC-986_300316-CW-T'\n",
    "spikeinid =  'CRC-COSMIC-5p_CRC-1014_090516-CW-T'\n",
    "plasmasample = '_'.join(spikeinid.split('_')[:1])\n",
    "print(plasmasample)\n",
    "healthysample = '_'.join(spikeinid.split('_')[1:])\n",
    "print(healthysample)\n",
    "filterparam = 'all'"
   ]
  },
  {
   "cell_type": "code",
   "execution_count": null,
   "metadata": {},
   "outputs": [],
   "source": [
    "reload = True\n",
    "save = False\n",
    "fixedvar = 'coverage'"
   ]
  },
  {
   "cell_type": "markdown",
   "metadata": {},
   "source": [
    "# Load call table"
   ]
  },
  {
   "cell_type": "code",
   "execution_count": null,
   "metadata": {},
   "outputs": [],
   "source": [
    "# Save table if do not exist and load tables\n",
    "\n",
    "calltables = {'sampleid':[], 'vaf':[], 'snv':[], 'indel':[], 'snp':[]}\n",
    "spikeinfolder = os.path.join(*config.spikeinfolder, 'spikeins_chr'+chrom, 'spikeins_chr'+chrom+'_'+spikeinid)\n",
    "for spikeinpath in [l for l in os.listdir(spikeinfolder) if l.endswith('x') or l.endswith('T')]:\n",
    "    print(spikeinpath)\n",
    "    if not os.path.exists(os.path.join(spikeinfolder, spikeinpath, 'calls', spikeinpath+'_snv_calls_'+filterparam+'csv')) or reload:\n",
    "        calltable_snv, calltable_indel, calltable_snp = get_calltable(os.path.join(spikeinfolder, spikeinpath), config.methods, save=True, filter=filterparam)\n",
    "    calltables['sampleid'].append(spikeinpath)\n",
    "    calltables['vaf'].append(float(spikeinpath.split('vaf')[1].split('_')[0]))\n",
    "    calltable_snv = pd.read_csv(os.path.join(spikeinfolder, spikeinpath, 'calls', spikeinpath+'_snv_calls_'+filterparam+'.csv'), index_col=0)\n",
    "    calltable_indel = pd.read_csv(os.path.join(spikeinfolder, spikeinpath, 'calls', spikeinpath+'_indel_calls_'+filterparam+'.csv'), index_col=0)\n",
    "    calltable_snp = pd.read_csv(os.path.join(spikeinfolder, spikeinpath, 'calls', spikeinpath+'_snp_calls_'+filterparam+'.csv'), index_col=0)\n",
    "    calltables['snv'].append(calltable_snv)\n",
    "    calltables['indel'].append(calltable_indel)\n",
    "    calltables['snp'].append(calltable_snp)\n",
    "calltables.keys()"
   ]
  },
  {
   "cell_type": "code",
   "execution_count": null,
   "metadata": {},
   "outputs": [],
   "source": [
    "for mt in ['snv', 'indel']:\n",
    "    if not os.path.exists(os.path.join(spikeinfolder, 'calls')):\n",
    "        os.mkdir(os.path.join(spikeinfolder, 'calls'))\n",
    "    if not os.path.exists(os.path.join(spikeinfolder, 'calls', spikeinid+'_'+mt+'_calls_'+filterparam+'.csv')) or reload:\n",
    "        for ci, csnv in enumerate(calltables[mt]):\n",
    "            cols = ['chrom', 'pos', 'ref', 'alt', 'type']\n",
    "            for m in config.methods:\n",
    "                cols.append('{:.2f}_{}'.format(calltables['vaf'][ci], m))\n",
    "                cols.append('{:.2f}_{}_score'.format(calltables['vaf'][ci], m))\n",
    "            for m in config.methods:\n",
    "                cols.append('{:.2f}_{}_altcov'.format(calltables['vaf'][ci], m)) \n",
    "                cols.append('{:.2f}_{}_totcov'.format(calltables['vaf'][ci], m)) \n",
    "                cols.append('{:.2f}_{}_vaf'.format(calltables['vaf'][ci], m)) \n",
    "            csnv.columns = cols\n",
    "        # ensure no duplicated index\n",
    "        print(calltables[mt][0].loc[calltables[mt][0].index[calltables[mt][0].index.duplicated(keep=False)]].shape[0])\n",
    "        # get call series\n",
    "        calltablesseries = pd.concat([ct.set_index(['chrom', 'pos', 'ref', 'alt', 'type']) for ct in calltables[mt]], axis=1)\n",
    "        calltablesseries.reset_index(inplace=True)\n",
    "        calltablesseries['chrom_pos_ref_alt'] = calltablesseries['chrom'].astype('str').str.cat(calltablesseries['pos'].astype('str'), sep=\"_\").str.cat(calltablesseries['ref'].astype('str'), sep='_').str.cat(calltablesseries['alt'].astype('str'), sep='_')\n",
    "        calltablesseries.set_index('chrom_pos_ref_alt', inplace=True)\n",
    "        print(calltablesseries.shape)\n",
    "        calltablesseries.to_csv(os.path.join(spikeinfolder, 'calls', spikeinid+'_'+mt+'_calls_'+filterparam+'.csv'))\n",
    "        \n",
    "calltablesseries = pd.read_csv(os.path.join(spikeinfolder, 'calls', spikeinid+'_'+muttype+'_calls_'+filterparam+'.csv'), index_col=0)\n",
    "calltablesseries.head()"
   ]
  },
  {
   "cell_type": "code",
   "execution_count": null,
   "metadata": {},
   "outputs": [],
   "source": [
    "np.unique([i.split('_')[0] if '_' in i else '' for i in list(calltablesseries.columns)])"
   ]
  },
  {
   "cell_type": "code",
   "execution_count": null,
   "metadata": {},
   "outputs": [],
   "source": [
    "calltablesseries[calltablesseries['truth'] == True][[i for i in list(calltablesseries.columns) if i.count('_') == 1]].dropna(how='all',axis=0)"
   ]
  },
  {
   "cell_type": "code",
   "execution_count": null,
   "metadata": {},
   "outputs": [],
   "source": [
    "calltablesseries[calltablesseries['truth'] == True][[i for i in list(calltablesseries.columns) if  'freebayes' in i]] # i.count('_') == 1 and"
   ]
  },
  {
   "cell_type": "code",
   "execution_count": null,
   "metadata": {},
   "outputs": [],
   "source": [
    "print(calltables['vaf'])\n",
    "print(len(list(calltablesseries.columns)))\n",
    "print(len(np.unique(list(calltablesseries.columns))))"
   ]
  },
  {
   "cell_type": "markdown",
   "metadata": {},
   "source": [
    "# Plot curves"
   ]
  },
  {
   "cell_type": "code",
   "execution_count": null,
   "metadata": {},
   "outputs": [],
   "source": [
    "# Truth in COSMIC database\n",
    "calltablesseries['truth'] = False\n",
    "gt = pd.read_csv(os.path.join(*config.extdatafolder, 'cosmic_mutations_atleast5patients', 'CRC_chr'+str(chrom)+'_'+muttype.upper()+'_tf1.bed'), sep='\\t', header=None)\n",
    "if muttype == 'snv':\n",
    "    gt.columns = ['chrom', 'startpos', 'endpos', 'vaf', 'alt']\n",
    "else: # indel\n",
    "    gt.columns = ['chrom', 'startpos', 'endpos', 'vaf', 'type', 'alt']\n",
    "truthpos = []\n",
    "posvalues = calltablesseries['pos'].values\n",
    "c =0\n",
    "for igt, gtv in enumerate(gt['startpos'].values):\n",
    "    if gtv in posvalues:\n",
    "        if calltablesseries[calltablesseries['pos'] == gtv].shape[0] > 1:\n",
    "            print('ISSUE: cannot retrieve reference easily')\n",
    "            print(calltablesseries[calltablesseries['pos'] == gtv].shape[0])\n",
    "        truthpos.append(str(gt.iloc[igt]['chrom']) +'_'+ str(gt.iloc[igt]['startpos']) +'_'+calltablesseries[calltablesseries['pos'] == gtv]['ref'].values[0] +'_'+gt.iloc[igt]['alt'])\n",
    "    c +=1\n",
    "print(c)\n",
    "calltablesseries['truth'] = False\n",
    "calltablesseries = calltablesseries.reindex(list(set(list(calltablesseries.index) + truthpos)))\n",
    "calltablesseries['truth'].loc[truthpos] = True\n",
    "calltablesseries['truth'].value_counts()"
   ]
  },
  {
   "cell_type": "code",
   "execution_count": null,
   "metadata": {},
   "outputs": [],
   "source": [
    "if fixedvar == 'coverage':\n",
    "    dilutionseries = [0.20, 0.15, 0.10, 0.05, 0.03, 0.01, 0.00]\n",
    "\n",
    "results_auprc_df = metric_curve(config, calltablesseries, plasmasample, healthysample, dilutionseries,\n",
    "                                    metric='auprc', ground_truth_method='spikein', refsample=plasmasample, muttype=muttype, chrom=chrom, methods=config.methods, fixedvar=fixedvar, save=save)\n",
    "results_recall_df = metric_curve(config, calltablesseries, plasmasample, healthysample, dilutionseries,\n",
    "                                    metric='recall', ground_truth_method='spikein', refsample=plasmasample, muttype=muttype, chrom=chrom, methods=config.methods, fixedvar=fixedvar, save=save)\n",
    "results_precision_df = metric_curve(config, calltablesseries, plasmasample, healthysample, dilutionseries,\n",
    "                                    metric='precision', ground_truth_method='spikein', refsample=plasmasample, muttype=muttype, chrom=chrom, methods=config.methods, fixedvar=fixedvar, save=save)\n"
   ]
  },
  {
   "cell_type": "code",
   "execution_count": null,
   "metadata": {},
   "outputs": [],
   "source": [
    "figure_curve(config, calltablesseries, plasmasample, healthysample, dilutionseries, xy='pr', ground_truth_method='spikein',\n",
    "             refsample=plasmasample, muttype=muttype.upper(), chrom='22', methods=None, fixedvar=fixedvar, save=save)"
   ]
  },
  {
   "cell_type": "markdown",
   "metadata": {},
   "source": [
    "# Confusion matrix"
   ]
  },
  {
   "cell_type": "code",
   "execution_count": null,
   "metadata": {},
   "outputs": [],
   "source": []
  },
  {
   "cell_type": "markdown",
   "metadata": {},
   "source": [
    "# Call set similarity: Jaccard Index"
   ]
  },
  {
   "cell_type": "code",
   "execution_count": null,
   "metadata": {},
   "outputs": [],
   "source": [
    "\n",
    "for sklearn.metrics.jaccard_similarity_score(y_true, y_pred, normalize=True)"
   ]
  },
  {
   "cell_type": "code",
   "execution_count": null,
   "metadata": {},
   "outputs": [],
   "source": [
    "dilutionseries = [(70,0), (70, 80), (50, 100), (30, 120), (20, 130), (10, 140), (5, 145)]\n",
    "\n",
    "patient = '1014'\n",
    "\n",
    "if patient == '809':\n",
    "    plasmasample1 = 'CRC-809_110914'\n",
    "    plasmasample2 = 'CRC-809_030915'\n",
    "    tumorsample1 = 'NCC_CRC-809_290714-T1W'\n",
    "    plasmasampleltb = None\n",
    "    healthysamples = ['pooledhealthy']\n",
    "elif patient == '986':\n",
    "    plasmasample1 = 'CRC-986_100215'\n",
    "    plasmasample2 = 'CRC-986_261016'\n",
    "    tumorsample1 = 'NCC_CRC-986_100215-T1W'\n",
    "    plasmasampleltb = 'CRC-986_300316'\n",
    "    healthysamples = ['pooledhealthy', 'pooledhealthy_986_filter_snv', plasmasampleltb]\n",
    "elif patient == '1014':\n",
    "    plasmasample2 = 'CRC-1014_110116'\n",
    "    tumorsample1 = None\n",
    "    plasmasampleltb = 'CRC-1014_090516'\n",
    "    healthysamples = ['pooledhealthy', plasmasampleltb]\n",
    "    \n",
    "healthysample = healthysamples[-1]\n",
    "    \n",
    "if patient == '1014':\n",
    "    vcf_ref_path = 'data/bcbio_output/dilution_chr22_CRC-1014_110116_1_pooledhealthy_0/dilution_chr22_CRC-1014_110116_1_pooledhealthy_0-ensemble-annotated.vcf'\n",
    "else:\n",
    "    vcf_ref_path = None\n",
    "\n",
    "print(patient, healthysamples)\n",
    "dilutionseries = [(1,0), (1, 0.72), (0.75, 0.765), (0.5, 0.81), (0.25, 0.855), (0.125, 0.875), (0.0625, 0.88)]\n",
    "for i, d in dilutionseries:\n",
    "    tb_dict = {}\n",
    "    for i, d in enumerate(dilutionseries):\n",
    "        #tb_path = os.path.join(*config.dilutionfolder, \"estimated_tf_chr22_\"+plasmasample1+\"_\"+str(dilutionseries[i][0])+\"_\"+healthysample+\"_\"+str(dilutionseries[i][1])+\".txt\")\n",
    "        tb_path = os.path.join(*config.dilutionfolder, \"estimated_tf_chr22_\"+plasmasample2+\"_\"+str(dilutionseries[i][0])+\"_\"+healthysample+\"_\"+str(dilutionseries[i][1])+\".txt\")\n",
    "        if d == (70, 0) and not os.path.exists(tb_path):\n",
    "            tb_path = [os.path.join(*config.dilutionfolder, f) for f in os.listdir(os.path.join(*config.dilutionfolder)) if (\"estimated_tf_chr22_\"+plasmasample2) and (f.endswith('_0.txt'))][0]\n",
    "        tb_dict[str(dilutionseries[i])] = float(pd.read_csv(tb_path).columns[0])\n",
    "print(tb_dict)\n",
    "\n",
    "tb_dict =  {'(70, 0)': 0.45449979526423284, \n",
    "            '(70, 80)': 0.19021542447303608,\n",
    "            '(50, 100)': 0.1531168888180089,\n",
    "            '(30, 120)': 0.11015117236383784,\n",
    "            '(20, 130)': 0.05980496272648487,\n",
    "            '(10, 140)': 0.031326826579643155,\n",
    "            '(5, 145)': 0.01902154244730361}\n",
    "print(tb_dict)"
   ]
  },
  {
   "cell_type": "code",
   "execution_count": null,
   "metadata": {},
   "outputs": [],
   "source": [
    "dilutionseries = [(70,0), (70, 80), (50, 100), (30, 120), (20, 130), (10, 140), (5, 145)]\n",
    "\n",
    "for i, d in enumerate(dilutionseries):\n",
    "    print(i, d)\n",
    "    d0 = str(d[0]).replace('.', '_')\n",
    "    d1 = str(d[1]).replace('.', '_')\n",
    "    path_folder=\"~/Repositories/cfdna_snv_benchmark/data/callers_output/mixtures/mixtures_chr22/mixture_chr22_CRC-1014_180816-CW-T_\"+str(d[0])+\"x_CRC-1014_090516-CW-T_\"+str(d[1])+\"x.sorted/abemus\"\n",
    "    path_file=\"pmtab_F3_optimalR_mixture_chr22_CRC-1014_180816-CW-T_\"+str(d[0])+\"x_CRC-1014_090516-CW-T_\"+str(d[1])+\"x.sorted.tsv\"\n",
    "    #path_folder=\"~/Repositories/cfdna_snv_benchmark/data/abemus_output/abemus_outdir_chr22/dilution_chr22_CRC-986_100215_\"+str(d[0])+\"_CRC-986_300316_\"+str(d[1])+\".sorted\"\n",
    "    #path_file = 'pmtab_F3_dilution_chr22_CRC-986_100215_'+str(d[0])+'_CRC-986_300316_'+str(d[1])+'.sorted.tsv'\n",
    "    aux_df = pd.read_csv(os.path.join(path_folder, path_file), sep='\\t')\n",
    "    #res_df[['CLASS', 'CLASS.xbg', 'filter.pbem_coverage', 'pass.filter.pbem_coverage']]\n",
    "    aux_df['chrom_pos'] = aux_df.chr.astype(str) + '_' + aux_df.pos.astype(str)\n",
    "    aux_df.set_index('chrom_pos', inplace=True)\n",
    "    aux_df = aux_df[['filter.pbem_coverage', 'pass.filter.pbem_coverage']]\n",
    "    aux_df.columns = [str(round(100*tb_dict[str(d)], 3))+'_abemus_score', str(round(100*tb_dict[str(d)], 3))+'_abemus']\n",
    "    aux_df[str(round(100*tb_dict[str(d)], 3))+'_abemus'] = aux_df[str(round(100*tb_dict[str(d)], 3))+'_abemus'].astype(bool)\n",
    "    aux_df.drop('chr_pos', inplace=True)\n",
    "    aux_df[str(round(100*tb_dict[str(d)], 3))+'_abemus_score'] = aux_df[str(round(100*tb_dict[str(d)], 3))+'_abemus_score'].astype(float)\n",
    "    aux_df = aux_df[~aux_df.index.duplicated()] ### TODO\n",
    "    # if d == (1,0):\n",
    "    if d == (70,0):\n",
    "        res_df = aux_df.copy()\n",
    "    else:\n",
    "        res_df = pd.concat([res_df, aux_df], axis=1)\n",
    "        \n",
    "res_df"
   ]
  },
  {
   "cell_type": "code",
   "execution_count": null,
   "metadata": {},
   "outputs": [],
   "source": [
    "\n",
    "config = Config(\"config/\", \"config_viz.yaml\")\n",
    "set_display_params(config)\n"
   ]
  },
  {
   "cell_type": "code",
   "execution_count": null,
   "metadata": {},
   "outputs": [],
   "source": [
    "prefix = 'dilution_chr22_'\n",
    "chrom = '22'\n",
    "dilutionseries = [(1,0), (1, 0.72), (0.75, 0.765), (0.5, 0.81), (0.25, 0.855), (0.125, 0.875), (0.0625, 0.88)]\n",
    "\n",
    "patient = '1014'\n",
    "\n",
    "if patient == '809':\n",
    "    plasmasample1 = 'CRC-809_110914'\n",
    "    plasmasample2 = 'CRC-809_030915'\n",
    "    tumorsample1 = 'NCC_CRC-809_290714-T1W'\n",
    "    plasmasampleltb = None\n",
    "    healthysamples = ['pooledhealthy']\n",
    "elif patient == '986':\n",
    "    plasmasample1 = 'CRC-986_100215'\n",
    "    plasmasample2 = 'CRC-986_261016'\n",
    "    tumorsample1 = 'NCC_CRC-986_100215-T1W'\n",
    "    plasmasampleltb = 'CRC-986_300316'\n",
    "    healthysamples = ['pooledhealthy', 'pooledhealthy_986_filter_snv', plasmasampleltb]\n",
    "elif patient == '1014':\n",
    "    plasmasample2 = 'CRC-1014_110116'\n",
    "    tumorsample1 = None\n",
    "    plasmasampleltb = 'CRC-1014_090516'\n",
    "    healthysamples = ['pooledhealthy', plasmasampleltb]\n",
    "    \n",
    "healthysample = healthysamples[-1]\n",
    "    \n",
    "if patient == '1014':\n",
    "    vcf_ref_path = 'data/bcbio_output/dilution_chr22_CRC-1014_110116_1_pooledhealthy_0/dilution_chr22_CRC-1014_110116_1_pooledhealthy_0-ensemble-annotated.vcf'\n",
    "else:\n",
    "    vcf_ref_path = None\n",
    "\n",
    "print(patient, healthysamples)"
   ]
  },
  {
   "cell_type": "code",
   "execution_count": null,
   "metadata": {},
   "outputs": [],
   "source": [
    "df_table = get_call_table(config, prefix, plasmasample2, healthysample, dilutionseries, ground_truth_method=3, refsample='undiluted', chrom=chrom, muttype='SNV', vcf_ref_path=vcf_ref_path, tumorsample=None)\n",
    "print(df_table.shape)\n",
    "df_table.head()"
   ]
  },
  {
   "cell_type": "code",
   "execution_count": null,
   "metadata": {},
   "outputs": [],
   "source": [
    "df_table = pd.concat([df_table, res_df], axis=1)\n",
    "df_table['truth'].fillna(False, inplace=True)\n",
    "df_table"
   ]
  },
  {
   "cell_type": "code",
   "execution_count": null,
   "metadata": {},
   "outputs": [],
   "source": [
    "print(df_table[(df_table['truth'] == True) & (df_table['45.45_abemus'] == True)].shape[0])\n",
    "print(df_table[(df_table['truth'] == True)].shape[0])"
   ]
  },
  {
   "cell_type": "markdown",
   "metadata": {},
   "source": [
    "# AUPRC plots\n"
   ]
  },
  {
   "cell_type": "code",
   "execution_count": null,
   "metadata": {},
   "outputs": [],
   "source": [
    "\n",
    "config = Config(\"config/\", \"config_viz.yaml\")\n",
    "set_display_params(config)\n",
    "\n",
    "color_dict = {config.methods[i]: config.colors[i] for i in range(len(config.methods))}\n",
    "alpha_dict = dict(zip(config.tissuebenchmark.fractions, [1-i*0.3 for i in range(len(config.tissuebenchmark.fractions))]))\n",
    "\n",
    "print(color_dict)\n",
    "print(alpha_dict)"
   ]
  },
  {
   "cell_type": "code",
   "execution_count": null,
   "metadata": {},
   "outputs": [],
   "source": [
    "df_table.drop(['11.015_abemus', '11.015_abemus_score'], axis=1, inplace=True)"
   ]
  },
  {
   "cell_type": "code",
   "execution_count": null,
   "metadata": {},
   "outputs": [],
   "source": [
    "df_table.columns"
   ]
  },
  {
   "cell_type": "code",
   "execution_count": null,
   "metadata": {},
   "outputs": [],
   "source": [
    "results_auprc_df = metric_curve(config, df_table, plasmasample2, healthysample, dilutionseries, metric='precision', ground_truth_method=3, refsample='undiluted', muttype='SNV', chrom='22', methods=config.methods, save=False)"
   ]
  },
  {
   "cell_type": "code",
   "execution_count": null,
   "metadata": {},
   "outputs": [],
   "source": [
    "for muttype in config.muttype:\n",
    "    results_df = pd.DataFrame()\n",
    "    aux_auprc = []\n",
    "    aux_method = []\n",
    "    aux_sample = []\n",
    "    aux_tp = []\n",
    "    aux_baseline = []\n",
    "    for i, sample in enumerate(config.tissuebenchmark.samples):\n",
    "        for f in config.tissuebenchmark.fractions:\n",
    "            for method in config.tissuebenchmark.methods:\n",
    "                #print(muttype, sample, f, method)\n",
    "                vcf_sample = df_table[(df_table['sample'] == sample) & (df_table['mutation type'] == muttype) & (df_table['purity'] == round(config.tissuebenchmark.purities[i]*f, 2))]\n",
    "                df_sample_method = vcf_sample[[method+'_score', 'TRUTH']]\n",
    "                df_sample_method[method + '_score'].fillna(0, inplace=True)\n",
    "                precision, recall, thresholds = precision_recall_curve(df_sample_method['TRUTH'], df_sample_method[method + '_score'])\n",
    "                f1 = f1_score(vcf_sample['TRUTH'], vcf_sample[method])\n",
    "                estimator_name = method if f == 1 else ''\n",
    "                auprc = average_precision_score(df_sample_method['TRUTH'], df_sample_method[method+'_score'])\n",
    "                aux_auprc.append(auprc)\n",
    "                aux_method.append(method)\n",
    "                aux_sample.append(sample)\n",
    "                aux_tp.append(round(100*config.tissuebenchmark.purities[i]*f, 2))\n",
    "            # baseline\n",
    "            aux_auprc.append(len(vcf_sample['TRUTH'][vcf_sample['TRUTH']])/len(vcf_sample['TRUTH']))\n",
    "            aux_method.append('baseline')\n",
    "            aux_sample.append(sample)\n",
    "            aux_tp.append(round(100*config.tissuebenchmark.purities[i]*f, 2))\n",
    "            \n",
    "    results_df['AUPRC'] = aux_auprc\n",
    "    results_df['tumor purity'] = aux_tp\n",
    "    results_df['caller'] = aux_method\n",
    "    results_df['sample'] = aux_sample\n",
    "    \n",
    "    for si, sample in enumerate(config.tissuebenchmark.samples):\n",
    "        sns.catplot(x=\"tumor purity\", y=\"AUPRC\", hue=\"caller\",\n",
    "                  capsize=.2, height=4, aspect=1.5, kind=\"point\", colors=config.colors + ['k'],\n",
    "                    order=sorted(results_df[results_df['sample'] == sample]['tumor purity'].unique(), reverse=True),\n",
    "                        data=results_df[results_df['sample'] == sample])\n",
    "        plt.ylim([0, 1])\n",
    "        plt.title(\"AUPRC score for {} calling in {}\".format(muttype, sample))\n",
    "        plt.savefig('figures/tissue_benchmark/'+sample+'_'+muttype+'_auprcscore',  bbox_inches='tight')"
   ]
  },
  {
   "cell_type": "markdown",
   "metadata": {},
   "source": [
    "# Change in prediction with dilution"
   ]
  },
  {
   "cell_type": "code",
   "execution_count": null,
   "metadata": {},
   "outputs": [],
   "source": [
    "df_table.head()"
   ]
  },
  {
   "cell_type": "code",
   "execution_count": null,
   "metadata": {},
   "outputs": [],
   "source": [
    "df = df_table[df_table['truth'] == True]#[['CHROM_POS', 'sample', 'purity', 'mutation type', 'truth', 'freebayes','mutect2', 'strelka2', 'vardict', 'varscan']] # .purity.unstack().add_prefix('purity_')#.groupby('CHROM_POS').sum()\n",
    "df.unstack"
   ]
  },
  {
   "cell_type": "code",
   "execution_count": null,
   "metadata": {},
   "outputs": [],
   "source": [
    "\n",
    "fig, ax = plt.subplots(figsize=(15,8))\n",
    "for m, method in enumerate(config.methods):\n",
    "    change_df_aux = df_table[(df_table['truth']) & (df_table[method])][['CHROM_POS', 'TRUTH', 'purity'] + [method]].set_index(['CHROM_POS'])\n",
    "    change_df = pd.DataFrame(index=change_df_aux.index.unique(), columns= ['TRUTH'] + [str(round(config.tissuebenchmark.purities[i]*f, 2)) for f in config.tissuebenchmark.fractions])\n",
    "    for chrpos in change_df.index:\n",
    "        for f in config.tissuebenchmark.fractions:\n",
    "            try:\n",
    "                change_df.loc[chrpos][str(round(config.tissuebenchmark.purities[i]*f, 2))] = change_df_aux[(change_df_aux['purity'] == round(config.tissuebenchmark.purities[i]*f, 2))].loc[chrpos][method]\n",
    "            except:\n",
    "                change_df.loc[chrpos][str(round(config.tissuebenchmark.purities[i]*f, 2))] = False\n",
    "        if change_df_aux.loc[chrpos]['TRUTH'].shape == ():\n",
    "            change_df.loc[chrpos]['TRUTH'] = change_df_aux.loc[chrpos]['TRUTH']\n",
    "        else:\n",
    "            change_df.loc[chrpos]['TRUTH'] = np.unique(change_df_aux.loc[chrpos]['TRUTH'].values)[0]\n",
    "    # print(change_df.shape)\n",
    "    change_df['sum'] = sum([change_df[str(round(config.tissuebenchmark.purities[i]*f, 2))] for f in config.tissuebenchmark.fractions])\n",
    "    change_df = change_df[~change_df['sum'].isin([0, 3])].dropna(how='all')\n",
    "    change_df = change_df.astype(int).drop('sum', axis=1)\n",
    "    # plot\n",
    "    #for chrpos, row in change_df.astype(int).drop('sum', axis=1).iterrows():\n",
    "    #    plt.plot(row.astype(int), label=chrpos)\n",
    "    #plt.legend()\n",
    "    change_df = change_df.groupby(change_df.columns.tolist(),as_index=False).size()\n",
    "    print(method)\n",
    "    print(change_df)\n",
    "\n",
    "    c = 0.7\n",
    "    for idx, row in change_df.iterrows():\n",
    "        plt.plot(row[['TRUTH'] + [str(round(config.tissuebenchmark.purities[i]*f, 2)) for f in config.tissuebenchmark.fractions]], lw=row['size'], label=method, c=config.colors[m], alpha=c-max(1/row['size'], 0.2))\n",
    "custom_lines = [Line2D([0], [0], color=config.colors[m], lw=2) for m in range(len(config.methods))]\n",
    "plt.legend(custom_lines, config.methods)\n",
    "\n",
    "plt.xlabel('purity')\n",
    "plt.ylabel('mutation calling output prediction')\n",
    "plt.title('Change in mutation prediction w.r.t purity in {} for {}'.format(sample, muttype))\n",
    "\n",
    "ax.set_yticks([0,1])\n",
    "ax.set_yticklabels(['False','True'])\n",
    "plt.show()"
   ]
  },
  {
   "cell_type": "code",
   "execution_count": null,
   "metadata": {},
   "outputs": [],
   "source": [
    "for i, sample in enumerate(config.tissuebenchmark.samples):\n",
    "    for muttype in config.muttype:\n",
    "        fig, ax = plt.subplots(figsize=(15,8))\n",
    "        for m, method in enumerate(config.methods):\n",
    "            change_df_aux = df_table[(df_table['sample'] == sample) & (df_table['mutation type'] == muttype) & (df_table['TRUTH']) & (df_table[method])][['CHROM_POS', 'TRUTH', 'purity'] + [method]].set_index(['CHROM_POS'])\n",
    "            change_df = pd.DataFrame(index=change_df_aux.index.unique(), columns= ['TRUTH'] + [str(round(config.tissuebenchmark.purities[i]*f, 2)) for f in config.tissuebenchmark.fractions])\n",
    "            for chrpos in change_df.index:\n",
    "                for f in config.tissuebenchmark.fractions:\n",
    "                    try:\n",
    "                        change_df.loc[chrpos][str(round(config.tissuebenchmark.purities[i]*f, 2))] = change_df_aux[(change_df_aux['purity'] == round(config.tissuebenchmark.purities[i]*f, 2))].loc[chrpos][method]\n",
    "                    except:\n",
    "                        change_df.loc[chrpos][str(round(config.tissuebenchmark.purities[i]*f, 2))] = False\n",
    "                if change_df_aux.loc[chrpos]['TRUTH'].shape == ():\n",
    "                    change_df.loc[chrpos]['TRUTH'] = change_df_aux.loc[chrpos]['TRUTH']\n",
    "                else:\n",
    "                    change_df.loc[chrpos]['TRUTH'] = np.unique(change_df_aux.loc[chrpos]['TRUTH'].values)[0]\n",
    "            # print(change_df.shape)\n",
    "            change_df['sum'] = sum([change_df[str(round(config.tissuebenchmark.purities[i]*f, 2))] for f in config.tissuebenchmark.fractions])\n",
    "            change_df = change_df[~change_df['sum'].isin([0, 3])].dropna(how='all')\n",
    "            change_df = change_df.astype(int).drop('sum', axis=1)\n",
    "            # plot\n",
    "            #for chrpos, row in change_df.astype(int).drop('sum', axis=1).iterrows():\n",
    "            #    plt.plot(row.astype(int), label=chrpos)\n",
    "            #plt.legend()\n",
    "            change_df = change_df.groupby(change_df.columns.tolist(),as_index=False).size()\n",
    "            print(method)\n",
    "            print(change_df)\n",
    "\n",
    "            c = 0.7\n",
    "            for idx, row in change_df.iterrows():\n",
    "                plt.plot(row[['TRUTH'] + [str(round(config.tissuebenchmark.purities[i]*f, 2)) for f in config.tissuebenchmark.fractions]], lw=row['size'], label=method, c=config.colors[m], alpha=c-max(1/row['size'], 0.2))\n",
    "        custom_lines = [Line2D([0], [0], color=config.colors[m], lw=2) for m in range(len(config.methods))]\n",
    "        plt.legend(custom_lines, config.methods)\n",
    "\n",
    "        plt.xlabel('purity')\n",
    "        plt.ylabel('mutation calling output prediction')\n",
    "        plt.title('Change in mutation prediction w.r.t purity in {} for {}'.format(sample, muttype))\n",
    "\n",
    "        ax.set_yticks([0,1])\n",
    "        ax.set_yticklabels(['False','True'])\n",
    "        plt.show()"
   ]
  },
  {
   "cell_type": "markdown",
   "metadata": {},
   "source": [
    "# True Positive, False Negative and False Positive Mutations"
   ]
  },
  {
   "cell_type": "code",
   "execution_count": null,
   "metadata": {},
   "outputs": [],
   "source": [
    "df = pd.DataFrame(columns=['sample', 'mutation type', 'caller', 'purity', 'metric', 'number of loci', 'rate',  'number of mutations (ground truth)']) #'TN', 'FP', 'FN', 'TP'])\n",
    "metric = ['TN', 'FP', 'FN', 'TP']\n",
    "c = 0\n",
    "for muttype in config.muttype:\n",
    "    for i, sample in enumerate(config.tissuebenchmark.samples):\n",
    "        for method in config.tissuebenchmark.methods:\n",
    "            print(muttype, sample, method)\n",
    "            for f in config.tissuebenchmark.fractions:\n",
    "                vcf_sample = df_table[(df_table['sample'] == sample) & (df_table['mutation type'] == muttype) & (df_table['purity'] == round(config.tissuebenchmark.purities[i]*f, 2))]\n",
    "                ntruth = sum(vcf_sample['TRUTH'])\n",
    "                tn, fp, fn, tp = confusion_matrix(vcf_sample['TRUTH'], vcf_sample[method], labels=[0,1]).ravel()\n",
    "                tpfn = tp + fn\n",
    "                tnfp = tn + fp\n",
    "                for j, tfpn in enumerate([tn, fp, fn, tp]):\n",
    "                    # df.loc[c, :] = [sample, muttype, method, round(config.tissuebenchmark.purities[i]*f, 2), tn, fp, fn, tp]\n",
    "                    if j in [0, 1]:\n",
    "                        df.loc[c, :] = [sample, muttype, method, round(config.tissuebenchmark.purities[i]*f, 2), metric[c%4], tfpn, tfpn/tnfp, ntruth]\n",
    "                    else: # j in [2,3]\n",
    "                        df.loc[c, :] = [sample, muttype, method, round(config.tissuebenchmark.purities[i]*f, 2), metric[c%4], tfpn, tfpn/tpfn, ntruth]\n",
    "                    c += 1\n",
    "df.head(20)"
   ]
  },
  {
   "cell_type": "code",
   "execution_count": null,
   "metadata": {},
   "outputs": [],
   "source": [
    "for muttype in config.muttype:\n",
    "    for s, sample in enumerate(config.tissuebenchmark.samples):\n",
    "        plt.figure(figsize=(10,8))\n",
    "        plots = sns.barplot(x=\"caller\", y=\"rate\", hue=\"purity\", data=df[(df['sample'] == sample) & (df['mutation type'] == muttype) & (df['metric'] == 'TP')], ci=None, palette='Blues_r',\n",
    "                            hue_order=[round(config.tissuebenchmark.purities[s]*config.tissuebenchmark.fractions[i], 2) for i in range(3)])\n",
    "        plt.suptitle('True Positive Rate - '+sample+ ' - '+muttype)\n",
    "        plt.legend(bbox_to_anchor=(1.01, 1), borderaxespad=0, title='purity')\n",
    "        plt.ylim([0,1])\n",
    "        xcoords, ycoords = [], []\n",
    "        ci = 0\n",
    "        # Iterrating over the bars one-by-one\n",
    "        for b, bar in enumerate(plots.patches):\n",
    "            plots.annotate(df[(df['sample'] == sample) & (df['mutation type'] == muttype) & (df['metric'] == 'TP') & (df['caller'] == config.methods[b%5]) & (df['purity'] == round(config.tissuebenchmark.purities[s]*config.tissuebenchmark.fractions[b//5], 2))]['number of loci'].values[0],\n",
    "                   (bar.get_x() + (bar.get_width() / 2),\n",
    "                    bar.get_height()), ha='center', va='center',\n",
    "                   size=15, xytext=(0, 8),\n",
    "                   textcoords='offset points')\n",
    "            \n",
    "        for m,methods in enumerate(config.methods):\n",
    "            for b, bar in enumerate(plots.patches):\n",
    "                if b % len(config.methods) == m:\n",
    "                    #print(b)\n",
    "                    if len(xcoords) == 3:\n",
    "                        xcoords, ycoords = [], []\n",
    "                    xi = bar.get_x() + (bar.get_width() / 2)\n",
    "                    yi = df[(df['sample'] == sample) & (df['mutation type'] == muttype) & (df['caller'] == config.methods[b//3]) & (df['purity'] == round(config.tissuebenchmark.purities[s]*config.tissuebenchmark.fractions[b%3], 2))]['number of mutations (ground truth)'].values[0]\n",
    "                    xcoords.append(xi)\n",
    "                    ycoords.append(yi)\n",
    "                    if len(xcoords) == 3:\n",
    "                        if m == 0:\n",
    "                            redline = ax.plot(xcoords, ycoords, 'ro-', label='Number of ground truths mutations')\n",
    "                        else:\n",
    "                            ax.plot(xcoords, ycoords, 'ro-')\n",
    "        plt.savefig('figures/tissue_benchmark/'+sample+'_'+muttype+'_TPrate',  bbox_inches='tight')\n",
    "\n",
    "        \n",
    "        plt.figure(figsize=(10,8))\n",
    "        plots = sns.barplot(x=\"caller\", y=\"rate\", hue=\"purity\", data=df[(df['sample'] == sample) & (df['mutation type'] == muttype) & (df['metric'] == 'FP')], ci=None, palette='Blues_r',\n",
    "                            hue_order=[round(config.tissuebenchmark.purities[s]*config.tissuebenchmark.fractions[i], 2) for i in range(3)])\n",
    "        plt.suptitle('False Positive Rate - '+sample+ ' - '+muttype)\n",
    "        plt.legend(bbox_to_anchor=(1.01, 1), borderaxespad=0, title='purity')\n",
    "        plt.ylim([0,1])\n",
    "        # Iterrating over the bars one-by-one\n",
    "        for b, bar in enumerate(plots.patches):\n",
    "            plots.annotate(df[(df['sample'] == sample) & (df['mutation type'] == muttype) & (df['metric'] == 'FP') & (df['caller'] == config.methods[b//3]) & (df['purity'] == round(config.tissuebenchmark.purities[s]*config.tissuebenchmark.fractions[b%3], 2))]['number of loci'].values[0],\n",
    "                            #format(bar.get_height(), '.2f'),\n",
    "                           (bar.get_x() + bar.get_width() / 2,\n",
    "                            bar.get_height()), ha='center', va='center',\n",
    "                           size=15, xytext=(0, 8),\n",
    "                           textcoords='offset points')\n",
    "        plt.savefig('figures/tissue_benchmark/'+sample+'_'+muttype+'_FPrate',  bbox_inches='tight')\n",
    "\n",
    "            \n",
    "        plt.figure(figsize=(10,8))\n",
    "        plots = sns.barplot(x=\"caller\", y=\"rate\", hue=\"purity\", data=df[(df['sample'] == sample) & (df['mutation type'] == muttype) & (df['metric'] == 'FN')], ci=None, palette='Blues_r',\n",
    "                            hue_order=[round(config.tissuebenchmark.purities[s]*config.tissuebenchmark.fractions[i], 2) for i in range(3)])\n",
    "        plt.suptitle('False Negative Rate - '+sample+ ' - '+muttype)\n",
    "        plt.legend(bbox_to_anchor=(1.01, 1),  borderaxespad=0, title='purity')\n",
    "        plt.ylim([0,1])\n",
    "        # Iterrating over the bars one-by-one\n",
    "        for b, bar in enumerate(plots.patches):\n",
    "            plots.annotate(df[(df['sample'] == sample) & (df['mutation type'] == muttype) & (df['metric'] == 'FN') & (df['caller'] == config.methods[b//3]) & (df['purity'] == round(config.tissuebenchmark.purities[s]*config.tissuebenchmark.fractions[b%3], 2))]['number of loci'].values[0],\n",
    "                            #format(bar.get_height(), '.2f'),\n",
    "                           (bar.get_x() + bar.get_width() / 2,\n",
    "                            bar.get_height()), ha='center', va='center',\n",
    "                           size=15, xytext=(0, 8),\n",
    "                           textcoords='offset points')\n",
    "        plt.savefig('figures/tissue_benchmark/'+sample+'_'+muttype+'_FNrate',  bbox_inches='tight')\n"
   ]
  },
  {
   "cell_type": "markdown",
   "metadata": {},
   "source": [
    "# Stacked TP, FN, FP, TN"
   ]
  },
  {
   "cell_type": "code",
   "execution_count": null,
   "metadata": {},
   "outputs": [],
   "source": [
    "df = pd.DataFrame(columns=['sample', 'mutation type', 'caller', 'purity', 'TP', 'FN', 'FP', 'FN', ])\n",
    "metric = ['TN', 'FP', 'FN', 'TP']\n",
    "c = 0\n",
    "for muttype in config.muttype:\n",
    "    for i, sample in enumerate(config.tissuebenchmark.samples):\n",
    "        for method in config.tissuebenchmark.methods:\n",
    "            print(muttype, sample, method)\n",
    "            for f in config.tissuebenchmark.fractions:\n",
    "                vcf_sample = df_table[(df_table['sample'] == sample) & (df_table['mutation type'] == muttype) & (df_table['purity'] == round(config.tissuebenchmark.purities[i]*f, 2))]\n",
    "                tn, fp, fn, tp = confusion_matrix(vcf_sample['TRUTH'], vcf_sample[method], labels=[0,1]).ravel()\n",
    "                tpfn = tp + fn\n",
    "                tnfp = tn + fp\n",
    "                df.loc[c, :] = [sample, muttype, method, round(config.tissuebenchmark.purities[i]*f, 2), tp, fn, fp, tn]\n",
    "                c += 1\n",
    "df.head()"
   ]
  },
  {
   "cell_type": "code",
   "execution_count": null,
   "metadata": {},
   "outputs": [],
   "source": [
    "df = pd.DataFrame(columns=['sample', 'mutation type', 'caller', 'purity',  'caller_purity',  'metric', 'number of loci', 'rate']) #'TN', 'FP', 'FN', 'TP'])\n",
    "metric = ['TN', 'FP', 'FN', 'TP']\n",
    "c = 0\n",
    "d = 0\n",
    "for muttype in config.muttype:\n",
    "    for i, sample in enumerate(config.tissuebenchmark.samples):\n",
    "        for method in config.tissuebenchmark.methods:\n",
    "            print(muttype, sample, method)\n",
    "            for f in config.tissuebenchmark.fractions:\n",
    "                vcf_sample = df_table[(df_table['sample'] == sample) & (df_table['mutation type'] == muttype) & (df_table['purity'] == round(config.tissuebenchmark.purities[i]*f, 2))]\n",
    "                tn, fp, fn, tp = confusion_matrix(vcf_sample['TRUTH'], vcf_sample[method], labels=[0,1]).ravel()\n",
    "                tpfn = tp + fn\n",
    "                tnfp = tn + fp\n",
    "                for j, tfpn in enumerate([tn, fp, fn, tp]):\n",
    "                    # df.loc[c, :] = [sample, muttype, method, round(config.tissuebenchmark.purities[i]*f, 2), tn, fp, fn, tp]\n",
    "                    if j in [0, 1]:\n",
    "                        df.loc[c+d, :] = [sample, muttype, method, round(config.tissuebenchmark.purities[i]*f, 2), method + '_' + str(round(config.tissuebenchmark.purities[i]*f, 2)), metric[c%4], tfpn, tfpn/tnfp]\n",
    "                    else: # j in [2,3]\n",
    "                        df.loc[c+d, :] = [sample, muttype, method, round(config.tissuebenchmark.purities[i]*f, 2), method + '_' + str(round(config.tissuebenchmark.purities[i]*f, 2)), metric[c%4], tfpn, tfpn/tpfn]\n",
    "                    c += 1\n",
    "            \n",
    "            df.loc[c+d, :] = [sample, muttype, method, 0, method+'_0', 'TN', 0, 0]\n",
    "            d += 1\n",
    "df.head(30)"
   ]
  },
  {
   "cell_type": "code",
   "execution_count": null,
   "metadata": {},
   "outputs": [],
   "source": [
    "for muttype in config.muttype:\n",
    "    for s, sample in enumerate(config.tissuebenchmark.samples):\n",
    "        #for f in config.tissuebenchmark.fractions:\n",
    "        #for m in config.methods:\n",
    "        plt.figure(figsize=(10,4))\n",
    "        bar = sns.barplot(x=\"caller_purity\", y=\"number of loci\", hue=\"metric\", data=df[(df['sample'] == sample) & (df['mutation type'] == muttype)],\n",
    "                    #order= [round(config.tissuebenchmark.purities[s]*config.tissuebenchmark.fractions[i], 2) for i in range(3)],\n",
    "                    palette=['lightcoral', 'red', 'lightgreen', 'green'],\n",
    "                    dodge= False)\n",
    "        bar.set_xticklabels(bar.get_xticklabels(), rotation=90, horizontalalignment='right')\n",
    "        labels = bar.get_xticklabels() \n",
    "        labels = [l if ((i+1)%4 != 0) else '' for i, l in enumerate(labels)]\n",
    "        bar.set_xticklabels(labels)\n",
    "        plt.suptitle('Predictions - '+sample+ ' - '+muttype)\n",
    "        plt.legend(bbox_to_anchor=(1.01, 1))\n",
    "        #plt.ylim([0,1])\n",
    "        plt.savefig('figures/tissue_benchmark/'+sample+'_'+muttype+'_predictions',  bbox_inches='tight')"
   ]
  },
  {
   "cell_type": "markdown",
   "metadata": {},
   "source": [
    "# Number of mutations"
   ]
  },
  {
   "cell_type": "code",
   "execution_count": null,
   "metadata": {},
   "outputs": [],
   "source": []
  },
  {
   "cell_type": "code",
   "execution_count": null,
   "metadata": {},
   "outputs": [],
   "source": [
    "df = pd.DataFrame(columns=['sample', 'mutation type', 'caller', 'purity', 'number of loci called', 'number of mutations (ground truth)']) #'TN', 'FP', 'FN', 'TP'])\n",
    "metric = ['TN', 'FP', 'FN', 'TP']\n",
    "c = 0\n",
    "for muttype in config.muttype:\n",
    "    for i, sample in enumerate(config.tissuebenchmark.samples):\n",
    "        for method in config.tissuebenchmark.methods:\n",
    "            print(muttype, sample, method)\n",
    "            for f in config.tissuebenchmark.fractions:\n",
    "                vcf_sample = df_table[(df_table['sample'] == sample) & (df_table['mutation type'] == muttype) & (df_table['purity'] == round(config.tissuebenchmark.purities[i]*f, 2))]\n",
    "                ntruth = sum(vcf_sample['TRUTH'])\n",
    "                ncaller = sum(vcf_sample[method])\n",
    "                df.loc[c, :] = [sample, muttype, method, round(config.tissuebenchmark.purities[i]*f, 2), ncaller, ntruth]\n",
    "                c += 1\n",
    "df.head()"
   ]
  },
  {
   "cell_type": "code",
   "execution_count": null,
   "metadata": {},
   "outputs": [],
   "source": [
    "for muttype in config.muttype:\n",
    "    for s, sample in enumerate(config.tissuebenchmark.samples):\n",
    "        plt.figure(figsize=(10,8))\n",
    "        ax = sns.barplot(x=\"caller\", y=\"number of loci called\", hue=\"purity\", data=df[(df['mutation type'] == muttype) & (df['sample'] == sample)], ci=None, palette=\"Greys_r\", log=True,\n",
    "                        hue_order=[round(config.tissuebenchmark.purities[s]*config.tissuebenchmark.fractions[i], 2) for i in range(3)])\n",
    "        leg1 = plt.legend(title='purity', loc=2)\n",
    "\n",
    "        xcoords, ycoords = [], []\n",
    "        for m,methods in enumerate(config.methods):\n",
    "            for b, bar in enumerate(plots.patches):\n",
    "                if b % len(config.methods) == m:\n",
    "                    #print(b)\n",
    "                    if len(xcoords) == 3:\n",
    "                        xcoords, ycoords = [], []\n",
    "                    xi = bar.get_x() + (bar.get_width() / 2)\n",
    "                    yi = df[(df['sample'] == sample) & (df['mutation type'] == muttype) & (df['caller'] == config.methods[b//3]) & (df['purity'] == round(config.tissuebenchmark.purities[s]*config.tissuebenchmark.fractions[b%3], 2))]['number of mutations (ground truth)'].values[0]\n",
    "                    xcoords.append(xi)\n",
    "                    ycoords.append(yi)\n",
    "                    if len(xcoords) == 3:\n",
    "                        if m == 0:\n",
    "                            redline = ax.plot(xcoords, ycoords, 'ro-', label='Number of ground truths mutations')\n",
    "                        else:\n",
    "                            ax.plot(xcoords, ycoords, 'ro-')\n",
    "        plt.ylim([0,15000])\n",
    "        plt.legend(redline, ['# ground truths mutations'], loc='upper right', bbox_to_anchor=(1, 1))\n",
    "        plt.gca().add_artist(leg1)\n",
    "        plt.suptitle('Number of mutations called - '+sample+' - '+muttype)\n",
    "    "
   ]
  },
  {
   "cell_type": "markdown",
   "metadata": {},
   "source": [
    "# Ratio performance attenuation"
   ]
  },
  {
   "cell_type": "code",
   "execution_count": null,
   "metadata": {},
   "outputs": [],
   "source": [
    "df = pd.DataFrame(columns=['sample', 'mutation type', 'caller', 'purity', 'metric', 'number of loci', 'rate',  'number of mutations (ground truth)']) #'TN', 'FP', 'FN', 'TP'])\n",
    "metric = ['TN', 'FP', 'FN', 'TP']\n",
    "c = 0\n",
    "for muttype in config.muttype:\n",
    "    for i, sample in enumerate(config.tissuebenchmark.samples):\n",
    "        for method in config.tissuebenchmark.methods:\n",
    "            print(muttype, sample, method)\n",
    "            for f in config.tissuebenchmark.fractions:\n",
    "                vcf_sample = df_table[(df_table['sample'] == sample) & (df_table['mutation type'] == muttype) & (df_table['purity'] == round(config.tissuebenchmark.purities[i]*f, 2))]\n",
    "                ntruth = sum(vcf_sample['TRUTH'])\n",
    "                tn, fp, fn, tp = confusion_matrix(vcf_sample['TRUTH'], vcf_sample[method], labels=[0,1]).ravel()\n",
    "                tpfn = tp + fn\n",
    "                tnfp = tn + fp\n",
    "                for j, tfpn in enumerate([tn, fp, fn, tp]):\n",
    "                    # df.loc[c, :] = [sample, muttype, method, round(config.tissuebenchmark.purities[i]*f, 2), tn, fp, fn, tp]\n",
    "                    if j in [0, 1]:\n",
    "                        df.loc[c, :] = [sample, muttype, method, round(config.tissuebenchmark.purities[i]*f, 2), metric[c%4], tfpn, tfpn/tnfp, ntruth]\n",
    "                    else: # j in [2,3]\n",
    "                        df.loc[c, :] = [sample, muttype, method, round(config.tissuebenchmark.purities[i]*f, 2), metric[c%4], tfpn, tfpn/tpfn, ntruth]\n",
    "                    c += 1\n",
    "                    \n",
    "df = df[df['metric'] == 'TP']\n",
    "df['TP/GT'] =  df['number of loci'].divide(df['number of mutations (ground truth)'], axis='index') \n",
    "\n",
    "df.head(20)"
   ]
  },
  {
   "cell_type": "code",
   "execution_count": null,
   "metadata": {},
   "outputs": [],
   "source": [
    "for muttype in config.muttype:\n",
    "    for i, sample in enumerate(config.tissuebenchmark.samples):\n",
    "        g = plt.figure(figsize=(12,6))\n",
    "        g = sns.catplot(x='purity', y='TP/GT', hue='caller', data=df[(df['sample'] == sample) & (df['mutation type'] == muttype)], kind='point', height=8,\n",
    "                        order=[round(config.tissuebenchmark.purities[i]*config.tissuebenchmark.fractions[f], 2) for f in range(3)])\n",
    "        plt.title('Detection rate evolution w.r.t purity in '+sample+' - '+muttype)\n",
    "        plt.grid() \n",
    "        plt.ylim([0.5,1])\n",
    "        plt.savefig('figures/tissue_benchmark/'+sample+'_'+muttype+'_detectionrate',  bbox_inches='tight')"
   ]
  },
  {
   "cell_type": "code",
   "execution_count": null,
   "metadata": {},
   "outputs": [],
   "source": [
    "res = df\n",
    "a = res[['sample', 'mutation type', 'caller', 'TP/GT', 'purity']][res['purity'] > 0.9].set_index(['sample', 'mutation type', 'caller']).drop('purity', axis=1)\n",
    "b = res[['sample', 'mutation type', 'caller', 'TP/GT', 'purity']][res['purity'] <= 0.2].set_index(['sample', 'mutation type', 'caller']).drop('purity', axis=1)\n",
    "res = (a-b).divide(a).reset_index()\n",
    "res['TP/GT'] = 100*res['TP/GT']\n",
    "res"
   ]
  },
  {
   "cell_type": "code",
   "execution_count": null,
   "metadata": {},
   "outputs": [],
   "source": [
    "for muttype in config.muttype:\n",
    "    plt.figure(figsize=(20,12))\n",
    "    #sns.set_style(\"whitegrid\")\n",
    "    sns.catplot(y='TP/GT', x='sample', hue='caller', data=res[res['mutation type'] == muttype], height=8, aspect=0.8, s=15)\n",
    "    plt.axhline(y=0, c='k', ls='--')\n",
    "    plt.grid()\n",
    "    plt.ylim([-15, 20])\n",
    "    plt.ylabel('(TP/GT$_{\\\\rm{high purity}}$ - TP/GT$_{\\\\rm{low purity}}$) / TP/GT$_{\\\\rm{high purity}}$) (%) ')\n",
    "    plt.title('Performance attenuation factor\\n between high and low tumor purity sample - ' + muttype)\n",
    "    plt.savefig('figures/tissue_benchmark/'+muttype+'_performanceattenuationfactor',  bbox_inches='tight')"
   ]
  },
  {
   "cell_type": "code",
   "execution_count": null,
   "metadata": {},
   "outputs": [],
   "source": []
  }
 ],
 "metadata": {
  "kernelspec": {
   "display_name": "Python 3",
   "language": "python",
   "name": "python3"
  },
  "language_info": {
   "codemirror_mode": {
    "name": "ipython",
    "version": 3
   },
   "file_extension": ".py",
   "mimetype": "text/x-python",
   "name": "python",
   "nbconvert_exporter": "python",
   "pygments_lexer": "ipython3",
   "version": "3.7.10"
  }
 },
 "nbformat": 4,
 "nbformat_minor": 4
}
