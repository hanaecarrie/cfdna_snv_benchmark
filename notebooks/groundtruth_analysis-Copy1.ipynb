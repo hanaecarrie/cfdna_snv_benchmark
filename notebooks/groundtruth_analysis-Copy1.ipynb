{
 "cells": [
  {
   "cell_type": "markdown",
   "id": "annoying-smell",
   "metadata": {},
   "source": [
    "# Ground truth analysis"
   ]
  },
  {
   "cell_type": "code",
   "execution_count": null,
   "id": "endless-andrews",
   "metadata": {},
   "outputs": [],
   "source": [
    "# Imports\n",
    "\n",
    "%load_ext autoreload\n",
    "%autoreload 2\n",
    "\n",
    "import io\n",
    "import os\n",
    "import numpy as np\n",
    "import pandas as pd\n",
    "import matplotlib.pyplot as plt\n",
    "import seaborn as sns\n",
    "import pysam\n",
    "import warnings\n",
    "from tqdm.notebook import tqdm\n",
    "from sklearn.metrics import precision_recall_curve, f1_score, average_precision_score\n",
    "warnings.filterwarnings('ignore')\n",
    "from sklearn.metrics import confusion_matrix\n",
    "\n",
    "# set working directory\n",
    "if not os.getcwd().endswith('cfdna_snv_benchmark'):\n",
    "    os.chdir('../')\n",
    "print('Current working directory: {}'.format(os.getcwd()))\n",
    "\n",
    "from utils.config import Config\n",
    "from utils.viz import *\n",
    "from utils.table import *\n",
    "from utils.metrics import *\n",
    "from utils.calltable import *\n",
    "from utils.calltableseries import *\n",
    "from utils.groundtruth import *\n",
    "from utils.metricsseries import *\n",
    "from utils.venn import *"
   ]
  },
  {
   "cell_type": "code",
   "execution_count": null,
   "id": "subject-tunisia",
   "metadata": {},
   "outputs": [],
   "source": [
    "# Config and Display paramaters\n",
    "\n",
    "config = Config(\"config/\", \"config_viz.yaml\")\n",
    "set_display_params(config)\n",
    "print(config.methods)\n",
    "print(config.methods_tissue)"
   ]
  },
  {
   "cell_type": "code",
   "execution_count": null,
   "id": "fossil-merit",
   "metadata": {},
   "outputs": [],
   "source": [
    "M1W_snv_table, _, _ = get_calltable('data/matchedtissue/NCC_CRC-986_100215-M1W', config.methods_tissue, save=True, filter='PASS')"
   ]
  },
  {
   "cell_type": "code",
   "execution_count": null,
   "id": "mounted-boundary",
   "metadata": {},
   "outputs": [],
   "source": [
    "gt1 = pd.read_csv(os.path.join('data', 'matchedtissue', 'NCC_CRC-986_100215-T1W', 'calls', 'NCC_CRC-986_100215-T1W_snv_calls_PASS_exome.csv'), index_col=0)\n",
    "gt2 = pd.read_csv(os.path.join('data', 'matchedtissue_ultradeep', '986_100215_T1-E', 'calls', '986_100215_T1-E_snv_calls_all.csv'), index_col=0)\n",
    "print(gt1.shape[0], gt2.shape[0])"
   ]
  },
  {
   "cell_type": "code",
   "execution_count": null,
   "id": "hazardous-repository",
   "metadata": {},
   "outputs": [],
   "source": [
    "len(list(set(list(gt1.index)) & set(list(gt2.index))))"
   ]
  },
  {
   "cell_type": "code",
   "execution_count": null,
   "id": "signal-going",
   "metadata": {},
   "outputs": [],
   "source": [
    "gt1filtered = list(gt1[gt1[['{}'.format(m) for m in config.methods_tissue]].sum(axis=1) >= 3].index)\n",
    "gt2filtered = list(gt2[gt2[['{}'.format(m) for m in config.methods_tissue]].sum(axis=1) >= 3].index)\n",
    "print(len(gt1filtered), len(gt2filtered))"
   ]
  },
  {
   "cell_type": "code",
   "execution_count": null,
   "id": "dependent-flush",
   "metadata": {},
   "outputs": [],
   "source": [
    "len(list(set(gt1filtered) & set(gt2filtered)))"
   ]
  },
  {
   "cell_type": "markdown",
   "id": "magnetic-charlotte",
   "metadata": {},
   "source": [
    "# Get call sets for cfDNA, T1W, M1W on exome calling"
   ]
  },
  {
   "cell_type": "code",
   "execution_count": null,
   "id": "photographic-geography",
   "metadata": {},
   "outputs": [],
   "source": [
    "T1W_exome_snv_table = pd.read_csv(os.path.join('data', 'matchedtissue_ultradeep', '986_100215_T1-E', 'calls', '986_100215_T1-E_snv_calls_all.csv'), index_col=0)\n",
    "T1W_exome_snv_table"
   ]
  },
  {
   "cell_type": "code",
   "execution_count": null,
   "id": "official-great",
   "metadata": {},
   "outputs": [],
   "source": [
    "T1W_exome_indel_table = pd.read_csv(os.path.join('data', 'matchedtissue_ultradeep', '986_100215_T1-E', 'calls', '986_100215_T1-E_indel_calls_all.csv'), index_col=0)\n",
    "T1W_exome_indel_table"
   ]
  },
  {
   "cell_type": "code",
   "execution_count": null,
   "id": "finite-installation",
   "metadata": {},
   "outputs": [],
   "source": [
    "M1W_exome_snv_table = pd.read_csv(os.path.join('data', 'matchedtissue_ultradeep', '986_100215_M1-E', 'calls', '986_100215_M1-E_snv_calls_all.csv'), index_col=0)\n",
    "M1W_exome_snv_table"
   ]
  },
  {
   "cell_type": "code",
   "execution_count": null,
   "id": "neutral-links",
   "metadata": {},
   "outputs": [],
   "source": [
    "M1W_exome_indel_table = pd.read_csv(os.path.join('data', 'matchedtissue_ultradeep', '986_100215_M1-E', 'calls', '986_100215_M1-E_indel_calls_all.csv'), index_col=0)\n",
    "M1W_exome_indel_table"
   ]
  },
  {
   "cell_type": "code",
   "execution_count": null,
   "id": "protected-coverage",
   "metadata": {},
   "outputs": [],
   "source": [
    "mutations = {'APC': '5_112128143_C_T',\n",
    "            'EGFR:V441G': '7_55227855_T_G',\n",
    "            'EGFR:S492R': '7_55228007_A_C',\n",
    "            'PIK3CA': '3_178936092_A_G',\n",
    "            'SOX9': '17_70119758_C_CGA',\n",
    "            'TP53': '17_7578394_T_C', \n",
    "            'DPYP': '1_97915727_G_T',\n",
    "            'NF1': '17_29663722_C_T',\n",
    "            'POLD1': '19_50905525_G_A',\n",
    "            'EPHB2': '1_23222037_T_G'}\n",
    "\n",
    "for mutname, mutcoords in mutations.items():\n",
    "    print(\"###### \"+ mutname + ': ' + mutcoords + ' #######')\n",
    "    if mutname != 'SOX9':\n",
    "        if mutcoords in T1W_exome_snv_table.index:\n",
    "            print('Mutation called by {} callers in T1'.format(T1W_exome_snv_table[['freebayes', 'mutect2', 'strelka2', 'vardict', 'varscan']].loc[mutcoords].sum()))\n",
    "            print(T1W_exome_snv_table[['freebayes_totcov', 'mutect2_totcov', 'strelka2_totcov', 'vardict_totcov', 'varscan_totcov']].loc[mutcoords])\n",
    "        else:\n",
    "            print('Mutation not present in T1')\n",
    "        if mutcoords in M1W_exome_snv_table.index:\n",
    "            print('Mutation called by {} callers in M1'.format(M1W_exome_snv_table[['freebayes', 'mutect2', 'strelka2', 'vardict', 'varscan']].loc[mutcoords].sum()))\n",
    "        else:\n",
    "            print('Mutation not present in M1')\n",
    "    else:\n",
    "        if mutcoords in T1W_exome_indel_table.index:\n",
    "            print('Mutation called by {} callers in T1'.format(T1W_exome_indel_table[['freebayes', 'mutect2', 'strelka2', 'vardict', 'varscan']].loc[mutcoords].sum()))\n",
    "            print(T1W_exome_indel_table[['freebayes_altcov', 'mutect2_altcov', 'strelka2_altcov', 'vardict_altcov', 'varscan_altcov']].loc[mutcoords])\n",
    "\n",
    "        else:\n",
    "            print('Mutation not present in T1')\n",
    "        if mutcoords in T1W_exome_indel_table.index:\n",
    "            print('Mutation called by {} callers in M1'.format(T1W_exome_indel_table[['freebayes', 'mutect2', 'strelka2', 'vardict', 'varscan']].loc[mutcoords].sum()))\n",
    "        else:\n",
    "            print('Mutation not present in M1')"
   ]
  },
  {
   "cell_type": "code",
   "execution_count": null,
   "id": "caring-prairie",
   "metadata": {},
   "outputs": [],
   "source": [
    "T1W_exome_indel_table[T1W_exome_indel_table['pos'] == 70119758].index"
   ]
  },
  {
   "cell_type": "code",
   "execution_count": null,
   "id": "multiple-mobile",
   "metadata": {},
   "outputs": [],
   "source": [
    "M1W_WGS_snv_table = pd.read_csv('data/matchedtissue/NCC_CRC-986_100215-M1W/calls/NCC_CRC-986_100215-M1W_snv_calls_PASS.csv', index_col=0)\n",
    "M1W_WGS_snv_table"
   ]
  },
  {
   "cell_type": "code",
   "execution_count": null,
   "id": "affecting-miniature",
   "metadata": {},
   "outputs": [],
   "source": [
    "# load exome regions\n",
    "exomebed = pd.read_csv('data/extdata/xgen-exome-research-panel-targets_nochr.bed', sep='\\t', header=None)\n",
    "exomebed.columns = ['chrom', 'startpos', 'endpos', 'a', 'b', 'c']\n",
    "exomebed = exomebed[['chrom', 'startpos', 'endpos']]\n",
    "exomebed['chrom'] = exomebed['chrom'].astype(str)\n",
    "\n",
    "# exome filtering\n",
    "noncodingregions = []\n",
    "for pos in tqdm(list(M1W_WGS_snv_table.index)):\n",
    "    chrom, startpos, ref, alt = pos.split('_')\n",
    "    if str(chrom) not in exomebed['chrom'].unique().astype(str):\n",
    "        noncodingregions.append(pos)\n",
    "    else:\n",
    "        exomechrom = exomebed[exomebed['chrom'] == str(chrom)]\n",
    "        count = False\n",
    "        for ind in list(exomechrom.index):\n",
    "            # print(exomechrom['endpos'][ind], exomechrom['startpos'][ind])\n",
    "            if exomechrom['endpos'][ind] >= int(startpos):\n",
    "                if exomechrom['startpos'][ind] <= int(startpos):\n",
    "                    count = True\n",
    "        if not count:\n",
    "            noncodingregions.append(pos)\n",
    "        #print(pos, count)"
   ]
  },
  {
   "cell_type": "code",
   "execution_count": null,
   "id": "needed-midnight",
   "metadata": {},
   "outputs": [],
   "source": [
    "M1W_exome_snv_table = M1W_WGS_snv_table.drop(noncodingregions)\n",
    "#T1W_exome_snv_table.to_csv(os.path.join('data/matchedtissue/NCC_CRC-986_100215-T1W', 'calls', 'NCC_CRC-986_100215-T1W_snv_calls_all_exome.csv'))"
   ]
  },
  {
   "cell_type": "code",
   "execution_count": null,
   "id": "critical-fleet",
   "metadata": {},
   "outputs": [],
   "source": [
    "# M1W_exome_snv_table.to_csv(os.path.join('data/matchedtissue/NCC_CRC-986_100215-M1W', 'calls', 'NCC_CRC-986_100215-M1W_snv_calls_PASS_exome.csv'))"
   ]
  },
  {
   "cell_type": "code",
   "execution_count": null,
   "id": "unlikely-harmony",
   "metadata": {},
   "outputs": [],
   "source": [
    "T1W_exome_snv_table[T1W_exome_snv_table['chrom'] != 'X'].shape"
   ]
  },
  {
   "cell_type": "code",
   "execution_count": null,
   "id": "heard-family",
   "metadata": {},
   "outputs": [],
   "source": [
    "T1W_exome_snv_table[config.methods_tissue].sum()"
   ]
  },
  {
   "cell_type": "code",
   "execution_count": null,
   "id": "ideal-nurse",
   "metadata": {},
   "outputs": [],
   "source": [
    "M1W_exome_snv_table = pd.read_csv(os.path.join('data', 'matchedtissue', 'NCC_CRC-986_100215-M1W', 'calls', 'NCC_CRC-986_100215-M1W_snv_calls_PASS_exome.csv'), index_col=0)\n",
    "M1W_exome_snv_table = M1W_exome_snv_table[M1W_exome_snv_table['chrom'] != 'X']"
   ]
  },
  {
   "cell_type": "code",
   "execution_count": null,
   "id": "theoretical-fiber",
   "metadata": {},
   "outputs": [],
   "source": [
    "T1W_exome_snv_table = pd.read_csv(os.path.join('data', 'matchedtissue', 'NCC_CRC-986_100215-T1W', 'calls', 'NCC_CRC-986_100215-T1W_snv_calls_PASS_exome.csv'), index_col=0)\n",
    "T1W_exome_snv_table = T1W_exome_snv_table[T1W_exome_snv_table['chrom'] != 'X']\n",
    "T1W_exome_snv_table"
   ]
  },
  {
   "cell_type": "code",
   "execution_count": null,
   "id": "married-ownership",
   "metadata": {},
   "outputs": [],
   "source": [
    "len(set(M1W_exome_snv_table.index) | set(T1W_exome_snv_table.index)  | set(cfdna1_snv_table.index))"
   ]
  },
  {
   "cell_type": "code",
   "execution_count": null,
   "id": "silver-efficiency",
   "metadata": {},
   "outputs": [],
   "source": [
    "len(set(cfdna1_snv_table.index))"
   ]
  },
  {
   "cell_type": "code",
   "execution_count": null,
   "id": "acceptable-designer",
   "metadata": {},
   "outputs": [],
   "source": [
    "cfdna1_snv_table = cfdna1_snv_table[cfdna1_snv_table[['freebayes', 'mutect2', 'strelka2', 'vardict', 'varscan']].sum(axis=1) > 0]"
   ]
  },
  {
   "cell_type": "code",
   "execution_count": null,
   "id": "wired-chapel",
   "metadata": {},
   "outputs": [],
   "source": [
    "cfdna1_snv_table['vardict'].sum()"
   ]
  },
  {
   "cell_type": "code",
   "execution_count": null,
   "id": "alone-shift",
   "metadata": {},
   "outputs": [],
   "source": [
    "cfdna1_snv_table_list = []\n",
    "for i in range(1,23):\n",
    "    if i not in [1, 2, 8, 20, 21, 22]: \n",
    "        cfdna1_chri_snv_table = pd.read_csv(os.path.join('data', 'mixtures', 'mixtures_chr'+str(i), 'mixtures_chr'+str(i)+'_CRC-986_100215-CW-T_CRC-986_300316-CW-T',\n",
    "                                                    'mixture_chr'+str(i)+'_CRC-986_100215-CW-T_70x_CRC-986_300316-CW-T_0x', 'calls',\n",
    "                                                    'mixture_chr'+str(i)+'_CRC-986_100215-CW-T_70x_CRC-986_300316-CW-T_0x_snv_calls_all.csv'), index_col=0)\n",
    "        cfdna1_snv_table_list.append(cfdna1_chri_snv_table)\n",
    "cfdna1_snv_table = pd.concat(cfdna1_snv_table_list)\n",
    "#cfdna1_snv_table.drop(['varnet', 'varnet_score', 'varnet_vaf', 'varnet_altcov', 'varnet_totcov'], axis=1, inplace=True)\n",
    "#cfdna1_snv_table.drop(['varnetbis', 'varnetbis_score', 'varnetbis_vaf', 'varnetbis_altcov', 'varnetbis_totcov'], axis=1, inplace=True)\n",
    "cfdna1_snv_table.drop(['smurf', 'smurf_score', 'smurf_vaf', 'smurf_altcov', 'smurf_totcov'], axis=1, inplace=True)\n",
    "cfdna1_snv_table"
   ]
  },
  {
   "cell_type": "code",
   "execution_count": null,
   "id": "growing-possession",
   "metadata": {},
   "outputs": [],
   "source": [
    "for chrom in [1, 2, 8, 20, 21, 22]:\n",
    "    T1W_exome_snv_table = T1W_exome_snv_table[T1W_exome_snv_table['chrom'] != str(chrom)]\n",
    "    M1W_exome_snv_table = M1W_exome_snv_table[M1W_exome_snv_table['chrom'] != str(chrom)]"
   ]
  },
  {
   "cell_type": "code",
   "execution_count": null,
   "id": "wanted-portal",
   "metadata": {},
   "outputs": [],
   "source": [
    "calltabledict = {\n",
    "    'cfdna1': cfdna1_snv_table,\n",
    "    'T1W': T1W_exome_snv_table,\n",
    "    'M1W': M1W_exome_snv_table,\n",
    "    #'M2W': M2W_exome_snv_table,\n",
    "}"
   ]
  },
  {
   "cell_type": "code",
   "execution_count": null,
   "id": "turkish-guyana",
   "metadata": {},
   "outputs": [],
   "source": [
    "calltabledict = {\n",
    "    'cfdna1': cfdna1_snv_table,\n",
    "    'T1W': T1W_WES_snv_table,\n",
    "    'M1W': M1W_WES_snv_table,\n",
    "}"
   ]
  },
  {
   "cell_type": "code",
   "execution_count": null,
   "id": "brave-packing",
   "metadata": {},
   "outputs": [],
   "source": [
    "calltabledict['M1W'].index#.columns\n",
    "#calltabledict['cfdna1'].index"
   ]
  },
  {
   "cell_type": "code",
   "execution_count": null,
   "id": "falling-translator",
   "metadata": {},
   "outputs": [],
   "source": [
    "res =  compare_groundtruth(calltabledict)"
   ]
  },
  {
   "cell_type": "code",
   "execution_count": null,
   "id": "international-youth",
   "metadata": {},
   "outputs": [],
   "source": [
    "calls_cfdna1 = res['cfdna1_5_5']\n",
    "print(len(calls_cfdna1))\n",
    "calls_T1W = res['T1W_1_3']\n",
    "print(len(calls_T1W))\n",
    "calls_M1W = res['M1W_1_3']\n",
    "print(len(calls_M1W))\n",
    "labels = get_labels([calls_cfdna1, calls_T1W, calls_M1W])\n",
    "print(labels)"
   ]
  },
  {
   "cell_type": "code",
   "execution_count": null,
   "id": "under-pound",
   "metadata": {},
   "outputs": [],
   "source": [
    "venn3(labels, ['cfdna', 'T1', 'M1'])"
   ]
  },
  {
   "cell_type": "code",
   "execution_count": null,
   "id": "equal-guard",
   "metadata": {},
   "outputs": [],
   "source": [
    "cfdna_df = pd.DataFrame(index=calls_cfdna1)\n",
    "\n",
    "cfdna_df['cfdna'] = True\n",
    "\n",
    "T1W_df = pd.DataFrame(index=calls_T1W)\n",
    "\n",
    "T1W_df['T1W'] = True\n",
    "\n",
    "M1W_df = pd.DataFrame(index=calls_M1W)\n",
    "\n",
    "M1W_df['M1W'] = True\n",
    "\n",
    "res1 = pd.concat([cfdna_df, T1W_df, M1W_df], axis=1)\n",
    "\n",
    "res1.fillna(False, inplace=True)\n",
    "\n",
    "res1"
   ]
  },
  {
   "cell_type": "code",
   "execution_count": null,
   "id": "bibliographic-kruger",
   "metadata": {},
   "outputs": [],
   "source": [
    "\n",
    "from scipy.stats import fisher_exact\n",
    "from statsmodels.sandbox.stats.multicomp import multipletests\n",
    "\n",
    "# contingency table and Fisher exact test\n",
    "\n",
    "testres = {}\n",
    "for pairs in [('cfdna', 'T1W'), ('cfdna', 'M1W'), ('T1W', 'M1W')]:\n",
    "    a, b =  pairs\n",
    "    print(\"############\")\n",
    "    print(a, 'VS', b)\n",
    "    print(\"############\")\n",
    "    ctable = [[res1[(res1[a]==True) & (res1[b]==True)].shape[0], res1[(res1[a]==False) & (res1[b]==True)].shape[0]],\n",
    "              [res1[(res1[a]==True) & (res1[b]==False)].shape[0], int(20000 - res1[(res1[a]==True) | (res1[b]==True)].shape[0])]]\n",
    "    \n",
    "    #p_adjusted = multipletests(Column6, method='bonferroni')\n",
    "    odd_ratio, p_value = fisher_exact(ctable, alternative='two-sided')\n",
    "    print('Contingency table:')\n",
    "    print(pd.DataFrame(ctable, columns=[a+' & '+b, '!'+a+' & '+b], index=[a+' & !'+b, '!'+a+' & !'+b]))\n",
    "    print('Fisher exact test (two-sided): odd_ratio = {}, p_value = {}'.format(odd_ratio, p_value))\n",
    "    testres[a+' VS '+b] = [p_value]\n",
    "\n",
    "testres = pd.DataFrame.from_dict(testres).T\n",
    "testres.columns = ['p_value']\n",
    "testres['p_value_adjusted'] = multipletests(testres['p_value'].values, method='bonferroni')[1]\n",
    "testres[['p_value_adjusted']]"
   ]
  },
  {
   "cell_type": "code",
   "execution_count": null,
   "id": "surprising-filling",
   "metadata": {},
   "outputs": [],
   "source": [
    "cfdnaonly = list(set(calls_cfdna1) - set(calls_T1W) - set(calls_M1W))\n",
    "len(cfdnaonly)"
   ]
  },
  {
   "cell_type": "code",
   "execution_count": null,
   "id": "third-synthesis",
   "metadata": {},
   "outputs": [],
   "source": [
    "cfdna1_snv_table.columns"
   ]
  },
  {
   "cell_type": "code",
   "execution_count": null,
   "id": "skilled-captain",
   "metadata": {},
   "outputs": [],
   "source": [
    "cfdna1_snv_table.loc[cfdnaonly][config.methods].sum()"
   ]
  },
  {
   "cell_type": "code",
   "execution_count": null,
   "id": "distant-cement",
   "metadata": {},
   "outputs": [],
   "source": [
    "cfdna1_snv_table.loc[cfdnaonly][config.methods]#.sum(axis=1)"
   ]
  },
  {
   "cell_type": "code",
   "execution_count": null,
   "id": "patent-rebel",
   "metadata": {},
   "outputs": [],
   "source": [
    "#np.array(calls_cfdna1).tofile('data/matchedtissue/venndiagram/calls_cfdna1_atleast5callers_withvarnet.csv', sep = ',')\n",
    "np.array(calls_T1W).tofile('data/matchedtissue/venndiagram/calls_T1W_atleast3callers_withvarnet.csv', sep = ',')\n",
    "np.array(calls_M1W).tofile('data/matchedtissue/venndiagram/calls_M1W_atleast3callers_withvarnet.csv', sep = ',')"
   ]
  },
  {
   "cell_type": "code",
   "execution_count": null,
   "id": "independent-creator",
   "metadata": {},
   "outputs": [],
   "source": [
    "calls_cfdna1 = [str(i)[1:-1] for i in list(pd.read_csv(\"data/matchedtissue/venndiagram/calls_cfdna1_atleast4callers.csv\", header=None).values)[0]]\n",
    "calls_T1W =  [str(i)[1:-1] for i in list(pd.read_csv(\"data/matchedtissue/venndiagram/calls_T1W_atleast3callers.csv\", header=None).values)[0]]\n",
    "calls_M1W = [str(i)[1:-1] for i in list(pd.read_csv(\"data/matchedtissue/venndiagram/calls_M1W_atleast3callers.csv\", header=None).values)[0]]"
   ]
  },
  {
   "cell_type": "markdown",
   "id": "necessary-usage",
   "metadata": {},
   "source": [
    "# Table to compare call sets"
   ]
  },
  {
   "cell_type": "code",
   "execution_count": null,
   "id": "cardiac-interface",
   "metadata": {},
   "outputs": [],
   "source": [
    "cfdna_df = pd.DataFrame(index=calls_cfdna1)\n",
    "cfdna_df['cfdna'] = True\n",
    "T1W_df = pd.DataFrame(index=calls_T1W)\n",
    "T1W_df['T1W'] = True\n",
    "M1W_df = pd.DataFrame(index=calls_M1W)\n",
    "M1W_df['M1W'] = True\n",
    "res = pd.concat([cfdna_df, T1W_df, M1W_df], axis=1)\n",
    "res.fillna(False, inplace=True)\n",
    "res"
   ]
  },
  {
   "cell_type": "markdown",
   "id": "abroad-theme",
   "metadata": {},
   "source": [
    "# Jaccard similarity score of call set pairs"
   ]
  },
  {
   "cell_type": "code",
   "execution_count": null,
   "id": "complete-prime",
   "metadata": {},
   "outputs": [],
   "source": [
    "from sklearn.metrics import jaccard_score\n",
    "print(\"{:.2f},{:.2f},{:.2f}\".format(jaccard_score(res['cfdna'], res['T1W']), jaccard_score(res['cfdna'], res['M1W']), jaccard_score(res['T1W'], res['M1W'])))\n",
    "print(\"{:.2f},{:.2f},{:.2f}\".format(jaccard_score(res['T1W'], res['cfdna']), jaccard_score(res['M1W'], res['cfdna']), jaccard_score(res['M1W'], res['T1W'])))"
   ]
  },
  {
   "cell_type": "markdown",
   "id": "infrared-community",
   "metadata": {},
   "source": [
    "# Fisher exact test on call sets pairs\n",
    "\n",
    "## NB: would need to evaluate number of base pairs with sufficient coverage evaluated. Here, took N = 20K (approx number of protein-coding genes with decent coverage)"
   ]
  },
  {
   "cell_type": "code",
   "execution_count": null,
   "id": "black-paint",
   "metadata": {},
   "outputs": [],
   "source": [
    "\n",
    "from scipy.stats import fisher_exact\n",
    "from statsmodels.sandbox.stats.multicomp import multipletests\n",
    "\n",
    "# contingency table and Fisher exact test\n",
    "\n",
    "testres = {}\n",
    "for pairs in [('cfdna', 'T1W'), ('cfdna', 'M1W'), ('T1W', 'M1W')]:\n",
    "    a, b =  pairs\n",
    "    print(\"############\")\n",
    "    print(a, 'VS', b)\n",
    "    print(\"############\")\n",
    "    ctable = [[res[(res[a]==True) & (res[b]==True)].shape[0], res[(res[a]==False) & (res[b]==True)].shape[0]],\n",
    "              [res[(res[a]==True) & (res[b]==False)].shape[0], int(20000 - res[(res[a]==True) | (res[b]==True)].shape[0])]]\n",
    "    \n",
    "    #p_adjusted = multipletests(Column6, method='bonferroni')\n",
    "    odd_ratio, p_value = fisher_exact(ctable, alternative='two-sided')\n",
    "    print('Contingency table:')\n",
    "    print(pd.DataFrame(ctable, columns=[a+' & '+b, '!'+a+' & '+b], index=[a+' & !'+b, '!'+a+' & !'+b]))\n",
    "    print('Fisher exact test (two-sided): odd_ratio = {}, p_value = {}'.format(odd_ratio, p_value))\n",
    "    testres[a+' VS '+b] = [p_value]\n",
    "\n",
    "testres = pd.DataFrame.from_dict(testres).T\n",
    "testres.columns = ['p_value']\n",
    "testres['p_value_adjusted'] = multipletests(testres['p_value'].values, method='bonferroni')[1]\n",
    "testres[['p_value_adjusted']]"
   ]
  },
  {
   "cell_type": "markdown",
   "id": "manufactured-facial",
   "metadata": {},
   "source": [
    "# 150x and 2000x ground truths"
   ]
  },
  {
   "cell_type": "code",
   "execution_count": null,
   "id": "peaceful-rolling",
   "metadata": {},
   "outputs": [],
   "source": [
    "A = pd.read_csv('figures/figure2b/gt_986_exome_150x_atleast5callersinundilutedsample_snv.csv', index_col=0)\n",
    "B = pd.read_csv('figures/figure2b/gt_986_exome_2000x_atleast5callersinundilutedsample_snv.csv', index_col=0)\n",
    "print(A.shape[0], B.shape[0])"
   ]
  },
  {
   "cell_type": "code",
   "execution_count": null,
   "id": "urban-basket",
   "metadata": {},
   "outputs": [],
   "source": [
    "ab = list(set(set(list(A.index)) & set(list(B.index))))\n",
    "len(ab)"
   ]
  },
  {
   "cell_type": "code",
   "execution_count": null,
   "id": "exotic-camel",
   "metadata": {},
   "outputs": [],
   "source": [
    "comp = pd.concat([A.loc[ab], B.loc[ab]], axis=1)\n",
    "comp.columns = ['vaf 150x', 'vaf 2000x']\n",
    "plt.figure(figsize=(10,10))\n",
    "sns.histplot(x='vaf 150x', y='vaf 2000x', data=comp, binwidth=0.01, binrange=[0,0.5], alpha=1)\n",
    "#comp.plot(x='A', y='B', kind='scatter', color='b')"
   ]
  },
  {
   "cell_type": "code",
   "execution_count": null,
   "id": "substantial-madison",
   "metadata": {},
   "outputs": [],
   "source": [
    "comp = pd.concat([Awithoutab, ac], axis=1)\n",
    "\n",
    "\n",
    "ac = calltablesseries.loc[[a for a in list(Awithoutab.index) if a in calltablesseries.index]][['{:.2f}_{}_vaf'.format(aux['tf'].max(), m) for m in config.methods if ('{:.2f}_{}'.format(aux['tf'].max(), m) in calltablesseries.columns) and (m != 'smurf')]].median(skipna=True, axis=1)\n",
    "print(ac.shape)\n"
   ]
  },
  {
   "cell_type": "code",
   "execution_count": null,
   "id": "blond-february",
   "metadata": {},
   "outputs": [],
   "source": [
    "Awithoutab = A.loc[list(set(A.index) - set(ab))]\n",
    "sns.histplot(x='median_vaf', data=Awithoutab)"
   ]
  },
  {
   "cell_type": "code",
   "execution_count": null,
   "id": "matched-headset",
   "metadata": {},
   "outputs": [],
   "source": [
    "plt.figure(figsize=(20,5))\n",
    "Bwithoutab = B.loc[list(set(B.index) - set(ab))]\n",
    "sns.histplot(x='median_vaf', data=Bwithoutab, binwidth=0.01, binrange=[0,1], alpha=0.5, label='2000x only')\n",
    "sns.histplot(x='B', data=comp, color='red', binwidth=0.01, binrange=[0,1], alpha=0.5, label='both')\n",
    "Awithoutab = A.loc[list(set(A.index) - set(ab))]\n",
    "sns.histplot(x='median_vaf', data=Awithoutab, color='green', binwidth=0.01, binrange=[0,1], alpha=0.5, label='150x only')\n",
    "plt.legend()"
   ]
  },
  {
   "cell_type": "code",
   "execution_count": null,
   "id": "diverse-retirement",
   "metadata": {},
   "outputs": [],
   "source": [
    "list(Awithoutab.index)"
   ]
  },
  {
   "cell_type": "code",
   "execution_count": null,
   "id": "consolidated-triangle",
   "metadata": {},
   "outputs": [],
   "source": []
  }
 ],
 "metadata": {
  "kernelspec": {
   "display_name": "Python 3",
   "language": "python",
   "name": "python3"
  },
  "language_info": {
   "codemirror_mode": {
    "name": "ipython",
    "version": 3
   },
   "file_extension": ".py",
   "mimetype": "text/x-python",
   "name": "python",
   "nbconvert_exporter": "python",
   "pygments_lexer": "ipython3",
   "version": "3.7.10"
  }
 },
 "nbformat": 4,
 "nbformat_minor": 5
}
