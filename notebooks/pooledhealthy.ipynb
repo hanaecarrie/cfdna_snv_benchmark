{
 "cells": [
  {
   "cell_type": "markdown",
   "id": "greater-vietnam",
   "metadata": {},
   "source": [
    "# Pooled healthy exploration"
   ]
  },
  {
   "cell_type": "code",
   "execution_count": null,
   "id": "hazardous-macro",
   "metadata": {},
   "outputs": [],
   "source": [
    "%load_ext autoreload\n",
    "%autoreload 2\n",
    "\n",
    "import io\n",
    "import os\n",
    "import numpy as np\n",
    "import pandas as pd\n",
    "import matplotlib.pyplot as plt\n",
    "import seaborn as sns\n",
    "import pysam\n",
    "import warnings\n",
    "from sklearn.metrics import precision_recall_curve, f1_score, average_precision_score\n",
    "warnings.filterwarnings('ignore')\n",
    "from sklearn.metrics import confusion_matrix\n",
    "from tqdm.notebook import tqdm\n",
    "\n",
    "# set working directory\n",
    "if not os.getcwd().endswith('cfdna_snv_benchmark'):\n",
    "    os.chdir('../')\n",
    "print('Current working directory: {}'.format(os.getcwd()))\n",
    "\n",
    "from utils.config import Config\n",
    "from utils.calltable import *"
   ]
  },
  {
   "cell_type": "code",
   "execution_count": null,
   "id": "statewide-transparency",
   "metadata": {},
   "outputs": [],
   "source": [
    "# exome bed file\n",
    "exomebed = pd.read_csv(os.path.join('data', 'extdata', 'xgen-exome-research-panel-targets_nochr.bed'), sep='\\t', header=None)\n",
    "exomebed.columns = ['chrom', 'startpos', 'endpos', 'gene', 'col4', 'col5']\n",
    "exomebed_itemlist = []\n",
    "for ri, row in tqdm(exomebed.iterrows(), total=exomebed.shape[0]):\n",
    "    #print(row.startpos, row.endpos)\n",
    "    \n",
    "    for i in range(row.startpos, row.endpos + 1):\n",
    "        #print(str(row.chrom)+'_'+str(i))\n",
    "        exomebed_itemlist.append(str(row.chrom)+'_'+str(i))\n",
    "print(len(exomebed_itemlist))"
   ]
  },
  {
   "cell_type": "code",
   "execution_count": null,
   "id": "aboriginal-tutorial",
   "metadata": {},
   "outputs": [],
   "source": [
    "exomebed.head()"
   ]
  },
  {
   "cell_type": "code",
   "execution_count": null,
   "id": "third-brunswick",
   "metadata": {},
   "outputs": [],
   "source": [
    "print(len(exomebed_itemlist))\n",
    "exomebed_itemlist_unique = list(set(exomebed_itemlist))\n",
    "print(len(exomebed_itemlist_unique))"
   ]
  },
  {
   "cell_type": "code",
   "execution_count": null,
   "id": "portuguese-romantic",
   "metadata": {},
   "outputs": [],
   "source": [
    "exomebed_itemlist_unique[:5]"
   ]
  },
  {
   "cell_type": "markdown",
   "id": "quantitative-corruption",
   "metadata": {},
   "source": [
    "# 1. Patient 986 mutations"
   ]
  },
  {
   "cell_type": "code",
   "execution_count": null,
   "id": "incomplete-hacker",
   "metadata": {},
   "outputs": [],
   "source": [
    "tissue_df = read_vcf(os.path.join('data', 'matchedtissue', 'NCC_CRC-986_100215-T1W-ensemble-annotated.vcf.gz'))\n",
    "tissue_df = tissue_df[tissue_df[\"INFO\"].str.split('CALLERS=').str[1].str.split(';').str[0].str.split(',').str.len() == 4]\n",
    "print(tissue_df.shape)\n",
    "tissue_df['chrom_pos_ref_alt'] = tissue_df['CHROM'].astype('str').str.cat(tissue_df['POS'].astype('str'), sep=\"_\").str.cat(tissue_df['REF'].astype('str'), sep='_').str.cat(tissue_df['ALT'].astype('str'), sep='_')\n",
    "tissue_df.set_index('chrom_pos_ref_alt', inplace=True)\n",
    "tissue_df['chrom_pos'] = tissue_df['CHROM'].astype('str').str.cat(tissue_df['POS'].astype('str'), sep=\"_\")\n",
    "tissue_df.head()"
   ]
  },
  {
   "cell_type": "code",
   "execution_count": null,
   "id": "female-clinic",
   "metadata": {},
   "outputs": [],
   "source": [
    "tissue_exome_df = tissue_df['chrom_pos'][tissue_df['chrom_pos'].isin(exomebed_itemlist_unique)]\n",
    "\n",
    "mutpos_exome_tissue = list(tissue_exome_df.index)\n",
    "print(len(mutpos_exome_tissue))\n",
    "\n",
    "tissue_exome_df.shape\n",
    "tissue_exome_df.head()"
   ]
  },
  {
   "cell_type": "code",
   "execution_count": null,
   "id": "demographic-purpose",
   "metadata": {},
   "outputs": [],
   "source": [
    "highctdna_df = read_vcf(os.path.join('data', 'initialsamples',  'bcbio', 'NCC_CRC-986_100215_CW_T-ensemble-annotated.vcf.gz'))\n",
    "highctdna_df = highctdna_df[highctdna_df[\"INFO\"].str.split('CALLERS=').str[1].str.split(';').str[0].str.split(',').str.len() == 5]\n",
    "print(highctdna_df.shape)\n",
    "highctdna_df['chrom_pos_ref_alt'] = highctdna_df['CHROM'].astype('str').str.cat(highctdna_df['POS'].astype('str'), sep=\"_\").str.cat(highctdna_df['REF'].astype('str'), sep='_').str.cat(highctdna_df['ALT'].astype('str'), sep='_')\n",
    "highctdna_df.set_index('chrom_pos_ref_alt', inplace=True)\n",
    "highctdna_df['chrom_pos'] = highctdna_df['CHROM'].astype('str').str.cat(highctdna_df['POS'].astype('str'), sep=\"_\")\n",
    "\n",
    "\n",
    "mutpos_hightctdna = list(highctdna_df.index)\n",
    "print(len(mutpos_hightctdna))\n",
    "\n",
    "highctdna_df.head()"
   ]
  },
  {
   "cell_type": "code",
   "execution_count": null,
   "id": "equal-dragon",
   "metadata": {},
   "outputs": [],
   "source": [
    "highctdna_exome_df = highctdna_df['chrom_pos'][highctdna_df['chrom_pos'].isin(exomebed_itemlist_unique)]\n",
    "\n",
    "mutpos_exome_hightctdna = list(highctdna_exome_df.index)\n",
    "print(len(mutpos_exome_hightctdna))\n",
    "\n",
    "\n",
    "print(highctdna_exome_df.shape)\n",
    "highctdna_exome_df.head()"
   ]
  },
  {
   "cell_type": "code",
   "execution_count": null,
   "id": "geological-hamburg",
   "metadata": {},
   "outputs": [],
   "source": [
    "mutpos_tissue = list(tissue_df.index)\n",
    "print(len(mutpos_tissue))\n",
    "\n",
    "mutpos_hightctdna = list(highctdna_df.index)\n",
    "print(len(mutpos_hightctdna))\n",
    "\n",
    "mutpos_both = list(set(mutpos_tissue) & set(mutpos_hightctdna))\n",
    "print(len(mutpos_both))\n",
    "\n",
    "mutpos_union = list(set(mutpos_tissue) | set(mutpos_hightctdna))\n",
    "print(len(mutpos_union))"
   ]
  },
  {
   "cell_type": "code",
   "execution_count": null,
   "id": "packed-whole",
   "metadata": {},
   "outputs": [],
   "source": [
    "mutpos_exome_tissue = list(tissue_exome_df.index)\n",
    "print(len(mutpos_exome_tissue))\n",
    "\n",
    "mutpos_exome_hightctdna = list(highctdna_exome_df.index)\n",
    "print(len(mutpos_exome_hightctdna))\n",
    "\n",
    "mutpos_exome_both = list(set(mutpos_exome_tissue) & set(mutpos_exome_hightctdna))\n",
    "print(len(mutpos_exome_both))\n",
    "\n",
    "mutpos_exome_union = list(set(mutpos_exome_tissue) | set(mutpos_exome_hightctdna))\n",
    "print(len(mutpos_exome_union))"
   ]
  },
  {
   "cell_type": "markdown",
   "id": "alien-papua",
   "metadata": {},
   "source": [
    "# 2. Patient 986 genotype on selected mutation loci "
   ]
  },
  {
   "cell_type": "code",
   "execution_count": null,
   "id": "internal-parcel",
   "metadata": {},
   "outputs": [],
   "source": [
    "highctdna_germline_df = read_vcf(os.path.join('data', 'initialsamples',  'bcbio', 'NCC_CRC-986_100215_CW_T-N-gatk-haplotype-annotated.vcf.gz'))\n",
    "print(highctdna_germline_df.shape)\n",
    "highctdna_germline_df['chrom_pos'] = highctdna_germline_df['CHROM'].astype('str').str.cat(highctdna_germline_df['POS'].astype('str'), sep=\"_\")\n",
    "highctdna_germline_df.set_index('chrom_pos', inplace=True)\n",
    "highctdna_germline_df['genotype'] = highctdna_germline_df['NCC_CRC-986_100215_CW_T-N'].str.split(':').str[0]\n",
    "print(highctdna_germline_df['genotype'].value_counts())\n",
    "highctdna_germline_df['totcov'] = highctdna_germline_df['NCC_CRC-986_100215_CW_T-N'].str.split(':').str[2]\n",
    "highctdna_germline_df['totcov'].fillna(0, inplace=True)\n",
    "highctdna_germline_df['totcov'] = highctdna_germline_df['totcov'].astype(int)\n",
    "highctdna_germline_df['altcov1'] = highctdna_germline_df['NCC_CRC-986_100215_CW_T-N'].str.split(':').str[1].str.split(',').str[1]\n",
    "highctdna_germline_df['altcov1'].fillna(0, inplace=True)\n",
    "highctdna_germline_df['altcov1'] = highctdna_germline_df['altcov1'].astype(int)\n",
    "highctdna_germline_df['altcov2'] = highctdna_germline_df['NCC_CRC-986_100215_CW_T-N'].str.split(':').str[1].str.split(':')\n",
    "highctdna_germline_df['altcov2'] = [0 if pd.isna(c) else c[0].split(':')[0].split(',')[2] if len(c[0].split(':')[0].split(',')) > 2 else 0 for c in highctdna_germline_df['altcov2'].values]\n",
    "highctdna_germline_df['altcov2'].fillna(0, inplace=True)\n",
    "highctdna_germline_df['altcov2'] = highctdna_germline_df['altcov2'].astype(int)\n",
    "highctdna_germline_df['altcov'] = highctdna_germline_df['altcov1']  + highctdna_germline_df['altcov2']\n",
    "highctdna_germline_df['vaf'] = highctdna_germline_df['altcov'] / highctdna_germline_df['totcov']\n",
    "highctdna_germline_df['vaf1'] =highctdna_germline_df['altcov1'] / highctdna_germline_df['totcov']\n",
    "highctdna_germline_df['vaf2'] =highctdna_germline_df['altcov2'] / highctdna_germline_df['totcov']\n",
    "highctdna_germline_df = highctdna_germline_df[['REF', 'ALT', 'genotype', 'totcov', 'altcov', 'altcov1', 'altcov2', 'vaf', 'vaf1', 'vaf2']]\n",
    "highctdna_germline_df.head(20)"
   ]
  },
  {
   "cell_type": "markdown",
   "id": "known-title",
   "metadata": {},
   "source": [
    "# 3. Healthies germline mismatch?"
   ]
  },
  {
   "cell_type": "code",
   "execution_count": null,
   "id": "contained-bundle",
   "metadata": {},
   "outputs": [],
   "source": [
    "healthies = os.listdir(os.path.join('data', 'healthies'))\n",
    "print(healthies)\n",
    "print(len(healthies))"
   ]
  },
  {
   "cell_type": "code",
   "execution_count": null,
   "id": "facial-decimal",
   "metadata": {},
   "outputs": [],
   "source": [
    "healthies_df = []\n",
    "for healthy in healthies:\n",
    "    print(healthy)\n",
    "    healthy_df = read_vcf(os.path.join('data', 'healthies', healthy, healthy+'-gatk-haplotype-annotated.vcf.gz'))\n",
    "    healthy_df['healthyid'] = healthy\n",
    "    healthy_df['chrom_pos_ref_alt_healthyid'] = healthy_df['CHROM'].astype('str').str.cat(healthy_df['POS'].astype('str'), sep=\"_\").str.cat(healthy_df['REF'].astype('str'), sep='_').str.cat(healthy_df['ALT'].astype('str'), sep='_').str.cat(healthy_df['healthyid'].astype('str'), sep='_')\n",
    "    healthy_df.set_index('chrom_pos_ref_alt_healthyid', inplace=True)\n",
    "    healthies_df.append(healthy_df)\n",
    "healthies_df = pd.concat(healthies_df)\n",
    "healthies_df.head()"
   ]
  },
  {
   "cell_type": "code",
   "execution_count": null,
   "id": "light-detection",
   "metadata": {},
   "outputs": [],
   "source": [
    "# check germline genotype is same at given mutated locus\n",
    "\n",
    "count = 0\n",
    "count_vois = 0\n",
    "mutpos_withoutgermlinemismatch = []\n",
    "for mut in tqdm(mutpos_union):\n",
    "    cond = True\n",
    "    chrom, pos, ref, alt = mut.split('_')\n",
    "    if chrom in [str(i) for i in range(1, 23)]:\n",
    "        germline_healthies = healthies_df[(healthies_df['CHROM'] == chrom) & (healthies_df['POS'] == int(pos))]\n",
    "        if chrom+'_'+pos in list(highctdna_germline_df.index):  # patient germline SNP\n",
    "            germline_patient = highctdna_germline_df.loc[chrom+'_'+pos]\n",
    "            genotype_patient = germline_patient['genotype']\n",
    "            print(germline_healthies)\n",
    "            if germline_healthies.empty:\n",
    "                print('Patient SNP not present in healthies')\n",
    "                print(chrom, pos)\n",
    "                count += 1\n",
    "            else:\n",
    "                print('Patient SNP is present in healthies?')\n",
    "                print(germline_healthies)\n",
    "                count += 1\n",
    "            cond = False\n",
    "        else: # no patient germline SNP\n",
    "            genotype_patient = '0/0'\n",
    "            if germline_healthies.empty: # no healthy germline SNP\n",
    "                pass\n",
    "            else: # healthy germline SNP\n",
    "                print('Healhy SNP not present in patient')\n",
    "                print('How many healthies carry the SNP?')\n",
    "                print(chrom, pos)\n",
    "                count += 1\n",
    "                cond = False\n",
    "        # voisinage\n",
    "        germline_healthies_voisinage = healthies_df[(healthies_df['CHROM'] == chrom) & (healthies_df['POS'] >= int(pos)-20) & (healthies_df['POS'] <= int(pos)+20)]\n",
    "        vois_index = [v for v in list(highctdna_germline_df.index) if v.startswith(chrom+'_') and int(v.split('_')[-1]) in range(int(pos)-20,int(pos)+20)]\n",
    "        if vois_index == [] and germline_healthies_voisinage.empty: # no SNP in voisinage in patient nor in healthies\n",
    "            pass\n",
    "        else:\n",
    "            if vois_index != []:\n",
    "                germline_patient_voisinage = highctdna_germline_df.loc[vois_index]\n",
    "                print(germline_patient_voisinage[['REF', 'ALT', 'genotype', 'vaf', 'totcov']])\n",
    "                if germline_healthies_voisinage.empty:\n",
    "                    print('no SNP in healthies voisinage')\n",
    "                else:\n",
    "                    print(germline_healthies_voisinage)\n",
    "                print('Is there a mismatch between patient SNP and healthy SNP?')\n",
    "            count_vois += 1\n",
    "            cond = False\n",
    "        if cond:\n",
    "            mutpos_withoutgermlinemismatch.append(mut)\n",
    "print(count, count_vois, len(mutpos_hightctdna))\n",
    "print(len(mutpos_withoutgermlinemismatch))"
   ]
  },
  {
   "cell_type": "code",
   "execution_count": null,
   "id": "nonprofit-round",
   "metadata": {},
   "outputs": [],
   "source": [
    "1-(len(mutpos_withoutgermlinemismatch)/8728)"
   ]
  },
  {
   "cell_type": "code",
   "execution_count": null,
   "id": "persistent-keeping",
   "metadata": {},
   "outputs": [],
   "source": [
    "mutpos_withoutgermlinemismatch_df = pd.Series(mutpos_withoutgermlinemismatch)\n",
    "mutpos_withoutgermlinemismatch_df.to_csv(os.path.join('data', 'pooledhealthy', 'mutpos_withoutgermlinemismatch_NCC_CRC-986_100215_T1W_T_17healthies.csv'))\n",
    "mutpos_withoutgermlinemismatch_df.head()"
   ]
  },
  {
   "cell_type": "code",
   "execution_count": null,
   "id": "deluxe-wheel",
   "metadata": {},
   "outputs": [],
   "source": [
    "mutpos_withoutgermlinemismatch_df = pd.Series(mutpos_withoutgermlinemismatch)\n",
    "mutpos_withoutgermlinemismatch_df.to_csv(os.path.join('data', 'pooledhealthy', 'mutpos_withoutgermlinemismatch_NCC_CRC-986_100215_CW_T_17healthies.csv'))\n",
    "mutpos_withoutgermlinemismatch_df.head()"
   ]
  },
  {
   "cell_type": "code",
   "execution_count": null,
   "id": "smart-wallet",
   "metadata": {},
   "outputs": [],
   "source": [
    "# check germline genotype is same at given mutated locus\n",
    "\n",
    "count = 0\n",
    "count_vois = 0\n",
    "mutpos_withoutgermlinemismatch = []\n",
    "for mut in tqdm(mutpos_both):\n",
    "    cond = True\n",
    "    chrom, pos, ref, alt = mut.split('_')\n",
    "    if chrom in [str(i) for i in range(1, 23)]:\n",
    "        germline_healthies = healthies_df[(healthies_df['CHROM'] == chrom) & (healthies_df['POS'] == int(pos))]\n",
    "        if chrom+'_'+pos in list(highctdna_germline_df.index):  # patient germline SNP\n",
    "            germline_patient = highctdna_germline_df.loc[chrom+'_'+pos]\n",
    "            genotype_patient = germline_patient['genotype']\n",
    "            print(germline_healthies)\n",
    "            if germline_healthies.empty:\n",
    "                print('Patient SNP not present in healthies')\n",
    "                print(chrom, pos)\n",
    "                count += 1\n",
    "            else:\n",
    "                print('Patient SNP is present in healthies?')\n",
    "                print(germline_healthies)\n",
    "                count += 1\n",
    "            cond = False\n",
    "        else: # no patient germline SNP\n",
    "            genotype_patient = '0/0'\n",
    "            if germline_healthies.empty: # no healthy germline SNP\n",
    "                pass\n",
    "            else: # healthy germline SNP\n",
    "                print('Healhy SNP not present in patient')\n",
    "                print('How many healthies carry the SNP?')\n",
    "                print(chrom, pos)\n",
    "                count += 1\n",
    "                cond = False\n",
    "        # voisinage\n",
    "        germline_healthies_voisinage = healthies_df[(healthies_df['CHROM'] == chrom) & (healthies_df['POS'] >= int(pos)-20) & (healthies_df['POS'] <= int(pos)+20)]\n",
    "        vois_index = [v for v in list(highctdna_germline_df.index) if v.startswith(chrom+'_') and int(v.split('_')[-1]) in range(int(pos)-150,int(pos)+150)]\n",
    "        if vois_index == [] and germline_healthies_voisinage.empty: # no SNP in voisinage in patient nor in healthies\n",
    "            pass\n",
    "        else:\n",
    "            if vois_index != []:\n",
    "                germline_patient_voisinage = highctdna_germline_df.loc[vois_index]\n",
    "                print(germline_patient_voisinage[['REF', 'ALT', 'genotype', 'vaf', 'totcov']])\n",
    "                if germline_healthies_voisinage.empty:\n",
    "                    print('no SNP in healthies voisinage')\n",
    "                else:\n",
    "                    print(germline_healthies_voisinage)\n",
    "                print('Is there a mismatch between patient SNP and healthy SNP?')\n",
    "            count_vois += 1\n",
    "            cond = False\n",
    "        if cond:\n",
    "            mutpos_withoutgermlinemismatch.append(mut)\n",
    "print(count, count_vois, len(mutpos_hightctdna))\n",
    "print(len(mutpos_withoutgermlinemismatch))"
   ]
  },
  {
   "cell_type": "code",
   "execution_count": null,
   "id": "addressed-batch",
   "metadata": {},
   "outputs": [],
   "source": [
    "print(count, count_vois, len(mutpos_both))\n",
    "print(len(mutpos_withoutgermlinemismatch))"
   ]
  },
  {
   "cell_type": "code",
   "execution_count": null,
   "id": "asian-secret",
   "metadata": {},
   "outputs": [],
   "source": [
    "mutpos_withoutgermlinemismatch_df = pd.Series(mutpos_withoutgermlinemismatch)\n",
    "mutpos_withoutgermlinemismatch_df.to_csv(os.path.join('data', 'pooledhealthy', 'mutpos_withoutgermlinemismatch_986_100215_both_12healthies.csv'))\n",
    "mutpos_withoutgermlinemismatch_df.head()"
   ]
  },
  {
   "cell_type": "code",
   "execution_count": null,
   "id": "convinced-content",
   "metadata": {},
   "outputs": [],
   "source": [
    "# check germline mismatch at given mutated locus\n",
    "\n",
    "count = 0\n",
    "count_vois = 0\n",
    "for mut in mutpos:\n",
    "    chrom, pos, ref, alt = mut.split('_')\n",
    "    if chrom in [str(i) for i in range(1, 23)]:\n",
    "        aux = healthies_df[(healthies_df['CHROM'] == chrom) & (healthies_df['POS'] == int(pos))]\n",
    "        if aux.empty:\n",
    "            pass\n",
    "        else:\n",
    "            print(chrom, pos)\n",
    "            print('mutation position', aux.shape[0])\n",
    "            count += 1\n",
    "        # voisinage\n",
    "        vois = healthies_df[(healthies_df['CHROM'] == chrom) & (healthies_df['POS'] >= int(pos)-20) & (healthies_df['POS'] <= int(pos)+20)]\n",
    "        if vois.empty:\n",
    "            pass\n",
    "        else:\n",
    "            print(chrom, pos)\n",
    "            print('voisinage', vois.shape[0])\n",
    "            count_vois += 1\n",
    "print(count, count_vois, len(mutpos))"
   ]
  },
  {
   "cell_type": "code",
   "execution_count": null,
   "id": "accessible-toyota",
   "metadata": {},
   "outputs": [],
   "source": [
    "print(count, count_vois, len(mutpos))\n",
    "print(100*(count + count_vois)/len(mutpos))\n",
    "len(mutpos) - count - count_vois"
   ]
  },
  {
   "cell_type": "code",
   "execution_count": null,
   "id": "bizarre-spare",
   "metadata": {},
   "outputs": [],
   "source": []
  },
  {
   "cell_type": "code",
   "execution_count": null,
   "id": "dietary-anderson",
   "metadata": {},
   "outputs": [],
   "source": [
    "print(tissue_df.iloc[0]['CHROM'], tissue_df.iloc[0]['POS'])\n",
    "    healthy_df[(healthy_df['CHROM'] == tissue_df.iloc[0]['CHROM']) & (healthy_df['POS'] == tissue_df.iloc[0]['POS'])]"
   ]
  }
 ],
 "metadata": {
  "kernelspec": {
   "display_name": "Python 3",
   "language": "python",
   "name": "python3"
  },
  "language_info": {
   "codemirror_mode": {
    "name": "ipython",
    "version": 3
   },
   "file_extension": ".py",
   "mimetype": "text/x-python",
   "name": "python",
   "nbconvert_exporter": "python",
   "pygments_lexer": "ipython3",
   "version": "3.7.10"
  }
 },
 "nbformat": 4,
 "nbformat_minor": 5
}
