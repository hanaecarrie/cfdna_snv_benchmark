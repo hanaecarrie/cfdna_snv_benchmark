{
 "cells": [
  {
   "cell_type": "markdown",
   "metadata": {},
   "source": [
    "# Series analysis\n",
    "\n",
    "\n",
    "Analysis updates:\n",
    "- retrieve calls rejected only because VAF<0.01 (bcbio lower acceptable threshold) for Mutect2, Strelka2 and Vardict\n",
    "- correct for germline mutations using GATK haplotype calls\n",
    "- get PR curves for sinvict by encoding the 6 files as thresholds. Assumption: linear filters\n",
    "- plotting: PR curves stops at 10e-2 on the left\n",
    "- ground truths:\n",
    "\n",
    "    1) Consensus: build using\n",
    "        majority of 5/8 callers for SNV and 3/5 callers for INDELS\n",
    "\n",
    "\n",
    "    2) Ranked mutations: metascore built using\n",
    "        weigthed sum of normalised scores between 0 and 1 for each caller\n",
    "        with weigths = inversially proportional to number of calls made by caller (if a caller calls few mutations higher weight, it many calls low weight)\n",
    "        threshold = 1/ncallers\n",
    "        interpretation: if 1 caller is sure (score = 1) of calling this position, add it to GT\n",
    "        interpretation: if 2 callers are quite sure of calling this position (score > 0,5 each), add it to GT\n",
    "        \n",
    "- integrate VAF approx\n",
    "\n",
    "    1) mixture with VAF instead of tumor burden\n",
    "    \n",
    "    2) correct for mutations non present in diluted samples (vaf = 0)\n",
    "    \n",
    "    3) pool patients together using VAF"
   ]
  },
  {
   "cell_type": "code",
   "execution_count": null,
   "metadata": {},
   "outputs": [],
   "source": [
    "# Imports\n",
    "\n",
    "%load_ext autoreload\n",
    "%autoreload 2\n",
    "\n",
    "import io\n",
    "import os\n",
    "import numpy as np\n",
    "import pandas as pd\n",
    "import matplotlib.pyplot as plt\n",
    "import seaborn as sns\n",
    "import pysam\n",
    "import warnings\n",
    "from sklearn.metrics import precision_recall_curve, f1_score, average_precision_score\n",
    "warnings.filterwarnings('ignore')\n",
    "from sklearn.metrics import confusion_matrix\n",
    "\n",
    "# set working directory\n",
    "if not os.getcwd().endswith('cfdna_snv_benchmark'):\n",
    "    os.chdir('../')\n",
    "print('Current working directory: {}'.format(os.getcwd()))\n",
    "\n",
    "from utils.config import Config\n",
    "from utils.viz import *\n",
    "from utils.table import *\n",
    "from utils.metrics import *\n",
    "from utils.calltable import *\n",
    "from utils.calltableseries import *\n",
    "from utils.groundtruth import *\n",
    "from utils.metricsseries import *\n",
    "from utils.venn import venn6, get_labels"
   ]
  },
  {
   "cell_type": "code",
   "execution_count": null,
   "metadata": {},
   "outputs": [],
   "source": [
    "# Config and Display paramaters\n",
    "\n",
    "config = Config(\"config/\", \"config_viz.yaml\")\n",
    "set_display_params(config)\n",
    "print(config.methods)"
   ]
  },
  {
   "cell_type": "code",
   "execution_count": null,
   "metadata": {},
   "outputs": [],
   "source": [
    "# Chomosome\n",
    "mixtureid = 'CRC-COSMIC-5p_CRC-986_300316-CW-T'\n",
    "mixtureids =  ['CRC-COSMIC-5p_CRC-1014_090516-CW-T', 'CRC-COSMIC-5p_CRC-986_300316-CW-T', 'CRC-COSMIC-5p_CRC-123_121115-CW-T']\n",
    "reload = False\n",
    "save = True\n",
    "fixedvar='coverage'\n",
    "filterparam = 'all'\n",
    "\n",
    "markers = ['o', '^', 'X']\n",
    "linestyles = ['-', '-', '-']\n",
    "color_dict = {config.methods[i]: config.colors[i] for i in range(len(config.methods))}\n",
    "\n",
    "muttypes = ['snv', 'indel']\n",
    "metrics = ['auprc', 'precision', 'recall']\n",
    "\n",
    "# chroms = 'all'\n",
    "chroms = [str(c) for c in range(1,23) if c !=5 and c!=9 and c!=12 and c!=13 and c!= 14 and c!= 15 and c!=20 and c!=22]\n",
    "print(chroms)\n",
    "# chroms = 22"
   ]
  },
  {
   "cell_type": "markdown",
   "metadata": {},
   "source": [
    "# Part I: (1) Load/Generate call tables, (2) Generate Ground truths and (3) Compute/Save metrics per patient"
   ]
  },
  {
   "cell_type": "code",
   "execution_count": null,
   "metadata": {},
   "outputs": [],
   "source": [
    "if fixedvar == 'coverage':\n",
    "    seriesorder = [0.2, 0.15, 0.10, 0.05, 0.025, 0.01, 0]\n",
    "    xaxis = 'vaf'\n",
    "#for mixtureid in mixtureids:\n",
    "mixtureid ='CRC-COSMIC-5p_CRC-986_300316-CW-T'\n",
    "print('############# {} ############'.format(mixtureid))\n",
    "for chrom in chroms:\n",
    "    #chrom = '22'\n",
    "    calltables = {'sampleid':[], 'tf':[], 'cov':[], 'snv':[], 'indel':[], 'snp':[]}\n",
    "    calltable_snv, aux = get_calltableseries(config, mixtureid, chrom, muttype='snv', filterparam=filterparam, reload=reload, save=save, diltype='spikein')\n",
    "    calltable_indel, aux = get_calltableseries(config, mixtureid, chrom, muttype='indel', filterparam=filterparam, reload=reload, save=save, diltype='spikein')\n",
    "    calltable_snp, aux = get_calltableseries(config, mixtureid, chrom, muttype='snp', filterparam=filterparam, reload=reload, save=save, diltype='spikein')\n",
    "    print(calltable_snv.shape, calltable_indel.shape, calltable_snp.shape)\n",
    "    #dilutionseries = aux.T[['spikein_' + mixtureid.split('_')[0] + '_vaf' + str('{:.2f}'.format(s)) + '_' + '_'.join(mixtureid.split('_')[1:]) \n",
    "    #                        if (s!=0.2 and s!=0.025 and s!=0) else 'spikein_' + mixtureid.split('_')[0] + '_vaf' + str('{:.1f}'.format(s)) + '_' + '_'.join(mixtureid.split('_')[1:])\n",
    "    #                        if (s!=0.025 and s!=0) else 'spikein_' + mixtureid.split('_')[0] + '_vaf' + str('{:.3f}'.format(s)) + '_' + '_'.join(mixtureid.split('_')[1:])\n",
    "    #                        if s!=0 else 'spikein_' + mixtureid.split('_')[0] + '_vaf0_' + '_'.join(mixtureid.split('_')[1:])\n",
    "    #                        for s in seriesorder]].T \n",
    "    dilutionseries = aux.T[['spikein_chr' + chrom + '_' + mixtureid.split('_')[0] + '_vaf' + str('{:.2f}'.format(s)) + '_' + '_'.join(mixtureid.split('_')[1:]) \n",
    "                            if (s!=0.2 and s!=0.025 and s!=0) else 'spikein_chr' + chrom + '_' + mixtureid.split('_')[0] + '_vaf' + str('{:.1f}'.format(s)) + '_' + '_'.join(mixtureid.split('_')[1:])\n",
    "                            if (s!=0.025 and s!=0) else 'spikein_chr' + chrom + '_' + mixtureid.split('_')[0] + '_vaf' + str('{:.3f}'.format(s)) + '_' + '_'.join(mixtureid.split('_')[1:])\n",
    "                            if s!=0 else 'spikein_chr' + chrom + '_' + mixtureid.split('_')[0] + '_vaf0_' + '_'.join(mixtureid.split('_')[1:])\n",
    "                            for s in seriesorder]].T \n",
    "    dilutionseries['vaf'] = [float(ds.split('vaf')[1].split('_')[0]) for ds in list(dilutionseries.index)]\n",
    "    print(dilutionseries)\n",
    "    plasmasample = '_'.join(mixtureid.split('_')[:1])\n",
    "    print(plasmasample)\n",
    "    healthysample = '_'.join(mixtureid.split('_')[1:])\n",
    "    print(healthysample)\n",
    "    calltables['snv'] = calltable_snv\n",
    "    calltables['indel'] = calltable_indel\n",
    "    calltables['snp'] = calltable_snp\n",
    "    calltables['sampleid'] = mixtureid\n",
    "    calltables['tf'] = np.unique([cn.split('_')[0] for cn in list(calltable_snv.columns)])[:-5].astype(float)\n",
    "    #for muttype in muttypes:\n",
    "    muttype = 'snv'\n",
    "    calltablesseries = generate_groundtruth(config, calltables[muttype], dilutionseries[['vaf']], ground_truth_method='spikein', muttype=muttype)\n",
    "    results_auprc_df = metric_curve(config, calltablesseries, plasmasample, healthysample, seriesorder, metric='auprc', ground_truth_method='spikein',\n",
    "                                     refsample='undiluted', muttype=muttype, chrom=chrom, methods=config.methods, fixedvar=fixedvar)\n",
    "    results_recall_df = metric_curve(config, calltablesseries, plasmasample, healthysample, seriesorder, metric='recall', ground_truth_method='spikein',\n",
    "                                           refsample='undiluted', muttype=muttype, chrom=chrom, methods=config.methods, fixedvar=fixedvar)\n",
    "    results_precision_df = metric_curve(config, calltablesseries, plasmasample, healthysample, seriesorder, metric='precision', ground_truth_method='spikein',\n",
    "                                          refsample='undiluted', muttype=muttype, chrom=chrom, methods=config.methods, fixedvar=fixedvar)\n",
    "    #results_auprc_df = metric_curve_allchr(config, calltablesseries, dilutionseries, mixtureid, metric='auprc', ground_truth_method='spikein',\n",
    "    #                                 refsample='undiluted', muttype=muttype, methods=config.methods, fixedvar=fixedvar, xaxis=xaxis)\n",
    "    #results_recall_df = metric_curve_allchr(config, calltablesseries, dilutionseries, mixtureid, metric='recall', ground_truth_method='spikein',\n",
    "    #                                       refsample='undiluted', muttype=muttype, methods=config.methods, fixedvar=fixedvar, xaxis=xaxis)\n",
    "    #results_precision_df = metric_curve_allchr(config, calltablesseries, dilutionseries, mixtureid, metric='precision', ground_truth_method='spikein',\n",
    "    #                                      refsample='undiluted', muttype=muttype, methods=config.methods, fixedvar=fixedvar, xaxis=xaxis)\n",
    "    #figure_curve_allchr(config, calltablesseries, dilutionseries, mixtureid, xy='pr', ground_truth_method='spikein',\n",
    "    #                    refsample='undiluted', muttype=muttype.upper(), chrom=chrom, methods=None, fixedvar=fixedvar, save=save)"
   ]
  },
  {
   "cell_type": "code",
   "execution_count": null,
   "metadata": {},
   "outputs": [],
   "source": [
    "calltablesseries['truth'].sum()"
   ]
  },
  {
   "cell_type": "code",
   "execution_count": null,
   "metadata": {},
   "outputs": [],
   "source": [
    "calltablesseries['0.00_vardict'].sum()"
   ]
  },
  {
   "cell_type": "code",
   "execution_count": null,
   "metadata": {},
   "outputs": [],
   "source": [
    "calltablesseries[[c for c in list(calltablesseries.columns) if c.endswith('vardict')] + ['truth']].head(50)"
   ]
  },
  {
   "cell_type": "code",
   "execution_count": null,
   "metadata": {},
   "outputs": [],
   "source": [
    "if fixedvar == 'coverage':\n",
    "    seriesorder = [0.2, 0.15, 0.10, 0.05, 0.025, 0.01, 0]\n",
    "    xaxis = 'vaf'\n",
    "# for mixtureid in mixtureids:\n",
    "print('############# {} ############'.format(mixtureid))\n",
    "#for chrom in chroms:\n",
    "chrom = chroms\n",
    "calltables = {'sampleid':[], 'tf':[], 'cov':[], 'snv':[], 'indel':[], 'snp':[]}\n",
    "calltable_snv, aux = get_calltableseries(config, mixtureid, chrom, muttype='snv', filterparam=filterparam, reload=reload, save=save, diltype='spikein')\n",
    "calltable_indel, aux = get_calltableseries(config, mixtureid, chrom, muttype='indel', filterparam=filterparam, reload=reload, save=save, diltype='spikein')\n",
    "calltable_snp, aux = get_calltableseries(config, mixtureid, chrom, muttype='snp', filterparam=filterparam, reload=reload, save=save, diltype='spikein')\n",
    "print(calltable_snv.shape, calltable_indel.shape, calltable_snp.shape)\n",
    "dilutionseries = aux.T[['spikein_' + mixtureid.split('_')[0] + '_vaf' + str('{:.2f}'.format(s)) + '_' + '_'.join(mixtureid.split('_')[1:]) \n",
    "                        if (s!=0.2 and s!=0.025 and s!=0) else 'spikein_' + mixtureid.split('_')[0] + '_vaf' + str('{:.1f}'.format(s)) + '_' + '_'.join(mixtureid.split('_')[1:])\n",
    "                        if (s!=0.025 and s!=0) else 'spikein_' + mixtureid.split('_')[0] + '_vaf' + str('{:.3f}'.format(s)) + '_' + '_'.join(mixtureid.split('_')[1:])\n",
    "                        if s!=0 else 'spikein_' + mixtureid.split('_')[0] + '_vaf0_' + '_'.join(mixtureid.split('_')[1:])\n",
    "                        for s in seriesorder]].T \n",
    "dilutionseries['vaf'] = [float(ds.split('vaf')[1].split('_')[0]) for ds in list(dilutionseries.index)]\n",
    "print(dilutionseries)\n",
    "plasmasample = '_'.join(mixtureid.split('_')[:1])\n",
    "print(plasmasample)\n",
    "healthysample = '_'.join(mixtureid.split('_')[1:])\n",
    "print(healthysample)\n",
    "calltables['snv'] = calltable_snv\n",
    "calltables['indel'] = calltable_indel\n",
    "calltables['snp'] = calltable_snp\n",
    "calltables['sampleid'] = mixtureid\n",
    "calltables['tf'] = np.unique([cn.split('_')[0] for cn in list(calltable_snv.columns)])[:-5].astype(float)\n",
    "for muttype in muttypes:\n",
    "    calltablesseries = generate_groundtruth(config, calltables[muttype], dilutionseries[['vaf']], ground_truth_method='spikein', muttype=muttype)\n",
    "    #results_auprc_df = metric_curve(config, calltablesseries, plasmasample, healthysample, seriesorder, metric='auprc', ground_truth_method=gtm,\n",
    "    #                                 refsample='undiluted', muttype=muttype, chrom=chrom, methods=config.methods, fixedvar=fixedvar)\n",
    "    #results_recall_df = metric_curve(config, calltablesseries, plasmasample, healthysample, seriesorder, metric='recall', ground_truth_method=gtm,\n",
    "    #                                       refsample='undiluted', muttype=muttype, chrom=chrom, methods=config.methods, fixedvar=fixedvar)\n",
    "    #results_precision_df = metric_curve(config, calltablesseries, plasmasample, healthysample, seriesorder, metric='precision', ground_truth_method=gtm,\n",
    "    #                                      refsample='undiluted', muttype=muttype, chrom=chrom, methods=config.methods, fixedvar=fixedvar)\n",
    "    results_auprc_df = metric_curve_allchr(config, calltablesseries, dilutionseries, mixtureid, metric='auprc', ground_truth_method='spikein',\n",
    "                                     refsample='undiluted', muttype=muttype, methods=config.methods, fixedvar=fixedvar, xaxis=xaxis)\n",
    "    results_recall_df = metric_curve_allchr(config, calltablesseries, dilutionseries, mixtureid, metric='recall', ground_truth_method='spikein',\n",
    "                                           refsample='undiluted', muttype=muttype, methods=config.methods, fixedvar=fixedvar, xaxis=xaxis)\n",
    "    results_precision_df = metric_curve_allchr(config, calltablesseries, dilutionseries, mixtureid, metric='precision', ground_truth_method='spikein',\n",
    "                                          refsample='undiluted', muttype=muttype, methods=config.methods, fixedvar=fixedvar, xaxis=xaxis)\n",
    "    #figure_curve_allchr(config, calltablesseries, dilutionseries, mixtureid, xy='pr', ground_truth_method='spikein',\n",
    "    #                    refsample='undiluted', muttype=muttype.upper(), chrom=chrom, methods=None, fixedvar=fixedvar, save=save)"
   ]
  },
  {
   "cell_type": "code",
   "execution_count": null,
   "metadata": {},
   "outputs": [],
   "source": [
    "np.unique([cn.split('_')[0] for cn in list(calltablesseries.columns[5:-1])]).astype(float)\n",
    "\n",
    "#calltablesseries.columns"
   ]
  },
  {
   "cell_type": "code",
   "execution_count": null,
   "metadata": {},
   "outputs": [],
   "source": [
    "print(np.unique([cn.split('_')[0] for cn in list(calltablesseries.columns[5:])])[:-5].astype(float))\n",
    "print(len(np.unique([cn.split('_')[0] for cn in list(calltablesseries.columns[5:])])[:-5].astype(float)))\n",
    "calltablesseries.columns[5:]"
   ]
  },
  {
   "cell_type": "code",
   "execution_count": null,
   "metadata": {},
   "outputs": [],
   "source": [
    "print(np.unique([cn.split('_')[0] for cn in list(calltables['snv'].columns[5:])])[:-5].astype(float)) "
   ]
  },
  {
   "cell_type": "markdown",
   "metadata": {},
   "source": [
    "# Part II: (4) Load back metric results and plot combined metric plots"
   ]
  },
  {
   "cell_type": "code",
   "execution_count": null,
   "metadata": {},
   "outputs": [],
   "source": [
    "figure_curve_allchr(config, calltablesseries, dilutionseries, mixtureid, xy='pr', ground_truth_method=nref,\n",
    "             refsample='undiluted', muttype=muttype.upper(), chrom=chrom, methods=None, fixedvar=fixedvar, save=save)"
   ]
  },
  {
   "cell_type": "code",
   "execution_count": null,
   "metadata": {},
   "outputs": [],
   "source": [
    "#plt.grid(linewidth=1)\n",
    "\n",
    "fixedvar = 'coverage'\n",
    "xaxis = 'vaf'\n",
    "for mt in muttypes:\n",
    "    if mt == 'snv':\n",
    "        gtm = 5\n",
    "        refname = 'inundilutedsamplebyatleast'+str(gtm)+'callers'\n",
    "    else:  # elif mt == 'indel':\n",
    "        gtm = 2\n",
    "        refname = 'inundilutedsamplebyatleast'+str(gtm)+'callers'\n",
    "    print(refname)\n",
    "    for metric in metrics:\n",
    "        # load results tables\n",
    "        restables = {'snv': [], 'indel': []}\n",
    "        for mixtureid in mixtureids:\n",
    "            plasmasample = '_'.join(mixtureid.split('_')[:2])\n",
    "            print(mixtureid, plasmasample)\n",
    "            xa = xaxis if xaxis != 'tumor burden' else 'tb'\n",
    "            print(xa)\n",
    "            restable = pd.read_csv(os.path.join(*config.mixturefolder, 'mixtures_allchr', 'results', mixtureid+'_'+mt+'_'+metric+'_'+refname+'_fixed'+fixedvar+'_'+ xa +'.csv'), index_col=0)\n",
    "            restable['plasma sample'] = plasmasample\n",
    "            restables[mt].append(restable)\n",
    "        restables[mt] = pd.concat(restables[mt])\n",
    "        plot_metricsseries(config, restables, mixtureids, 'all', metric=metric, muttype=mt,\n",
    "                           ground_truth_method='mixture', fixedvar=fixedvar, refname=refname, allpatients=True, logscale=False, save=True)\n",
    "        plot_metricsseries(config, restables, mixtureids, 'all', metric=metric, muttype=mt,\n",
    "                           ground_truth_method='mixture', fixedvar=fixedvar, refname=refname, allpatients=True, logscale=True, save=True)\n",
    "        plot_metricsseries(config, restables, mixtureids, 'all', metric=metric, muttype=mt,\n",
    "                           ground_truth_method='mixture', fixedvar=fixedvar, refname=refname, allpatients=False, logscale=False, save=True)\n",
    "        plot_metricsseries(config, restables, mixtureids, 'all', metric=metric, muttype=mt,\n",
    "                               ground_truth_method='mixture', fixedvar=fixedvar, refname=refname, allpatients=False, logscale=True, save=True)"
   ]
  },
  {
   "cell_type": "code",
   "execution_count": null,
   "metadata": {},
   "outputs": [],
   "source": []
  }
 ],
 "metadata": {
  "kernelspec": {
   "display_name": "Python 3",
   "language": "python",
   "name": "python3"
  },
  "language_info": {
   "codemirror_mode": {
    "name": "ipython",
    "version": 3
   },
   "file_extension": ".py",
   "mimetype": "text/x-python",
   "name": "python",
   "nbconvert_exporter": "python",
   "pygments_lexer": "ipython3",
   "version": "3.7.10"
  }
 },
 "nbformat": 4,
 "nbformat_minor": 4
}
