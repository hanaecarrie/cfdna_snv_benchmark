{
 "cells": [
  {
   "cell_type": "markdown",
   "metadata": {},
   "source": [
    "# cfDNA mixtures series on single chrom"
   ]
  },
  {
   "cell_type": "code",
   "execution_count": null,
   "metadata": {},
   "outputs": [],
   "source": [
    "# Imports\n",
    "\n",
    "%load_ext autoreload\n",
    "%autoreload 2\n",
    "\n",
    "import io\n",
    "import os\n",
    "import numpy as np\n",
    "import pandas as pd\n",
    "import matplotlib.pyplot as plt\n",
    "import seaborn as sns\n",
    "import pysam\n",
    "import warnings\n",
    "from sklearn.metrics import precision_recall_curve, f1_score, average_precision_score\n",
    "warnings.filterwarnings('ignore')\n",
    "from sklearn.metrics import confusion_matrix\n",
    "\n",
    "# set working directory\n",
    "if not os.getcwd().endswith('cfdna_snv_benchmark'):\n",
    "    os.chdir('../')\n",
    "print('Current working directory: {}'.format(os.getcwd()))\n",
    "\n",
    "from utils.config import Config\n",
    "from utils.viz import *\n",
    "from utils.table import *\n",
    "from utils.metrics import *\n",
    "from utils.calltable import *\n",
    "from utils.venn import venn6, get_labels"
   ]
  },
  {
   "cell_type": "code",
   "execution_count": null,
   "metadata": {},
   "outputs": [],
   "source": [
    "# Config and Display paramaters\n",
    "\n",
    "config = Config(\"config/\", \"config_viz.yaml\")\n",
    "set_display_params(config)\n",
    "print(config.methods)"
   ]
  },
  {
   "cell_type": "code",
   "execution_count": null,
   "metadata": {},
   "outputs": [],
   "source": [
    "# Chomosome\n",
    "\n",
    "chrom = '22'\n",
    "muttype = 'snv'\n",
    "mixtureid =  'CRC-1014_180816-CW-T_CRC-1014_090516-CW-T'\n",
    "#mixtureid = 'CRC-986_100215-CW-T_CRC-986_300316-CW-T'\n",
    "#mixtureid =  'CRC-123_310715-CW-T_CRC-123_121115-CW-T'\n",
    "plasmasample = '_'.join(mixtureid.split('_')[:2])\n",
    "print(plasmasample)\n",
    "healthysample = '_'.join(mixtureid.split('_')[2:])\n",
    "print(healthysample)"
   ]
  },
  {
   "cell_type": "code",
   "execution_count": null,
   "metadata": {},
   "outputs": [],
   "source": [
    "reload = False\n",
    "save = True\n",
    "fixedvar = 'coverage'\n",
    "filterparam = 'all'"
   ]
  },
  {
   "cell_type": "markdown",
   "metadata": {},
   "source": [
    "# Load call table"
   ]
  },
  {
   "cell_type": "code",
   "execution_count": null,
   "metadata": {},
   "outputs": [],
   "source": [
    "# Save table if do not exist and load tables\n",
    "\n",
    "calltables = {'sampleid':[], 'tf':[], 'cov':[], 'snv':[], 'indel':[], 'snp':[]}\n",
    "mixturefolder = os.path.join(*config.mixturefolder, 'mixtures_chr'+chrom, 'mixtures_chr'+chrom+'_'+mixtureid)\n",
    "for mixturepath in [l for l in os.listdir(mixturefolder) if l.endswith('x') or l.endswith('T')]:\n",
    "    print(mixturepath)\n",
    "    if not os.path.exists(os.path.join(mixturefolder, mixturepath, 'calls', mixturepath+'_snv_calls_'+filterparam+'.csv')) or reload:\n",
    "        calltable_snv, calltable_indel, calltable_snp = (os.path.join(mixturefolder, mixturepath), config.methods, save=True, filter=filterparam)\n",
    "    calltables['sampleid'].append(mixturepath)\n",
    "    calltables['tf'].append(np.round(100*float(pd.read_csv(os.path.join(mixturefolder, mixturepath, 'estimated_tf_chr'+chrom+mixturepath[len(('mixture_chr'+chrom)):]+'.txt')).columns[0]), 4))\n",
    "    calltables['cov'].append(np.round(float(pd.read_csv(os.path.join(mixturefolder, mixturepath, 'coverage_chr'+chrom+mixturepath[len(('mixture_chr'+chrom)):]+'.txt')).columns[0]), 4))\n",
    "    calltable_snv = pd.read_csv(os.path.join(mixturefolder, mixturepath, 'calls', mixturepath+'_snv_calls_'+filterparam+'.csv'), index_col=0)\n",
    "    calltable_indel = pd.read_csv(os.path.join(mixturefolder, mixturepath, 'calls', mixturepath+'_indel_calls_'+filterparam+'.csv'), index_col=0)\n",
    "    calltable_snp = pd.read_csv(os.path.join(mixturefolder, mixturepath, 'calls', mixturepath+'_snp_calls_'+filterparam+'.csv'), index_col=0)\n",
    "    calltables['snv'].append(calltable_snv)\n",
    "    calltables['indel'].append(calltable_indel)\n",
    "    calltables['snp'].append(calltable_snp)\n",
    "calltables.keys()"
   ]
  },
  {
   "cell_type": "code",
   "execution_count": null,
   "metadata": {},
   "outputs": [],
   "source": [
    "for mt in ['snv', 'indel', 'snp']:\n",
    "    if not os.path.exists(os.path.join(mixturefolder, 'calls')):\n",
    "        os.mkdir(os.path.join(mixturefolder, 'calls'))\n",
    "    if not os.path.exists(os.path.join(mixturefolder, 'calls', mixtureid+'_'+mt+'_calls_'+filterparam+'.csv')) or reload:\n",
    "        for ci, csnv in enumerate(calltables[mt]):\n",
    "            cols = ['chrom', 'pos', 'ref', 'alt', 'type']\n",
    "            for m in config.methods:\n",
    "                cols.append('{:.2f}_{}'.format(calltables['tf'][ci], m))\n",
    "                cols.append('{:.2f}_{}_score'.format(calltables['tf'][ci], m))\n",
    "            for m in config.methods:\n",
    "                cols.append('{:.2f}_{}_altcov'.format(calltables['tf'][ci], m)) \n",
    "                cols.append('{:.2f}_{}_totcov'.format(calltables['tf'][ci], m)) \n",
    "                cols.append('{:.2f}_{}_vaf'.format(calltables['tf'][ci], m)) \n",
    "            csnv.columns = cols\n",
    "        # ensure no duplicated index\n",
    "        print(calltables[mt][0].loc[calltables[mt][0].index[calltables[mt][0].index.duplicated(keep=False)]].shape[0])\n",
    "        # get call series\n",
    "        calltablesseries = pd.concat([ct.set_index(['chrom', 'pos', 'ref', 'alt', 'type']) for ct in calltables[mt]], axis=1)\n",
    "        calltablesseries.reset_index(inplace=True)\n",
    "        calltablesseries['chrom_pos_ref_alt'] = calltablesseries['chrom'].astype('str').str.cat(calltablesseries['pos'].astype('str'), sep=\"_\").str.cat(calltablesseries['ref'].astype('str'), sep='_').str.cat(calltablesseries['alt'].astype('str'), sep='_')\n",
    "        calltablesseries.set_index('chrom_pos_ref_alt', inplace=True)\n",
    "        print(calltablesseries.shape)\n",
    "        calltablesseries.to_csv(os.path.join(mixturefolder, 'calls', mixtureid+'_'+mt+'_calls_'+filterparam+'.csv'))\n",
    "        \n",
    "calltablesseries = pd.read_csv(os.path.join(mixturefolder, 'calls', mixtureid+'_'+muttype+'_calls_'+filterparam+'.csv'), index_col=0)\n",
    "calltablesseries.head()"
   ]
  },
  {
   "cell_type": "markdown",
   "metadata": {},
   "source": [
    "# Generate ground truth"
   ]
  },
  {
   "cell_type": "markdown",
   "metadata": {},
   "source": [
    "## Approach 1: optimal threshold for each method + consensus"
   ]
  },
  {
   "cell_type": "code",
   "execution_count": null,
   "metadata": {},
   "outputs": [],
   "source": [
    "calltablesseries['truth'] = False\n",
    "refmethods = list(np.copy(config.methods))\n",
    "print(refmethods)\n",
    "\n",
    "ncallsinundiluted = calltablesseries[['{:.2f}_{}'.format(max(calltables['tf']), m) for m in refmethods]].sum(axis=0)\n",
    "callsinundiluted = calltablesseries[['{:.2f}_{}_score'.format(max(calltables['tf']), m) for m in refmethods]]\n",
    "print(ncallsinundiluted)\n",
    "callsinundiluted.columns = refmethods\n",
    "callsinundiluted = callsinundiluted.stack().reset_index(level=0, drop=False).reset_index()\n",
    "callsinundiluted.set_index('chrom_pos_ref_alt', inplace=True)\n",
    "callsinundiluted.columns = ['method', 'score']\n",
    "for mi, m in enumerate(refmethods):\n",
    "    plt.figure()\n",
    "    sns.histplot(callsinundiluted[callsinundiluted['method'] == m], x='score', stat=\"probability\", color=config.colors[config.methods.index(m)], binwidth=0.01)\n",
    "    plt.xlim([0, 1])\n",
    "    plt.ylim([0, 1])\n",
    "    plt.title(m)\n",
    "\n",
    "# pseudo ground truth = mutations found by at least k callers\n",
    "if muttype == 'snv':\n",
    "    nref = 5\n",
    "elif muttype == 'indel':\n",
    "    nref = 3\n",
    "truthpos = list(calltablesseries[calltablesseries[['{:.2f}_{}'.format(max(calltables['tf']), m) for m in refmethods]].sum(axis=1) >= nref].index)\n",
    "calltablesseries.loc[truthpos, 'truth'] = True\n",
    "calltablesseries['truth'].value_counts()"
   ]
  },
  {
   "cell_type": "markdown",
   "metadata": {},
   "source": [
    "## Approach 2: rank mutations"
   ]
  },
  {
   "cell_type": "code",
   "execution_count": null,
   "metadata": {},
   "outputs": [],
   "source": [
    "#calltablesseries['truth'] = False\n",
    "\n",
    "if muttype == 'snv':\n",
    "    refmethods = list(np.copy(config.methods))\n",
    "    #refmethods.remove('cfsnv')\n",
    "elif muttype == 'indel':\n",
    "    refmethods = list(np.copy(config.methods))\n",
    "    refmethods.remove('abemus')\n",
    "    refmethods.remove('cfsnv')\n",
    "    \n",
    "\n",
    "# pseudo ground truth = best K mutations found by each caller\n",
    "# number mutations found by each method\n",
    "ncallsinundiluted = calltablesseries[['{:.2f}_{}'.format(max(calltables['tf']), m) for m in refmethods]].sum(axis=0)\n",
    "callsinundiluted = calltablesseries[['{:.2f}_{}_score'.format(max(calltables['tf']), m) for m in refmethods]]\n",
    "callsinundiluted = (callsinundiluted - callsinundiluted.mean()) + 0.5\n",
    "#callsinundiluted = ((callsinundiluted - callsinundiluted.mean()) / callsinundiluted.std())\n",
    "#callsinundiluted = (callsinundiluted - callsinundiluted.min()) / (callsinundiluted.max() - callsinundiluted.min())\n",
    "print(ncallsinundiluted)\n",
    "callsinundiluted.columns = refmethods\n",
    "callsinundiluted = callsinundiluted.stack().reset_index(level=0, drop=False).reset_index()\n",
    "callsinundiluted.set_index('chrom_pos_ref_alt', inplace=True)\n",
    "callsinundiluted.columns = ['method', 'score']\n",
    "for mi, m in enumerate(refmethods):\n",
    "    plt.figure()\n",
    "    sns.histplot(callsinundiluted[callsinundiluted['method'] == m], x='score', stat=\"probability\", color=config.colors[config.methods.index(m)])\n",
    "    #plt.xlim([0, 1])\n",
    "    #plt.ylim([0, 1])\n",
    "    plt.title(m)\n",
    "    \n",
    "ncallsinundiluted = calltablesseries[['{:.2f}_{}'.format(max(calltables['tf']), m) for m in refmethods]].sum(axis=0)\n",
    "print(ncallsinundiluted)\n",
    "plt.figure(figsize=(15,10))\n",
    "plt.bar(refmethods, ncallsinundiluted)\n",
    "\n",
    "plt.figure(figsize=(15,10))\n",
    "plt.bar(refmethods, np.log(ncallsinundiluted.values.astype(float)))\n",
    "#plt.semilogy()\n",
    "\n",
    "ncallsinundiluted = calltablesseries[['{:.2f}_{}'.format(max(calltables['tf']), m) for m in refmethods]].sum(axis=0)\n",
    "#ncallsinundiluted = ncallsinundiluted.astype(float)\n",
    "#ncallsinundiluted = np.log(ncallsinundiluted)\n",
    "ncallsinundiluted = ncallsinundiluted.max()/ncallsinundiluted\n",
    "ncallsinundiluted = ncallsinundiluted/ncallsinundiluted.max()\n",
    "print(ncallsinundiluted.shape)\n",
    "print(ncallsinundiluted)\n",
    "\n",
    "callsinundiluted = calltablesseries[['{:.2f}_{}_score'.format(max(calltables['tf']), m) for m in refmethods]]\n",
    "callsinundiluted.sort_values(by=list(callsinundiluted.columns), ascending=False).head()\n",
    "\n",
    "for c in callsinundiluted.columns:\n",
    "    callsinundiluted[c] *= callsinundiluted[c] * ncallsinundiluted.loc[c[:-6]]\n",
    "callsinundiluted = callsinundiluted.fillna(0)\n",
    "callsinundiluted['score'] = callsinundiluted[['{:.2f}_{}_score'.format(max(calltables['tf']), m) for m in refmethods]].sum(axis=1) / len(refmethods)\n",
    "print(callsinundiluted['score'].describe())\n",
    "\n",
    "print(callsinundiluted[callsinundiluted['score'] > 1/(len(refmethods))].shape)\n",
    "\n",
    "plt.figure()\n",
    "sns.histplot(callsinundiluted[callsinundiluted['score'] > 1/(len(refmethods))], x='score', stat='probability')\n",
    "#plt.xlim([0,1])\n",
    "plt.title('meta score')\n",
    "\n",
    "print(callsinundiluted[callsinundiluted['score'] > 1/(len(refmethods))].describe())\n",
    "\n",
    "callsinundiluted.head()"
   ]
  },
  {
   "cell_type": "code",
   "execution_count": null,
   "metadata": {},
   "outputs": [],
   "source": [
    "calltablesseries['truth'] = False\n",
    "callsinundiluted[callsinundiluted['score'] > 1/(len(config.methods))]\n",
    "truthpos = list(callsinundiluted[callsinundiluted['score'] > 1/(len(config.methods))].index)\n",
    "calltablesseries.loc[truthpos, 'truth'] = True\n",
    "\n",
    "print(calltablesseries[calltablesseries['truth'] == True][['{:.2f}_{}'.format(max(calltables['tf']), m) for m in config.methods]].sum(axis=1).value_counts())\n",
    "\n",
    "calltablesseries['truth'].value_counts()"
   ]
  },
  {
   "cell_type": "markdown",
   "metadata": {},
   "source": [
    "# Plots"
   ]
  },
  {
   "cell_type": "code",
   "execution_count": null,
   "metadata": {},
   "outputs": [],
   "source": [
    "if fixedvar == 'coverage':\n",
    "    dilutionseries = [(70,0), (70, 80), (50, 100), (30, 120), (20, 130), (10, 140), (5, 145)]\n",
    "elif fixedvar == 'ctdna':\n",
    "    dilutionseries = [(70,0), (70, 30), (70, 80), (70, 130), (70, 180)]\n",
    "\n",
    "results_auprc_df = metric_curve(config, calltablesseries, plasmasample, healthysample, dilutionseries,\n",
    "                                    metric='auprc', ground_truth_method='ranked', refsample='undilutedranked', muttype=muttype, chrom=chrom, methods=config.methods, fixedvar=fixedvar, save=save)\n",
    "results_recall_df = metric_curve(config, calltablesseries, plasmasample, healthysample, dilutionseries,\n",
    "                                    metric='recall', ground_truth_method='ranked', refsample='undilutedranked', muttype=muttype, chrom=chrom, methods=config.methods, fixedvar=fixedvar, save=save)\n",
    "results_precision_df = metric_curve(config, calltablesseries, plasmasample, healthysample, dilutionseries,\n",
    "                                    metric='precision', ground_truth_method='ranked', refsample='undilutedranked', muttype=muttype, chrom=chrom, methods=config.methods, fixedvar=fixedvar, save=save)\n"
   ]
  },
  {
   "cell_type": "code",
   "execution_count": null,
   "metadata": {},
   "outputs": [],
   "source": [
    "figure_curve(config, calltablesseries, plasmasample, healthysample, dilutionseries, xy='pr', ground_truth_method='ranked',\n",
    "             refsample='undilutedranked', muttype=muttype.upper(), chrom='22', methods=None, fixedvar=fixedvar, save=save)"
   ]
  },
  {
   "cell_type": "markdown",
   "metadata": {},
   "source": [
    "# Confusion matrix"
   ]
  },
  {
   "cell_type": "code",
   "execution_count": null,
   "metadata": {},
   "outputs": [],
   "source": []
  },
  {
   "cell_type": "markdown",
   "metadata": {},
   "source": [
    "# Call set similarity: Jaccard Index"
   ]
  },
  {
   "cell_type": "code",
   "execution_count": null,
   "metadata": {},
   "outputs": [],
   "source": [
    "\n",
    "for sklearn.metrics.jaccard_similarity_score(y_true, y_pred, normalize=True)"
   ]
  },
  {
   "cell_type": "markdown",
   "metadata": {},
   "source": [
    "# Change in prediction with dilution"
   ]
  },
  {
   "cell_type": "markdown",
   "metadata": {},
   "source": [
    "# True Positive, False Negative and False Positive Mutations"
   ]
  },
  {
   "cell_type": "markdown",
   "metadata": {},
   "source": [
    "# Stacked TP, FN, FP, TN"
   ]
  },
  {
   "cell_type": "markdown",
   "metadata": {},
   "source": [
    "# Number of mutations"
   ]
  },
  {
   "cell_type": "markdown",
   "metadata": {},
   "source": [
    "# Ratio performance attenuation"
   ]
  },
  {
   "cell_type": "code",
   "execution_count": null,
   "metadata": {},
   "outputs": [],
   "source": []
  }
 ],
 "metadata": {
  "kernelspec": {
   "display_name": "Python 3",
   "language": "python",
   "name": "python3"
  },
  "language_info": {
   "codemirror_mode": {
    "name": "ipython",
    "version": 3
   },
   "file_extension": ".py",
   "mimetype": "text/x-python",
   "name": "python",
   "nbconvert_exporter": "python",
   "pygments_lexer": "ipython3",
   "version": "3.7.10"
  }
 },
 "nbformat": 4,
 "nbformat_minor": 4
}
