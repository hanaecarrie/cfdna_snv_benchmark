{
 "cells": [
  {
   "cell_type": "code",
   "execution_count": null,
   "metadata": {},
   "outputs": [],
   "source": [
    "import os\n",
    "import numpy as np\n",
    "import pandas as pd\n",
    "import matplotlib.pyplot as plt\n",
    "import seaborn as sns\n",
    "import pysam\n",
    "from collections import Counter\n",
    "from matplotlib import cm\n",
    "from matplotlib.colors import ListedColormap\n",
    "\n",
    "import io\n",
    "from pysam import VariantFile\n",
    "from matplotlib_venn import venn3\n",
    "import venn"
   ]
  },
  {
   "cell_type": "code",
   "execution_count": null,
   "metadata": {},
   "outputs": [],
   "source": [
    "tab20 = cm.get_cmap('tab10', 8)\n",
    "newcmap_list = []\n",
    "for i in range(4):\n",
    "    newcmap_list.append(tab20.colors[i])\n",
    "for i in range(4):\n",
    "    newcmap_list.append(np.array(list(tab20.colors[i][:-1]) +[0.3]))\n",
    "\n",
    "newcmap = ListedColormap(newcmap_list, name='newcmap')"
   ]
  },
  {
   "cell_type": "code",
   "execution_count": null,
   "metadata": {},
   "outputs": [],
   "source": [
    "def read_vcf(path):\n",
    "    with open(path, 'r') as f:\n",
    "        lines = [l for l in f if not l.startswith('##')]\n",
    "    res = pd.read_csv(\n",
    "        io.StringIO(''.join(lines)),\n",
    "        dtype={'#CHROM': str, 'POS': int, 'ID': str, 'REF': str, 'ALT': str,\n",
    "               'QUAL': str, 'FILTER': str, 'INFO': str},\n",
    "        sep='\\t'\n",
    "    ).rename(columns={'#CHROM': 'CHROM'})\n",
    "    return res"
   ]
  },
  {
   "cell_type": "markdown",
   "metadata": {},
   "source": [
    "# SNV calling\n",
    "\n",
    "## 986_100215"
   ]
  },
  {
   "cell_type": "code",
   "execution_count": null,
   "metadata": {},
   "outputs": [],
   "source": [
    "foo = lambda x: pd.Series(x.split('CALLERS=')[1].split(';')[0])\n",
    "vcf_pd = read_vcf(\"../data/2015-07-31_CRC-809_110914-filter-05-05/CRC-809_110914-filter-05-05-ensemble-annotated.vcf\")\n",
    "\n",
    "vcf_pd['INFO'] = vcf_pd['INFO'].apply(foo)\n",
    "vcf_pd['freebayes'] = vcf_pd['INFO'].str.contains('freebayes')\n",
    "vcf_pd['vardict'] = vcf_pd['INFO'].str.contains('vardict')\n",
    "vcf_pd['varscan'] = vcf_pd['INFO'].str.contains('varscan')\n",
    "vcf_pd['mutect2'] = vcf_pd['INFO'].str.contains('mutect2')\n",
    "vcf_pd['strelka2'] = vcf_pd['INFO'].str.contains('strelka2')\n",
    "vcf_pd.drop('INFO', axis=1)\n",
    "\n",
    "\n",
    "vcf_pd['SNV callers'] = vcf_pd['freebayes'].map(str) + '_' + vcf_pd['vardict'].map(str) +  '_' + vcf_pd['varscan'].map(str)\n",
    "a = vcf_pd[['SNV callers']].apply(pd.value_counts)\n",
    "print(vcf_pd[vcf_pd['CHROM'] == '22'].shape[0])\n",
    "## /!\\: there are 2 mutations located on chr7 ???\n",
    "\n",
    "b = vcf_pd[vcf_pd['CHROM'] == '22'][['SNV callers']].apply(pd.value_counts)\n",
    "b.index.name='freebayes_vardict_varscan'\n",
    "b.head()/vcf_pd[vcf_pd['CHROM'] == '22'].shape[0]*100"
   ]
  },
  {
   "cell_type": "code",
   "execution_count": null,
   "metadata": {},
   "outputs": [],
   "source": [
    "v=venn3(subsets = (0, 0, 0, b['SNV callers'].loc['True_True_False'], b['SNV callers'].loc['True_False_True'], b['SNV callers'].loc['False_True_True'], b['SNV callers'].loc['True_True_True']),\n",
    "        set_labels = ('Freebayes', 'Vardict', 'Varscan'))\n",
    "plt.show()"
   ]
  },
  {
   "cell_type": "code",
   "execution_count": null,
   "metadata": {},
   "outputs": [],
   "source": [
    "vcf_pd['SNV callers'] = vcf_pd['freebayes'].map(str) + '_' + vcf_pd['mutect2'].map(str) + '_' + vcf_pd['strelka2'].map(str) + '_' + vcf_pd['vardict'].map(str) +  '_' + vcf_pd['varscan'].map(str)\n",
    "a = vcf_pd[['SNV callers']].apply(pd.value_counts)\n",
    "print(vcf_pd[vcf_pd['CHROM'] == '22'].shape[0])\n",
    "## /!\\: there are 2 mutations located on chr7 ???\n",
    "\n",
    "b = vcf_pd[vcf_pd['CHROM'] == '22'][['SNV callers']].apply(pd.value_counts)\n",
    "b.index.name='freebayes_mutect2_strelka2_vardict_varscan'\n",
    "b/vcf_pd[vcf_pd['CHROM'] == '22'].shape[0]*100"
   ]
  },
  {
   "cell_type": "code",
   "execution_count": null,
   "metadata": {},
   "outputs": [],
   "source": [
    "labels = {'00001': 0,#b['SNV callers'].loc['False_False_False_False_True'],\n",
    "          '00010': 0, #b['SNV callers'].loc['False_False_False_True_False'],\n",
    "          '00011': b['SNV callers'].loc['False_False_False_True_True'],\n",
    "          '00100': 0, #b['SNV callers'].loc['False_False_True_False_False'],\n",
    "          '00101': b['SNV callers'].loc['False_False_True_False_True'],\n",
    "          '00110': b['SNV callers'].loc['False_False_True_True_False'],\n",
    "          '00111': b['SNV callers'].loc['False_False_True_True_True'],\n",
    "          '01000': 0, #b['SNV callers'].loc['False_True_False_False_False'],\n",
    "          '01001': b['SNV callers'].loc['False_True_False_False_True'],\n",
    "          '01010': b['SNV callers'].loc['False_True_False_True_False'],\n",
    "          '01011': b['SNV callers'].loc['False_True_False_True_True'],\n",
    "          '01100': b['SNV callers'].loc['False_True_True_False_False'],\n",
    "          '01101': b['SNV callers'].loc['False_True_True_False_True'],\n",
    "          '01110': b['SNV callers'].loc['False_True_True_True_False'],\n",
    "          '01111': b['SNV callers'].loc['False_True_True_True_True'],\n",
    "          '10000': 0, #b['SNV callers'].loc['True_False_False_False_False'],\n",
    "          '10001': b['SNV callers'].loc['True_False_False_False_True'],\n",
    "          '10010': b['SNV callers'].loc['True_False_False_True_False'],\n",
    "          '10011': b['SNV callers'].loc['True_False_False_True_True'],\n",
    "          '10100': b['SNV callers'].loc['True_False_True_False_False'],\n",
    "          '10101': b['SNV callers'].loc['True_False_True_False_True'],\n",
    "          '10110': b['SNV callers'].loc['True_False_True_True_False'],\n",
    "          '10111': b['SNV callers'].loc['True_False_True_True_True'],\n",
    "          '11000': b['SNV callers'].loc['True_True_False_False_False'],\n",
    "          '11001': b['SNV callers'].loc['True_True_False_False_True'],\n",
    "          '11010': b['SNV callers'].loc['True_True_False_True_False'],\n",
    "          '11011': b['SNV callers'].loc['True_True_False_True_True'],\n",
    "          '11100': b['SNV callers'].loc['True_True_True_False_False'],\n",
    "          '11101': b['SNV callers'].loc['True_True_True_False_True'],\n",
    "          '11110': b['SNV callers'].loc['True_True_True_True_False'],\n",
    "          '11111': b['SNV callers'].loc['True_True_True_True_True'],\n",
    "         }\n",
    "          \n",
    "\n",
    "fig, ax = venn.venn5(labels, names=['freebayes', 'mutect2', 'strelka2', 'vardict', 'varscan'])\n",
    "fig.show()"
   ]
  },
  {
   "cell_type": "markdown",
   "metadata": {},
   "source": [
    "## 809_110914"
   ]
  },
  {
   "cell_type": "code",
   "execution_count": null,
   "metadata": {},
   "outputs": [],
   "source": [
    "foo = lambda x: pd.Series(x.split('CALLERS=')[1].split(';')[0])\n",
    "vcf_pd = read_vcf(\"../data/2015-07-31_CRC-809_110914-filter/CRC-809_110914-filter-ensemble-annotated.vcf\")\n",
    "vcf_pd['INFO'] = vcf_pd['INFO'].apply(foo)\n",
    "vcf_pd['freebayes'] = vcf_pd['INFO'].str.contains('freebayes')\n",
    "vcf_pd['vardict'] = vcf_pd['INFO'].str.contains('vardict')\n",
    "vcf_pd['varscan'] = vcf_pd['INFO'].str.contains('varscan')\n",
    "vcf_pd['mutect2'] = vcf_pd['INFO'].str.contains('mutect2')\n",
    "vcf_pd['strelka2'] = vcf_pd['INFO'].str.contains('strelka2')\n",
    "vcf_pd.drop('INFO', axis=1)\n",
    "#vcf_pd = vcf_pd[['CHROM', \"POS\", 'REF', \"ALT\", 'freebayes', 'vardict', 'varscan']]\n",
    "#vcf_pd.head()\n",
    "\n",
    "vcf_pd['SNV callers'] = vcf_pd['freebayes'].map(str) + '_' + vcf_pd['vardict'].map(str) +  '_' + vcf_pd['varscan'].map(str)\n",
    "a = vcf_pd[['SNV callers']].apply(pd.value_counts)\n",
    "print(vcf_pd[vcf_pd['CHROM'] == '22'].shape[0])\n",
    "## /!\\: there are 2 mutations located on chr7 ???\n",
    "\n",
    "b = vcf_pd[vcf_pd['CHROM'] == '22'][['SNV callers']].apply(pd.value_counts)\n",
    "b.index.name='freebayes_vardict_varscan'\n",
    "b.head()/vcf_pd[vcf_pd['CHROM'] == '22'].shape[0]*100"
   ]
  },
  {
   "cell_type": "code",
   "execution_count": null,
   "metadata": {},
   "outputs": [],
   "source": [
    "v=venn3(subsets = (0, 0, 0, b['SNV callers'].loc['True_True_False'], b['SNV callers'].loc['True_False_True'], b['SNV callers'].loc['False_True_True'], b['SNV callers'].loc['True_True_True']),\n",
    "        set_labels = ('Freebayes', 'Vardict', 'Varscan'))\n",
    "plt.show()"
   ]
  },
  {
   "cell_type": "code",
   "execution_count": null,
   "metadata": {},
   "outputs": [],
   "source": [
    "vcf_pd['SNV callers'] = vcf_pd['freebayes'].map(str) + '_' + vcf_pd['mutect2'].map(str) + '_' + vcf_pd['strelka2'].map(str) + '_' + vcf_pd['vardict'].map(str) +  '_' + vcf_pd['varscan'].map(str)\n",
    "a = vcf_pd[['SNV callers']].apply(pd.value_counts)\n",
    "print(vcf_pd[vcf_pd['CHROM'] == '22'].shape[0])\n",
    "## /!\\: there are 2 mutations located on chr7 ???\n",
    "\n",
    "b = vcf_pd[vcf_pd['CHROM'] == '22'][['SNV callers']].apply(pd.value_counts)\n",
    "b.index.name='freebayes_mutect2_strelka2_vardict_varscan'\n",
    "b/vcf_pd[vcf_pd['CHROM'] == '22'].shape[0]*100"
   ]
  },
  {
   "cell_type": "code",
   "execution_count": null,
   "metadata": {},
   "outputs": [],
   "source": [
    "labels = {'00001': 0,#b['SNV callers'].loc['False_False_False_False_True'],\n",
    "          '00010': 0, #b['SNV callers'].loc['False_False_False_True_False'],\n",
    "          '00011': b['SNV callers'].loc['False_False_False_True_True'],\n",
    "          '00100': 0, #b['SNV callers'].loc['False_False_True_False_False'],\n",
    "          '00101': b['SNV callers'].loc['False_False_True_False_True'],\n",
    "          '00110': b['SNV callers'].loc['False_False_True_True_False'],\n",
    "          '00111': b['SNV callers'].loc['False_False_True_True_True'],\n",
    "          '01000': 0, #b['SNV callers'].loc['False_True_False_False_False'],\n",
    "          '01001': b['SNV callers'].loc['False_True_False_False_True'],\n",
    "          '01010': b['SNV callers'].loc['False_True_False_True_False'],\n",
    "          '01011': b['SNV callers'].loc['False_True_False_True_True'],\n",
    "          '01100': b['SNV callers'].loc['False_True_True_False_False'],\n",
    "          '01101': b['SNV callers'].loc['False_True_True_False_True'],\n",
    "          '01110': b['SNV callers'].loc['False_True_True_True_False'],\n",
    "          '01111': b['SNV callers'].loc['False_True_True_True_True'],\n",
    "          '10000': 0, #b['SNV callers'].loc['True_False_False_False_False'],\n",
    "          '10001': b['SNV callers'].loc['True_False_False_False_True'],\n",
    "          '10010': b['SNV callers'].loc['True_False_False_True_False'],\n",
    "          '10011': b['SNV callers'].loc['True_False_False_True_True'],\n",
    "          '10100': b['SNV callers'].loc['True_False_True_False_False'],\n",
    "          '10101': b['SNV callers'].loc['True_False_True_False_True'],\n",
    "          '10110': b['SNV callers'].loc['True_False_True_True_False'],\n",
    "          '10111': b['SNV callers'].loc['True_False_True_True_True'],\n",
    "          '11000': b['SNV callers'].loc['True_True_False_False_False'],\n",
    "          '11001': b['SNV callers'].loc['True_True_False_False_True'],\n",
    "          '11010': b['SNV callers'].loc['True_True_False_True_False'],\n",
    "          '11011': b['SNV callers'].loc['True_True_False_True_True'],\n",
    "          '11100': b['SNV callers'].loc['True_True_True_False_False'],\n",
    "          '11101': b['SNV callers'].loc['True_True_True_False_True'],\n",
    "          '11110': b['SNV callers'].loc['True_True_True_True_False'],\n",
    "          '11111': b['SNV callers'].loc['True_True_True_True_True'],\n",
    "         }\n",
    "          \n",
    "\n",
    "fig, ax = venn.venn5(labels, names=['freebayes', 'mutect2', 'strelka2', 'vardict', 'varscan'])\n",
    "fig.show()"
   ]
  },
  {
   "cell_type": "code",
   "execution_count": null,
   "metadata": {},
   "outputs": [],
   "source": []
  }
 ],
 "metadata": {
  "kernelspec": {
   "display_name": "Python 3",
   "language": "python",
   "name": "python3"
  },
  "language_info": {
   "codemirror_mode": {
    "name": "ipython",
    "version": 3
   },
   "file_extension": ".py",
   "mimetype": "text/x-python",
   "name": "python",
   "nbconvert_exporter": "python",
   "pygments_lexer": "ipython3",
   "version": "3.7.7"
  }
 },
 "nbformat": 4,
 "nbformat_minor": 2
}
