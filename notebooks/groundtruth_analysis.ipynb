{
 "cells": [
  {
   "cell_type": "markdown",
   "id": "atomic-suicide",
   "metadata": {},
   "source": [
    "# Ground truth analysis"
   ]
  },
  {
   "cell_type": "code",
   "execution_count": null,
   "id": "hydraulic-money",
   "metadata": {},
   "outputs": [],
   "source": [
    "# Imports\n",
    "\n",
    "%load_ext autoreload\n",
    "%autoreload 2\n",
    "\n",
    "import io\n",
    "import os\n",
    "import numpy as np\n",
    "import pandas as pd\n",
    "import matplotlib.pyplot as plt\n",
    "import seaborn as sns\n",
    "import pysam\n",
    "import warnings\n",
    "from tqdm.notebook import tqdm\n",
    "from sklearn.metrics import precision_recall_curve, f1_score, average_precision_score\n",
    "warnings.filterwarnings('ignore')\n",
    "from sklearn.metrics import confusion_matrix\n",
    "\n",
    "# set working directory\n",
    "if not os.getcwd().endswith('cfdna_snv_benchmark'):\n",
    "    os.chdir('../')\n",
    "print('Current working directory: {}'.format(os.getcwd()))\n",
    "\n",
    "from utils.config import Config\n",
    "from utils.viz import *\n",
    "from utils.table import *\n",
    "from utils.metrics import *\n",
    "from utils.calltable import *\n",
    "from utils.calltableseries import *\n",
    "from utils.groundtruth import *\n",
    "from utils.metricsseries import *\n",
    "from utils.venn import *"
   ]
  },
  {
   "cell_type": "code",
   "execution_count": null,
   "id": "medium-error",
   "metadata": {},
   "outputs": [],
   "source": [
    "# Config and Display paramaters\n",
    "\n",
    "config = Config(\"config/\", \"config_viz.yaml\")\n",
    "set_display_params(config)\n",
    "print(config.methods)"
   ]
  },
  {
   "cell_type": "code",
   "execution_count": null,
   "id": "shaped-integral",
   "metadata": {},
   "outputs": [],
   "source": [
    "gt1 = pd.read_csv(os.path.join('data', 'matchedtissue', 'NCC_CRC-986_100215-T1W', 'calls', 'NCC_CRC-986_100215-T1W_snv_calls_PASS_exome.csv'), index_col=0)\n",
    "gt2 = pd.read_csv(os.path.join('data', 'matchedtissue_ultradeep', '986_100215_T1-E', 'calls', '986_100215_T1-E_snv_calls_all.csv'), index_col=0)\n",
    "print(gt1.shape[0], gt2.shape[0])"
   ]
  },
  {
   "cell_type": "code",
   "execution_count": null,
   "id": "fantastic-essex",
   "metadata": {},
   "outputs": [],
   "source": [
    "len(list(set(list(gt1.index)) & set(list(gt2.index))))"
   ]
  },
  {
   "cell_type": "code",
   "execution_count": null,
   "id": "emerging-briefing",
   "metadata": {},
   "outputs": [],
   "source": [
    "gt1filtered = list(gt1[gt1[['{}'.format(m) for m in config.methods_tissue]].sum(axis=1) >= 3].index)\n",
    "gt2filtered = list(gt2[gt2[['{}'.format(m) for m in config.methods_tissue]].sum(axis=1) >= 3].index)\n",
    "print(len(gt1filtered), len(gt2filtered))"
   ]
  },
  {
   "cell_type": "code",
   "execution_count": null,
   "id": "engaged-configuration",
   "metadata": {},
   "outputs": [],
   "source": [
    "len(list(set(gt1filtered) & set(gt2filtered)))"
   ]
  },
  {
   "cell_type": "markdown",
   "id": "silent-sunglasses",
   "metadata": {},
   "source": [
    "# Get call sets for cfDNA, T1W, M1W on exome calling"
   ]
  },
  {
   "cell_type": "code",
   "execution_count": null,
   "id": "organized-shirt",
   "metadata": {},
   "outputs": [],
   "source": [
    "T1W_WES_snv_table, _, _ = get_calltable('data/matchedtissue_ultradeep/986_100215_T1-E', config.methods_tissue, save=False, filter='all')\n",
    "M1W_WES_snv_table, _, _ = get_calltable('data/matchedtissue_ultradeep/986_100215_M1-E', config.methods_tissue, save=False, filter='all')\n",
    "#M2W_WES_snv_table, _, _ = get_calltable('data/matchedtissue_ultradeep/986_100215_M2-E', config.methods_tissue, save=True, filter='all')"
   ]
  },
  {
   "cell_type": "code",
   "execution_count": null,
   "id": "widespread-climate",
   "metadata": {},
   "outputs": [],
   "source": [
    "#T1W_WGS_snv_table, _, _ = get_calltable('data/matchedtissue/NCC_CRC-986_100215-T1W', config.methods_tissue, save=True, filter='PASS')\n",
    "#M1W_WGS_snv_table, _, _ = get_calltable('data/matchedtissue/NCC_CRC-986_100215-M1W', config.methods_tissue, save=True, filter='PASS')\n",
    "M2W_WGS_snv_table, _, _ = get_calltable('data/matchedtissue/NCC_CRC-986_100215-M2W', ['freebayes', 'mutect2', 'vardict', 'varscan'], save=True, filter='PASS')"
   ]
  },
  {
   "cell_type": "code",
   "execution_count": null,
   "id": "leading-criticism",
   "metadata": {},
   "outputs": [],
   "source": [
    "M2W_WGS_snv_table = pd.read_csv('data/matchedtissue/NCC_CRC-986_100215-M2W/calls/NCC_CRC-986_100215-M2W_snv_calls_PASS.csv', index_col=0)\n",
    "M2W_WGS_snv_table"
   ]
  },
  {
   "cell_type": "code",
   "execution_count": null,
   "id": "heavy-classroom",
   "metadata": {},
   "outputs": [],
   "source": [
    "T1W_WGS_snv_table = pd.read_csv('data/matchedtissue/NCC_CRC-986_100215-T1W/calls/NCC_CRC-986_100215-T1W_snv_calls_all.csv', index_col=0)\n",
    "T1W_WGS_snv_table"
   ]
  },
  {
   "cell_type": "code",
   "execution_count": null,
   "id": "sustained-operations",
   "metadata": {},
   "outputs": [],
   "source": [
    "# load exome regions\n",
    "exomebed = pd.read_csv('data/extdata/xgen-exome-research-panel-targets_nochr.bed', sep='\\t', header=None)\n",
    "exomebed.columns = ['chrom', 'startpos', 'endpos', 'a', 'b', 'c']\n",
    "exomebed = exomebed[['chrom', 'startpos', 'endpos']]\n",
    "exomebed['chrom'] = exomebed['chrom'].astype(str)\n",
    "\n",
    "# exome filtering\n",
    "noncodingregions = []\n",
    "for pos in tqdm(list(M2W_WGS_snv_table.index)):\n",
    "    chrom, startpos, ref, alt = pos.split('_')\n",
    "    if str(chrom) not in exomebed['chrom'].unique().astype(str):\n",
    "        noncodingregions.append(pos)\n",
    "    else:\n",
    "        exomechrom = exomebed[exomebed['chrom'] == str(chrom)]\n",
    "        count = False\n",
    "        for ind in list(exomechrom.index):\n",
    "            # print(exomechrom['endpos'][ind], exomechrom['startpos'][ind])\n",
    "            if exomechrom['endpos'][ind] >= int(startpos):\n",
    "                if exomechrom['startpos'][ind] <= int(startpos):\n",
    "                    count = True\n",
    "        if not count:\n",
    "            noncodingregions.append(pos)\n",
    "        #print(pos, count)"
   ]
  },
  {
   "cell_type": "code",
   "execution_count": null,
   "id": "acknowledged-tobago",
   "metadata": {},
   "outputs": [],
   "source": [
    "T1W_exome_snv_table = T1W_WGS_snv_table.drop(noncodingregions\n",
    "T1W_exome_snv_table.to_csv(os.path.join('data/matchedtissue/NCC_CRC-986_100215-T1W', 'calls', 'NCC_CRC-986_100215-T1W_snv_calls_all_exome.csv'))"
   ]
  },
  {
   "cell_type": "code",
   "execution_count": null,
   "id": "generic-branch",
   "metadata": {},
   "outputs": [],
   "source": [
    "print(len(noncodingregions), M2W_WGS_snv_table.shape[0])\n",
    "\n",
    "#T1W_exome_snv_table = T1W_WGS_snv_table.drop(noncodingregions)\n",
    "M2W_exome_snv_table = M2W_WGS_snv_table.drop(noncodingregions)"
   ]
  },
  {
   "cell_type": "code",
   "execution_count": null,
   "id": "grave-calculation",
   "metadata": {},
   "outputs": [],
   "source": [
    "M2W_exome_snv_table[M2W_exome_snv_table[['freebayes', 'mutect2', 'vardict', 'varscan']].sum(axis=1) >= 3].shape"
   ]
  },
  {
   "cell_type": "code",
   "execution_count": null,
   "id": "intellectual-occasion",
   "metadata": {},
   "outputs": [],
   "source": [
    "#T1W_exome_snv_table.to_csv(os.path.join('data/matchedtissue/NCC_CRC-986_100215-T1W', 'calls', 'NCC_CRC-986_100215-T1W_snv_calls_PASS_exome.csv'))\n",
    "#M1W_exome_snv_table.to_csv(os.path.join('data/matchedtissue/NCC_CRC-986_100215-M1W', 'calls', 'NCC_CRC-986_100215-M1W_snv_calls_PASS_exome.csv'))\n",
    "M2W_exome_snv_table.to_csv(os.path.join('data/matchedtissue/NCC_CRC-986_100215-M2W', 'calls', 'NCC_CRC-986_100215-M2W_snv_calls_PASS_exome.csv'))"
   ]
  },
  {
   "cell_type": "code",
   "execution_count": null,
   "id": "judicial-builder",
   "metadata": {},
   "outputs": [],
   "source": [
    "M1W_exome_snv_table = pd.read_csv(os.path.join('data', 'matchedtissue', 'NCC_CRC-986_100215-M1W', 'calls', 'NCC_CRC-986_100215-M1W_snv_calls_PASS_exome.csv'), index_col=0)\n",
    "M1W_exome_snv_table = M1W_exome_snv_table[M1W_exome_snv_table['chrom'] != 'X']\n"
   ]
  },
  {
   "cell_type": "code",
   "execution_count": null,
   "id": "funny-arabic",
   "metadata": {},
   "outputs": [],
   "source": [
    "M2W_exome_snv_table = pd.read_csv(os.path.join('data', 'matchedtissue', 'NCC_CRC-986_100215-M2W', 'calls', 'NCC_CRC-986_100215-M2W_snv_calls_PASS_exome.csv'), index_col=0)\n",
    "M2W_exome_snv_table = M2W_exome_snv_table[M2W_exome_snv_table['chrom'] != 'X']"
   ]
  },
  {
   "cell_type": "code",
   "execution_count": null,
   "id": "collectible-amazon",
   "metadata": {},
   "outputs": [],
   "source": [
    "T1W_exome_snv_table = pd.read_csv(os.path.join('data', 'matchedtissue', 'NCC_CRC-986_100215-T1W', 'calls', 'NCC_CRC-986_100215-T1W_snv_calls_PASS_exome.csv'), index_col=0)\n",
    "T1W_exome_snv_table = T1W_exome_snv_table[T1W_exome_snv_table['chrom'] != 'X']\n",
    "T1W_exome_snv_table"
   ]
  },
  {
   "cell_type": "code",
   "execution_count": null,
   "id": "general-receiver",
   "metadata": {},
   "outputs": [],
   "source": [
    "cfdna1_snv_table_list = []\n",
    "for i in range(1,23):\n",
    "    cfdna1_chri_snv_table = pd.read_csv(os.path.join('data', 'mixtures', 'mixtures_chr'+str(i), 'mixtures_chr'+str(i)+'_CRC-986_100215-CW-T_CRC-986_300316-CW-T',\n",
    "                                                'mixture_chr'+str(i)+'_CRC-986_100215-CW-T_70x_CRC-986_300316-CW-T_0x', 'calls',\n",
    "                                                'mixture_chr'+str(i)+'_CRC-986_100215-CW-T_70x_CRC-986_300316-CW-T_0x_snv_calls_all.csv'), index_col=0)\n",
    "    cfdna1_snv_table_list.append(cfdna1_chri_snv_table)\n",
    "cfdna1_snv_table = pd.concat(cfdna1_snv_table_list)\n",
    "cfdna1_snv_table.drop(['varnet', 'varnet_score', 'varnet_vaf', 'varnet_altcov', 'varnet_totcov'], axis=1, inplace=True)\n",
    "cfdna1_snv_table.drop(['varnetbis', 'varnetbis_score', 'varnetbis_vaf', 'varnetbis_altcov', 'varnetbis_totcov'], axis=1, inplace=True)\n",
    "cfdna1_snv_table.drop(['smurf', 'smurf_score', 'smurf_vaf', 'smurf_altcov', 'smurf_totcov'], axis=1, inplace=True)\n",
    "cfdna1_snv_table"
   ]
  },
  {
   "cell_type": "code",
   "execution_count": null,
   "id": "worse-concentration",
   "metadata": {},
   "outputs": [],
   "source": [
    "calltabledict = {\n",
    "    'cfdna1': cfdna1_snv_table,\n",
    "    'M2W': M2W_exome_snv_table,\n",
    "}"
   ]
  },
  {
   "cell_type": "code",
   "execution_count": null,
   "id": "related-drawing",
   "metadata": {},
   "outputs": [],
   "source": [
    "calltabledict = {\n",
    "    'cfdna1': cfdna1_snv_table,\n",
    "    'T1W': T1W_exome_snv_table,\n",
    "    'M1W': M1W_exome_snv_table,\n",
    "    #'M2W': M2W_exome_snv_table,\n",
    "}"
   ]
  },
  {
   "cell_type": "code",
   "execution_count": null,
   "id": "requested-taxation",
   "metadata": {},
   "outputs": [],
   "source": [
    "calltabledict = {\n",
    "    'cfdna1': cfdna1_snv_table,\n",
    "    'T1W': T1W_WES_snv_table,\n",
    "    'M1W': M1W_WES_snv_table,\n",
    "}"
   ]
  },
  {
   "cell_type": "code",
   "execution_count": null,
   "id": "vocational-dayton",
   "metadata": {},
   "outputs": [],
   "source": [
    "calltabledict['cfdna1'].columns"
   ]
  },
  {
   "cell_type": "code",
   "execution_count": null,
   "id": "associate-workshop",
   "metadata": {},
   "outputs": [],
   "source": [
    "res =  compare_groundtruth(calltabledict)"
   ]
  },
  {
   "cell_type": "code",
   "execution_count": null,
   "id": "pressed-ordering",
   "metadata": {},
   "outputs": [],
   "source": [
    "calls_cfdna1 = res['cfdna1_4_4']\n",
    "calls_T1W = res['T1W_1_3']\n",
    "calls_M1W = res['M1W_1_3']\n",
    "calls_M2W = res['M2W_1_3']\n",
    "print(len(calls_M2W))\n",
    "labels = get_labels([calls_cfdna1, calls_T1W, calls_M1W, calls_M2W])\n",
    "print(labels)"
   ]
  },
  {
   "cell_type": "code",
   "execution_count": null,
   "id": "oriented-skiing",
   "metadata": {},
   "outputs": [],
   "source": [
    "venn4(labels, ['cfdna', 'T1', 'M1', 'M2'])"
   ]
  },
  {
   "cell_type": "code",
   "execution_count": null,
   "id": "automatic-madrid",
   "metadata": {},
   "outputs": [],
   "source": [
    "np.array(calls_M2W).tofile('data/matchedtissue/venndiagram/calls_M2W_atleast2callers.csv', sep = ',')"
   ]
  },
  {
   "cell_type": "code",
   "execution_count": null,
   "id": "sealed-right",
   "metadata": {},
   "outputs": [],
   "source": [
    "calls_cfdna1 = res['cfdna1_4_4']\n",
    "print(len(calls_cfdna1))\n",
    "calls_T1W = res['T1W_1_3']\n",
    "print(len(calls_T1W))\n",
    "calls_M1W = res['M1W_1_3']\n",
    "print(len(calls_M1W))\n",
    "labels = get_labels([calls_cfdna1, calls_T1W, calls_M1W])\n",
    "print(labels)"
   ]
  },
  {
   "cell_type": "code",
   "execution_count": null,
   "id": "civilian-recommendation",
   "metadata": {},
   "outputs": [],
   "source": []
  },
  {
   "cell_type": "code",
   "execution_count": null,
   "id": "imperial-shame",
   "metadata": {},
   "outputs": [],
   "source": [
    "venn3(labels, ['cfdna', 'T1', 'M1'])"
   ]
  },
  {
   "cell_type": "code",
   "execution_count": null,
   "id": "middle-barcelona",
   "metadata": {},
   "outputs": [],
   "source": [
    "cfdnaonly = list(set(calls_cfdna1) - set(calls_T1W) - set(calls_M1W))\n",
    "len(cfdnaonly)"
   ]
  },
  {
   "cell_type": "code",
   "execution_count": null,
   "id": "valid-trustee",
   "metadata": {},
   "outputs": [],
   "source": [
    "cfdna1_snv_table.columns"
   ]
  },
  {
   "cell_type": "code",
   "execution_count": null,
   "id": "rising-academy",
   "metadata": {},
   "outputs": [],
   "source": [
    "cfdna1_snv_table.loc[cfdnaonly][config.methods].sum()"
   ]
  },
  {
   "cell_type": "code",
   "execution_count": null,
   "id": "processed-swift",
   "metadata": {},
   "outputs": [],
   "source": [
    "cfdna1_snv_table.loc[cfdnaonly][config.methods]#.sum(axis=1)"
   ]
  },
  {
   "cell_type": "code",
   "execution_count": null,
   "id": "trained-witness",
   "metadata": {},
   "outputs": [],
   "source": [
    "np.array(calls_cfdna1).tofile('data/matchedtissue/venndiagram/calls_cfdna1_atleast4callers.csv', sep = ',')\n",
    "np.array(calls_T1W).tofile('data/matchedtissue/venndiagram/calls_T1W_atleast3callers.csv', sep = ',')\n",
    "np.array(calls_M1W).tofile('data/matchedtissue/venndiagram/calls_M1W_atleast3callers.csv', sep = ',')"
   ]
  },
  {
   "cell_type": "code",
   "execution_count": null,
   "id": "different-postage",
   "metadata": {},
   "outputs": [],
   "source": [
    "calls_cfdna1 = [str(i)[1:-1] for i in list(pd.read_csv(\"data/matchedtissue/venndiagram/calls_cfdna1_atleast4callers.csv\", header=None).values)[0]]\n",
    "calls_T1W =  [str(i)[1:-1] for i in list(pd.read_csv(\"data/matchedtissue/venndiagram/calls_T1W_atleast3callers.csv\", header=None).values)[0]]\n",
    "calls_M1W = [str(i)[1:-1] for i in list(pd.read_csv(\"data/matchedtissue/venndiagram/calls_M1W_atleast3callers.csv\", header=None).values)[0]]"
   ]
  },
  {
   "cell_type": "markdown",
   "id": "collaborative-street",
   "metadata": {},
   "source": [
    "# Table to compare call sets"
   ]
  },
  {
   "cell_type": "code",
   "execution_count": null,
   "id": "wooden-awareness",
   "metadata": {},
   "outputs": [],
   "source": [
    "cfdna_df = pd.DataFrame(index=calls_cfdna1)\n",
    "cfdna_df['cfdna'] = True\n",
    "T1W_df = pd.DataFrame(index=calls_T1W)\n",
    "T1W_df['T1W'] = True\n",
    "M1W_df = pd.DataFrame(index=calls_M1W)\n",
    "M1W_df['M1W'] = True\n",
    "res = pd.concat([cfdna_df, T1W_df, M1W_df], axis=1)\n",
    "res.fillna(False, inplace=True)\n",
    "res"
   ]
  },
  {
   "cell_type": "markdown",
   "id": "innovative-remove",
   "metadata": {},
   "source": [
    "# Jaccard similarity score of call set pairs"
   ]
  },
  {
   "cell_type": "code",
   "execution_count": null,
   "id": "fiscal-emergency",
   "metadata": {},
   "outputs": [],
   "source": [
    "from sklearn.metrics import jaccard_score\n",
    "print(\"{:.2f},{:.2f},{:.2f}\".format(jaccard_score(res['cfdna'], res['T1W']), jaccard_score(res['cfdna'], res['M1W']), jaccard_score(res['T1W'], res['M1W'])))\n",
    "print(\"{:.2f},{:.2f},{:.2f}\".format(jaccard_score(res['T1W'], res['cfdna']), jaccard_score(res['M1W'], res['cfdna']), jaccard_score(res['M1W'], res['T1W'])))"
   ]
  },
  {
   "cell_type": "markdown",
   "id": "growing-pledge",
   "metadata": {},
   "source": [
    "# Fisher exact test on call sets pairs\n",
    "\n",
    "## NB: would need to evaluate number of base pairs with sufficient coverage evaluated. Here, took N = 20K (approx number of protein-coding genes with decent coverage)"
   ]
  },
  {
   "cell_type": "code",
   "execution_count": null,
   "id": "collective-signature",
   "metadata": {},
   "outputs": [],
   "source": [
    "\n",
    "from scipy.stats import fisher_exact\n",
    "from statsmodels.sandbox.stats.multicomp import multipletests\n",
    "\n",
    "# contingency table and Fisher exact test\n",
    "\n",
    "testres = {}\n",
    "for pairs in [('cfdna', 'T1W'), ('cfdna', 'M1W'), ('T1W', 'M1W')]:\n",
    "    a, b =  pairs\n",
    "    print(\"############\")\n",
    "    print(a, 'VS', b)\n",
    "    print(\"############\")\n",
    "    ctable = [[res[(res[a]==True) & (res[b]==True)].shape[0], res[(res[a]==False) & (res[b]==True)].shape[0]],\n",
    "              [res[(res[a]==True) & (res[b]==False)].shape[0], int(20000 - res[(res[a]==True) | (res[b]==True)].shape[0])]]\n",
    "    \n",
    "    #p_adjusted = multipletests(Column6, method='bonferroni')\n",
    "    odd_ratio, p_value = fisher_exact(ctable, alternative='two-sided')\n",
    "    print('Contingency table:')\n",
    "    print(pd.DataFrame(ctable, columns=[a+' & '+b, '!'+a+' & '+b], index=[a+' & !'+b, '!'+a+' & !'+b]))\n",
    "    print('Fisher exact test (two-sided): odd_ratio = {}, p_value = {}'.format(odd_ratio, p_value))\n",
    "    testres[a+' VS '+b] = [p_value]\n",
    "\n",
    "testres = pd.DataFrame.from_dict(testres).T\n",
    "testres.columns = ['p_value']\n",
    "testres['p_value_adjusted'] = multipletests(testres['p_value'].values, method='bonferroni')[1]\n",
    "testres[['p_value_adjusted']]"
   ]
  },
  {
   "cell_type": "markdown",
   "id": "annual-norfolk",
   "metadata": {},
   "source": [
    "# 150x and 2000x ground truths"
   ]
  },
  {
   "cell_type": "code",
   "execution_count": null,
   "id": "experienced-librarian",
   "metadata": {},
   "outputs": [],
   "source": [
    "A = pd.read_csv('figures/figure2b/gt_986_exome_150x_atleast5callersinundilutedsample_snv.csv', index_col=0)\n",
    "B = pd.read_csv('figures/figure2b/gt_986_exome_2000x_atleast5callersinundilutedsample_snv.csv', index_col=0)\n",
    "print(A.shape[0], B.shape[0])"
   ]
  },
  {
   "cell_type": "code",
   "execution_count": null,
   "id": "continued-shanghai",
   "metadata": {},
   "outputs": [],
   "source": [
    "ab = list(set(set(list(A.index)) & set(list(B.index))))\n",
    "len(ab)"
   ]
  },
  {
   "cell_type": "code",
   "execution_count": null,
   "id": "human-intensity",
   "metadata": {},
   "outputs": [],
   "source": [
    "comp = pd.concat([A.loc[ab], B.loc[ab]], axis=1)\n",
    "comp.columns = ['vaf 150x', 'vaf 2000x']\n",
    "plt.figure(figsize=(10,10))\n",
    "sns.histplot(x='vaf 150x', y='vaf 2000x', data=comp, binwidth=0.01, binrange=[0,0.5], alpha=1)\n",
    "#comp.plot(x='A', y='B', kind='scatter', color='b')"
   ]
  },
  {
   "cell_type": "code",
   "execution_count": null,
   "id": "respective-movement",
   "metadata": {},
   "outputs": [],
   "source": [
    "comp = pd.concat([Awithoutab, ac], axis=1)\n",
    "\n",
    "\n",
    "ac = calltablesseries.loc[[a for a in list(Awithoutab.index) if a in calltablesseries.index]][['{:.2f}_{}_vaf'.format(aux['tf'].max(), m) for m in config.methods if ('{:.2f}_{}'.format(aux['tf'].max(), m) in calltablesseries.columns) and (m != 'smurf')]].median(skipna=True, axis=1)\n",
    "print(ac.shape)\n"
   ]
  },
  {
   "cell_type": "code",
   "execution_count": null,
   "id": "aggressive-bargain",
   "metadata": {},
   "outputs": [],
   "source": [
    "Awithoutab = A.loc[list(set(A.index) - set(ab))]\n",
    "sns.histplot(x='median_vaf', data=Awithoutab)"
   ]
  },
  {
   "cell_type": "code",
   "execution_count": null,
   "id": "accessible-fiction",
   "metadata": {},
   "outputs": [],
   "source": [
    "plt.figure(figsize=(20,5))\n",
    "Bwithoutab = B.loc[list(set(B.index) - set(ab))]\n",
    "sns.histplot(x='median_vaf', data=Bwithoutab, binwidth=0.01, binrange=[0,1], alpha=0.5, label='2000x only')\n",
    "sns.histplot(x='B', data=comp, color='red', binwidth=0.01, binrange=[0,1], alpha=0.5, label='both')\n",
    "Awithoutab = A.loc[list(set(A.index) - set(ab))]\n",
    "sns.histplot(x='median_vaf', data=Awithoutab, color='green', binwidth=0.01, binrange=[0,1], alpha=0.5, label='150x only')\n",
    "plt.legend()"
   ]
  },
  {
   "cell_type": "code",
   "execution_count": null,
   "id": "absent-austria",
   "metadata": {},
   "outputs": [],
   "source": [
    "list(Awithoutab.index)"
   ]
  },
  {
   "cell_type": "code",
   "execution_count": null,
   "id": "intelligent-produce",
   "metadata": {},
   "outputs": [],
   "source": []
  }
 ],
 "metadata": {
  "kernelspec": {
   "display_name": "Python 3",
   "language": "python",
   "name": "python3"
  },
  "language_info": {
   "codemirror_mode": {
    "name": "ipython",
    "version": 3
   },
   "file_extension": ".py",
   "mimetype": "text/x-python",
   "name": "python",
   "nbconvert_exporter": "python",
   "pygments_lexer": "ipython3",
   "version": "3.7.10"
  }
 },
 "nbformat": 4,
 "nbformat_minor": 5
}
