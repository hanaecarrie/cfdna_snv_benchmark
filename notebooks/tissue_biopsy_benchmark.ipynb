{
 "cells": [
  {
   "cell_type": "markdown",
   "metadata": {},
   "source": [
    "# Tissue biopsy benchmark"
   ]
  },
  {
   "cell_type": "code",
   "execution_count": null,
   "metadata": {},
   "outputs": [],
   "source": [
    "# Imports\n",
    "\n",
    "import io\n",
    "import os\n",
    "import numpy as np\n",
    "import pandas as pd\n",
    "import matplotlib.pyplot as plt\n",
    "import seaborn as sns\n",
    "import pysam\n",
    "import warnings\n",
    "from sklearn.metrics import precision_recall_curve, f1_score, average_precision_score\n",
    "warnings.filterwarnings('ignore')\n",
    "from sklearn.metrics import confusion_matrix\n",
    "\n",
    "# set working directory\n",
    "if not os.getcwd().endswith('cfdna_snv_benchmark'):\n",
    "    os.chdir('../')\n",
    "print('Current working directory: {}'.format(os.getcwd()))\n",
    "\n",
    "from utils.config import Config\n",
    "from utils.viz import *\n",
    "from utils.table import *\n",
    "from utils.metrics import *\n",
    "from utils.venn import venn6, get_labels"
   ]
  },
  {
   "cell_type": "code",
   "execution_count": null,
   "metadata": {},
   "outputs": [],
   "source": [
    "# Config and Display paramaters\n",
    "\n",
    "config = Config(\"config/\", \"config_viz.yaml\")\n",
    "set_display_params(config)\n",
    "\n",
    "color_dict = {config.methods[i]: config.colors[i] for i in range(len(config.methods))}\n",
    "alpha_dict = dict(zip(config.tissuebenchmark.fractions, [1-i*0.3 for i in range(len(config.tissuebenchmark.fractions))]))\n",
    "\n",
    "print(color_dict)\n",
    "print(alpha_dict)"
   ]
  },
  {
   "cell_type": "code",
   "execution_count": null,
   "metadata": {},
   "outputs": [],
   "source": [
    "df_table = get_call_table_tissue(config)\n",
    "print(df_table.shape)\n",
    "df_table.head()"
   ]
  },
  {
   "cell_type": "markdown",
   "metadata": {},
   "source": [
    "# Precision - Recall curve"
   ]
  },
  {
   "cell_type": "code",
   "execution_count": null,
   "metadata": {},
   "outputs": [],
   "source": [
    "for muttype in config.muttype:\n",
    "    for i, sample in enumerate(config.tissuebenchmark.samples):\n",
    "        fig, ax = plt.subplots(figsize=(10,10))\n",
    "        baseline_dict = {}\n",
    "        for f in config.tissuebenchmark.fractions:\n",
    "            for method in config.tissuebenchmark.methods:\n",
    "                #print(muttype, sample, f, method)\n",
    "                vcf_sample = df_table[(df_table['sample'] == sample) & (df_table['mutation type'] == muttype) & (df_table['purity'] == round(config.tissuebenchmark.purities[i]*f, 2))]\n",
    "                df_sample_method = vcf_sample[[method+'_score', 'TRUTH']]\n",
    "                df_sample_method[method + '_score'].fillna(0, inplace=True)\n",
    "                precision, recall, thresholds = precision_recall_curve(df_sample_method['TRUTH'], df_sample_method[method + '_score'])\n",
    "                f1 = f1_score(vcf_sample['TRUTH'], vcf_sample[method])\n",
    "                estimator_name = method if f == 1 else ''\n",
    "                plot_pr_curve(precision, recall, estimator_name=estimator_name, f1_score=None, figax=(fig, ax), kwargs={'color':color_dict[method], 'alpha':alpha_dict[f], 'lw':2})\n",
    "                baseline_dict[f] = len(vcf_sample['TRUTH'][vcf_sample['TRUTH']])/len(vcf_sample['TRUTH'])\n",
    "            plt.axhline(y=baseline_dict[f], c='k', ls='--', alpha=alpha_dict[f])\n",
    "        handles, labels = plt.gca().get_legend_handles_labels()\n",
    "        list_lines = [Line2D([0], [0], color='black', alpha=alpha_dict[f], label='tumor purity = {:.2f}%'.format(round(100*config.tissuebenchmark.purities[i]*f, 2))) for f in config.tissuebenchmark.fractions]\n",
    "        legend_list = handles + list_lines + [Line2D([0], [0], color='black', ls='--', alpha=alpha_dict[f], label=\"baseline tf {:.2f}% = {:.2f}\".format(round(100*config.tissuebenchmark.purities[i]*f, 2), baseline_dict[f])) for f in config.tissuebenchmark.fractions]\n",
    "        # Creating legend with color box\n",
    "        plt.legend(bbox_to_anchor=(1, 1), loc=\"upper left\", handles=legend_list)\n",
    "        plt.title(\"Precision Recall curve for {} calling in {}\".format(muttype, sample))\n",
    "        #plt.loglog()\n",
    "        plt.xlim([-0.01, 1.01])\n",
    "        plt.ylim([-0.01, 1.01])\n",
    "        plt.savefig('figures/tissue_benchmark/'+sample+'_'+muttype+'_prcurve',  bbox_inches='tight')\n",
    "\n",
    "baseline_dict"
   ]
  },
  {
   "cell_type": "markdown",
   "metadata": {},
   "source": [
    "# AUPRC plots\n"
   ]
  },
  {
   "cell_type": "code",
   "execution_count": null,
   "metadata": {},
   "outputs": [],
   "source": [
    "for muttype in config.muttype:\n",
    "    results_df = pd.DataFrame()\n",
    "    aux_auprc = []\n",
    "    aux_method = []\n",
    "    aux_sample = []\n",
    "    aux_tp = []\n",
    "    aux_baseline = []\n",
    "    for i, sample in enumerate(config.tissuebenchmark.samples):\n",
    "        for f in config.tissuebenchmark.fractions:\n",
    "            for method in config.tissuebenchmark.methods:\n",
    "                #print(muttype, sample, f, method)\n",
    "                vcf_sample = df_table[(df_table['sample'] == sample) & (df_table['mutation type'] == muttype) & (df_table['purity'] == round(config.tissuebenchmark.purities[i]*f, 2))]\n",
    "                df_sample_method = vcf_sample[[method+'_score', 'TRUTH']]\n",
    "                df_sample_method[method + '_score'].fillna(0, inplace=True)\n",
    "                precision, recall, thresholds = precision_recall_curve(df_sample_method['TRUTH'], df_sample_method[method + '_score'])\n",
    "                f1 = f1_score(vcf_sample['TRUTH'], vcf_sample[method])\n",
    "                estimator_name = method if f == 1 else ''\n",
    "                auprc = average_precision_score(df_sample_method['TRUTH'], df_sample_method[method+'_score'])\n",
    "                aux_auprc.append(auprc)\n",
    "                aux_method.append(method)\n",
    "                aux_sample.append(sample)\n",
    "                aux_tp.append(round(100*config.tissuebenchmark.purities[i]*f, 2))\n",
    "            # baseline\n",
    "            aux_auprc.append(len(vcf_sample['TRUTH'][vcf_sample['TRUTH']])/len(vcf_sample['TRUTH']))\n",
    "            aux_method.append('baseline')\n",
    "            aux_sample.append(sample)\n",
    "            aux_tp.append(round(100*config.tissuebenchmark.purities[i]*f, 2))\n",
    "            \n",
    "    results_df['AUPRC'] = aux_auprc\n",
    "    results_df['tumor purity'] = aux_tp\n",
    "    results_df['caller'] = aux_method\n",
    "    results_df['sample'] = aux_sample\n",
    "    \n",
    "    for si, sample in enumerate(config.tissuebenchmark.samples):\n",
    "        sns.catplot(x=\"tumor purity\", y=\"AUPRC\", hue=\"caller\",\n",
    "                  capsize=.2, height=4, aspect=1.5, kind=\"point\", colors=config.colors + ['k'],\n",
    "                    order=sorted(results_df[results_df['sample'] == sample]['tumor purity'].unique(), reverse=True),\n",
    "                        data=results_df[results_df['sample'] == sample])\n",
    "        plt.ylim([0, 1])\n",
    "        plt.title(\"AUPRC score for {} calling in {}\".format(muttype, sample))\n",
    "        plt.savefig('figures/tissue_benchmark/'+sample+'_'+muttype+'_auprcscore',  bbox_inches='tight')"
   ]
  },
  {
   "cell_type": "markdown",
   "metadata": {},
   "source": [
    "# Venn diagram\n",
    "\n",
    "lisibility issue"
   ]
  },
  {
   "cell_type": "code",
   "execution_count": null,
   "metadata": {},
   "outputs": [],
   "source": [
    "labels = get_labels([list(vcf_sample['TRUTH'][vcf_sample['TRUTH']].index)] + [list(vcf_sample[method][vcf_sample[method]].index) for m in config.methods], fill=[\"number\"])\n",
    "          \n",
    "venn6(labels, names=['TRUTH'] + config.methods)"
   ]
  },
  {
   "cell_type": "markdown",
   "metadata": {},
   "source": [
    "# Change in prediction with dilution"
   ]
  },
  {
   "cell_type": "code",
   "execution_count": null,
   "metadata": {},
   "outputs": [],
   "source": [
    "df = df_table[df_table['TRUTH'] == True][['CHROM_POS', 'sample', 'purity', 'mutation type', 'TRUTH', 'freebayes','mutect2', 'strelka2', 'vardict', 'varscan']] # .purity.unstack().add_prefix('purity_')#.groupby('CHROM_POS').sum()\n",
    "df.unstack"
   ]
  },
  {
   "cell_type": "code",
   "execution_count": null,
   "metadata": {},
   "outputs": [],
   "source": [
    "for i, sample in enumerate(config.tissuebenchmark.samples):\n",
    "    for muttype in config.muttype:\n",
    "        fig, ax = plt.subplots(figsize=(15,8))\n",
    "        for m, method in enumerate(config.methods):\n",
    "            change_df_aux = df_table[(df_table['sample'] == sample) & (df_table['mutation type'] == muttype) & (df_table['TRUTH']) & (df_table[method])][['CHROM_POS', 'TRUTH', 'purity'] + [method]].set_index(['CHROM_POS'])\n",
    "            change_df = pd.DataFrame(index=change_df_aux.index.unique(), columns= ['TRUTH'] + [str(round(config.tissuebenchmark.purities[i]*f, 2)) for f in config.tissuebenchmark.fractions])\n",
    "            for chrpos in change_df.index:\n",
    "                for f in config.tissuebenchmark.fractions:\n",
    "                    try:\n",
    "                        change_df.loc[chrpos][str(round(config.tissuebenchmark.purities[i]*f, 2))] = change_df_aux[(change_df_aux['purity'] == round(config.tissuebenchmark.purities[i]*f, 2))].loc[chrpos][method]\n",
    "                    except:\n",
    "                        change_df.loc[chrpos][str(round(config.tissuebenchmark.purities[i]*f, 2))] = False\n",
    "                if change_df_aux.loc[chrpos]['TRUTH'].shape == ():\n",
    "                    change_df.loc[chrpos]['TRUTH'] = change_df_aux.loc[chrpos]['TRUTH']\n",
    "                else:\n",
    "                    change_df.loc[chrpos]['TRUTH'] = np.unique(change_df_aux.loc[chrpos]['TRUTH'].values)[0]\n",
    "            # print(change_df.shape)\n",
    "            change_df['sum'] = sum([change_df[str(round(config.tissuebenchmark.purities[i]*f, 2))] for f in config.tissuebenchmark.fractions])\n",
    "            change_df = change_df[~change_df['sum'].isin([0, 3])].dropna(how='all')\n",
    "            change_df = change_df.astype(int).drop('sum', axis=1)\n",
    "            # plot\n",
    "            #for chrpos, row in change_df.astype(int).drop('sum', axis=1).iterrows():\n",
    "            #    plt.plot(row.astype(int), label=chrpos)\n",
    "            #plt.legend()\n",
    "            change_df = change_df.groupby(change_df.columns.tolist(),as_index=False).size()\n",
    "            print(method)\n",
    "            print(change_df)\n",
    "\n",
    "            c = 0.7\n",
    "            for idx, row in change_df.iterrows():\n",
    "                plt.plot(row[['TRUTH'] + [str(round(config.tissuebenchmark.purities[i]*f, 2)) for f in config.tissuebenchmark.fractions]], lw=row['size'], label=method, c=config.colors[m], alpha=c-max(1/row['size'], 0.2))\n",
    "        custom_lines = [Line2D([0], [0], color=config.colors[m], lw=2) for m in range(len(config.methods))]\n",
    "        plt.legend(custom_lines, config.methods)\n",
    "\n",
    "        plt.xlabel('purity')\n",
    "        plt.ylabel('mutation calling output prediction')\n",
    "        plt.title('Change in mutation prediction w.r.t purity in {} for {}'.format(sample, muttype))\n",
    "\n",
    "        ax.set_yticks([0,1])\n",
    "        ax.set_yticklabels(['False','True'])\n",
    "        plt.show()"
   ]
  },
  {
   "cell_type": "markdown",
   "metadata": {},
   "source": [
    "# True Positive, False Negative and False Positive Mutations"
   ]
  },
  {
   "cell_type": "code",
   "execution_count": null,
   "metadata": {},
   "outputs": [],
   "source": [
    "df = pd.DataFrame(columns=['sample', 'mutation type', 'caller', 'purity', 'metric', 'number of loci', 'rate',  'number of mutations (ground truth)']) #'TN', 'FP', 'FN', 'TP'])\n",
    "metric = ['TN', 'FP', 'FN', 'TP']\n",
    "c = 0\n",
    "for muttype in config.muttype:\n",
    "    for i, sample in enumerate(config.tissuebenchmark.samples):\n",
    "        for method in config.tissuebenchmark.methods:\n",
    "            print(muttype, sample, method)\n",
    "            for f in config.tissuebenchmark.fractions:\n",
    "                vcf_sample = df_table[(df_table['sample'] == sample) & (df_table['mutation type'] == muttype) & (df_table['purity'] == round(config.tissuebenchmark.purities[i]*f, 2))]\n",
    "                ntruth = sum(vcf_sample['TRUTH'])\n",
    "                tn, fp, fn, tp = confusion_matrix(vcf_sample['TRUTH'], vcf_sample[method], labels=[0,1]).ravel()\n",
    "                tpfn = tp + fn\n",
    "                tnfp = tn + fp\n",
    "                for j, tfpn in enumerate([tn, fp, fn, tp]):\n",
    "                    # df.loc[c, :] = [sample, muttype, method, round(config.tissuebenchmark.purities[i]*f, 2), tn, fp, fn, tp]\n",
    "                    if j in [0, 1]:\n",
    "                        df.loc[c, :] = [sample, muttype, method, round(config.tissuebenchmark.purities[i]*f, 2), metric[c%4], tfpn, tfpn/tnfp, ntruth]\n",
    "                    else: # j in [2,3]\n",
    "                        df.loc[c, :] = [sample, muttype, method, round(config.tissuebenchmark.purities[i]*f, 2), metric[c%4], tfpn, tfpn/tpfn, ntruth]\n",
    "                    c += 1\n",
    "df.head(20)"
   ]
  },
  {
   "cell_type": "code",
   "execution_count": null,
   "metadata": {},
   "outputs": [],
   "source": [
    "for muttype in config.muttype:\n",
    "    for s, sample in enumerate(config.tissuebenchmark.samples):\n",
    "        plt.figure(figsize=(10,8))\n",
    "        plots = sns.barplot(x=\"caller\", y=\"rate\", hue=\"purity\", data=df[(df['sample'] == sample) & (df['mutation type'] == muttype) & (df['metric'] == 'TP')], ci=None, palette='Blues_r',\n",
    "                            hue_order=[round(config.tissuebenchmark.purities[s]*config.tissuebenchmark.fractions[i], 2) for i in range(3)])\n",
    "        plt.suptitle('True Positive Rate - '+sample+ ' - '+muttype)\n",
    "        plt.legend(bbox_to_anchor=(1.01, 1), borderaxespad=0, title='purity')\n",
    "        plt.ylim([0,1])\n",
    "        xcoords, ycoords = [], []\n",
    "        ci = 0\n",
    "        # Iterrating over the bars one-by-one\n",
    "        for b, bar in enumerate(plots.patches):\n",
    "            plots.annotate(df[(df['sample'] == sample) & (df['mutation type'] == muttype) & (df['metric'] == 'TP') & (df['caller'] == config.methods[b%5]) & (df['purity'] == round(config.tissuebenchmark.purities[s]*config.tissuebenchmark.fractions[b//5], 2))]['number of loci'].values[0],\n",
    "                   (bar.get_x() + (bar.get_width() / 2),\n",
    "                    bar.get_height()), ha='center', va='center',\n",
    "                   size=15, xytext=(0, 8),\n",
    "                   textcoords='offset points')\n",
    "            \n",
    "        for m,methods in enumerate(config.methods):\n",
    "            for b, bar in enumerate(plots.patches):\n",
    "                if b % len(config.methods) == m:\n",
    "                    #print(b)\n",
    "                    if len(xcoords) == 3:\n",
    "                        xcoords, ycoords = [], []\n",
    "                    xi = bar.get_x() + (bar.get_width() / 2)\n",
    "                    yi = df[(df['sample'] == sample) & (df['mutation type'] == muttype) & (df['caller'] == config.methods[b//3]) & (df['purity'] == round(config.tissuebenchmark.purities[s]*config.tissuebenchmark.fractions[b%3], 2))]['number of mutations (ground truth)'].values[0]\n",
    "                    xcoords.append(xi)\n",
    "                    ycoords.append(yi)\n",
    "                    if len(xcoords) == 3:\n",
    "                        if m == 0:\n",
    "                            redline = ax.plot(xcoords, ycoords, 'ro-', label='Number of ground truths mutations')\n",
    "                        else:\n",
    "                            ax.plot(xcoords, ycoords, 'ro-')\n",
    "        plt.savefig('figures/tissue_benchmark/'+sample+'_'+muttype+'_TPrate',  bbox_inches='tight')\n",
    "\n",
    "        \n",
    "        plt.figure(figsize=(10,8))\n",
    "        plots = sns.barplot(x=\"caller\", y=\"rate\", hue=\"purity\", data=df[(df['sample'] == sample) & (df['mutation type'] == muttype) & (df['metric'] == 'FP')], ci=None, palette='Blues_r',\n",
    "                            hue_order=[round(config.tissuebenchmark.purities[s]*config.tissuebenchmark.fractions[i], 2) for i in range(3)])\n",
    "        plt.suptitle('False Positive Rate - '+sample+ ' - '+muttype)\n",
    "        plt.legend(bbox_to_anchor=(1.01, 1), borderaxespad=0, title='purity')\n",
    "        plt.ylim([0,1])\n",
    "        # Iterrating over the bars one-by-one\n",
    "        for b, bar in enumerate(plots.patches):\n",
    "            plots.annotate(df[(df['sample'] == sample) & (df['mutation type'] == muttype) & (df['metric'] == 'FP') & (df['caller'] == config.methods[b//3]) & (df['purity'] == round(config.tissuebenchmark.purities[s]*config.tissuebenchmark.fractions[b%3], 2))]['number of loci'].values[0],\n",
    "                            #format(bar.get_height(), '.2f'),\n",
    "                           (bar.get_x() + bar.get_width() / 2,\n",
    "                            bar.get_height()), ha='center', va='center',\n",
    "                           size=15, xytext=(0, 8),\n",
    "                           textcoords='offset points')\n",
    "        plt.savefig('figures/tissue_benchmark/'+sample+'_'+muttype+'_FPrate',  bbox_inches='tight')\n",
    "\n",
    "            \n",
    "        plt.figure(figsize=(10,8))\n",
    "        plots = sns.barplot(x=\"caller\", y=\"rate\", hue=\"purity\", data=df[(df['sample'] == sample) & (df['mutation type'] == muttype) & (df['metric'] == 'FN')], ci=None, palette='Blues_r',\n",
    "                            hue_order=[round(config.tissuebenchmark.purities[s]*config.tissuebenchmark.fractions[i], 2) for i in range(3)])\n",
    "        plt.suptitle('False Negative Rate - '+sample+ ' - '+muttype)\n",
    "        plt.legend(bbox_to_anchor=(1.01, 1),  borderaxespad=0, title='purity')\n",
    "        plt.ylim([0,1])\n",
    "        # Iterrating over the bars one-by-one\n",
    "        for b, bar in enumerate(plots.patches):\n",
    "            plots.annotate(df[(df['sample'] == sample) & (df['mutation type'] == muttype) & (df['metric'] == 'FN') & (df['caller'] == config.methods[b//3]) & (df['purity'] == round(config.tissuebenchmark.purities[s]*config.tissuebenchmark.fractions[b%3], 2))]['number of loci'].values[0],\n",
    "                            #format(bar.get_height(), '.2f'),\n",
    "                           (bar.get_x() + bar.get_width() / 2,\n",
    "                            bar.get_height()), ha='center', va='center',\n",
    "                           size=15, xytext=(0, 8),\n",
    "                           textcoords='offset points')\n",
    "        plt.savefig('figures/tissue_benchmark/'+sample+'_'+muttype+'_FNrate',  bbox_inches='tight')\n"
   ]
  },
  {
   "cell_type": "markdown",
   "metadata": {},
   "source": [
    "# Stacked TP, FN, FP, TN"
   ]
  },
  {
   "cell_type": "code",
   "execution_count": null,
   "metadata": {},
   "outputs": [],
   "source": [
    "df = pd.DataFrame(columns=['sample', 'mutation type', 'caller', 'purity', 'TP', 'FN', 'FP', 'FN', ])\n",
    "metric = ['TN', 'FP', 'FN', 'TP']\n",
    "c = 0\n",
    "for muttype in config.muttype:\n",
    "    for i, sample in enumerate(config.tissuebenchmark.samples):\n",
    "        for method in config.tissuebenchmark.methods:\n",
    "            print(muttype, sample, method)\n",
    "            for f in config.tissuebenchmark.fractions:\n",
    "                vcf_sample = df_table[(df_table['sample'] == sample) & (df_table['mutation type'] == muttype) & (df_table['purity'] == round(config.tissuebenchmark.purities[i]*f, 2))]\n",
    "                tn, fp, fn, tp = confusion_matrix(vcf_sample['TRUTH'], vcf_sample[method], labels=[0,1]).ravel()\n",
    "                tpfn = tp + fn\n",
    "                tnfp = tn + fp\n",
    "                df.loc[c, :] = [sample, muttype, method, round(config.tissuebenchmark.purities[i]*f, 2), tp, fn, fp, tn]\n",
    "                c += 1\n",
    "df.head()"
   ]
  },
  {
   "cell_type": "code",
   "execution_count": null,
   "metadata": {},
   "outputs": [],
   "source": [
    "df = pd.DataFrame(columns=['sample', 'mutation type', 'caller', 'purity',  'caller_purity',  'metric', 'number of loci', 'rate']) #'TN', 'FP', 'FN', 'TP'])\n",
    "metric = ['TN', 'FP', 'FN', 'TP']\n",
    "c = 0\n",
    "d = 0\n",
    "for muttype in config.muttype:\n",
    "    for i, sample in enumerate(config.tissuebenchmark.samples):\n",
    "        for method in config.tissuebenchmark.methods:\n",
    "            print(muttype, sample, method)\n",
    "            for f in config.tissuebenchmark.fractions:\n",
    "                vcf_sample = df_table[(df_table['sample'] == sample) & (df_table['mutation type'] == muttype) & (df_table['purity'] == round(config.tissuebenchmark.purities[i]*f, 2))]\n",
    "                tn, fp, fn, tp = confusion_matrix(vcf_sample['TRUTH'], vcf_sample[method], labels=[0,1]).ravel()\n",
    "                tpfn = tp + fn\n",
    "                tnfp = tn + fp\n",
    "                for j, tfpn in enumerate([tn, fp, fn, tp]):\n",
    "                    # df.loc[c, :] = [sample, muttype, method, round(config.tissuebenchmark.purities[i]*f, 2), tn, fp, fn, tp]\n",
    "                    if j in [0, 1]:\n",
    "                        df.loc[c+d, :] = [sample, muttype, method, round(config.tissuebenchmark.purities[i]*f, 2), method + '_' + str(round(config.tissuebenchmark.purities[i]*f, 2)), metric[c%4], tfpn, tfpn/tnfp]\n",
    "                    else: # j in [2,3]\n",
    "                        df.loc[c+d, :] = [sample, muttype, method, round(config.tissuebenchmark.purities[i]*f, 2), method + '_' + str(round(config.tissuebenchmark.purities[i]*f, 2)), metric[c%4], tfpn, tfpn/tpfn]\n",
    "                    c += 1\n",
    "            \n",
    "            df.loc[c+d, :] = [sample, muttype, method, 0, method+'_0', 'TN', 0, 0]\n",
    "            d += 1\n",
    "df.head(30)"
   ]
  },
  {
   "cell_type": "code",
   "execution_count": null,
   "metadata": {},
   "outputs": [],
   "source": [
    "for muttype in config.muttype:\n",
    "    for s, sample in enumerate(config.tissuebenchmark.samples):\n",
    "        #for f in config.tissuebenchmark.fractions:\n",
    "        #for m in config.methods:\n",
    "        plt.figure(figsize=(10,4))\n",
    "        bar = sns.barplot(x=\"caller_purity\", y=\"number of loci\", hue=\"metric\", data=df[(df['sample'] == sample) & (df['mutation type'] == muttype)],\n",
    "                    #order= [round(config.tissuebenchmark.purities[s]*config.tissuebenchmark.fractions[i], 2) for i in range(3)],\n",
    "                    palette=['lightcoral', 'red', 'lightgreen', 'green'],\n",
    "                    dodge= False)\n",
    "        bar.set_xticklabels(bar.get_xticklabels(), rotation=90, horizontalalignment='right')\n",
    "        labels = bar.get_xticklabels() \n",
    "        labels = [l if ((i+1)%4 != 0) else '' for i, l in enumerate(labels)]\n",
    "        bar.set_xticklabels(labels)\n",
    "        plt.suptitle('Predictions - '+sample+ ' - '+muttype)\n",
    "        plt.legend(bbox_to_anchor=(1.01, 1))\n",
    "        #plt.ylim([0,1])\n",
    "        plt.savefig('figures/tissue_benchmark/'+sample+'_'+muttype+'_predictions',  bbox_inches='tight')"
   ]
  },
  {
   "cell_type": "markdown",
   "metadata": {},
   "source": [
    "# Number of mutations"
   ]
  },
  {
   "cell_type": "code",
   "execution_count": null,
   "metadata": {},
   "outputs": [],
   "source": [
    "df = pd.DataFrame(columns=['sample', 'mutation type', 'caller', 'purity', 'number of loci called', 'number of mutations (ground truth)']) #'TN', 'FP', 'FN', 'TP'])\n",
    "metric = ['TN', 'FP', 'FN', 'TP']\n",
    "c = 0\n",
    "for muttype in config.muttype:\n",
    "    for i, sample in enumerate(config.tissuebenchmark.samples):\n",
    "        for method in config.tissuebenchmark.methods:\n",
    "            print(muttype, sample, method)\n",
    "            for f in config.tissuebenchmark.fractions:\n",
    "                vcf_sample = df_table[(df_table['sample'] == sample) & (df_table['mutation type'] == muttype) & (df_table['purity'] == round(config.tissuebenchmark.purities[i]*f, 2))]\n",
    "                ntruth = sum(vcf_sample['TRUTH'])\n",
    "                ncaller = sum(vcf_sample[method])\n",
    "                df.loc[c, :] = [sample, muttype, method, round(config.tissuebenchmark.purities[i]*f, 2), ncaller, ntruth]\n",
    "                c += 1\n",
    "df.head()"
   ]
  },
  {
   "cell_type": "code",
   "execution_count": null,
   "metadata": {},
   "outputs": [],
   "source": [
    "for muttype in config.muttype:\n",
    "    for s, sample in enumerate(config.tissuebenchmark.samples):\n",
    "        plt.figure(figsize=(10,8))\n",
    "        ax = sns.barplot(x=\"caller\", y=\"number of loci called\", hue=\"purity\", data=df[(df['mutation type'] == muttype) & (df['sample'] == sample)], ci=None, palette=\"Greys_r\", log=True,\n",
    "                        hue_order=[round(config.tissuebenchmark.purities[s]*config.tissuebenchmark.fractions[i], 2) for i in range(3)])\n",
    "        leg1 = plt.legend(title='purity', loc=2)\n",
    "\n",
    "        xcoords, ycoords = [], []\n",
    "        for m,methods in enumerate(config.methods):\n",
    "            for b, bar in enumerate(plots.patches):\n",
    "                if b % len(config.methods) == m:\n",
    "                    #print(b)\n",
    "                    if len(xcoords) == 3:\n",
    "                        xcoords, ycoords = [], []\n",
    "                    xi = bar.get_x() + (bar.get_width() / 2)\n",
    "                    yi = df[(df['sample'] == sample) & (df['mutation type'] == muttype) & (df['caller'] == config.methods[b//3]) & (df['purity'] == round(config.tissuebenchmark.purities[s]*config.tissuebenchmark.fractions[b%3], 2))]['number of mutations (ground truth)'].values[0]\n",
    "                    xcoords.append(xi)\n",
    "                    ycoords.append(yi)\n",
    "                    if len(xcoords) == 3:\n",
    "                        if m == 0:\n",
    "                            redline = ax.plot(xcoords, ycoords, 'ro-', label='Number of ground truths mutations')\n",
    "                        else:\n",
    "                            ax.plot(xcoords, ycoords, 'ro-')\n",
    "        plt.ylim([0,15000])\n",
    "        plt.legend(redline, ['# ground truths mutations'], loc='upper right', bbox_to_anchor=(1, 1))\n",
    "        plt.gca().add_artist(leg1)\n",
    "        plt.suptitle('Number of mutations called - '+sample+' - '+muttype)\n",
    "    "
   ]
  },
  {
   "cell_type": "markdown",
   "metadata": {},
   "source": [
    "# Ratio performance attenuation"
   ]
  },
  {
   "cell_type": "code",
   "execution_count": null,
   "metadata": {},
   "outputs": [],
   "source": [
    "df = pd.DataFrame(columns=['sample', 'mutation type', 'caller', 'purity', 'metric', 'number of loci', 'rate',  'number of mutations (ground truth)']) #'TN', 'FP', 'FN', 'TP'])\n",
    "metric = ['TN', 'FP', 'FN', 'TP']\n",
    "c = 0\n",
    "for muttype in config.muttype:\n",
    "    for i, sample in enumerate(config.tissuebenchmark.samples):\n",
    "        for method in config.tissuebenchmark.methods:\n",
    "            print(muttype, sample, method)\n",
    "            for f in config.tissuebenchmark.fractions:\n",
    "                vcf_sample = df_table[(df_table['sample'] == sample) & (df_table['mutation type'] == muttype) & (df_table['purity'] == round(config.tissuebenchmark.purities[i]*f, 2))]\n",
    "                ntruth = sum(vcf_sample['TRUTH'])\n",
    "                tn, fp, fn, tp = confusion_matrix(vcf_sample['TRUTH'], vcf_sample[method], labels=[0,1]).ravel()\n",
    "                tpfn = tp + fn\n",
    "                tnfp = tn + fp\n",
    "                for j, tfpn in enumerate([tn, fp, fn, tp]):\n",
    "                    # df.loc[c, :] = [sample, muttype, method, round(config.tissuebenchmark.purities[i]*f, 2), tn, fp, fn, tp]\n",
    "                    if j in [0, 1]:\n",
    "                        df.loc[c, :] = [sample, muttype, method, round(config.tissuebenchmark.purities[i]*f, 2), metric[c%4], tfpn, tfpn/tnfp, ntruth]\n",
    "                    else: # j in [2,3]\n",
    "                        df.loc[c, :] = [sample, muttype, method, round(config.tissuebenchmark.purities[i]*f, 2), metric[c%4], tfpn, tfpn/tpfn, ntruth]\n",
    "                    c += 1\n",
    "                    \n",
    "df = df[df['metric'] == 'TP']\n",
    "df['TP/GT'] =  df['number of loci'].divide(df['number of mutations (ground truth)'], axis='index') \n",
    "\n",
    "df.head(20)"
   ]
  },
  {
   "cell_type": "code",
   "execution_count": null,
   "metadata": {},
   "outputs": [],
   "source": [
    "for muttype in config.muttype:\n",
    "    for i, sample in enumerate(config.tissuebenchmark.samples):\n",
    "        g = plt.figure(figsize=(12,6))\n",
    "        g = sns.catplot(x='purity', y='TP/GT', hue='caller', data=df[(df['sample'] == sample) & (df['mutation type'] == muttype)], kind='point', height=8,\n",
    "                        order=[round(config.tissuebenchmark.purities[i]*config.tissuebenchmark.fractions[f], 2) for f in range(3)])\n",
    "        plt.title('Detection rate evolution w.r.t purity in '+sample+' - '+muttype)\n",
    "        plt.grid() \n",
    "        plt.ylim([0.5,1])\n",
    "        plt.savefig('figures/tissue_benchmark/'+sample+'_'+muttype+'_detectionrate',  bbox_inches='tight')"
   ]
  },
  {
   "cell_type": "code",
   "execution_count": null,
   "metadata": {},
   "outputs": [],
   "source": [
    "res = df\n",
    "a = res[['sample', 'mutation type', 'caller', 'TP/GT', 'purity']][res['purity'] > 0.9].set_index(['sample', 'mutation type', 'caller']).drop('purity', axis=1)\n",
    "b = res[['sample', 'mutation type', 'caller', 'TP/GT', 'purity']][res['purity'] <= 0.2].set_index(['sample', 'mutation type', 'caller']).drop('purity', axis=1)\n",
    "res = (a-b).divide(a).reset_index()\n",
    "res['TP/GT'] = 100*res['TP/GT']\n",
    "res"
   ]
  },
  {
   "cell_type": "code",
   "execution_count": null,
   "metadata": {},
   "outputs": [],
   "source": [
    "for muttype in config.muttype:\n",
    "    plt.figure(figsize=(20,12))\n",
    "    #sns.set_style(\"whitegrid\")\n",
    "    sns.catplot(y='TP/GT', x='sample', hue='caller', data=res[res['mutation type'] == muttype], height=8, aspect=0.8, s=15)\n",
    "    plt.axhline(y=0, c='k', ls='--')\n",
    "    plt.grid()\n",
    "    plt.ylim([-15, 20])\n",
    "    plt.ylabel('(TP/GT$_{\\\\rm{high purity}}$ - TP/GT$_{\\\\rm{low purity}}$) / TP/GT$_{\\\\rm{high purity}}$) (%) ')\n",
    "    plt.title('Performance attenuation factor\\n between high and low tumor purity sample - ' + muttype)\n",
    "    plt.savefig('figures/tissue_benchmark/'+muttype+'_performanceattenuationfactor',  bbox_inches='tight')"
   ]
  },
  {
   "cell_type": "code",
   "execution_count": null,
   "metadata": {},
   "outputs": [],
   "source": []
  }
 ],
 "metadata": {
  "kernelspec": {
   "display_name": "Python 3",
   "language": "python",
   "name": "python3"
  },
  "language_info": {
   "codemirror_mode": {
    "name": "ipython",
    "version": 3
   },
   "file_extension": ".py",
   "mimetype": "text/x-python",
   "name": "python",
   "nbconvert_exporter": "python",
   "pygments_lexer": "ipython3",
   "version": "3.7.10"
  }
 },
 "nbformat": 4,
 "nbformat_minor": 4
}
