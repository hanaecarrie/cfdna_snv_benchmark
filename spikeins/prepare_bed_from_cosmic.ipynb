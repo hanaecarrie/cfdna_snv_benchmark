{
 "cells": [
  {
   "cell_type": "code",
   "execution_count": 1,
   "id": "ahead-technician",
   "metadata": {},
   "outputs": [
    {
     "name": "stdout",
     "output_type": "stream",
     "text": [
      "Current working directory: /Users/hanae/Repositories/cfdna_snv_benchmark\n"
     ]
    }
   ],
   "source": [
    "import os\n",
    "import numpy as np\n",
    "import pandas as pd\n",
    "import seaborn as sns\n",
    "import pysam\n",
    "from tqdm.notebook import tqdm\n",
    "import matplotlib.pyplot as plt\n",
    "from utils.util_lift_over import liftover\n",
    "\n",
    "if not os.getcwd().endswith('cfdna_snv_benchmark'):\n",
    "    os.chdir('../')\n",
    "print('Current working directory: {}'.format(os.getcwd()))"
   ]
  },
  {
   "cell_type": "code",
   "execution_count": 2,
   "id": "fabulous-sullivan",
   "metadata": {},
   "outputs": [
    {
     "name": "stdout",
     "output_type": "stream",
     "text": [
      "(18788998, 28)\n"
     ]
    }
   ],
   "source": [
    "target = 'noncoding'\n",
    "if target == 'coding':\n",
    "    cosmic_pd = pd.read_csv(os.path.join('data', 'extdata', 'CosmicMutantExport.tsv'), encoding='ISO-8859-1', sep='\\t', memory_map=True)\n",
    "else: # target == 'noncoding'\n",
    "    cosmic_pd = pd.read_csv(os.path.join('data', 'extdata', 'CosmicNCV.tsv'), encoding='ISO-8859-1', sep='\\t', memory_map=True)\n",
    "\n",
    "print(cosmic_pd.shape)"
   ]
  },
  {
   "cell_type": "code",
   "execution_count": 3,
   "id": "broken-cliff",
   "metadata": {},
   "outputs": [
    {
     "data": {
      "text/plain": [
       "Index(['Sample name', 'ID_SAMPLE', 'ID_tumour', 'Primary site',\n",
       "       'Site subtype 1', 'Site subtype 2', 'Site subtype 3',\n",
       "       'Primary histology', 'Histology subtype 1', 'Histology subtype 2',\n",
       "       'Histology subtype 3', 'GENOMIC_MUTATION_ID', 'LEGACY_MUTATION_ID',\n",
       "       'zygosity', 'GRCh', 'genome position', 'Mutation somatic status',\n",
       "       'WT_SEQ', 'MUT_SEQ', 'FATHMM_MKL_NON_CODING_SCORE',\n",
       "       'FATHMM_MKL_NON_CODING_GROUPS', 'FATHMM_MKL_CODING_SCORE',\n",
       "       'FATHMM_MKL_CODING_GROUPS', 'Whole_Genome_Reseq', 'Whole_Exome',\n",
       "       'ID_STUDY', 'PUBMED_PMID', 'HGVSG'],\n",
       "      dtype='object')"
      ]
     },
     "execution_count": 3,
     "metadata": {},
     "output_type": "execute_result"
    }
   ],
   "source": [
    "cosmic_pd.columns"
   ]
  },
  {
   "cell_type": "markdown",
   "id": "continued-operator",
   "metadata": {},
   "source": [
    "## Columns for coding file\n",
    "['Gene name', 'Accession Number', 'Gene CDS length', 'HGNC ID',\n",
    "'Sample name', 'ID_sample', 'ID_tumour', 'Primary site',\n",
    "'Site subtype 1', 'Site subtype 2', 'Site subtype 3',\n",
    "'Primary histology', 'Histology subtype 1', 'Histology subtype 2',\n",
    "'Histology subtype 3', 'Genome-wide screen', 'GENOMIC_MUTATION_ID',\n",
    "'LEGACY_MUTATION_ID', 'MUTATION_ID', 'Mutation CDS', 'Mutation AA',\n",
    "'Mutation Description', 'Mutation zygosity', 'LOH', 'GRCh',\n",
    "'Mutation genome position', 'Mutation strand', 'Resistance Mutation',\n",
    "'FATHMM prediction', 'FATHMM score', 'Mutation somatic status',\n",
    "'Pubmed_PMID', 'ID_STUDY', 'Sample Type', 'Tumour origin', 'Age',\n",
    "'HGVSP', 'HGVSC', 'HGVSG']\n",
    "## Columns for noncoding file\n",
    "\n",
    "\n",
    "## Primary sites\n",
    "['breast' 'haematopoietic_and_lymphoid_tissue' 'lung' 'liver'\n",
    " 'endometrium' 'upper_aerodigestive_tract' 'large_intestine' 'skin'\n",
    " 'kidney' 'soft_tissue' 'ovary' 'central_nervous_system' 'biliary_tract'\n",
    " 'stomach' 'oesophagus' 'prostate' 'urinary_tract' 'bone'\n",
    " 'autonomic_ganglia' 'penis' 'uterine_adnexa' 'cervix' 'pancreas' 'NS'\n",
    " 'testis' 'thyroid' 'pleura' 'placenta' 'meninges' 'small_intestine'\n",
    " 'genital_tract' 'adrenal_gland' 'salivary_gland' 'thymus' 'peritoneum'\n",
    " 'eye' 'parathyroid' 'pituitary'\n",
    " 'gastrointestinal_tract_(site_indeterminate)'\n",
    " 'female_genital_tract_(site_indeterminate)' 'vulva' 'fallopian_tube'\n",
    " 'vagina' 'paratesticular_tissues' 'perineum' 'retroperitoneum'\n",
    " 'pericardium' 'mediastinum' 'female_genitourinary_system']"
   ]
  },
  {
   "cell_type": "code",
   "execution_count": 4,
   "id": "overall-religious",
   "metadata": {},
   "outputs": [],
   "source": [
    "cancer_type = 'CRC'\n",
    "chrom = '22'"
   ]
  },
  {
   "cell_type": "code",
   "execution_count": 5,
   "id": "faced-durham",
   "metadata": {},
   "outputs": [
    {
     "name": "stdout",
     "output_type": "stream",
     "text": [
      "(297743, 28)\n"
     ]
    }
   ],
   "source": [
    "# cancer type selection\n",
    "if cancer_type == 'CRC':\n",
    "    if target == 'coding':\n",
    "        cosmic_muts = cosmic_pd[(cosmic_pd['Primary site'] == 'large_intestine') & (cosmic_pd['Site subtype 1'] == 'colon') & (cosmic_pd['Tumour origin'] == 'primary')]\n",
    "    else: # target == 'noncoding'\n",
    "        cosmic_muts = cosmic_pd[(cosmic_pd['Primary site'] == 'large_intestine') & (cosmic_pd['Site subtype 1'] == 'colon')]\n",
    "\n",
    "else:\n",
    "    print('NEED TO INCLUDE THIS CANCER TYPE')\n",
    "print(cosmic_muts.shape)"
   ]
  },
  {
   "cell_type": "code",
   "execution_count": 6,
   "id": "electrical-trademark",
   "metadata": {},
   "outputs": [
    {
     "name": "stdout",
     "output_type": "stream",
     "text": [
      "(297743, 28)\n"
     ]
    }
   ],
   "source": [
    "# remove nan positions in GRCh37\n",
    "cosmic_muts = cosmic_muts[~cosmic_muts[\"GRCh\"].isna()]\n",
    "print(cosmic_muts.shape)"
   ]
  },
  {
   "cell_type": "code",
   "execution_count": 7,
   "id": "minimal-aaron",
   "metadata": {},
   "outputs": [
    {
     "name": "stderr",
     "output_type": "stream",
     "text": [
      "/Users/hanae/opt/anaconda3/envs/default/lib/python3.7/site-packages/ipykernel_launcher.py:10: SettingWithCopyWarning: \n",
      "A value is trying to be set on a copy of a slice from a DataFrame\n",
      "\n",
      "See the caveats in the documentation: https://pandas.pydata.org/pandas-docs/stable/user_guide/indexing.html#returning-a-view-versus-a-copy\n",
      "  # Remove the CWD from sys.path while we load stuff.\n",
      "/Users/hanae/opt/anaconda3/envs/default/lib/python3.7/site-packages/ipykernel_launcher.py:11: SettingWithCopyWarning: \n",
      "A value is trying to be set on a copy of a slice from a DataFrame\n",
      "\n",
      "See the caveats in the documentation: https://pandas.pydata.org/pandas-docs/stable/user_guide/indexing.html#returning-a-view-versus-a-copy\n",
      "  # This is added back by InteractiveShellApp.init_path()\n",
      "/Users/hanae/opt/anaconda3/envs/default/lib/python3.7/site-packages/ipykernel_launcher.py:12: SettingWithCopyWarning: \n",
      "A value is trying to be set on a copy of a slice from a DataFrame\n",
      "\n",
      "See the caveats in the documentation: https://pandas.pydata.org/pandas-docs/stable/user_guide/indexing.html#returning-a-view-versus-a-copy\n",
      "  if sys.path[0] == '':\n"
     ]
    },
    {
     "name": "stdout",
     "output_type": "stream",
     "text": [
      "(263106, 29)\n"
     ]
    },
    {
     "data": {
      "text/html": [
       "<div>\n",
       "<style scoped>\n",
       "    .dataframe tbody tr th:only-of-type {\n",
       "        vertical-align: middle;\n",
       "    }\n",
       "\n",
       "    .dataframe tbody tr th {\n",
       "        vertical-align: top;\n",
       "    }\n",
       "\n",
       "    .dataframe thead th {\n",
       "        text-align: right;\n",
       "    }\n",
       "</style>\n",
       "<table border=\"1\" class=\"dataframe\">\n",
       "  <thead>\n",
       "    <tr style=\"text-align: right;\">\n",
       "      <th></th>\n",
       "      <th>Sample name</th>\n",
       "      <th>ID_SAMPLE</th>\n",
       "      <th>ID_tumour</th>\n",
       "      <th>Primary site</th>\n",
       "      <th>Site subtype 1</th>\n",
       "      <th>Site subtype 2</th>\n",
       "      <th>Site subtype 3</th>\n",
       "      <th>Primary histology</th>\n",
       "      <th>Histology subtype 1</th>\n",
       "      <th>Histology subtype 2</th>\n",
       "      <th>...</th>\n",
       "      <th>FATHMM_MKL_NON_CODING_SCORE</th>\n",
       "      <th>FATHMM_MKL_NON_CODING_GROUPS</th>\n",
       "      <th>FATHMM_MKL_CODING_SCORE</th>\n",
       "      <th>FATHMM_MKL_CODING_GROUPS</th>\n",
       "      <th>Whole_Genome_Reseq</th>\n",
       "      <th>Whole_Exome</th>\n",
       "      <th>ID_STUDY</th>\n",
       "      <th>PUBMED_PMID</th>\n",
       "      <th>HGVSG</th>\n",
       "      <th>type</th>\n",
       "    </tr>\n",
       "  </thead>\n",
       "  <tbody>\n",
       "    <tr>\n",
       "      <th>1</th>\n",
       "      <td>MSS3-a</td>\n",
       "      <td>2809968</td>\n",
       "      <td>2666630</td>\n",
       "      <td>large_intestine</td>\n",
       "      <td>colon</td>\n",
       "      <td>transverse</td>\n",
       "      <td>NS</td>\n",
       "      <td>adenoma</td>\n",
       "      <td>tubular</td>\n",
       "      <td>high_grade_dysplasia</td>\n",
       "      <td>...</td>\n",
       "      <td>0.90866</td>\n",
       "      <td>NaN</td>\n",
       "      <td>0.56856</td>\n",
       "      <td>NaN</td>\n",
       "      <td>n</td>\n",
       "      <td>y</td>\n",
       "      <td>NaN</td>\n",
       "      <td>26336987.0</td>\n",
       "      <td>3:g.49051329C&gt;A</td>\n",
       "      <td>SNV</td>\n",
       "    </tr>\n",
       "    <tr>\n",
       "      <th>76</th>\n",
       "      <td>TCGA-AM-5821-01</td>\n",
       "      <td>1651151</td>\n",
       "      <td>1565938</td>\n",
       "      <td>large_intestine</td>\n",
       "      <td>colon</td>\n",
       "      <td>sigmoid</td>\n",
       "      <td>NS</td>\n",
       "      <td>carcinoma</td>\n",
       "      <td>adenocarcinoma</td>\n",
       "      <td>NS</td>\n",
       "      <td>...</td>\n",
       "      <td>0.40931</td>\n",
       "      <td>NaN</td>\n",
       "      <td>0.00684</td>\n",
       "      <td>NaN</td>\n",
       "      <td>n</td>\n",
       "      <td>y</td>\n",
       "      <td>376.0</td>\n",
       "      <td>NaN</td>\n",
       "      <td>16:g.81053830C&gt;T</td>\n",
       "      <td>SNV</td>\n",
       "    </tr>\n",
       "    <tr>\n",
       "      <th>218</th>\n",
       "      <td>1517_CLM</td>\n",
       "      <td>2501001</td>\n",
       "      <td>2363352</td>\n",
       "      <td>large_intestine</td>\n",
       "      <td>colon</td>\n",
       "      <td>right</td>\n",
       "      <td>NS</td>\n",
       "      <td>carcinoma</td>\n",
       "      <td>adenocarcinoma</td>\n",
       "      <td>NS</td>\n",
       "      <td>...</td>\n",
       "      <td>0.71715</td>\n",
       "      <td>NaN</td>\n",
       "      <td>0.65593</td>\n",
       "      <td>NaN</td>\n",
       "      <td>n</td>\n",
       "      <td>y</td>\n",
       "      <td>NaN</td>\n",
       "      <td>26109429.0</td>\n",
       "      <td>17:g.45904542C&gt;T</td>\n",
       "      <td>SNV</td>\n",
       "    </tr>\n",
       "    <tr>\n",
       "      <th>637</th>\n",
       "      <td>T473</td>\n",
       "      <td>2296250</td>\n",
       "      <td>2161853</td>\n",
       "      <td>large_intestine</td>\n",
       "      <td>colon</td>\n",
       "      <td>descending</td>\n",
       "      <td>NS</td>\n",
       "      <td>carcinoma</td>\n",
       "      <td>adenocarcinoma</td>\n",
       "      <td>NS</td>\n",
       "      <td>...</td>\n",
       "      <td>0.39984</td>\n",
       "      <td>NaN</td>\n",
       "      <td>0.24301</td>\n",
       "      <td>NaN</td>\n",
       "      <td>n</td>\n",
       "      <td>y</td>\n",
       "      <td>NaN</td>\n",
       "      <td>25344691.0</td>\n",
       "      <td>2:g.160053219C&gt;T</td>\n",
       "      <td>SNV</td>\n",
       "    </tr>\n",
       "    <tr>\n",
       "      <th>676</th>\n",
       "      <td>T6</td>\n",
       "      <td>2411195</td>\n",
       "      <td>2274074</td>\n",
       "      <td>large_intestine</td>\n",
       "      <td>colon</td>\n",
       "      <td>NS</td>\n",
       "      <td>NS</td>\n",
       "      <td>carcinoma</td>\n",
       "      <td>adenocarcinoma</td>\n",
       "      <td>NS</td>\n",
       "      <td>...</td>\n",
       "      <td>0.06152</td>\n",
       "      <td>NaN</td>\n",
       "      <td>0.00313</td>\n",
       "      <td>NaN</td>\n",
       "      <td>n</td>\n",
       "      <td>y</td>\n",
       "      <td>NaN</td>\n",
       "      <td>26071483.0</td>\n",
       "      <td>6:g.150205612G&gt;A</td>\n",
       "      <td>SNV</td>\n",
       "    </tr>\n",
       "  </tbody>\n",
       "</table>\n",
       "<p>5 rows × 29 columns</p>\n",
       "</div>"
      ],
      "text/plain": [
       "         Sample name  ID_SAMPLE  ID_tumour     Primary site Site subtype 1  \\\n",
       "1             MSS3-a    2809968    2666630  large_intestine          colon   \n",
       "76   TCGA-AM-5821-01    1651151    1565938  large_intestine          colon   \n",
       "218         1517_CLM    2501001    2363352  large_intestine          colon   \n",
       "637             T473    2296250    2161853  large_intestine          colon   \n",
       "676               T6    2411195    2274074  large_intestine          colon   \n",
       "\n",
       "    Site subtype 2 Site subtype 3 Primary histology Histology subtype 1  \\\n",
       "1       transverse             NS           adenoma             tubular   \n",
       "76         sigmoid             NS         carcinoma      adenocarcinoma   \n",
       "218          right             NS         carcinoma      adenocarcinoma   \n",
       "637     descending             NS         carcinoma      adenocarcinoma   \n",
       "676             NS             NS         carcinoma      adenocarcinoma   \n",
       "\n",
       "      Histology subtype 2  ... FATHMM_MKL_NON_CODING_SCORE  \\\n",
       "1    high_grade_dysplasia  ...                     0.90866   \n",
       "76                     NS  ...                     0.40931   \n",
       "218                    NS  ...                     0.71715   \n",
       "637                    NS  ...                     0.39984   \n",
       "676                    NS  ...                     0.06152   \n",
       "\n",
       "    FATHMM_MKL_NON_CODING_GROUPS FATHMM_MKL_CODING_SCORE  \\\n",
       "1                            NaN                 0.56856   \n",
       "76                           NaN                 0.00684   \n",
       "218                          NaN                 0.65593   \n",
       "637                          NaN                 0.24301   \n",
       "676                          NaN                 0.00313   \n",
       "\n",
       "    FATHMM_MKL_CODING_GROUPS  Whole_Genome_Reseq Whole_Exome ID_STUDY  \\\n",
       "1                        NaN                   n           y      NaN   \n",
       "76                       NaN                   n           y    376.0   \n",
       "218                      NaN                   n           y      NaN   \n",
       "637                      NaN                   n           y      NaN   \n",
       "676                      NaN                   n           y      NaN   \n",
       "\n",
       "    PUBMED_PMID             HGVSG  type  \n",
       "1    26336987.0   3:g.49051329C>A   SNV  \n",
       "76          NaN  16:g.81053830C>T   SNV  \n",
       "218  26109429.0  17:g.45904542C>T   SNV  \n",
       "637  25344691.0  2:g.160053219C>T   SNV  \n",
       "676  26071483.0  6:g.150205612G>A   SNV  \n",
       "\n",
       "[5 rows x 29 columns]"
      ]
     },
     "execution_count": 7,
     "metadata": {},
     "output_type": "execute_result"
    }
   ],
   "source": [
    "# annotate mutation type\n",
    "cosmic_muts['type'] = np.nan\n",
    "if target == 'coding':\n",
    "    print(cosmic_muts['Mutation Description'].unique()) # SNV or INDEL\n",
    "    cosmic_muts['type'][cosmic_muts['Mutation Description'].str.contains('Substitution') == True] = 'SNV'\n",
    "    cosmic_muts['type'][cosmic_muts['Mutation Description'].str.contains('Insertion') == True] = 'INS'\n",
    "    cosmic_muts['type'][cosmic_muts['Mutation Description'].str.contains('Deletion') == True] = 'DEL'\n",
    "    cosmic_muts.dropna(subset=['type'], inplace=True)\n",
    "else: # target == 'noncoding'\n",
    "    cosmic_muts['type'][cosmic_muts['MUT_SEQ'].str.len()-cosmic_muts['WT_SEQ'].str.len() == 0] = 'SNV'\n",
    "    cosmic_muts['type'][cosmic_muts['MUT_SEQ'].str.len()-cosmic_muts['WT_SEQ'].str.len() > 0] = 'INS'\n",
    "    cosmic_muts['type'][cosmic_muts['MUT_SEQ'].str.len()-cosmic_muts['WT_SEQ'].str.len() < 0] = 'DEL'\n",
    "    cosmic_muts = cosmic_muts[~cosmic_muts['type'].isna()]\n",
    "print(cosmic_muts.shape)\n",
    "cosmic_muts.head()"
   ]
  },
  {
   "cell_type": "code",
   "execution_count": 8,
   "id": "systematic-attachment",
   "metadata": {},
   "outputs": [
    {
     "name": "stderr",
     "output_type": "stream",
     "text": [
      "/Users/hanae/opt/anaconda3/envs/default/lib/python3.7/site-packages/ipykernel_launcher.py:7: SettingWithCopyWarning: \n",
      "A value is trying to be set on a copy of a slice from a DataFrame\n",
      "\n",
      "See the caveats in the documentation: https://pandas.pydata.org/pandas-docs/stable/user_guide/indexing.html#returning-a-view-versus-a-copy\n",
      "  import sys\n",
      "/Users/hanae/opt/anaconda3/envs/default/lib/python3.7/site-packages/ipykernel_launcher.py:8: SettingWithCopyWarning: \n",
      "A value is trying to be set on a copy of a slice from a DataFrame\n",
      "\n",
      "See the caveats in the documentation: https://pandas.pydata.org/pandas-docs/stable/user_guide/indexing.html#returning-a-view-versus-a-copy\n",
      "  \n"
     ]
    }
   ],
   "source": [
    "# encode mutation position\n",
    "if target == 'coding':\n",
    "    mutposname = 'Mutation genome position'\n",
    "else: # target == 'noncoding'\n",
    "    mutposname = 'genome position'\n",
    "cosmic_muts['chrom'] = cosmic_muts[mutposname].str.split(':').str[0]\n",
    "cosmic_muts['chrom'][cosmic_muts['chrom'] == 23] = 'X'\n",
    "cosmic_muts['chrom'][cosmic_muts['chrom'] == 24] = 'Y'\n",
    "cosmic_muts['startpos'] = cosmic_muts[mutposname].str.split(':').str[1].str.split('-').str[0]\n",
    "cosmic_muts['endpos'] = cosmic_muts[mutposname].str.split(':').str[1].str.split('-').str[1]\n",
    "cosmic_muts['chrom_pos'] = cosmic_muts['chrom'] + '_' + cosmic_muts['startpos'] + '_' + cosmic_muts['endpos']\n",
    "cosmic_muts['startpos'] = cosmic_muts['startpos'].astype(int)\n",
    "cosmic_muts['endpos'] = cosmic_muts['endpos'].astype(int)\n",
    "cosmic_muts.dropna(subset=['chrom', 'startpos', 'endpos'], inplace=True)"
   ]
  },
  {
   "cell_type": "code",
   "execution_count": 9,
   "id": "practical-knife",
   "metadata": {},
   "outputs": [
    {
     "name": "stdout",
     "output_type": "stream",
     "text": [
      "1.0 1.1347819336139673 1.0 1.0\n"
     ]
    },
    {
     "data": {
      "image/png": "[encoded data removed]",
      "text/plain": [
       "<Figure size 432x288 with 1 Axes>"
      ]
     },
     "metadata": {
      "needs_background": "light"
     },
     "output_type": "display_data"
    }
   ],
   "source": [
    "# get occurences\n",
    "occurences = cosmic_muts[mutposname].value_counts().values\n",
    "plt.hist(occurences[occurences <= 10])\n",
    "print(np.quantile(occurences, 0.25), np.mean(occurences), np.median(occurences), np.quantile(occurences, 0.75))"
   ]
  },
  {
   "cell_type": "code",
   "execution_count": 10,
   "id": "offensive-thesis",
   "metadata": {},
   "outputs": [
    {
     "name": "stdout",
     "output_type": "stream",
     "text": [
      "596\n"
     ]
    }
   ],
   "source": [
    "# set threshold = at least 5 patients\n",
    "threshold = 5\n",
    "occ = cosmic_muts['chrom_pos'].value_counts() \n",
    "common_muts_occ = occ[occ >= threshold]\n",
    "common_muts = list(common_muts_occ.index)\n",
    "print(len(common_muts))"
   ]
  },
  {
   "cell_type": "code",
   "execution_count": 11,
   "id": "opponent-professor",
   "metadata": {},
   "outputs": [
    {
     "name": "stdout",
     "output_type": "stream",
     "text": [
      "(6778, 33)\n"
     ]
    },
    {
     "data": {
      "text/plain": [
       "17    1852\n",
       "5     1363\n",
       "3      840\n",
       "12     343\n",
       "19     326\n",
       "1      260\n",
       "4      218\n",
       "11     192\n",
       "18     165\n",
       "20     153\n",
       "2      146\n",
       "6      128\n",
       "9      119\n",
       "10     119\n",
       "7      115\n",
       "16      99\n",
       "8       94\n",
       "22      69\n",
       "23      54\n",
       "14      48\n",
       "13      35\n",
       "15      24\n",
       "21      16\n",
       "Name: chrom, dtype: int64"
      ]
     },
     "execution_count": 11,
     "metadata": {},
     "output_type": "execute_result"
    }
   ],
   "source": [
    "# select only single chromosome\n",
    "cosmic_muts = cosmic_muts[cosmic_muts['chrom_pos'].isin(common_muts)]\n",
    "print(cosmic_muts.shape)\n",
    "cosmic_muts['chrom'].value_counts()"
   ]
  },
  {
   "cell_type": "code",
   "execution_count": 12,
   "id": "alert-commission",
   "metadata": {},
   "outputs": [
    {
     "data": {
      "image/png": "[encoded data removed]",
      "text/plain": [
       "<Figure size 1008x720 with 1 Axes>"
      ]
     },
     "metadata": {
      "needs_background": "light"
     },
     "output_type": "display_data"
    }
   ],
   "source": [
    "plt.figure(figsize=(14,10))\n",
    "ax = sns.countplot(x='chrom', data=cosmic_muts[['chrom', 'startpos', 'endpos', 'chrom_pos']].drop_duplicates(), order=np.arange(1,25).astype(str))\n",
    "plt.title('number of common {} mutations (SNV + INDEL) per chromosome found in at least {} patients'.format(cancer_type, threshold))\n",
    "for p in ax.patches:\n",
    "        ax.annotate('{}'.format(p.get_height()), (p.get_x(), p.get_height()))"
   ]
  },
  {
   "cell_type": "code",
   "execution_count": 13,
   "id": "spread-vector",
   "metadata": {},
   "outputs": [
    {
     "name": "stdout",
     "output_type": "stream",
     "text": [
      "(69, 33)\n"
     ]
    }
   ],
   "source": [
    "cosmic_muts_chr = cosmic_muts[cosmic_muts['chrom'] == chrom]\n",
    "print(cosmic_muts_chr.shape)"
   ]
  },
  {
   "cell_type": "code",
   "execution_count": 14,
   "id": "returning-imagination",
   "metadata": {},
   "outputs": [
    {
     "name": "stderr",
     "output_type": "stream",
     "text": [
      "/Users/hanae/opt/anaconda3/envs/default/lib/python3.7/site-packages/ipykernel_launcher.py:22: SettingWithCopyWarning: \n",
      "A value is trying to be set on a copy of a slice from a DataFrame.\n",
      "Try using .loc[row_indexer,col_indexer] = value instead\n",
      "\n",
      "See the caveats in the documentation: https://pandas.pydata.org/pandas-docs/stable/user_guide/indexing.html#returning-a-view-versus-a-copy\n",
      "/Users/hanae/opt/anaconda3/envs/default/lib/python3.7/site-packages/ipykernel_launcher.py:23: SettingWithCopyWarning: \n",
      "A value is trying to be set on a copy of a slice from a DataFrame.\n",
      "Try using .loc[row_indexer,col_indexer] = value instead\n",
      "\n",
      "See the caveats in the documentation: https://pandas.pydata.org/pandas-docs/stable/user_guide/indexing.html#returning-a-view-versus-a-copy\n"
     ]
    },
    {
     "data": {
      "text/html": [
       "<div>\n",
       "<style scoped>\n",
       "    .dataframe tbody tr th:only-of-type {\n",
       "        vertical-align: middle;\n",
       "    }\n",
       "\n",
       "    .dataframe tbody tr th {\n",
       "        vertical-align: top;\n",
       "    }\n",
       "\n",
       "    .dataframe thead th {\n",
       "        text-align: right;\n",
       "    }\n",
       "</style>\n",
       "<table border=\"1\" class=\"dataframe\">\n",
       "  <thead>\n",
       "    <tr style=\"text-align: right;\">\n",
       "      <th></th>\n",
       "      <th>Sample name</th>\n",
       "      <th>ID_SAMPLE</th>\n",
       "      <th>ID_tumour</th>\n",
       "      <th>Primary site</th>\n",
       "      <th>Site subtype 1</th>\n",
       "      <th>Site subtype 2</th>\n",
       "      <th>Site subtype 3</th>\n",
       "      <th>Primary histology</th>\n",
       "      <th>Histology subtype 1</th>\n",
       "      <th>Histology subtype 2</th>\n",
       "      <th>...</th>\n",
       "      <th>ID_STUDY</th>\n",
       "      <th>PUBMED_PMID</th>\n",
       "      <th>HGVSG</th>\n",
       "      <th>type</th>\n",
       "      <th>chrom</th>\n",
       "      <th>startpos</th>\n",
       "      <th>endpos</th>\n",
       "      <th>chrom_pos</th>\n",
       "      <th>ref</th>\n",
       "      <th>alt</th>\n",
       "    </tr>\n",
       "  </thead>\n",
       "  <tbody>\n",
       "    <tr>\n",
       "      <th>128804</th>\n",
       "      <td>L1</td>\n",
       "      <td>2588720</td>\n",
       "      <td>2449851</td>\n",
       "      <td>large_intestine</td>\n",
       "      <td>colon</td>\n",
       "      <td>NS</td>\n",
       "      <td>NS</td>\n",
       "      <td>carcinoma</td>\n",
       "      <td>adenocarcinoma</td>\n",
       "      <td>NS</td>\n",
       "      <td>...</td>\n",
       "      <td>NaN</td>\n",
       "      <td>27023146.0</td>\n",
       "      <td>22:g.23655130A&gt;T</td>\n",
       "      <td>SNV</td>\n",
       "      <td>22</td>\n",
       "      <td>23655130</td>\n",
       "      <td>23655130</td>\n",
       "      <td>22_23655130_23655130</td>\n",
       "      <td>A</td>\n",
       "      <td>T</td>\n",
       "    </tr>\n",
       "    <tr>\n",
       "      <th>353100</th>\n",
       "      <td>PCRC13_3A</td>\n",
       "      <td>2873949</td>\n",
       "      <td>2728822</td>\n",
       "      <td>large_intestine</td>\n",
       "      <td>colon</td>\n",
       "      <td>ascending</td>\n",
       "      <td>NS</td>\n",
       "      <td>carcinoma</td>\n",
       "      <td>adenocarcinoma</td>\n",
       "      <td>NS</td>\n",
       "      <td>...</td>\n",
       "      <td>NaN</td>\n",
       "      <td>30038269.0</td>\n",
       "      <td>22:g.20761324C&gt;T</td>\n",
       "      <td>SNV</td>\n",
       "      <td>22</td>\n",
       "      <td>20761324</td>\n",
       "      <td>20761324</td>\n",
       "      <td>22_20761324_20761324</td>\n",
       "      <td>C</td>\n",
       "      <td>T</td>\n",
       "    </tr>\n",
       "    <tr>\n",
       "      <th>572688</th>\n",
       "      <td>PCRC13_1A</td>\n",
       "      <td>2873947</td>\n",
       "      <td>2728822</td>\n",
       "      <td>large_intestine</td>\n",
       "      <td>colon</td>\n",
       "      <td>ascending</td>\n",
       "      <td>NS</td>\n",
       "      <td>carcinoma</td>\n",
       "      <td>adenocarcinoma</td>\n",
       "      <td>NS</td>\n",
       "      <td>...</td>\n",
       "      <td>NaN</td>\n",
       "      <td>30038269.0</td>\n",
       "      <td>22:g.20761324C&gt;T</td>\n",
       "      <td>SNV</td>\n",
       "      <td>22</td>\n",
       "      <td>20761324</td>\n",
       "      <td>20761324</td>\n",
       "      <td>22_20761324_20761324</td>\n",
       "      <td>C</td>\n",
       "      <td>T</td>\n",
       "    </tr>\n",
       "    <tr>\n",
       "      <th>883800</th>\n",
       "      <td>TCGA-F4-6463-01</td>\n",
       "      <td>1651301</td>\n",
       "      <td>1566088</td>\n",
       "      <td>large_intestine</td>\n",
       "      <td>colon</td>\n",
       "      <td>transverse</td>\n",
       "      <td>NS</td>\n",
       "      <td>carcinoma</td>\n",
       "      <td>adenocarcinoma</td>\n",
       "      <td>NS</td>\n",
       "      <td>...</td>\n",
       "      <td>376.0</td>\n",
       "      <td>NaN</td>\n",
       "      <td>22:g.20780097G&gt;C</td>\n",
       "      <td>SNV</td>\n",
       "      <td>22</td>\n",
       "      <td>20780097</td>\n",
       "      <td>20780097</td>\n",
       "      <td>22_20780097_20780097</td>\n",
       "      <td>G</td>\n",
       "      <td>C</td>\n",
       "    </tr>\n",
       "    <tr>\n",
       "      <th>898004</th>\n",
       "      <td>P2-1</td>\n",
       "      <td>2588714</td>\n",
       "      <td>2449849</td>\n",
       "      <td>large_intestine</td>\n",
       "      <td>colon</td>\n",
       "      <td>NS</td>\n",
       "      <td>NS</td>\n",
       "      <td>carcinoma</td>\n",
       "      <td>adenocarcinoma</td>\n",
       "      <td>NS</td>\n",
       "      <td>...</td>\n",
       "      <td>NaN</td>\n",
       "      <td>27023146.0</td>\n",
       "      <td>22:g.23654017G&gt;A</td>\n",
       "      <td>SNV</td>\n",
       "      <td>22</td>\n",
       "      <td>23654017</td>\n",
       "      <td>23654017</td>\n",
       "      <td>22_23654017_23654017</td>\n",
       "      <td>G</td>\n",
       "      <td>A</td>\n",
       "    </tr>\n",
       "  </tbody>\n",
       "</table>\n",
       "<p>5 rows × 35 columns</p>\n",
       "</div>"
      ],
      "text/plain": [
       "            Sample name  ID_SAMPLE  ID_tumour     Primary site Site subtype 1  \\\n",
       "128804               L1    2588720    2449851  large_intestine          colon   \n",
       "353100        PCRC13_3A    2873949    2728822  large_intestine          colon   \n",
       "572688        PCRC13_1A    2873947    2728822  large_intestine          colon   \n",
       "883800  TCGA-F4-6463-01    1651301    1566088  large_intestine          colon   \n",
       "898004             P2-1    2588714    2449849  large_intestine          colon   \n",
       "\n",
       "       Site subtype 2 Site subtype 3 Primary histology Histology subtype 1  \\\n",
       "128804             NS             NS         carcinoma      adenocarcinoma   \n",
       "353100      ascending             NS         carcinoma      adenocarcinoma   \n",
       "572688      ascending             NS         carcinoma      adenocarcinoma   \n",
       "883800     transverse             NS         carcinoma      adenocarcinoma   \n",
       "898004             NS             NS         carcinoma      adenocarcinoma   \n",
       "\n",
       "       Histology subtype 2  ... ID_STUDY PUBMED_PMID             HGVSG type  \\\n",
       "128804                  NS  ...      NaN  27023146.0  22:g.23655130A>T  SNV   \n",
       "353100                  NS  ...      NaN  30038269.0  22:g.20761324C>T  SNV   \n",
       "572688                  NS  ...      NaN  30038269.0  22:g.20761324C>T  SNV   \n",
       "883800                  NS  ...    376.0         NaN  22:g.20780097G>C  SNV   \n",
       "898004                  NS  ...      NaN  27023146.0  22:g.23654017G>A  SNV   \n",
       "\n",
       "        chrom  startpos    endpos             chrom_pos ref  alt  \n",
       "128804     22  23655130  23655130  22_23655130_23655130   A    T  \n",
       "353100     22  20761324  20761324  22_20761324_20761324   C    T  \n",
       "572688     22  20761324  20761324  22_20761324_20761324   C    T  \n",
       "883800     22  20780097  20780097  22_20780097_20780097   G    C  \n",
       "898004     22  23654017  23654017  22_23654017_23654017   G    A  \n",
       "\n",
       "[5 rows x 35 columns]"
      ]
     },
     "execution_count": 14,
     "metadata": {},
     "output_type": "execute_result"
    }
   ],
   "source": [
    "if target == 'coding':\n",
    "    # info about nomenclature http://varnomen.hgvs.org/recommendations/DNA/\n",
    "    cosmic_muts_chr['ref'] = np.nan\n",
    "    cosmic_muts_chr['alt'] = np.nan\n",
    "    cosmic_muts_chr['ref'][cosmic_muts_chr['type'] == 'SNV'] = cosmic_muts_chr[cosmic_muts_chr['type'] == 'SNV']['Mutation CDS'].str.split('>').str[0].str[-1] \n",
    "    cosmic_muts_chr['alt'][cosmic_muts_chr['type'] == 'SNV'] = cosmic_muts_chr[cosmic_muts_chr['type'] == 'SNV']['Mutation CDS'].str.split('>').str[1]\n",
    "    cosmic_muts_chr['alt'][cosmic_muts_chr['type'] == 'INS'] = cosmic_muts_chr[cosmic_muts_chr['type'] == 'INS']['Mutation CDS'].str.split('ins').str[1] \n",
    "    for ri, row in cosmic_muts_chr.iterrows():\n",
    "        if (row['type'] == 'INS') and (row['Mutation CDS'].endswith('dup')):\n",
    "            chromrow, startpos, endpos = row['chrom_pos'].split('_')\n",
    "            if chromrow.startswith('chr'):\n",
    "                chromrow = chromrow[3:]\n",
    "            startpos, endpos = int(startpos), int(endpos)\n",
    "            fasta = pysam.FastaFile(os.path.join('data', 'GRCh37', 'GRCh37.fa'))\n",
    "            ref_seq = fasta.fetch(chromrow, startpos-1, startpos)\n",
    "            fasta.close()\n",
    "            cosmic_muts_chr.at[ri, 'ref'] = ref_seq\n",
    "            cosmic_muts_chr.at[ri, 'alt'] = ref_seq\n",
    "    # needs shift in deletions for bamsurgeon to indicate length of deletion\n",
    "    cosmic_muts_chr.loc[cosmic_muts_chr['type'] == 'DEL', 'endpos'] += 1 #cosmic_muts_chr[cosmic_muts_chr['type'] == 'DEL', 'endpos'] + 1\n",
    "else: # target noncoding\n",
    "    cosmic_muts_chr['ref'] = cosmic_muts_chr['WT_SEQ']\n",
    "    cosmic_muts_chr['alt'] = cosmic_muts_chr['MUT_SEQ']\n",
    "cosmic_muts_chr.head()"
   ]
  },
  {
   "cell_type": "code",
   "execution_count": 15,
   "id": "appropriate-supervisor",
   "metadata": {},
   "outputs": [
    {
     "name": "stdout",
     "output_type": "stream",
     "text": [
      "(12, 5)\n",
      "Empty DataFrame\n",
      "Columns: [chrom, startpos, endpos, alt, type]\n",
      "Index: []\n",
      "Empty DataFrame\n",
      "Columns: [chrom, startpos, endpos, alt, type]\n",
      "Index: []\n"
     ]
    },
    {
     "data": {
      "text/html": [
       "<div>\n",
       "<style scoped>\n",
       "    .dataframe tbody tr th:only-of-type {\n",
       "        vertical-align: middle;\n",
       "    }\n",
       "\n",
       "    .dataframe tbody tr th {\n",
       "        vertical-align: top;\n",
       "    }\n",
       "\n",
       "    .dataframe thead th {\n",
       "        text-align: right;\n",
       "    }\n",
       "</style>\n",
       "<table border=\"1\" class=\"dataframe\">\n",
       "  <thead>\n",
       "    <tr style=\"text-align: right;\">\n",
       "      <th></th>\n",
       "      <th>chrom</th>\n",
       "      <th>startpos</th>\n",
       "      <th>endpos</th>\n",
       "      <th>alt</th>\n",
       "      <th>type</th>\n",
       "    </tr>\n",
       "  </thead>\n",
       "  <tbody>\n",
       "    <tr>\n",
       "      <th>0</th>\n",
       "      <td>22</td>\n",
       "      <td>23655130</td>\n",
       "      <td>23655130</td>\n",
       "      <td>T</td>\n",
       "      <td>SNV</td>\n",
       "    </tr>\n",
       "    <tr>\n",
       "      <th>1</th>\n",
       "      <td>22</td>\n",
       "      <td>20761324</td>\n",
       "      <td>20761324</td>\n",
       "      <td>T</td>\n",
       "      <td>SNV</td>\n",
       "    </tr>\n",
       "    <tr>\n",
       "      <th>2</th>\n",
       "      <td>22</td>\n",
       "      <td>20780097</td>\n",
       "      <td>20780097</td>\n",
       "      <td>C</td>\n",
       "      <td>SNV</td>\n",
       "    </tr>\n",
       "    <tr>\n",
       "      <th>3</th>\n",
       "      <td>22</td>\n",
       "      <td>23654017</td>\n",
       "      <td>23654017</td>\n",
       "      <td>A</td>\n",
       "      <td>SNV</td>\n",
       "    </tr>\n",
       "    <tr>\n",
       "      <th>4</th>\n",
       "      <td>22</td>\n",
       "      <td>50636872</td>\n",
       "      <td>50636872</td>\n",
       "      <td>A</td>\n",
       "      <td>SNV</td>\n",
       "    </tr>\n",
       "  </tbody>\n",
       "</table>\n",
       "</div>"
      ],
      "text/plain": [
       "  chrom  startpos    endpos alt type\n",
       "0    22  23655130  23655130   T  SNV\n",
       "1    22  20761324  20761324   T  SNV\n",
       "2    22  20780097  20780097   C  SNV\n",
       "3    22  23654017  23654017   A  SNV\n",
       "4    22  50636872  50636872   A  SNV"
      ]
     },
     "execution_count": 15,
     "metadata": {},
     "output_type": "execute_result"
    }
   ],
   "source": [
    "cosmic_bed_chr = cosmic_muts_chr[['chrom', 'startpos', 'endpos', 'alt', 'type']].reset_index(drop=True)\n",
    "cosmic_bed_chr.drop_duplicates(inplace=True, ignore_index=True)\n",
    "print(cosmic_bed_chr.shape)\n",
    "print(cosmic_bed_chr[cosmic_bed_chr['type'] == 'INS'].head())\n",
    "print(cosmic_bed_chr[cosmic_bed_chr['type'] == 'DEL'].head())\n",
    "cosmic_bed_chr.head()"
   ]
  },
  {
   "cell_type": "code",
   "execution_count": 16,
   "id": "packed-income",
   "metadata": {},
   "outputs": [
    {
     "name": "stdout",
     "output_type": "stream",
     "text": [
      "0\n",
      "0\n",
      "0\n",
      "0\n"
     ]
    }
   ],
   "source": [
    "# check for errors\n",
    "# SNV\n",
    "print(sum(cosmic_bed_chr[cosmic_bed_chr['type'] == 'SNV']['endpos'] != cosmic_bed_chr[cosmic_bed_chr['type'] == 'SNV']['startpos']))\n",
    "# INS\n",
    "print(sum(cosmic_bed_chr[cosmic_bed_chr['type'] == 'INS']['endpos'] - cosmic_bed_chr[cosmic_bed_chr['type'] == 'INS']['startpos'] != cosmic_bed_chr[cosmic_bed_chr['type'] == 'INS']['alt'].str.len()))\n",
    "print(sum(cosmic_bed_chr[cosmic_bed_chr['type'] == 'INS']['endpos'] - cosmic_bed_chr[cosmic_bed_chr['type'] == 'INS']['startpos'] <= 0))\n",
    "# DEL\n",
    "print(sum(cosmic_bed_chr[cosmic_bed_chr['type'] == 'DEL']['startpos'] - cosmic_bed_chr[cosmic_bed_chr['type'] == 'DEL']['endpos'] >= 0))"
   ]
  },
  {
   "cell_type": "code",
   "execution_count": 18,
   "id": "alien-purchase",
   "metadata": {},
   "outputs": [
    {
     "name": "stdout",
     "output_type": "stream",
     "text": [
      "22    12\n",
      "Name: chrom, dtype: int64\n"
     ]
    },
    {
     "ename": "ValueError",
     "evalue": "min() arg is an empty sequence",
     "output_type": "error",
     "traceback": [
      "\u001b[0;31m---------------------------------------------------------------------------\u001b[0m",
      "\u001b[0;31mValueError\u001b[0m                                Traceback (most recent call last)",
      "\u001b[0;32m<ipython-input-18-3b8f584d2a77>\u001b[0m in \u001b[0;36m<module>\u001b[0;34m\u001b[0m\n\u001b[1;32m      2\u001b[0m \u001b[0mprint\u001b[0m\u001b[0;34m(\u001b[0m\u001b[0mcosmic_bed_chr\u001b[0m\u001b[0;34m[\u001b[0m\u001b[0mcosmic_bed_chr\u001b[0m\u001b[0;34m[\u001b[0m\u001b[0;34m'type'\u001b[0m\u001b[0;34m]\u001b[0m \u001b[0;34m==\u001b[0m \u001b[0;34m'SNV'\u001b[0m\u001b[0;34m]\u001b[0m\u001b[0;34m[\u001b[0m\u001b[0;34m'chrom'\u001b[0m\u001b[0;34m]\u001b[0m\u001b[0;34m.\u001b[0m\u001b[0mvalue_counts\u001b[0m\u001b[0;34m(\u001b[0m\u001b[0;34m)\u001b[0m\u001b[0;34m.\u001b[0m\u001b[0msort_index\u001b[0m\u001b[0;34m(\u001b[0m\u001b[0;34m)\u001b[0m\u001b[0;34m)\u001b[0m\u001b[0;34m\u001b[0m\u001b[0;34m\u001b[0m\u001b[0m\n\u001b[1;32m      3\u001b[0m \u001b[0mplt\u001b[0m\u001b[0;34m.\u001b[0m\u001b[0mfigure\u001b[0m\u001b[0;34m(\u001b[0m\u001b[0;34m)\u001b[0m\u001b[0;34m\u001b[0m\u001b[0;34m\u001b[0m\u001b[0m\n\u001b[0;32m----> 4\u001b[0;31m \u001b[0msns\u001b[0m\u001b[0;34m.\u001b[0m\u001b[0mcountplot\u001b[0m\u001b[0;34m(\u001b[0m\u001b[0mx\u001b[0m\u001b[0;34m=\u001b[0m\u001b[0;34m'chrom'\u001b[0m\u001b[0;34m,\u001b[0m \u001b[0mdata\u001b[0m\u001b[0;34m=\u001b[0m\u001b[0mcosmic_bed_chr\u001b[0m\u001b[0;34m[\u001b[0m\u001b[0;34m(\u001b[0m\u001b[0mcosmic_bed_chr\u001b[0m\u001b[0;34m[\u001b[0m\u001b[0;34m'type'\u001b[0m\u001b[0;34m]\u001b[0m \u001b[0;34m==\u001b[0m \u001b[0;34m'INS'\u001b[0m\u001b[0;34m)\u001b[0m \u001b[0;34m|\u001b[0m \u001b[0;34m(\u001b[0m\u001b[0mcosmic_bed_chr\u001b[0m\u001b[0;34m[\u001b[0m\u001b[0;34m'type'\u001b[0m\u001b[0;34m]\u001b[0m \u001b[0;34m==\u001b[0m \u001b[0;34m'DEL'\u001b[0m\u001b[0;34m)\u001b[0m\u001b[0;34m]\u001b[0m\u001b[0;34m)\u001b[0m\u001b[0;34m\u001b[0m\u001b[0;34m\u001b[0m\u001b[0m\n\u001b[0m\u001b[1;32m      5\u001b[0m \u001b[0mprint\u001b[0m\u001b[0;34m(\u001b[0m\u001b[0mcosmic_bed_chr\u001b[0m\u001b[0;34m[\u001b[0m\u001b[0;34m(\u001b[0m\u001b[0mcosmic_bed_chr\u001b[0m\u001b[0;34m[\u001b[0m\u001b[0;34m'type'\u001b[0m\u001b[0;34m]\u001b[0m \u001b[0;34m==\u001b[0m \u001b[0;34m'INS'\u001b[0m\u001b[0;34m)\u001b[0m \u001b[0;34m|\u001b[0m \u001b[0;34m(\u001b[0m\u001b[0mcosmic_bed_chr\u001b[0m\u001b[0;34m[\u001b[0m\u001b[0;34m'type'\u001b[0m\u001b[0;34m]\u001b[0m \u001b[0;34m==\u001b[0m \u001b[0;34m'DEL'\u001b[0m\u001b[0;34m)\u001b[0m\u001b[0;34m]\u001b[0m\u001b[0;34m[\u001b[0m\u001b[0;34m'chrom'\u001b[0m\u001b[0;34m]\u001b[0m\u001b[0;34m.\u001b[0m\u001b[0mvalue_counts\u001b[0m\u001b[0;34m(\u001b[0m\u001b[0;34m)\u001b[0m\u001b[0;34m.\u001b[0m\u001b[0msort_index\u001b[0m\u001b[0;34m(\u001b[0m\u001b[0;34m)\u001b[0m\u001b[0;34m)\u001b[0m\u001b[0;34m\u001b[0m\u001b[0;34m\u001b[0m\u001b[0m\n",
      "\u001b[0;32m~/opt/anaconda3/envs/default/lib/python3.7/site-packages/seaborn/_decorators.py\u001b[0m in \u001b[0;36minner_f\u001b[0;34m(*args, **kwargs)\u001b[0m\n\u001b[1;32m     44\u001b[0m             )\n\u001b[1;32m     45\u001b[0m         \u001b[0mkwargs\u001b[0m\u001b[0;34m.\u001b[0m\u001b[0mupdate\u001b[0m\u001b[0;34m(\u001b[0m\u001b[0;34m{\u001b[0m\u001b[0mk\u001b[0m\u001b[0;34m:\u001b[0m \u001b[0marg\u001b[0m \u001b[0;32mfor\u001b[0m \u001b[0mk\u001b[0m\u001b[0;34m,\u001b[0m \u001b[0marg\u001b[0m \u001b[0;32min\u001b[0m \u001b[0mzip\u001b[0m\u001b[0;34m(\u001b[0m\u001b[0msig\u001b[0m\u001b[0;34m.\u001b[0m\u001b[0mparameters\u001b[0m\u001b[0;34m,\u001b[0m \u001b[0margs\u001b[0m\u001b[0;34m)\u001b[0m\u001b[0;34m}\u001b[0m\u001b[0;34m)\u001b[0m\u001b[0;34m\u001b[0m\u001b[0;34m\u001b[0m\u001b[0m\n\u001b[0;32m---> 46\u001b[0;31m         \u001b[0;32mreturn\u001b[0m \u001b[0mf\u001b[0m\u001b[0;34m(\u001b[0m\u001b[0;34m**\u001b[0m\u001b[0mkwargs\u001b[0m\u001b[0;34m)\u001b[0m\u001b[0;34m\u001b[0m\u001b[0;34m\u001b[0m\u001b[0m\n\u001b[0m\u001b[1;32m     47\u001b[0m     \u001b[0;32mreturn\u001b[0m \u001b[0minner_f\u001b[0m\u001b[0;34m\u001b[0m\u001b[0;34m\u001b[0m\u001b[0m\n\u001b[1;32m     48\u001b[0m \u001b[0;34m\u001b[0m\u001b[0m\n",
      "\u001b[0;32m~/opt/anaconda3/envs/default/lib/python3.7/site-packages/seaborn/categorical.py\u001b[0m in \u001b[0;36mcountplot\u001b[0;34m(x, y, hue, data, order, hue_order, orient, color, palette, saturation, dodge, ax, **kwargs)\u001b[0m\n\u001b[1;32m   3587\u001b[0m         \u001b[0mestimator\u001b[0m\u001b[0;34m,\u001b[0m \u001b[0mci\u001b[0m\u001b[0;34m,\u001b[0m \u001b[0mn_boot\u001b[0m\u001b[0;34m,\u001b[0m \u001b[0munits\u001b[0m\u001b[0;34m,\u001b[0m \u001b[0mseed\u001b[0m\u001b[0;34m,\u001b[0m\u001b[0;34m\u001b[0m\u001b[0;34m\u001b[0m\u001b[0m\n\u001b[1;32m   3588\u001b[0m         \u001b[0morient\u001b[0m\u001b[0;34m,\u001b[0m \u001b[0mcolor\u001b[0m\u001b[0;34m,\u001b[0m \u001b[0mpalette\u001b[0m\u001b[0;34m,\u001b[0m \u001b[0msaturation\u001b[0m\u001b[0;34m,\u001b[0m\u001b[0;34m\u001b[0m\u001b[0;34m\u001b[0m\u001b[0m\n\u001b[0;32m-> 3589\u001b[0;31m         \u001b[0merrcolor\u001b[0m\u001b[0;34m,\u001b[0m \u001b[0merrwidth\u001b[0m\u001b[0;34m,\u001b[0m \u001b[0mcapsize\u001b[0m\u001b[0;34m,\u001b[0m \u001b[0mdodge\u001b[0m\u001b[0;34m\u001b[0m\u001b[0;34m\u001b[0m\u001b[0m\n\u001b[0m\u001b[1;32m   3590\u001b[0m     )\n\u001b[1;32m   3591\u001b[0m \u001b[0;34m\u001b[0m\u001b[0m\n",
      "\u001b[0;32m~/opt/anaconda3/envs/default/lib/python3.7/site-packages/seaborn/categorical.py\u001b[0m in \u001b[0;36m__init__\u001b[0;34m(self, x, y, hue, data, order, hue_order, estimator, ci, n_boot, units, seed, orient, color, palette, saturation, errcolor, errwidth, capsize, dodge)\u001b[0m\n\u001b[1;32m   1584\u001b[0m         self.establish_variables(x, y, hue, data, orient,\n\u001b[1;32m   1585\u001b[0m                                  order, hue_order, units)\n\u001b[0;32m-> 1586\u001b[0;31m         \u001b[0mself\u001b[0m\u001b[0;34m.\u001b[0m\u001b[0mestablish_colors\u001b[0m\u001b[0;34m(\u001b[0m\u001b[0mcolor\u001b[0m\u001b[0;34m,\u001b[0m \u001b[0mpalette\u001b[0m\u001b[0;34m,\u001b[0m \u001b[0msaturation\u001b[0m\u001b[0;34m)\u001b[0m\u001b[0;34m\u001b[0m\u001b[0;34m\u001b[0m\u001b[0m\n\u001b[0m\u001b[1;32m   1587\u001b[0m         \u001b[0mself\u001b[0m\u001b[0;34m.\u001b[0m\u001b[0mestimate_statistic\u001b[0m\u001b[0;34m(\u001b[0m\u001b[0mestimator\u001b[0m\u001b[0;34m,\u001b[0m \u001b[0mci\u001b[0m\u001b[0;34m,\u001b[0m \u001b[0mn_boot\u001b[0m\u001b[0;34m,\u001b[0m \u001b[0mseed\u001b[0m\u001b[0;34m)\u001b[0m\u001b[0;34m\u001b[0m\u001b[0;34m\u001b[0m\u001b[0m\n\u001b[1;32m   1588\u001b[0m \u001b[0;34m\u001b[0m\u001b[0m\n",
      "\u001b[0;32m~/opt/anaconda3/envs/default/lib/python3.7/site-packages/seaborn/categorical.py\u001b[0m in \u001b[0;36mestablish_colors\u001b[0;34m(self, color, palette, saturation)\u001b[0m\n\u001b[1;32m    317\u001b[0m         \u001b[0;31m# Determine the gray color to use for the lines framing the plot\u001b[0m\u001b[0;34m\u001b[0m\u001b[0;34m\u001b[0m\u001b[0;34m\u001b[0m\u001b[0m\n\u001b[1;32m    318\u001b[0m         \u001b[0mlight_vals\u001b[0m \u001b[0;34m=\u001b[0m \u001b[0;34m[\u001b[0m\u001b[0mcolorsys\u001b[0m\u001b[0;34m.\u001b[0m\u001b[0mrgb_to_hls\u001b[0m\u001b[0;34m(\u001b[0m\u001b[0;34m*\u001b[0m\u001b[0mc\u001b[0m\u001b[0;34m)\u001b[0m\u001b[0;34m[\u001b[0m\u001b[0;36m1\u001b[0m\u001b[0;34m]\u001b[0m \u001b[0;32mfor\u001b[0m \u001b[0mc\u001b[0m \u001b[0;32min\u001b[0m \u001b[0mrgb_colors\u001b[0m\u001b[0;34m]\u001b[0m\u001b[0;34m\u001b[0m\u001b[0;34m\u001b[0m\u001b[0m\n\u001b[0;32m--> 319\u001b[0;31m         \u001b[0mlum\u001b[0m \u001b[0;34m=\u001b[0m \u001b[0mmin\u001b[0m\u001b[0;34m(\u001b[0m\u001b[0mlight_vals\u001b[0m\u001b[0;34m)\u001b[0m \u001b[0;34m*\u001b[0m \u001b[0;36m.6\u001b[0m\u001b[0;34m\u001b[0m\u001b[0;34m\u001b[0m\u001b[0m\n\u001b[0m\u001b[1;32m    320\u001b[0m         \u001b[0mgray\u001b[0m \u001b[0;34m=\u001b[0m \u001b[0mmpl\u001b[0m\u001b[0;34m.\u001b[0m\u001b[0mcolors\u001b[0m\u001b[0;34m.\u001b[0m\u001b[0mrgb2hex\u001b[0m\u001b[0;34m(\u001b[0m\u001b[0;34m(\u001b[0m\u001b[0mlum\u001b[0m\u001b[0;34m,\u001b[0m \u001b[0mlum\u001b[0m\u001b[0;34m,\u001b[0m \u001b[0mlum\u001b[0m\u001b[0;34m)\u001b[0m\u001b[0;34m)\u001b[0m\u001b[0;34m\u001b[0m\u001b[0;34m\u001b[0m\u001b[0m\n\u001b[1;32m    321\u001b[0m \u001b[0;34m\u001b[0m\u001b[0m\n",
      "\u001b[0;31mValueError\u001b[0m: min() arg is an empty sequence"
     ]
    },
    {
     "data": {
      "image/png": "[encoded data removed]",
      "text/plain": [
       "<Figure size 432x288 with 1 Axes>"
      ]
     },
     "metadata": {
      "needs_background": "light"
     },
     "output_type": "display_data"
    },
    {
     "data": {
      "text/plain": [
       "<Figure size 432x288 with 0 Axes>"
      ]
     },
     "metadata": {},
     "output_type": "display_data"
    }
   ],
   "source": [
    "sns.countplot(x='chrom', data=cosmic_bed_chr[cosmic_bed_chr['type'] == 'SNV'])\n",
    "print(cosmic_bed_chr[cosmic_bed_chr['type'] == 'SNV']['chrom'].value_counts().sort_index())\n",
    "plt.figure()\n",
    "sns.countplot(x='chrom', data=cosmic_bed_chr[(cosmic_bed_chr['type'] == 'INS') | (cosmic_bed_chr['type'] == 'DEL')])\n",
    "print(cosmic_bed_chr[(cosmic_bed_chr['type'] == 'INS') | (cosmic_bed_chr['type'] == 'DEL')]['chrom'].value_counts().sort_index())"
   ]
  },
  {
   "cell_type": "markdown",
   "id": "nominated-exception",
   "metadata": {},
   "source": [
    "# Save for SNV and INDEL bedfile for bamsurgeon"
   ]
  },
  {
   "cell_type": "code",
   "execution_count": 19,
   "id": "instrumental-covering",
   "metadata": {},
   "outputs": [
    {
     "data": {
      "text/html": [
       "<div>\n",
       "<style scoped>\n",
       "    .dataframe tbody tr th:only-of-type {\n",
       "        vertical-align: middle;\n",
       "    }\n",
       "\n",
       "    .dataframe tbody tr th {\n",
       "        vertical-align: top;\n",
       "    }\n",
       "\n",
       "    .dataframe thead th {\n",
       "        text-align: right;\n",
       "    }\n",
       "</style>\n",
       "<table border=\"1\" class=\"dataframe\">\n",
       "  <thead>\n",
       "    <tr style=\"text-align: right;\">\n",
       "      <th></th>\n",
       "      <th>chrom</th>\n",
       "      <th>startpos</th>\n",
       "      <th>endpos</th>\n",
       "      <th>vaf</th>\n",
       "      <th>alt</th>\n",
       "    </tr>\n",
       "  </thead>\n",
       "  <tbody>\n",
       "    <tr>\n",
       "      <th>0</th>\n",
       "      <td>22</td>\n",
       "      <td>23655130</td>\n",
       "      <td>23655130</td>\n",
       "      <td>1</td>\n",
       "      <td>T</td>\n",
       "    </tr>\n",
       "    <tr>\n",
       "      <th>1</th>\n",
       "      <td>22</td>\n",
       "      <td>20761324</td>\n",
       "      <td>20761324</td>\n",
       "      <td>1</td>\n",
       "      <td>T</td>\n",
       "    </tr>\n",
       "    <tr>\n",
       "      <th>2</th>\n",
       "      <td>22</td>\n",
       "      <td>20780097</td>\n",
       "      <td>20780097</td>\n",
       "      <td>1</td>\n",
       "      <td>C</td>\n",
       "    </tr>\n",
       "    <tr>\n",
       "      <th>3</th>\n",
       "      <td>22</td>\n",
       "      <td>23654017</td>\n",
       "      <td>23654017</td>\n",
       "      <td>1</td>\n",
       "      <td>A</td>\n",
       "    </tr>\n",
       "    <tr>\n",
       "      <th>4</th>\n",
       "      <td>22</td>\n",
       "      <td>50636872</td>\n",
       "      <td>50636872</td>\n",
       "      <td>1</td>\n",
       "      <td>A</td>\n",
       "    </tr>\n",
       "    <tr>\n",
       "      <th>5</th>\n",
       "      <td>22</td>\n",
       "      <td>24121378</td>\n",
       "      <td>24121378</td>\n",
       "      <td>1</td>\n",
       "      <td>T</td>\n",
       "    </tr>\n",
       "    <tr>\n",
       "      <th>6</th>\n",
       "      <td>22</td>\n",
       "      <td>38477342</td>\n",
       "      <td>38477342</td>\n",
       "      <td>1</td>\n",
       "      <td>A</td>\n",
       "    </tr>\n",
       "    <tr>\n",
       "      <th>7</th>\n",
       "      <td>22</td>\n",
       "      <td>19968971</td>\n",
       "      <td>19968971</td>\n",
       "      <td>1</td>\n",
       "      <td>A</td>\n",
       "    </tr>\n",
       "    <tr>\n",
       "      <th>8</th>\n",
       "      <td>22</td>\n",
       "      <td>23632513</td>\n",
       "      <td>23632513</td>\n",
       "      <td>1</td>\n",
       "      <td>G</td>\n",
       "    </tr>\n",
       "    <tr>\n",
       "      <th>9</th>\n",
       "      <td>22</td>\n",
       "      <td>43289473</td>\n",
       "      <td>43289473</td>\n",
       "      <td>1</td>\n",
       "      <td>A</td>\n",
       "    </tr>\n",
       "    <tr>\n",
       "      <th>10</th>\n",
       "      <td>22</td>\n",
       "      <td>23915671</td>\n",
       "      <td>23915671</td>\n",
       "      <td>1</td>\n",
       "      <td>A</td>\n",
       "    </tr>\n",
       "    <tr>\n",
       "      <th>11</th>\n",
       "      <td>22</td>\n",
       "      <td>19483525</td>\n",
       "      <td>19483525</td>\n",
       "      <td>1</td>\n",
       "      <td>T</td>\n",
       "    </tr>\n",
       "  </tbody>\n",
       "</table>\n",
       "</div>"
      ],
      "text/plain": [
       "   chrom  startpos    endpos  vaf alt\n",
       "0     22  23655130  23655130    1   T\n",
       "1     22  20761324  20761324    1   T\n",
       "2     22  20780097  20780097    1   C\n",
       "3     22  23654017  23654017    1   A\n",
       "4     22  50636872  50636872    1   A\n",
       "5     22  24121378  24121378    1   T\n",
       "6     22  38477342  38477342    1   A\n",
       "7     22  19968971  19968971    1   A\n",
       "8     22  23632513  23632513    1   G\n",
       "9     22  43289473  43289473    1   A\n",
       "10    22  23915671  23915671    1   A\n",
       "11    22  19483525  19483525    1   T"
      ]
     },
     "execution_count": 19,
     "metadata": {},
     "output_type": "execute_result"
    }
   ],
   "source": [
    "### /!\\ 1-based index for SNV bamsurgeon\n",
    "cosmic_bed_chr_snv = cosmic_bed_chr[cosmic_bed_chr['type'] == 'SNV'].drop('type', axis=1)\n",
    "cosmic_bed_chr_snv.insert(loc = 3, column = 'vaf', value = 1)  # Insert default VAF column\n",
    "cosmic_bed_chr_snv"
   ]
  },
  {
   "cell_type": "code",
   "execution_count": 20,
   "id": "valuable-jacksonville",
   "metadata": {},
   "outputs": [
    {
     "data": {
      "text/html": [
       "<div>\n",
       "<style scoped>\n",
       "    .dataframe tbody tr th:only-of-type {\n",
       "        vertical-align: middle;\n",
       "    }\n",
       "\n",
       "    .dataframe tbody tr th {\n",
       "        vertical-align: top;\n",
       "    }\n",
       "\n",
       "    .dataframe thead th {\n",
       "        text-align: right;\n",
       "    }\n",
       "</style>\n",
       "<table border=\"1\" class=\"dataframe\">\n",
       "  <thead>\n",
       "    <tr style=\"text-align: right;\">\n",
       "      <th></th>\n",
       "      <th>chrom</th>\n",
       "      <th>startpos</th>\n",
       "      <th>endpos</th>\n",
       "      <th>vaf</th>\n",
       "      <th>alt</th>\n",
       "    </tr>\n",
       "  </thead>\n",
       "  <tbody>\n",
       "  </tbody>\n",
       "</table>\n",
       "</div>"
      ],
      "text/plain": [
       "Empty DataFrame\n",
       "Columns: [chrom, startpos, endpos, vaf, alt]\n",
       "Index: []"
      ]
     },
     "execution_count": 20,
     "metadata": {},
     "output_type": "execute_result"
    }
   ],
   "source": [
    "### /!\\ 0-based index for INDEL bamsurgeon\n",
    "cosmic_bed_chr_indel = cosmic_bed_chr[(cosmic_bed_chr['type'] == 'INS') | (cosmic_bed_chr['type'] == 'DEL')].drop('type', axis=1)\n",
    "cosmic_bed_chr_indel.insert(loc = 3, column = 'vaf', value = 1)  # Insert default VAF column\n",
    "cosmic_bed_chr_indel['startpos'] -= 1\n",
    "cosmic_bed_chr_indel['endpos'] -= 1\n",
    "cosmic_bed_chr_indel"
   ]
  },
  {
   "cell_type": "code",
   "execution_count": null,
   "id": "powered-destiny",
   "metadata": {},
   "outputs": [],
   "source": [
    "# save bed files \n",
    "cosmic_bed_chr_snv.to_csv('data/spikein/spikein_chr'+chrom+'/common_cancer_mutations/'+cancer_type+'_chr'+chrom+'_SNV_tf1.bed', sep='\\t', header=False, index=False)\n",
    "cosmic_bed_chr_indel.to_csv('data/spikein/spikein_chr'+chrom+'/common_cancer_mutations/'+cancer_type+'_chr'+chrom+'_INDEL_tf1.bed', sep='\\t', header=False, index=False)"
   ]
  },
  {
   "cell_type": "code",
   "execution_count": null,
   "id": "placed-sewing",
   "metadata": {},
   "outputs": [],
   "source": []
  }
 ],
 "metadata": {
  "kernelspec": {
   "display_name": "Python 3",
   "language": "python",
   "name": "python3"
  },
  "language_info": {
   "codemirror_mode": {
    "name": "ipython",
    "version": 3
   },
   "file_extension": ".py",
   "mimetype": "text/x-python",
   "name": "python",
   "nbconvert_exporter": "python",
   "pygments_lexer": "ipython3",
   "version": "3.7.10"
  }
 },
 "nbformat": 4,
 "nbformat_minor": 5
}
